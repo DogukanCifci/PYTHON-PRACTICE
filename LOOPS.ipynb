{
  "nbformat": 4,
  "nbformat_minor": 0,
  "metadata": {
    "colab": {
      "name": "LOOPS.ipynb",
      "provenance": [],
      "collapsed_sections": [],
      "authorship_tag": "ABX9TyMwXmpbVRyFX1dmKD44c/SM",
      "include_colab_link": true
    },
    "kernelspec": {
      "name": "python3",
      "display_name": "Python 3"
    },
    "language_info": {
      "name": "python"
    }
  },
  "cells": [
    {
      "cell_type": "markdown",
      "metadata": {
        "id": "view-in-github",
        "colab_type": "text"
      },
      "source": [
        "<a href=\"https://colab.research.google.com/github/DogukanCifci/PYTHON-PRACTICE/blob/main/LOOPS.ipynb\" target=\"_parent\"><img src=\"https://colab.research.google.com/assets/colab-badge.svg\" alt=\"Open In Colab\"/></a>"
      ]
    },
    {
      "cell_type": "markdown",
      "source": [
        "#------RISK ESTIMATING----########"
      ],
      "metadata": {
        "id": "qq3Zc6ZocBQB"
      }
    },
    {
      "cell_type": "markdown",
      "source": [
        "## With in() Method\n"
      ],
      "metadata": {
        "id": "BVwKMjWEGSV4"
      }
    },
    {
      "cell_type": "code",
      "source": [
        "message = \"Please answer all questions with yes or no \" \n",
        "print(message,'\\n')\n",
        "age = input('Are you a cigarette addict older than 75 years old? : ')\n",
        "chronic = input('Do you have a severe chronic disease? : ')\n",
        "immune = input('Is your immune system too weak? : ')\n",
        "\n",
        "if age in ('yes', 'no') and chronic in ('yes', 'no') and immune in ('yes', 'no') :  #Burda bütün keyleri yazmak yerine input in(yes or no) gibi hepsini kapsayacak bir keyword var mi ??\n",
        "  if age == 'no' and chronic == 'no' and  immune == 'no' :\n",
        "    print('You are not in risky group')\n",
        "  else :\n",
        "    answer = False\n",
        "    print('You are in risky group')\n",
        "\n",
        "else :\n",
        "  print('Please answer only with yes or no')\n",
        "  "
      ],
      "metadata": {
        "colab": {
          "base_uri": "https://localhost:8080/"
        },
        "id": "a1d8T1SHBfMQ",
        "outputId": "da37d1f0-8eba-4164-ce22-2612f31f0573"
      },
      "execution_count": null,
      "outputs": [
        {
          "output_type": "stream",
          "name": "stdout",
          "text": [
            "Please answer all questions with yes or no  \n",
            "\n",
            "Are you a cigarette addict older than 75 years old? : yes\n",
            "Do you have a severe chronic disease? : aslödka\n",
            "Is your immune system too weak? : no\n",
            "Please answer only with yes or no\n"
          ]
        }
      ]
    },
    {
      "cell_type": "code",
      "source": [
        "message = \"Please answer all questions with yes or no \" ##Actually it is the same as above code\n",
        "print(message,'\\n')\n",
        "age = input('Are you a cigarette addict older than 75 years old? : ')\n",
        "chronic = input('Do you have a severe chronic disease? : ')\n",
        "immune = input('Is your immune system too weak? : ')\n",
        "\n",
        "if age in ('yes', 'no') and chronic in ('yes', 'no') and immune in ('yes', 'no') :\n",
        "  if age == 'no' and chronic == 'no' and  immune == 'no' :\n",
        "    answer = True\n",
        "  else :\n",
        "    answer = False\n",
        "  \n",
        "  if answer :             #That means if answer == True\n",
        "    print('You are not in risky group')\n",
        "  \n",
        "  else :\n",
        "    print('You are in risky group')\n",
        "\n",
        "else :\n",
        "  print('Please answer only with yes or no')"
      ],
      "metadata": {
        "colab": {
          "base_uri": "https://localhost:8080/"
        },
        "id": "U5VZGOaxHor-",
        "outputId": "6ef1ba4b-2aa6-4b05-f841-f442946f9070"
      },
      "execution_count": null,
      "outputs": [
        {
          "output_type": "stream",
          "name": "stdout",
          "text": [
            "Please answer all questions with yes or no  \n",
            "\n",
            "Are you a cigarette addict older than 75 years old? : yes\n",
            "Do you have a severe chronic disease? : no\n",
            "Is your immune system too weak? : no\n",
            "You are in risky group\n"
          ]
        }
      ]
    },
    {
      "cell_type": "markdown",
      "source": [
        "#------MAIL CHECK-----"
      ],
      "metadata": {
        "id": "WwsjsyPKcPl4"
      }
    },
    {
      "cell_type": "code",
      "source": [
        "while True :\n",
        "    mail = input(\"Enter your Email adress\")\n",
        "\n",
        "    control = ('@' and '.' in mail) and mail.endswith('com')\n",
        "    loc1 = mail.find('@')\n",
        "    loc2 = mail.find('.', loc1)\n",
        "\n",
        "    if control == False or loc2 < loc1 :\n",
        "        print('Invalid Email')\n",
        "        continue\n",
        "    \n",
        "    elif loc2 > loc1 and control == True :\n",
        "        break\n",
        " \n",
        "print('Valid Email')"
      ],
      "metadata": {
        "id": "PGv1WJSZb3t9",
        "colab": {
          "base_uri": "https://localhost:8080/"
        },
        "outputId": "03da767d-7568-467c-f78b-d7c374fccf40"
      },
      "execution_count": null,
      "outputs": [
        {
          "output_type": "stream",
          "name": "stdout",
          "text": [
            "Enter your Email adresssadasd\n",
            "Invalid Email\n",
            "Enter your Email adressöasd\n",
            "Invalid Email\n",
            "Enter your Email adressasd@.com\n",
            "Valid Email\n"
          ]
        }
      ]
    },
    {
      "cell_type": "markdown",
      "source": [
        "#-------IF STATEMENTS------"
      ],
      "metadata": {
        "id": "k7ZEiRTh8bk4"
      }
    },
    {
      "cell_type": "code",
      "source": [
        "audience_group = 'kid', 'teen', 'adult'\n",
        "\n",
        "audience = \"teen\"\n",
        "\n",
        "if audience in audience_group:    #Firslty we checked this condition. If this condition is false, it will be automaticly returned to the last line\n",
        "    if audience == \"kid\":\n",
        "        print(\"it is free to go to cinema\")\n",
        "    elif audience == \"teen\":\n",
        "        print(\"discounted price!\")\n",
        "    else: # audience == \"adult\":\n",
        "        print(\"normal price\")\n",
        "else:\n",
        "    print(\"No such audience, stay at your home!\")"
      ],
      "metadata": {
        "colab": {
          "base_uri": "https://localhost:8080/"
        },
        "id": "-TJVWR-l4lBk",
        "outputId": "0b7c8468-c741-4a39-a2d7-0fafa76b1a22"
      },
      "execution_count": null,
      "outputs": [
        {
          "output_type": "stream",
          "name": "stdout",
          "text": [
            "discounted price!\n"
          ]
        }
      ]
    },
    {
      "cell_type": "code",
      "source": [
        "grocery_store = False\n",
        "\n",
        "check = input('Gibt es ein Supermarkt in der Nähe? : ')\n",
        "if check == 'ja' :\n",
        "    grocery_store = True\n",
        "\n",
        "if grocery_store == True :\n",
        "    ingredients = input('Schreiben Sie bitte, welche Zutaten Sie schon haben')\n",
        "    if 'hamburger bread' and 'minced meat' and 'lettuce' or 'pepper' in ingredients :\n",
        "        print('Bon Appetit')\n",
        "    else : \n",
        "         print('Es fehlen leider manche Zutaten')\n",
        "\n",
        "else :\n",
        "    print('Leider gibt es kein Supermarkt in der Nähe')   "
      ],
      "metadata": {
        "colab": {
          "base_uri": "https://localhost:8080/"
        },
        "id": "2eRY1RijkYV7",
        "outputId": "774802be-c535-4255-cea7-092210e34b43"
      },
      "execution_count": null,
      "outputs": [
        {
          "output_type": "stream",
          "name": "stdout",
          "text": [
            "Gibt es ein Supermarkt in der Nähe? : ja\n",
            "Schreiben Sie bitte, welche Zutaten Sie schon habenhamburger bread\n",
            "Es fehlen leider manche Zutaten\n"
          ]
        }
      ]
    },
    {
      "cell_type": "code",
      "source": [
        "a = 'twelve plus one'\n",
        "b = 'eleven plus two'\n",
        "\n",
        "a = set(a)\n",
        "b = set(b)\n",
        "\n",
        "check = a==b \n",
        "if check :\n",
        "    print('We are the same')\n",
        "\n"
      ],
      "metadata": {
        "colab": {
          "base_uri": "https://localhost:8080/"
        },
        "id": "Szfe4sHett7w",
        "outputId": "44ec0c53-425f-47e1-c3b7-0f540db3f083"
      },
      "execution_count": null,
      "outputs": [
        {
          "output_type": "stream",
          "name": "stdout",
          "text": [
            "We are the same\n"
          ]
        }
      ]
    },
    {
      "cell_type": "code",
      "source": [
        "number = int(input('Enter a number : '))\n",
        "\n",
        "if number % 2 == 0 :\n",
        "    print(f'The Number {number} is even')\n",
        "else :\n",
        "    print(f'The number {number} is odd')"
      ],
      "metadata": {
        "colab": {
          "base_uri": "https://localhost:8080/"
        },
        "id": "0m-AOoYYyeO5",
        "outputId": "d0cfcf2a-53f9-48dd-8d36-626826d8cfe3"
      },
      "execution_count": null,
      "outputs": [
        {
          "output_type": "stream",
          "name": "stdout",
          "text": [
            "Enter a number : 25\n",
            "The number 25 is odd\n"
          ]
        }
      ]
    },
    {
      "cell_type": "code",
      "source": [
        "number = int(input('Enter a number : '))\n",
        "\n",
        "print({number%2 == 0} and f'{number} is even' or f'{number}is odd.')"
      ],
      "metadata": {
        "colab": {
          "base_uri": "https://localhost:8080/"
        },
        "id": "cYQMqgnKzusB",
        "outputId": "e71b72d2-4934-4d6d-b7cd-060fd31bc0b9"
      },
      "execution_count": null,
      "outputs": [
        {
          "output_type": "stream",
          "name": "stdout",
          "text": [
            "Enter a number : 14\n",
            "14 is even\n"
          ]
        }
      ]
    },
    {
      "cell_type": "markdown",
      "source": [
        "##Without if statements 2 Examples"
      ],
      "metadata": {
        "id": "viyDHppFxnBR"
      }
    },
    {
      "cell_type": "markdown",
      "source": [
        "##Changing the input upper, lower or remove the space"
      ],
      "metadata": {
        "id": "ntjHFi3dyB8g"
      }
    },
    {
      "cell_type": "code",
      "source": [
        "number = int(input('Enter a number : '))\n",
        "\n",
        "print({number%2 == 0} and f'{number} is even' or f'{number}is odd.')"
      ],
      "metadata": {
        "colab": {
          "base_uri": "https://localhost:8080/"
        },
        "id": "4XFB3Vmm0qKd",
        "outputId": "2c0ff983-aed2-4529-a9f0-148932650231"
      },
      "execution_count": null,
      "outputs": [
        {
          "output_type": "stream",
          "name": "stdout",
          "text": [
            "Enter a number : 14\n",
            "14 is even\n"
          ]
        }
      ]
    },
    {
      "cell_type": "code",
      "source": [
        "answer = input('write yes or no : ').title() == 'Yes' #Auch wenn der Benutzer mit einem Großbuchstaben eintritt, machen wir nur den Anfangsbuchstaben groß\n",
        "print('You entered :' , answer)\n",
        "\n"
      ],
      "metadata": {
        "colab": {
          "base_uri": "https://localhost:8080/"
        },
        "id": "Zi5RR_oHvo1E",
        "outputId": "4e3a6625-080f-40a1-a9a6-af1274a551cc"
      },
      "execution_count": null,
      "outputs": [
        {
          "output_type": "stream",
          "name": "stdout",
          "text": [
            "write yes or no : NO\n",
            "You entered : False\n"
          ]
        }
      ]
    },
    {
      "cell_type": "code",
      "source": [
        "answer = input('write yes or no : ').title().strip() == 'Yes'   #Wir haben auch die Leerzeichen entfernt. Gibt die richtige Endung zurück, auch wenn der Benutzer ein Leerzeichen eingibt\n",
        "print('You entered :' , answer)"
      ],
      "metadata": {
        "colab": {
          "base_uri": "https://localhost:8080/"
        },
        "id": "9vqMMgz-w6CZ",
        "outputId": "c65c3676-583e-4687-a5dc-51f9f75037d1"
      },
      "execution_count": null,
      "outputs": [
        {
          "output_type": "stream",
          "name": "stdout",
          "text": [
            "write yes or no :     yes\n",
            "You entered : True\n"
          ]
        }
      ]
    },
    {
      "cell_type": "code",
      "source": [
        "number1 = int(input('Enter a number'))\n",
        "number2 = int(input('Enter a number'))\n",
        "number3 = int(input('Enter a number'))\n",
        "largest = number1\n",
        "\n",
        "if number2 > largest :\n",
        "    largest = number2           #pythonic cözüm --> print(max(number1,number2,number3))\n",
        "if number3 > largest :\n",
        "    largest = number3\n",
        "\n",
        "print(f'The largest number is {largest}')"
      ],
      "metadata": {
        "colab": {
          "base_uri": "https://localhost:8080/"
        },
        "id": "fp1Hny99ATGn",
        "outputId": "63982a65-3ec0-4970-fb3f-1eafcc3b9214"
      },
      "execution_count": null,
      "outputs": [
        {
          "output_type": "stream",
          "name": "stdout",
          "text": [
            "Enter a number18\n",
            "Enter a number7\n",
            "Enter a number2\n",
            "The largest number is 18\n"
          ]
        }
      ]
    },
    {
      "cell_type": "code",
      "source": [
        "###with eval() method we can write the same code in a line\n",
        "print(max(eval(input('Enter the numbers'))))    #we can write numbers with , more than one by eval method"
      ],
      "metadata": {
        "colab": {
          "base_uri": "https://localhost:8080/"
        },
        "id": "PNA_aYjl-6i1",
        "outputId": "8ae56ffb-3f9e-445f-b4bd-5eb978c58394"
      },
      "execution_count": null,
      "outputs": [
        {
          "output_type": "stream",
          "name": "stdout",
          "text": [
            "Enter the numbers14, 27, 32\n",
            "32\n"
          ]
        }
      ]
    },
    {
      "cell_type": "markdown",
      "source": [
        "##Nested If"
      ],
      "metadata": {
        "id": "q5cveRaADp1_"
      }
    },
    {
      "cell_type": "code",
      "source": [
        "note = int(input('Enter your note : '))\n",
        "\n",
        "if note >= 90 :\n",
        "    if note >=95 :\n",
        "        print('your degree : A+')\n",
        "    else :\n",
        "        print('your degree : A')\n",
        "elif note >=80 :\n",
        "    if note >= 85 :\n",
        "        print('your degree : B+')\n",
        "    else :\n",
        "        print('your degree : B')\n",
        "else :\n",
        "    print('your degree : F')"
      ],
      "metadata": {
        "colab": {
          "base_uri": "https://localhost:8080/"
        },
        "id": "BRYFNcVrDpGK",
        "outputId": "dce929c7-ba5c-4948-be73-682e16697516"
      },
      "execution_count": null,
      "outputs": [
        {
          "output_type": "stream",
          "name": "stdout",
          "text": [
            "Enter your note : 84\n",
            "your degree : B\n"
          ]
        }
      ]
    },
    {
      "cell_type": "markdown",
      "source": [
        "##FizzBuzz"
      ],
      "metadata": {
        "id": "rjOeAOIE3avS"
      }
    },
    {
      "cell_type": "code",
      "source": [
        "for i in range(1, 101) :\n",
        "  if (i % 3 == 0) and (i % 5 == 0) :\n",
        "    print('FizzBuzz')\n",
        "  elif i % 3 == 0 :\n",
        "    print('Fizz')\n",
        "  elif i % 5 == 0 :\n",
        "    print('Buzz')\n",
        "  else :\n",
        "    print(i)"
      ],
      "metadata": {
        "colab": {
          "base_uri": "https://localhost:8080/"
        },
        "id": "UEu9c3h4xl7N",
        "outputId": "7105718b-c545-43fe-9d87-341dca72a17c"
      },
      "execution_count": 77,
      "outputs": [
        {
          "output_type": "stream",
          "name": "stdout",
          "text": [
            "1\n",
            "2\n",
            "Fizz\n",
            "4\n",
            "Buzz\n",
            "Fizz\n",
            "7\n",
            "8\n",
            "Fizz\n",
            "Buzz\n",
            "11\n",
            "Fizz\n",
            "13\n",
            "14\n",
            "Fizz\n",
            "16\n",
            "17\n",
            "Fizz\n",
            "19\n",
            "Buzz\n",
            "Fizz\n",
            "22\n",
            "23\n",
            "Fizz\n",
            "Buzz\n",
            "26\n",
            "Fizz\n",
            "28\n",
            "29\n",
            "Fizz\n",
            "31\n",
            "32\n",
            "Fizz\n",
            "34\n",
            "Buzz\n",
            "Fizz\n",
            "37\n",
            "38\n",
            "Fizz\n",
            "Buzz\n",
            "41\n",
            "Fizz\n",
            "43\n",
            "44\n",
            "Fizz\n",
            "46\n",
            "47\n",
            "Fizz\n",
            "49\n",
            "Buzz\n",
            "Fizz\n",
            "52\n",
            "53\n",
            "Fizz\n",
            "Buzz\n",
            "56\n",
            "Fizz\n",
            "58\n",
            "59\n",
            "Fizz\n",
            "61\n",
            "62\n",
            "Fizz\n",
            "64\n",
            "Buzz\n",
            "Fizz\n",
            "67\n",
            "68\n",
            "Fizz\n",
            "Buzz\n",
            "71\n",
            "Fizz\n",
            "73\n",
            "74\n",
            "Fizz\n",
            "76\n",
            "77\n",
            "Fizz\n",
            "79\n",
            "Buzz\n",
            "Fizz\n",
            "82\n",
            "83\n",
            "Fizz\n",
            "Buzz\n",
            "86\n",
            "Fizz\n",
            "88\n",
            "89\n",
            "Fizz\n",
            "91\n",
            "92\n",
            "Fizz\n",
            "94\n",
            "Buzz\n",
            "Fizz\n",
            "97\n",
            "98\n",
            "Fizz\n",
            "Buzz\n"
          ]
        }
      ]
    },
    {
      "cell_type": "code",
      "source": [
        "for i in range(1, 101) :      #same code as above\n",
        "  if (i % 3 == 0) and (i % 5 != 0):\n",
        "    print('Fizz')\n",
        "  elif (i % 5 == 0) and (i % 3 != 0):\n",
        "    print('Buzz')\n",
        "  elif ( i % 3 == 0) and (i % 5 == 0) :\n",
        "    print('FizzBuzz')\n",
        "  else :\n",
        "    print(i)"
      ],
      "metadata": {
        "colab": {
          "base_uri": "https://localhost:8080/"
        },
        "id": "yYuVVUGAlwFz",
        "outputId": "d420fa04-1649-450e-dd8e-e046ca8ce564"
      },
      "execution_count": 75,
      "outputs": [
        {
          "output_type": "stream",
          "name": "stdout",
          "text": [
            "1\n",
            "2\n",
            "Fizz\n",
            "4\n",
            "Buzz\n",
            "Fizz\n",
            "7\n",
            "8\n",
            "Fizz\n",
            "Buzz\n",
            "11\n",
            "Fizz\n",
            "13\n",
            "14\n",
            "FizzBuzz\n",
            "16\n",
            "17\n",
            "Fizz\n",
            "19\n",
            "Buzz\n",
            "Fizz\n",
            "22\n",
            "23\n",
            "Fizz\n",
            "Buzz\n",
            "26\n",
            "Fizz\n",
            "28\n",
            "29\n",
            "FizzBuzz\n",
            "31\n",
            "32\n",
            "Fizz\n",
            "34\n",
            "Buzz\n",
            "Fizz\n",
            "37\n",
            "38\n",
            "Fizz\n",
            "Buzz\n",
            "41\n",
            "Fizz\n",
            "43\n",
            "44\n",
            "FizzBuzz\n",
            "46\n",
            "47\n",
            "Fizz\n",
            "49\n",
            "Buzz\n",
            "Fizz\n",
            "52\n",
            "53\n",
            "Fizz\n",
            "Buzz\n",
            "56\n",
            "Fizz\n",
            "58\n",
            "59\n",
            "FizzBuzz\n",
            "61\n",
            "62\n",
            "Fizz\n",
            "64\n",
            "Buzz\n",
            "Fizz\n",
            "67\n",
            "68\n",
            "Fizz\n",
            "Buzz\n",
            "71\n",
            "Fizz\n",
            "73\n",
            "74\n",
            "FizzBuzz\n",
            "76\n",
            "77\n",
            "Fizz\n",
            "79\n",
            "Buzz\n",
            "Fizz\n",
            "82\n",
            "83\n",
            "Fizz\n",
            "Buzz\n",
            "86\n",
            "Fizz\n",
            "88\n",
            "89\n",
            "FizzBuzz\n",
            "91\n",
            "92\n",
            "Fizz\n",
            "94\n",
            "Buzz\n",
            "Fizz\n",
            "97\n",
            "98\n",
            "Fizz\n",
            "Buzz\n"
          ]
        }
      ]
    },
    {
      "cell_type": "markdown",
      "source": [
        "#-----------WHILE SCHLEIFEN---------"
      ],
      "metadata": {
        "id": "rP8y6pzqW5xs"
      }
    },
    {
      "cell_type": "code",
      "source": [
        "n = 0\n",
        "while n < 10 :      #aber die 10 ist nich nicht erreicht!\n",
        "    print(n, end = \" \")\n",
        "    n += 1\n",
        "print('\\n')\n",
        "for i in range (0,10) : #das auch       #die Beide Schleifen sind gleich\n",
        "    print(i ,end = ' ')"
      ],
      "metadata": {
        "colab": {
          "base_uri": "https://localhost:8080/"
        },
        "id": "xvGYd3skW9us",
        "outputId": "9df8bb73-d587-4e84-c335-3b1c9d427379"
      },
      "execution_count": null,
      "outputs": [
        {
          "output_type": "stream",
          "name": "stdout",
          "text": [
            "0 1 2 3 4 5 6 7 8 9 \n",
            "\n",
            "0 1 2 3 4 5 6 7 8 9 "
          ]
        }
      ]
    },
    {
      "cell_type": "code",
      "source": [
        "meine_nummer = 45\n",
        "num = -1    ##Wenn ich diese Zahl nicht geben würde, wird das Ergebniss automatisch die letzte Zeile. Weil meine_nummer = 45 \n",
        "\n",
        "while meine_nummer != num :\n",
        "    num = int(input('Erraten Sie bitte die Zahl : '))\n",
        "    if meine_nummer > num :\n",
        "        print('Deine Zahl ist kleiner als meine')\n",
        "        continue\n",
        "    elif num > meine_nummer :\n",
        "        print('Deine Zahl ist größer als meine')\n",
        "        continue \n",
        "    else :\n",
        "        break\n",
        "print('Du hast die Nummer gefunden! Herzlichen Glückwunsch') \n",
        "\n",
        "\n",
        "\n",
        "        "
      ],
      "metadata": {
        "colab": {
          "base_uri": "https://localhost:8080/"
        },
        "id": "pcZUeBCmYP3J",
        "outputId": "f0dde7c1-9be7-44e4-fa8b-c8f88d980b3b"
      },
      "execution_count": null,
      "outputs": [
        {
          "output_type": "stream",
          "name": "stdout",
          "text": [
            "Erraten Sie bitte die Zahl : 38\n",
            "Deine Zahl ist kleiner als meine\n",
            "Erraten Sie bitte die Zahl : 45\n",
            "Du hast die Nummer gefunden! Herzlichen Glückwunsch\n"
          ]
        }
      ]
    },
    {
      "cell_type": "markdown",
      "source": [
        "#---------FOR -----------"
      ],
      "metadata": {
        "id": "ocbgUNgy4nnA"
      }
    },
    {
      "cell_type": "code",
      "source": [
        "names = ['Dogu', 'Max', 'Timo', 'Müller']\n",
        "for i in names :\n",
        "  print(i, end = ' ')"
      ],
      "metadata": {
        "colab": {
          "base_uri": "https://localhost:8080/"
        },
        "id": "nrlDjuzY4lqb",
        "outputId": "c9de3d53-b0ad-419a-9684-ce865e9cec23"
      },
      "execution_count": 81,
      "outputs": [
        {
          "output_type": "stream",
          "name": "stdout",
          "text": [
            "Dogu Max Timo Müller "
          ]
        }
      ]
    },
    {
      "cell_type": "code",
      "source": [
        "for i in range(0, 50, 2) : #just even numbers\n",
        "  print(i)\n"
      ],
      "metadata": {
        "colab": {
          "base_uri": "https://localhost:8080/"
        },
        "id": "bJ0o2eIb47lN",
        "outputId": "53c75a47-ba67-47cf-e12b-22775a4d393c"
      },
      "execution_count": 85,
      "outputs": [
        {
          "output_type": "stream",
          "name": "stdout",
          "text": [
            "0\n",
            "2\n",
            "4\n",
            "6\n",
            "8\n",
            "10\n",
            "12\n",
            "14\n",
            "16\n",
            "18\n",
            "20\n",
            "22\n",
            "24\n",
            "26\n",
            "28\n",
            "30\n",
            "32\n",
            "34\n",
            "36\n",
            "38\n",
            "40\n",
            "42\n",
            "44\n",
            "46\n",
            "48\n"
          ]
        }
      ]
    },
    {
      "cell_type": "markdown",
      "source": [
        "##NESTED FOR"
      ],
      "metadata": {
        "id": "w669Rnnq6XU8"
      }
    },
    {
      "cell_type": "code",
      "source": [
        "for i in range (0,10) : ####!!!!!!!!!!!!!!!!!!###############\n",
        "  for j in range(0,10):\n",
        "    print(i, j, i * j)"
      ],
      "metadata": {
        "colab": {
          "base_uri": "https://localhost:8080/"
        },
        "id": "5NYZ5nmG6Z9v",
        "outputId": "cda44a71-3b61-49d6-ea9e-aecfefa7440c"
      },
      "execution_count": 89,
      "outputs": [
        {
          "output_type": "stream",
          "name": "stdout",
          "text": [
            "0 0 0\n",
            "0 1 0\n",
            "0 2 0\n",
            "0 3 0\n",
            "0 4 0\n",
            "0 5 0\n",
            "0 6 0\n",
            "0 7 0\n",
            "0 8 0\n",
            "0 9 0\n",
            "1 0 0\n",
            "1 1 1\n",
            "1 2 2\n",
            "1 3 3\n",
            "1 4 4\n",
            "1 5 5\n",
            "1 6 6\n",
            "1 7 7\n",
            "1 8 8\n",
            "1 9 9\n",
            "2 0 0\n",
            "2 1 2\n",
            "2 2 4\n",
            "2 3 6\n",
            "2 4 8\n",
            "2 5 10\n",
            "2 6 12\n",
            "2 7 14\n",
            "2 8 16\n",
            "2 9 18\n",
            "3 0 0\n",
            "3 1 3\n",
            "3 2 6\n",
            "3 3 9\n",
            "3 4 12\n",
            "3 5 15\n",
            "3 6 18\n",
            "3 7 21\n",
            "3 8 24\n",
            "3 9 27\n",
            "4 0 0\n",
            "4 1 4\n",
            "4 2 8\n",
            "4 3 12\n",
            "4 4 16\n",
            "4 5 20\n",
            "4 6 24\n",
            "4 7 28\n",
            "4 8 32\n",
            "4 9 36\n",
            "5 0 0\n",
            "5 1 5\n",
            "5 2 10\n",
            "5 3 15\n",
            "5 4 20\n",
            "5 5 25\n",
            "5 6 30\n",
            "5 7 35\n",
            "5 8 40\n",
            "5 9 45\n",
            "6 0 0\n",
            "6 1 6\n",
            "6 2 12\n",
            "6 3 18\n",
            "6 4 24\n",
            "6 5 30\n",
            "6 6 36\n",
            "6 7 42\n",
            "6 8 48\n",
            "6 9 54\n",
            "7 0 0\n",
            "7 1 7\n",
            "7 2 14\n",
            "7 3 21\n",
            "7 4 28\n",
            "7 5 35\n",
            "7 6 42\n",
            "7 7 49\n",
            "7 8 56\n",
            "7 9 63\n",
            "8 0 0\n",
            "8 1 8\n",
            "8 2 16\n",
            "8 3 24\n",
            "8 4 32\n",
            "8 5 40\n",
            "8 6 48\n",
            "8 7 56\n",
            "8 8 64\n",
            "8 9 72\n",
            "9 0 0\n",
            "9 1 9\n",
            "9 2 18\n",
            "9 3 27\n",
            "9 4 36\n",
            "9 5 45\n",
            "9 6 54\n",
            "9 7 63\n",
            "9 8 72\n",
            "9 9 81\n"
          ]
        }
      ]
    },
    {
      "cell_type": "code",
      "source": [
        "for i in range(0,10) :  \n",
        "  for j in range(0,10) :\n",
        "    print(f'{i} * {j} = {i*j}')\n",
        "  print(' ')"
      ],
      "metadata": {
        "colab": {
          "base_uri": "https://localhost:8080/"
        },
        "id": "9yKbzb4w6_hN",
        "outputId": "ff848a42-460f-44b2-ed43-4cad28330e54"
      },
      "execution_count": 93,
      "outputs": [
        {
          "output_type": "stream",
          "name": "stdout",
          "text": [
            "0 * 0 = 0\n",
            "0 * 1 = 0\n",
            "0 * 2 = 0\n",
            "0 * 3 = 0\n",
            "0 * 4 = 0\n",
            "0 * 5 = 0\n",
            "0 * 6 = 0\n",
            "0 * 7 = 0\n",
            "0 * 8 = 0\n",
            "0 * 9 = 0\n",
            " \n",
            "1 * 0 = 0\n",
            "1 * 1 = 1\n",
            "1 * 2 = 2\n",
            "1 * 3 = 3\n",
            "1 * 4 = 4\n",
            "1 * 5 = 5\n",
            "1 * 6 = 6\n",
            "1 * 7 = 7\n",
            "1 * 8 = 8\n",
            "1 * 9 = 9\n",
            " \n",
            "2 * 0 = 0\n",
            "2 * 1 = 2\n",
            "2 * 2 = 4\n",
            "2 * 3 = 6\n",
            "2 * 4 = 8\n",
            "2 * 5 = 10\n",
            "2 * 6 = 12\n",
            "2 * 7 = 14\n",
            "2 * 8 = 16\n",
            "2 * 9 = 18\n",
            " \n",
            "3 * 0 = 0\n",
            "3 * 1 = 3\n",
            "3 * 2 = 6\n",
            "3 * 3 = 9\n",
            "3 * 4 = 12\n",
            "3 * 5 = 15\n",
            "3 * 6 = 18\n",
            "3 * 7 = 21\n",
            "3 * 8 = 24\n",
            "3 * 9 = 27\n",
            " \n",
            "4 * 0 = 0\n",
            "4 * 1 = 4\n",
            "4 * 2 = 8\n",
            "4 * 3 = 12\n",
            "4 * 4 = 16\n",
            "4 * 5 = 20\n",
            "4 * 6 = 24\n",
            "4 * 7 = 28\n",
            "4 * 8 = 32\n",
            "4 * 9 = 36\n",
            " \n",
            "5 * 0 = 0\n",
            "5 * 1 = 5\n",
            "5 * 2 = 10\n",
            "5 * 3 = 15\n",
            "5 * 4 = 20\n",
            "5 * 5 = 25\n",
            "5 * 6 = 30\n",
            "5 * 7 = 35\n",
            "5 * 8 = 40\n",
            "5 * 9 = 45\n",
            " \n",
            "6 * 0 = 0\n",
            "6 * 1 = 6\n",
            "6 * 2 = 12\n",
            "6 * 3 = 18\n",
            "6 * 4 = 24\n",
            "6 * 5 = 30\n",
            "6 * 6 = 36\n",
            "6 * 7 = 42\n",
            "6 * 8 = 48\n",
            "6 * 9 = 54\n",
            " \n",
            "7 * 0 = 0\n",
            "7 * 1 = 7\n",
            "7 * 2 = 14\n",
            "7 * 3 = 21\n",
            "7 * 4 = 28\n",
            "7 * 5 = 35\n",
            "7 * 6 = 42\n",
            "7 * 7 = 49\n",
            "7 * 8 = 56\n",
            "7 * 9 = 63\n",
            " \n",
            "8 * 0 = 0\n",
            "8 * 1 = 8\n",
            "8 * 2 = 16\n",
            "8 * 3 = 24\n",
            "8 * 4 = 32\n",
            "8 * 5 = 40\n",
            "8 * 6 = 48\n",
            "8 * 7 = 56\n",
            "8 * 8 = 64\n",
            "8 * 9 = 72\n",
            " \n",
            "9 * 0 = 0\n",
            "9 * 1 = 9\n",
            "9 * 2 = 18\n",
            "9 * 3 = 27\n",
            "9 * 4 = 36\n",
            "9 * 5 = 45\n",
            "9 * 6 = 54\n",
            "9 * 7 = 63\n",
            "9 * 8 = 72\n",
            "9 * 9 = 81\n",
            " \n"
          ]
        }
      ]
    }
  ]
}