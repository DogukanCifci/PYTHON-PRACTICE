{
  "nbformat": 4,
  "nbformat_minor": 0,
  "metadata": {
    "colab": {
      "name": "LOOPS.ipynb",
      "provenance": [],
      "collapsed_sections": [],
      "authorship_tag": "ABX9TyNpNThaz7r11IFHvMq66oa2",
      "include_colab_link": true
    },
    "kernelspec": {
      "name": "python3",
      "display_name": "Python 3"
    },
    "language_info": {
      "name": "python"
    }
  },
  "cells": [
    {
      "cell_type": "markdown",
      "metadata": {
        "id": "view-in-github",
        "colab_type": "text"
      },
      "source": [
        "<a href=\"https://colab.research.google.com/github/DogukanCifci/PYTHON-PRACTICE/blob/main/LOOPS.ipynb\" target=\"_parent\"><img src=\"https://colab.research.google.com/assets/colab-badge.svg\" alt=\"Open In Colab\"/></a>"
      ]
    },
    {
      "cell_type": "code",
      "source": [
        ""
      ],
      "metadata": {
        "id": "ivEL0Ue0WMoG"
      },
      "execution_count": null,
      "outputs": []
    },
    {
      "cell_type": "code",
      "execution_count": null,
      "metadata": {
        "id": "zg_qVyymGlM_"
      },
      "outputs": [],
      "source": [
        "liste = [13, 27, 'a', 44, 13,82, 88, 32, 88, 24, 88]\n",
        "sayac = 0\n",
        "\n",
        "for i in liste :\n",
        "  tekrar_sayisi = liste.count(i)\n",
        "  \n",
        "  if tekrar_sayisi > sayac : \n",
        "    sayac = tekrar_sayisi\n",
        "    deger = i\n",
        "\n",
        "print(\"Listede en fazla tekrar eden sayi : {}\\nTekrar Sayisi : {}\".format(deger, tekrar_sayisi))"
      ]
    },
    {
      "cell_type": "code",
      "source": [
        "message = \"Please answer all questions with yes or no \"\n",
        "print(message,'\\n')\n",
        "age = input('Are you a cigarette addict older than 75 years old? : ')\n",
        "chronic = input('Do you have a severe chronic disease? : ')\n",
        "immune = input('Is your immune system too weak? : ')\n",
        "\n",
        "if age == 'yes' or chronic == 'yes' or immune == 'yes' :\n",
        "  answer = True\n",
        "elif age == 'no' and chronic == 'no' and immune == 'no' :\n",
        "  answer = False\n",
        "else :\n",
        "  print('Please only answer with yes or no')\n",
        "print('\\n')\n",
        "\n",
        "if answer == True :\n",
        "  print(\"You are in risky group\")\n",
        "else :\n",
        "  print(\"You are not in risky group\")\n",
        "\n",
        "\n"
      ],
      "metadata": {
        "colab": {
          "base_uri": "https://localhost:8080/"
        },
        "id": "-qrCqonkQbYb",
        "outputId": "a70e4d8b-73b4-46fc-a796-fd64a44caca6"
      },
      "execution_count": 50,
      "outputs": [
        {
          "output_type": "stream",
          "name": "stdout",
          "text": [
            "Please answer all questions with yes or no  \n",
            "\n",
            "Are you a cigarette addict older than 75 years old? : no\n",
            "Do you have a severe chronic diesase? : no\n",
            "Is your immune system too weak? : yes\n",
            "\n",
            "\n",
            "You are in risky group\n"
          ]
        }
      ]
    }
  ]
}