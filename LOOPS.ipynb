{
  "nbformat": 4,
  "nbformat_minor": 0,
  "metadata": {
    "colab": {
      "name": "LOOPS.ipynb",
      "provenance": [],
      "collapsed_sections": [],
      "toc_visible": true,
      "authorship_tag": "ABX9TyP3zAUWsF/IMWJ6mHcqNPUe",
      "include_colab_link": true
    },
    "kernelspec": {
      "name": "python3",
      "display_name": "Python 3"
    },
    "language_info": {
      "name": "python"
    }
  },
  "cells": [
    {
      "cell_type": "markdown",
      "metadata": {
        "id": "view-in-github",
        "colab_type": "text"
      },
      "source": [
        "<a href=\"https://colab.research.google.com/github/DogukanCifci/PYTHON-PRACTICE/blob/main/LOOPS.ipynb\" target=\"_parent\"><img src=\"https://colab.research.google.com/assets/colab-badge.svg\" alt=\"Open In Colab\"/></a>"
      ]
    },
    {
      "cell_type": "markdown",
      "source": [
        "#------RISK ESTIMATING----########"
      ],
      "metadata": {
        "id": "qq3Zc6ZocBQB"
      }
    },
    {
      "cell_type": "markdown",
      "source": [
        "## With in() Method\n"
      ],
      "metadata": {
        "id": "BVwKMjWEGSV4"
      }
    },
    {
      "cell_type": "code",
      "source": [
        "message = \"Please answer all questions with yes or no \" \n",
        "print(message,'\\n')\n",
        "age = input('Are you a cigarette addict older than 75 years old? : ')\n",
        "chronic = input('Do you have a severe chronic disease? : ')\n",
        "immune = input('Is your immune system too weak? : ')\n",
        "\n",
        "if age in ('yes', 'no') and chronic in ('yes', 'no') and immune in ('yes', 'no') :  #Burda bütün keyleri yazmak yerine input in(yes or no) gibi hepsini kapsayacak bir keyword var mi ??\n",
        "  if age == 'no' and chronic == 'no' and  immune == 'no' :\n",
        "    print('You are not in risky group')\n",
        "  else :\n",
        "    answer = False\n",
        "    print('You are in risky group')\n",
        "\n",
        "else :\n",
        "  print('Please answer only with yes or no')\n",
        "  "
      ],
      "metadata": {
        "colab": {
          "base_uri": "https://localhost:8080/"
        },
        "id": "a1d8T1SHBfMQ",
        "outputId": "da37d1f0-8eba-4164-ce22-2612f31f0573"
      },
      "execution_count": 36,
      "outputs": [
        {
          "output_type": "stream",
          "name": "stdout",
          "text": [
            "Please answer all questions with yes or no  \n",
            "\n",
            "Are you a cigarette addict older than 75 years old? : yes\n",
            "Do you have a severe chronic disease? : aslödka\n",
            "Is your immune system too weak? : no\n",
            "Please answer only with yes or no\n"
          ]
        }
      ]
    },
    {
      "cell_type": "code",
      "source": [
        "message = \"Please answer all questions with yes or no \" ##Actually it is the same as above code\n",
        "print(message,'\\n')\n",
        "age = input('Are you a cigarette addict older than 75 years old? : ')\n",
        "chronic = input('Do you have a severe chronic disease? : ')\n",
        "immune = input('Is your immune system too weak? : ')\n",
        "\n",
        "if age in ('yes', 'no') and chronic in ('yes', 'no') and immune in ('yes', 'no') :\n",
        "  if age == 'no' and chronic == 'no' and  immune == 'no' :\n",
        "    answer = True\n",
        "  else :\n",
        "    answer = False\n",
        "  \n",
        "  if answer :             #That means if answer == True\n",
        "    print('You are not in risky group')\n",
        "  \n",
        "  else :\n",
        "    print('You are in risky group')\n",
        "\n",
        "else :\n",
        "  print('Please answer only with yes or no')"
      ],
      "metadata": {
        "colab": {
          "base_uri": "https://localhost:8080/"
        },
        "id": "U5VZGOaxHor-",
        "outputId": "6ef1ba4b-2aa6-4b05-f841-f442946f9070"
      },
      "execution_count": 43,
      "outputs": [
        {
          "output_type": "stream",
          "name": "stdout",
          "text": [
            "Please answer all questions with yes or no  \n",
            "\n",
            "Are you a cigarette addict older than 75 years old? : yes\n",
            "Do you have a severe chronic disease? : no\n",
            "Is your immune system too weak? : no\n",
            "You are in risky group\n"
          ]
        }
      ]
    },
    {
      "cell_type": "markdown",
      "source": [
        "#------MAIL CHECK-----"
      ],
      "metadata": {
        "id": "WwsjsyPKcPl4"
      }
    },
    {
      "cell_type": "code",
      "source": [
        "while True :\n",
        "    mail = input(\"Enter your Email adress\")\n",
        "\n",
        "    control = ('@' and '.' in mail) and mail.endswith('com')\n",
        "    loc1 = mail.find('@')\n",
        "    loc2 = mail.find('.', loc1)\n",
        "\n",
        "    if control == False or loc2 < loc1 :\n",
        "        print('Invalid Email')\n",
        "        continue\n",
        "    \n",
        "    elif loc2 > loc1 and control == True :\n",
        "        break\n",
        " \n",
        "print('Valid Email')"
      ],
      "metadata": {
        "id": "PGv1WJSZb3t9",
        "colab": {
          "base_uri": "https://localhost:8080/"
        },
        "outputId": "03da767d-7568-467c-f78b-d7c374fccf40"
      },
      "execution_count": 6,
      "outputs": [
        {
          "output_type": "stream",
          "name": "stdout",
          "text": [
            "Enter your Email adresssadasd\n",
            "Invalid Email\n",
            "Enter your Email adressöasd\n",
            "Invalid Email\n",
            "Enter your Email adressasd@.com\n",
            "Valid Email\n"
          ]
        }
      ]
    },
    {
      "cell_type": "markdown",
      "source": [
        "#-------IF STATEMENTS------"
      ],
      "metadata": {
        "id": "k7ZEiRTh8bk4"
      }
    },
    {
      "cell_type": "code",
      "source": [
        "audience_group = 'kid', 'teen', 'adult'\n",
        "\n",
        "audience = \"teen\"\n",
        "\n",
        "if audience in audience_group:    #Firslty we checked this condition. If this condition is false, it will be automaticly returned to the last line\n",
        "    if audience == \"kid\":\n",
        "        print(\"it is free to go to cinema\")\n",
        "    elif audience == \"teen\":\n",
        "        print(\"discounted price!\")\n",
        "    else: # audience == \"adult\":\n",
        "        print(\"normal price\")\n",
        "else:\n",
        "    print(\"No such audience, stay at your home!\")"
      ],
      "metadata": {
        "colab": {
          "base_uri": "https://localhost:8080/"
        },
        "id": "-TJVWR-l4lBk",
        "outputId": "0b7c8468-c741-4a39-a2d7-0fafa76b1a22"
      },
      "execution_count": 1,
      "outputs": [
        {
          "output_type": "stream",
          "name": "stdout",
          "text": [
            "discounted price!\n"
          ]
        }
      ]
    }
  ]
}