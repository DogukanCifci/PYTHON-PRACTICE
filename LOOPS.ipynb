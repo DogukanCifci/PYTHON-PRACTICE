{
  "nbformat": 4,
  "nbformat_minor": 0,
  "metadata": {
    "colab": {
      "name": "LOOPS.ipynb",
      "provenance": [],
      "collapsed_sections": [],
      "authorship_tag": "ABX9TyPcuHbCwnFuSUckhCy1aEVp",
      "include_colab_link": true
    },
    "kernelspec": {
      "name": "python3",
      "display_name": "Python 3"
    },
    "language_info": {
      "name": "python"
    }
  },
  "cells": [
    {
      "cell_type": "markdown",
      "metadata": {
        "id": "view-in-github",
        "colab_type": "text"
      },
      "source": [
        "<a href=\"https://colab.research.google.com/github/DogukanCifci/PYTHON-PRACTICE/blob/main/LOOPS.ipynb\" target=\"_parent\"><img src=\"https://colab.research.google.com/assets/colab-badge.svg\" alt=\"Open In Colab\"/></a>"
      ]
    },
    {
      "cell_type": "code",
      "execution_count": null,
      "metadata": {
        "id": "zg_qVyymGlM_"
      },
      "outputs": [],
      "source": [
        "liste = [13, 27, 'a', 44, 13,82, 88, 32, 88, 24, 88]\n",
        "sayac = 0\n",
        "\n",
        "for i in liste :\n",
        "  tekrar_sayisi = liste.count(i)\n",
        "  \n",
        "  if tekrar_sayisi > sayac : \n",
        "    sayac = tekrar_sayisi\n",
        "    deger = i\n",
        "\n",
        "print(\"Listede en fazla tekrar eden sayi : {}\\nTekrar Sayisi : {}\".format(deger, tekrar_sayisi))"
      ]
    }
  ]
}