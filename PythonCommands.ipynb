{
  "nbformat": 4,
  "nbformat_minor": 0,
  "metadata": {
    "colab": {
      "name": "PythonCommands.ipynb",
      "provenance": [],
      "collapsed_sections": [],
      "toc_visible": true,
      "authorship_tag": "ABX9TyO2EDFmuctySqIk2wrPXSAx",
      "include_colab_link": true
    },
    "kernelspec": {
      "name": "python3",
      "display_name": "Python 3"
    },
    "language_info": {
      "name": "python"
    }
  },
  "cells": [
    {
      "cell_type": "markdown",
      "metadata": {
        "id": "view-in-github",
        "colab_type": "text"
      },
      "source": [
        "<a href=\"https://colab.research.google.com/github/DogukanCifci/PYTHON-PRACTICE/blob/main/PythonCommands.ipynb\" target=\"_parent\"><img src=\"https://colab.research.google.com/assets/colab-badge.svg\" alt=\"Open In Colab\"/></a>"
      ]
    },
    {
      "cell_type": "markdown",
      "source": [
        "BASIC INFORMATION"
      ],
      "metadata": {
        "id": "6hRbOUOVPmQ_"
      }
    },
    {
      "cell_type": "markdown",
      "source": [
        "# PYTHON BASIC GIRIS VE BASIC KOMUTLAR"
      ],
      "metadata": {
        "id": "Ua2w9U81VQnH"
      }
    },
    {
      "cell_type": "code",
      "execution_count": null,
      "metadata": {
        "colab": {
          "base_uri": "https://localhost:8080/"
        },
        "id": "qf5_-JjeFNiT",
        "outputId": "818bcf1f-935e-415d-e54d-2084da927816"
      },
      "outputs": [
        {
          "output_type": "stream",
          "name": "stdout",
          "text": [
            "Hello\n",
            "\n",
            "World\n",
            "Merhaba Clarusway\n",
            " Merhaba ben \n",
            "      derse \n",
            "      katiliyorum\n",
            " Merhaba\n",
            "        ben derse katildim\n",
            "34\n",
            "7\n",
            "\n",
            "37\n",
            "1.sayi..=  3\n",
            "<class 'str'>\n",
            "<class 'float'>\n",
            "25.25\n",
            "Please enter a number1\n",
            "Please enter another number2\n",
            "12\n",
            "1\n",
            "3\n"
          ]
        }
      ],
      "source": [
        "print('Hello')\n",
        "print()\n",
        "\n",
        "print('World')\n",
        "6*3\n",
        "s = \"Merhaba\"\n",
        "\n",
        "s #bu sistemde dogru \n",
        "\n",
        "\n",
        "s = \"Merhaba Clarusway\"\n",
        "\n",
        "print(s)\n",
        "\n",
        " #birden fazla satira yazacaksak 3 tirnak kullanilmali\n",
        "\n",
        "print(\"\"\" Merhaba ben \n",
        "      derse \n",
        "      katiliyorum\"\"\")  \n",
        "\n",
        "print(''' Merhaba\n",
        "        ben derse katildim''')\n",
        "\n",
        "######################\n",
        "\n",
        "print('3' + '4')  #string birlestirme\n",
        "\n",
        "print(3+4)        #integer birlestirme\n",
        "\n",
        "\n",
        "print()\n",
        "\n",
        "no1 = 3\n",
        "no2 = 34\n",
        "print(no1+no2)\n",
        "\n",
        "print(\"1.sayi..= \" , no1)     # araya , koymaliyim. + koyarsam hata veriyor\n",
        "\n",
        "\n",
        "\n",
        "################## !!!!   DATA TYPES !!!!!!!!\n",
        "\n",
        "\n",
        "ex_1 = \"Bugün derste CF ögrendik\"\n",
        "\n",
        "print(type(ex_1))     #outputta bize <class 'str' ciktisi vericek\n",
        "\n",
        "\n",
        "sayi_1 = 19.5\n",
        "print(type(sayi_1))\n",
        "\n",
        "\n",
        "################## !!!!   DATA TYPES DeEGISTIRME !!!!!!!!\n",
        "\n",
        "a = 5.13\n",
        "b = '7.12'\n",
        "c = \"13\"\n",
        "d = 'Ahmetin sinav puani'\n",
        "\n",
        "print(a + float(b) + int(c))      #string'den integer ve float a cevirip toplama islemi yaptim\n",
        "\n",
        "\n",
        "\n",
        "###################!!!!!! DISARDAN INPUT ALARAK ISLEM YAPTIRMA\n",
        "\n",
        "first_number = input('Please enter a number')\n",
        "second_number = input('Please enter another number')\n",
        "\n",
        "print(first_number + second_number)    #bu haliyle string oldugu icin sayilari yan yana koydu.\n",
        "\n",
        "\n",
        "\n",
        "print(int(first_number) ** int(second_number)) \n",
        "\n",
        "\n",
        "print(7//2)"
      ]
    },
    {
      "cell_type": "markdown",
      "source": [
        ""
      ],
      "metadata": {
        "id": "aNPGmrzpIP_u"
      }
    },
    {
      "cell_type": "markdown",
      "source": [
        "# DOCSTRING KULLANMA"
      ],
      "metadata": {
        "id": "FWaeK2-oPijI"
      }
    },
    {
      "cell_type": "markdown",
      "source": [
        "# docstring örnegi"
      ],
      "metadata": {
        "id": "GND8YPkUVk8o"
      }
    },
    {
      "cell_type": "code",
      "source": [
        "def yeni_function():\n",
        "  \"\"\"  kendi kodumuzun aciklamasini yapipi\n",
        "  daha sonra bunu nasil cagiracagimizi\n",
        "  görecegiz.Hi, I am the docstring of this code. \n",
        "If you need any information about this function or \n",
        "module, read me. \n",
        "It can help you understand how the module or function \n",
        "works.\"\"\"\n",
        "\n",
        "  print(yeni_function.__doc__)"
      ],
      "metadata": {
        "id": "ZqEhNcL7PIQS"
      },
      "execution_count": null,
      "outputs": []
    },
    {
      "cell_type": "code",
      "source": [
        "print(map.__doc__)\n",
        "\n",
        "print(sum.__doc__)\n",
        "\n",
        "print(input.__doc__)\n",
        "\n",
        "#def benim_yonum():\n",
        "#\"\"\"\n",
        "#Bu benim docstring nasil kullanacagimi gösterdigim satir\n",
        "#\"\"\"\n",
        "#print(benim_yonum.__doc__)\n",
        "\n",
        "\n",
        "print(\"mesajim\", \"benim\")\n",
        "print(\"budur\")\n",
        "\n",
        "print(\"mesajim\", \"benim\", sep=\" - \", end=\"\")\n",
        "print(\"budur\")"
      ],
      "metadata": {
        "colab": {
          "base_uri": "https://localhost:8080/"
        },
        "id": "BLprllKSPj7L",
        "outputId": "923539a7-181d-4454-c379-939312799bc5"
      },
      "execution_count": null,
      "outputs": [
        {
          "output_type": "stream",
          "name": "stdout",
          "text": [
            "map(func, *iterables) --> map object\n",
            "\n",
            "Make an iterator that computes the function using arguments from\n",
            "each of the iterables.  Stops when the shortest iterable is exhausted.\n",
            "Return the sum of a 'start' value (default: 0) plus an iterable of numbers\n",
            "\n",
            "When the iterable is empty, return the start value.\n",
            "This function is intended specifically for use with numeric values and may\n",
            "reject non-numeric types.\n",
            "Forward raw_input to frontends\n",
            "\n",
            "        Raises\n",
            "        ------\n",
            "        StdinNotImplentedError if active frontend doesn't support stdin.\n",
            "        \n",
            "mesajim benim\n",
            "budur\n",
            "mesajim - benimbudur\n"
          ]
        }
      ]
    },
    {
      "cell_type": "code",
      "source": [
        "derece = 19\n",
        "insan_sayisi = 150\n",
        "konser_adi = \"Neset Ertas\"\n",
        "\n",
        "print(\"Bugün\", derece, \"C derecede\", konser_adi, \"konserinde\", insan_sayisi, \" kisi vardi\")"
      ],
      "metadata": {
        "colab": {
          "base_uri": "https://localhost:8080/"
        },
        "id": "SEgfu4MoQST0",
        "outputId": "90fbf36c-716a-4d8d-e056-90fb0150b5f1"
      },
      "execution_count": null,
      "outputs": [
        {
          "output_type": "stream",
          "name": "stdout",
          "text": [
            "Bugün 19 C derecede Neset Ertas konserinde 150  kisi vardi\n"
          ]
        }
      ]
    },
    {
      "cell_type": "markdown",
      "source": [
        "# NAMING RULES"
      ],
      "metadata": {
        "id": "1uQLoM9bWHS1"
      }
    },
    {
      "cell_type": "markdown",
      "source": [
        "1.'_' HARIC ÖZEL KARAKTER KULLANILMAZ\n",
        "2-Degisken adi rakamla baslamaz.\n",
        "3.Keywordler degisken adi olarak kullanilamaz.( not, is ...)\n",
        "4.PEP8 kurali olarak birden fazla kelimeden olusan degisken isimleri arasinda '_' kullanilmali\n",
        "5.Kücük harfler kullanilmali"
      ],
      "metadata": {
        "id": "iBRJhUOCWVNt"
      }
    },
    {
      "cell_type": "markdown",
      "source": [
        "# Keywords import etme"
      ],
      "metadata": {
        "id": "NWtL3vijKHIU"
      }
    },
    {
      "cell_type": "code",
      "source": [
        "import keyword\n",
        "print(keyword.kwlist)     #keywords görmek icin import etme yöntemi"
      ],
      "metadata": {
        "colab": {
          "base_uri": "https://localhost:8080/"
        },
        "id": "MLMnxS_-WRMZ",
        "outputId": "c17c5cff-5c75-4433-8dd9-9fe2fd5b4c2b"
      },
      "execution_count": null,
      "outputs": [
        {
          "output_type": "stream",
          "name": "stdout",
          "text": [
            "['False', 'None', 'True', 'and', 'as', 'assert', 'async', 'await', 'break', 'class', 'continue', 'def', 'del', 'elif', 'else', 'except', 'finally', 'for', 'from', 'global', 'if', 'import', 'in', 'is', 'lambda', 'nonlocal', 'not', 'or', 'pass', 'raise', 'return', 'try', 'while', 'with', 'yield']\n"
          ]
        }
      ]
    },
    {
      "cell_type": "code",
      "source": [
        "# average income of February\n",
        "\n",
        "avg_income_feb = 2000"
      ],
      "metadata": {
        "id": "AuGuAlUZdwHa"
      },
      "execution_count": null,
      "outputs": []
    },
    {
      "cell_type": "code",
      "source": [
        "# the list of mathematic exam scores\n",
        "list_math_scores = \"50, 70,85\""
      ],
      "metadata": {
        "id": "WuVpewT1eD2G"
      },
      "execution_count": null,
      "outputs": []
    },
    {
      "cell_type": "markdown",
      "source": [
        "3. degisken atama"
      ],
      "metadata": {
        "id": "PSu87kndjEkt"
      }
    },
    {
      "cell_type": "code",
      "source": [
        "x, y = 60, 6\n",
        "\n",
        "#x ve y nin degerleri birbirleriyle degissin\n",
        "\n",
        "#3. bir degisken atanir\n",
        "\n",
        "z = x\n",
        "x = y\n",
        "y = z\n",
        "\n",
        "print('x=', x)\n",
        "print('y=', y)\n",
        "\n",
        "\n",
        "########!!!!!!!BUNUN KOLAY YOLU ISE SADECE PYTHON DA\n",
        "\n",
        "a, b = 3, 6\n",
        "\n",
        "#yer degistirmek icin \n",
        "a, b = b, a\n",
        "\n",
        "print(a)\n",
        "print(b)\n",
        "\n",
        "\n"
      ],
      "metadata": {
        "colab": {
          "base_uri": "https://localhost:8080/"
        },
        "id": "qWE3UI2YjD1S",
        "outputId": "b7f0f134-98b3-47f7-ad52-0af082966a43"
      },
      "execution_count": null,
      "outputs": [
        {
          "output_type": "stream",
          "name": "stdout",
          "text": [
            "x= 6\n",
            "y= 60\n",
            "6\n",
            "3\n"
          ]
        }
      ]
    },
    {
      "cell_type": "code",
      "source": [
        "x, y, z = 60, 6, 10\n",
        "\n",
        "x, y, z = y, x, y       # 3 satirda x,y ve z i birbirine esitlemek yerine tek satirda böyle yapilabilir\n",
        "\n",
        "                        # z = y , y = x,  x = z. (ayni sonuc)\n",
        "print(x)\n",
        "print(y)\n",
        "print(z)\n",
        "\n"
      ],
      "metadata": {
        "colab": {
          "base_uri": "https://localhost:8080/"
        },
        "id": "KU-fetjbkc-_",
        "outputId": "9d549857-5c7e-41dc-f60d-0ff2393805dc"
      },
      "execution_count": null,
      "outputs": [
        {
          "output_type": "stream",
          "name": "stdout",
          "text": [
            "6\n",
            "60\n",
            "6\n"
          ]
        }
      ]
    },
    {
      "cell_type": "code",
      "source": [
        "january, march, may, july, september, november, december = 31, 31, 31, 31, 31, 31, 31\n",
        "\n",
        "february = 28\n",
        "\n",
        "april, june, august, october, december = 30, 30, 30, 30, 30\n",
        "\n",
        "print(january, february, march, april, may, june, july, august, september, october, november, december)"
      ],
      "metadata": {
        "colab": {
          "base_uri": "https://localhost:8080/"
        },
        "id": "QWzGPmAomQxB",
        "outputId": "d25a860b-228a-4d19-f22f-ea3135227cc8"
      },
      "execution_count": null,
      "outputs": [
        {
          "output_type": "stream",
          "name": "stdout",
          "text": [
            "31 28 31 30 31 30 31 30 31 30 31 30\n"
          ]
        }
      ]
    },
    {
      "cell_type": "markdown",
      "source": [
        "BU DURUMDA IKI CIKTI ALINIR. AMA SADECE BIR PRINT KULLANSAYDIM EN SONUNCU DEGER GÖZÜKÜRDÜ"
      ],
      "metadata": {
        "id": "bdnggcoYnebO"
      }
    },
    {
      "cell_type": "code",
      "source": [
        "x = 6\n",
        "print(x)\n",
        "\n",
        "x=8\n",
        "print(x)"
      ],
      "metadata": {
        "colab": {
          "base_uri": "https://localhost:8080/"
        },
        "id": "QpIjJcCvnXg-",
        "outputId": "4a01ed2e-7cbb-4adf-a1bf-40fc291d234a"
      },
      "execution_count": null,
      "outputs": [
        {
          "output_type": "stream",
          "name": "stdout",
          "text": [
            "6\n",
            "8\n"
          ]
        }
      ]
    },
    {
      "cell_type": "markdown",
      "source": [
        "# CIKTIYI YAN YANA ALMA VE ARALARA ISARET KOYABILME"
      ],
      "metadata": {
        "id": "RjFPKaIWoula"
      }
    },
    {
      "cell_type": "code",
      "source": [
        "x, y, z = 6, 3, 8 \n",
        "\n",
        "print(x, y, z)\n",
        "\n",
        "# veya \n",
        "\n",
        "print(x, end=\" \")\n",
        "print(y, end=\" \")\n",
        "print(z)"
      ],
      "metadata": {
        "colab": {
          "base_uri": "https://localhost:8080/"
        },
        "id": "Zo3QkRvno3v0",
        "outputId": "b1276b65-4f15-4030-dd85-b4272e121a0a"
      },
      "execution_count": null,
      "outputs": [
        {
          "output_type": "stream",
          "name": "stdout",
          "text": [
            "6 3 8\n",
            "6 3 8\n"
          ]
        }
      ]
    },
    {
      "cell_type": "code",
      "source": [
        "x, y, z = 6, 3, 8 \n",
        "\n",
        "print(x, y, z, sep=\"-\")"
      ],
      "metadata": {
        "colab": {
          "base_uri": "https://localhost:8080/"
        },
        "id": "_gMsGf0spkHW",
        "outputId": "b5907072-5660-4ef3-836f-850f32bc5c41"
      },
      "execution_count": null,
      "outputs": [
        {
          "output_type": "stream",
          "name": "stdout",
          "text": [
            "6-3-8\n"
          ]
        }
      ]
    },
    {
      "cell_type": "markdown",
      "source": [
        "# FONKSIYON TÜRÜNÜ ÖGRENME ve BIRBIRINE DÖNÜSTÜRME"
      ],
      "metadata": {
        "id": "KHeKG0GNuTMM"
      }
    },
    {
      "cell_type": "code",
      "source": [
        "my_text = 'bein a good person'\n",
        "\n",
        "print(type(my_text))\n",
        "\n",
        "# oder\n",
        "\n",
        "type(my_text)"
      ],
      "metadata": {
        "colab": {
          "base_uri": "https://localhost:8080/"
        },
        "id": "M1pp85UEuYkb",
        "outputId": "1e944ac4-2ce3-4876-82fe-b68a4aac1516"
      },
      "execution_count": null,
      "outputs": [
        {
          "output_type": "stream",
          "name": "stdout",
          "text": [
            "<class 'str'>\n"
          ]
        },
        {
          "output_type": "execute_result",
          "data": {
            "text/plain": [
              "str"
            ]
          },
          "metadata": {},
          "execution_count": 18
        }
      ]
    },
    {
      "cell_type": "code",
      "source": [
        "a = True  #1\n",
        "b = False   #0\n",
        "\n",
        "print(type(a))\n",
        "print(type(b))"
      ],
      "metadata": {
        "colab": {
          "base_uri": "https://localhost:8080/"
        },
        "id": "JVSz1XLuyoXx",
        "outputId": "648c894f-4712-4ad8-a699-f05b87750f4a"
      },
      "execution_count": null,
      "outputs": [
        {
          "output_type": "stream",
          "name": "stdout",
          "text": [
            "<class 'bool'>\n",
            "<class 'bool'>\n"
          ]
        }
      ]
    },
    {
      "cell_type": "code",
      "source": [
        "a = 20\n",
        "print(a)\n",
        "\n",
        "print(type(a))\n",
        "\n",
        "print(type(str(a))) ###Bu komutla integer olan a yi string e cevirdik\n",
        "\n",
        "\n",
        "b = True\n",
        "\n",
        "\n",
        "print(type(b))\n",
        "\n",
        "print(type(int(b)))"
      ],
      "metadata": {
        "colab": {
          "base_uri": "https://localhost:8080/"
        },
        "id": "VcKpR6tizQJc",
        "outputId": "aff768c7-01df-4694-9415-1a68aa6102af"
      },
      "execution_count": null,
      "outputs": [
        {
          "output_type": "stream",
          "name": "stdout",
          "text": [
            "20\n",
            "<class 'int'>\n",
            "<class 'str'>\n",
            "<class 'bool'>\n",
            "<class 'int'>\n"
          ]
        }
      ]
    },
    {
      "cell_type": "markdown",
      "source": [
        "# HEXADECIMAL, BINARY .. SISTEMINE CEVIRME"
      ],
      "metadata": {
        "id": "0EDJn_7dFUrY"
      }
    },
    {
      "cell_type": "code",
      "source": [
        "sayi = 65\n",
        "print(hex(sayi))  #basindaki 0x hangi birimde oldugunu gosterir\n",
        "\n",
        "print(bin(sayi))  #0b ...\n"
      ],
      "metadata": {
        "colab": {
          "base_uri": "https://localhost:8080/"
        },
        "id": "glbBme1bFcPV",
        "outputId": "8dcf8cba-455f-40db-9400-ce789b08bd71"
      },
      "execution_count": null,
      "outputs": [
        {
          "output_type": "stream",
          "name": "stdout",
          "text": [
            "0x41\n",
            "0b1000001\n"
          ]
        }
      ]
    },
    {
      "cell_type": "code",
      "source": [
        "PI = 3.14\n",
        "\n",
        "sabit_pi = int(PI)\n",
        "\n",
        "print(sabit_pi)     #sadece 3 ü yazdirir cünkü integer kismini aliyor"
      ],
      "metadata": {
        "colab": {
          "base_uri": "https://localhost:8080/"
        },
        "id": "ANGTPyjZ1ji2",
        "outputId": "a10fa996-6ebf-408f-e49e-5286f777bafc"
      },
      "execution_count": null,
      "outputs": [
        {
          "output_type": "stream",
          "name": "stdout",
          "text": [
            "3\n"
          ]
        }
      ]
    },
    {
      "cell_type": "code",
      "source": [
        "text = '5.2022'\n",
        "\n",
        "print(float(text))    # print(int(text)) -----> HATA VERIR CÜNKÜ UYGUN FORMATTA DEGIL\n",
        "\n",
        "\n"
      ],
      "metadata": {
        "colab": {
          "base_uri": "https://localhost:8080/"
        },
        "id": "o5yrbMyY1xNj",
        "outputId": "f9bedae6-0c42-4b95-867b-3a353c89f9a6"
      },
      "execution_count": null,
      "outputs": [
        {
          "output_type": "stream",
          "name": "stdout",
          "text": [
            "5.2022\n",
            "5\n"
          ]
        }
      ]
    },
    {
      "cell_type": "code",
      "source": [
        "text = '5.222'\n",
        "\n",
        "print(int(text))\n",
        "\n",
        "c = 5.33123\n",
        "\n",
        "print(int(c))       # BU KISIMDA HATA VERMEZ.SADECE VIRGÜLDEN ÖNCEKI SABIT KISMI CIKTI OLARAK VERIR. CÜNKÜ C STRING FORMATTA DEGIL FLOAT FORMATTA"
      ],
      "metadata": {
        "colab": {
          "base_uri": "https://localhost:8080/",
          "height": 198
        },
        "id": "AbBKSr-X2CZ0",
        "outputId": "7e4f4172-fc9c-4193-9d28-eaa1697a6774"
      },
      "execution_count": null,
      "outputs": [
        {
          "output_type": "error",
          "ename": "ValueError",
          "evalue": "ignored",
          "traceback": [
            "\u001b[0;31m---------------------------------------------------------------------------\u001b[0m",
            "\u001b[0;31mValueError\u001b[0m                                Traceback (most recent call last)",
            "\u001b[0;32m<ipython-input-29-8f779a6653b0>\u001b[0m in \u001b[0;36m<module>\u001b[0;34m()\u001b[0m\n\u001b[1;32m      1\u001b[0m \u001b[0mtext\u001b[0m \u001b[0;34m=\u001b[0m \u001b[0;34m'5.222'\u001b[0m\u001b[0;34m\u001b[0m\u001b[0;34m\u001b[0m\u001b[0m\n\u001b[1;32m      2\u001b[0m \u001b[0;34m\u001b[0m\u001b[0m\n\u001b[0;32m----> 3\u001b[0;31m \u001b[0mprint\u001b[0m\u001b[0;34m(\u001b[0m\u001b[0mint\u001b[0m\u001b[0;34m(\u001b[0m\u001b[0mtext\u001b[0m\u001b[0;34m)\u001b[0m\u001b[0;34m)\u001b[0m\u001b[0;34m\u001b[0m\u001b[0;34m\u001b[0m\u001b[0m\n\u001b[0m",
            "\u001b[0;31mValueError\u001b[0m: invalid literal for int() with base 10: '5.222'"
          ]
        }
      ]
    },
    {
      "cell_type": "code",
      "source": [
        "date = '5 May 2022'\n",
        "print(float(date))      #HATA VERIR CÜNKÜ UYGUN FORMATTA DEGIL"
      ],
      "metadata": {
        "colab": {
          "base_uri": "https://localhost:8080/",
          "height": 181
        },
        "id": "2exGPt_Z2vWR",
        "outputId": "0b727513-ac27-4702-8257-967a76f92550"
      },
      "execution_count": null,
      "outputs": [
        {
          "output_type": "error",
          "ename": "ValueError",
          "evalue": "ignored",
          "traceback": [
            "\u001b[0;31m---------------------------------------------------------------------------\u001b[0m",
            "\u001b[0;31mValueError\u001b[0m                                Traceback (most recent call last)",
            "\u001b[0;32m<ipython-input-30-8045d4f64c99>\u001b[0m in \u001b[0;36m<module>\u001b[0;34m()\u001b[0m\n\u001b[1;32m      1\u001b[0m \u001b[0mdate\u001b[0m \u001b[0;34m=\u001b[0m \u001b[0;34m'5 May 2022'\u001b[0m\u001b[0;34m\u001b[0m\u001b[0;34m\u001b[0m\u001b[0m\n\u001b[0;32m----> 2\u001b[0;31m \u001b[0mprint\u001b[0m\u001b[0;34m(\u001b[0m\u001b[0mfloat\u001b[0m\u001b[0;34m(\u001b[0m\u001b[0mdate\u001b[0m\u001b[0;34m)\u001b[0m\u001b[0;34m)\u001b[0m\u001b[0;34m\u001b[0m\u001b[0;34m\u001b[0m\u001b[0m\n\u001b[0m",
            "\u001b[0;31mValueError\u001b[0m: could not convert string to float: '5 May 2022'"
          ]
        }
      ]
    },
    {
      "cell_type": "markdown",
      "source": [
        "# ESCAPE SEQUENCES SEP, END KOMUTU KULLANMA"
      ],
      "metadata": {
        "id": "cWnJbqjNKKrX"
      }
    },
    {
      "cell_type": "markdown",
      "source": [
        "\\n ------> new line\n",
        "\\t-------->tab"
      ],
      "metadata": {
        "id": "5eGFBzT3KYyn"
      }
    },
    {
      "cell_type": "code",
      "source": [
        "a = 'hello'\n",
        "b = 'max'\n",
        "c = 'ok'\n",
        "\n",
        "print(a, b, c, end='\\t')\n",
        "\n",
        "print(a, b, c, sep='\\t') #BOSLUK IKI KATI DAHA FAZLA CÜNKÜ HEM SAGDAKI HEM DE SOLDAKI KELIMEDEN BOSLUK GELIYOR\n",
        "\n",
        "\n",
        "print('C:\\\\november\\number_expectation.txt')        #number n si gözükmez ve alt satira atar"
      ],
      "metadata": {
        "colab": {
          "base_uri": "https://localhost:8080/"
        },
        "id": "qStjSs91KPzv",
        "outputId": "b19fc139-ba8a-41e8-f60d-0c20341b3ad7"
      },
      "execution_count": null,
      "outputs": [
        {
          "output_type": "stream",
          "name": "stdout",
          "text": [
            "hello max ok\thello\tmax\tok\n",
            "C:\\november\n",
            "umber_expectation.txt\n"
          ]
        }
      ]
    },
    {
      "cell_type": "code",
      "source": [
        "print(\"\\\\\")     #\\\\ Tek \\ olarak gözükür\n",
        "print(\"\\'\")\n",
        "print(\"\\n\")\n",
        "print(\"a\\tb\")\n",
        "print(\"\\**\")\n",
        "print(\"C:\\\\\")"
      ],
      "metadata": {
        "colab": {
          "base_uri": "https://localhost:8080/"
        },
        "id": "gDsDKc4JTIMq",
        "outputId": "85671b6f-4ac6-465d-b4b0-7ce1a7f32d78"
      },
      "execution_count": null,
      "outputs": [
        {
          "output_type": "stream",
          "name": "stdout",
          "text": [
            "\\\n",
            "'\n",
            "\n",
            "\n",
            "a\tb\n",
            "\\**\n",
            "C:\\\n"
          ]
        }
      ]
    },
    {
      "cell_type": "code",
      "source": [
        "text1= \"I bought\"\n",
        "text2= \"kg. of apple this morning\"\n",
        "amount = 6\n",
        "print(text1, amount, text2, sep=\"*\")\n",
        "print(\"I bought\", amount, \"kg of apple this moning\", sep=\"-\")\n",
        "print(text1, amount, text2, sep=\"\")   #girdiler arasinda bosluk olmaz bitisik cikti verir\n",
        "print(text1, amount, text2, end=\" \")  #girdiler arasi bosluklu cikti verir ve sonda bir bosluk birakir\n",
        "print(\"and came to home\")     #!!!!!!! burada alt satira gecmez bir önceki kodun arkasina bir bosluk arayla gelir. Cünkü bir önceki kodun sonu boslukla bitiyor"
      ],
      "metadata": {
        "colab": {
          "base_uri": "https://localhost:8080/"
        },
        "id": "Hq68afUyYA50",
        "outputId": "5cccc969-b299-46d6-9d26-7e24ba85914a"
      },
      "execution_count": null,
      "outputs": [
        {
          "output_type": "stream",
          "name": "stdout",
          "text": [
            "I bought*6*kg. of apple this morning\n",
            "I bought-6-kg of apple this moning\n",
            "I bought6kg. of apple this morning\n",
            "I bought 6 kg. of apple this morning and came to home\n"
          ]
        }
      ]
    },
    {
      "cell_type": "code",
      "source": [
        "print('we are', '\\boosting', 'our', '\\brother\\'hood')     #\\b isareti bi önceki boslugu sildi ve o komutu aldi\n"
      ],
      "metadata": {
        "colab": {
          "base_uri": "https://localhost:8080/"
        },
        "id": "mJczSlS5ebyX",
        "outputId": "e54acff0-2728-496c-afa3-d39992229384"
      },
      "execution_count": null,
      "outputs": [
        {
          "output_type": "stream",
          "name": "stdout",
          "text": [
            "we are \boosting our \brother'hood\n"
          ]
        }
      ]
    },
    {
      "cell_type": "code",
      "source": [
        "text1 = \"I bought\"\n",
        "text2 = \"kg. of apple this morning\"\n",
        "amount = 6\n",
        "print(text1, amount, text2, sep=\"*\")\n",
        "print(\"I bought\", amount, \"kg. of apple this morning\", sep=\"-\" )\n",
        "print(text1, amount, text2, sep=\"\")\n",
        "print(text1, amount, text2, end=\"***\")      #ciktida kontrol et\n",
        "print(\"and came to home\")     #Bir alt satira gecmez bir önceki kod ile ayni satirda calisir. Cünkü bir önceki kodu end = \"***\" kodu ile bitirdik"
      ],
      "metadata": {
        "colab": {
          "base_uri": "https://localhost:8080/"
        },
        "id": "GOwUB8V0PAYr",
        "outputId": "6ba13127-b222-4cb6-eb61-026ed009e963"
      },
      "execution_count": null,
      "outputs": [
        {
          "output_type": "stream",
          "name": "stdout",
          "text": [
            "I bought*6*kg. of apple this morning\n",
            "I bought-6-kg. of apple this morning\n",
            "I bought6kg. of apple this morning\n",
            "I bought 6 kg. of apple this morning***and came to home\n"
          ]
        }
      ]
    },
    {
      "cell_type": "code",
      "source": [
        "text = \"Clarusway, Clarusway, Clarusway\"\n",
        "\n",
        "print(text, \"\\b,\")            #\\b Komutunu sondaki ekledigim virgülleri Clarusway yazisina bitisik yapmak icin kullandim\n",
        "\n",
        "print(\"\\t\", text, \"\\b,\")\n",
        "\n",
        "print(\"\\t\\t\", text)\n",
        "\n",
        "\n",
        "text = \"Clarusway, Clarusway, Clarusway\"        #Ayni kodun tek print icinde yazilisi. Bunda virgülleri \\b komutu ile bir önceki boslugu silmedigim icin ayri gözüküyor\n",
        "print(text, \",\\n\\t\", text, \",\\n\\t\\t\",  text)\n"
      ],
      "metadata": {
        "id": "65cv_zaoefmx"
      },
      "execution_count": null,
      "outputs": []
    },
    {
      "cell_type": "markdown",
      "source": [
        "!!!!!!!!1Burada \\b komutunun bir önceki tab komutuna kadar sildigini görebiliriz"
      ],
      "metadata": {
        "id": "YgPnPiIFeqcF"
      }
    },
    {
      "cell_type": "code",
      "source": [
        "text = \"Clarusway, Clarusway, Clarusway\"      ##### Burada \\b komutunun bir önceki tab komutuna kadar sildigini görebiliriz #######\n",
        "\n",
        "print(text, \",\\n\\t\", text, \",\\n\\t\\b\\t\",  text)\n"
      ],
      "metadata": {
        "id": "WihzdgqvelHO"
      },
      "execution_count": null,
      "outputs": []
    },
    {
      "cell_type": "markdown",
      "source": [
        "# bool komutlari"
      ],
      "metadata": {
        "id": "pjSsCCkizKcK"
      }
    },
    {
      "cell_type": "code",
      "source": [
        "x = True \n",
        "print(x) \n",
        "\n",
        "y = True or False \n",
        "print(y)\n",
        "\n",
        "z = True and False \n",
        "print(z)\n",
        "\n",
        "t = True and True\n",
        "print(t)"
      ],
      "metadata": {
        "colab": {
          "base_uri": "https://localhost:8080/"
        },
        "id": "eqtGy5xazPB7",
        "outputId": "cff07eaa-a895-4512-e08b-d11da0cf8e0c"
      },
      "execution_count": null,
      "outputs": [
        {
          "output_type": "stream",
          "name": "stdout",
          "text": [
            "True\n",
            "True\n",
            "False\n",
            "True\n"
          ]
        }
      ]
    },
    {
      "cell_type": "code",
      "source": [
        "print(5 or 7)     #or komutu true arar. Ilk true degerini verir\n",
        "print(5 and 7)    # and komutu false arar. Eger hepsi true ise sonuncu true degerini verir.\n",
        "\n",
        "print(' asdasdasd' or 8)\n",
        "print(' asdasdasd' and 8)\n",
        "\n",
        "print(9 and 3)\n",
        "print(9 or 3)\n"
      ],
      "metadata": {
        "colab": {
          "base_uri": "https://localhost:8080/"
        },
        "id": "nOyRGsyFzrVs",
        "outputId": "7416fc8e-d68e-4e1b-95da-c08eb6babd52"
      },
      "execution_count": null,
      "outputs": [
        {
          "output_type": "stream",
          "name": "stdout",
          "text": [
            "5\n",
            "7\n",
            " asdasdasd\n",
            "8\n",
            "3\n",
            "9\n"
          ]
        }
      ]
    },
    {
      "cell_type": "code",
      "source": [
        "print(1 and 0)      # and komutu false arar ilk false degerini verir. 0--->False dur\n",
        "print(not 0)\n",
        "print(0 or '' or None)    #Hepsi false ise ve or komutuysa en sonuncu false degeri cikar≤¥vf bn"
      ],
      "metadata": {
        "colab": {
          "base_uri": "https://localhost:8080/"
        },
        "id": "uYWwi6BdikSQ",
        "outputId": "bf85333e-3490-4993-a4c6-d9551e1c693d"
      },
      "execution_count": null,
      "outputs": [
        {
          "output_type": "stream",
          "name": "stdout",
          "text": [
            "0\n",
            "True\n",
            "None\n"
          ]
        }
      ]
    },
    {
      "cell_type": "markdown",
      "source": [
        "# LIST SLICING METHODS !!!!!!!!!"
      ],
      "metadata": {
        "id": "S37oITjy0wNM"
      }
    },
    {
      "cell_type": "markdown",
      "source": [
        "[start:stop:step]     !stopta6 ise 5. harfte durulur. sayma isleminde ilk harf her zaman 0 kabul edilir hem start hem de stop icin"
      ],
      "metadata": {
        "id": "AHTE0YFs1U2P"
      }
    },
    {
      "cell_type": "code",
      "source": [
        "# Initialize list\n",
        "List = [1, 2, 3, 4, 5, 6, 7, 8, 9]\n",
        " \n",
        "# Show original list\n",
        "print(\"\\nOriginal List:\\n\", List)\n",
        " \n",
        "print(\"\\nSliced Lists: \")\n",
        " \n",
        "# Creating new List\n",
        "newList = List[:3]+List[7:]\n",
        " \n",
        "# Display sliced list\n",
        "print(newList)\n",
        " \n",
        "# Changing existing List\n",
        "List = List[::2]+List[1::2]\n",
        " \n",
        "# Display sliced list\n",
        "print(List)"
      ],
      "metadata": {
        "colab": {
          "base_uri": "https://localhost:8080/"
        },
        "id": "WDrlCZe54_eK",
        "outputId": "26abc5ba-7832-48de-b2f4-b0283a891b06"
      },
      "execution_count": 2,
      "outputs": [
        {
          "output_type": "stream",
          "name": "stdout",
          "text": [
            "\n",
            "Original List:\n",
            " [1, 2, 3, 4, 5, 6, 7, 8, 9]\n",
            "\n",
            "Sliced Lists: \n",
            "[1, 2, 3, 8, 9]\n",
            "[1, 3, 5, 7, 9, 2, 4, 6, 8]\n"
          ]
        }
      ]
    },
    {
      "cell_type": "code",
      "source": [
        "city = 'Phoenix'\n",
        "\n",
        "print(city[1:])  # starts from index 1 to the end\n",
        "print(city[:6])  # starts from zero to 5th index\n",
        "print(city[::2])  # starts from zero to end by 2 step\n",
        "print(city[1::2])  # starts from index 1 to the end by 2 step\n",
        "print(city[-3:])  # starts from index -3 to the end\n",
        "print(city[::-1])  # negative step starts from the end to zero"
      ],
      "metadata": {
        "colab": {
          "base_uri": "https://localhost:8080/"
        },
        "id": "LVP_9_ws03Ga",
        "outputId": "62e6a638-149c-4227-88c8-6bc342b2ce1a"
      },
      "execution_count": null,
      "outputs": [
        {
          "output_type": "stream",
          "name": "stdout",
          "text": [
            "hoenix\n",
            "Phoeni\n",
            "Ponx\n",
            "hei\n",
            "nix\n",
            "xineohP\n"
          ]
        }
      ]
    },
    {
      "cell_type": "code",
      "source": [
        "listem = [1, 2, 3, 4, 5, 6, 7]\n",
        "print(listem[:3])\n",
        "a = listem[:4]\n",
        "print(a)"
      ],
      "metadata": {
        "colab": {
          "base_uri": "https://localhost:8080/"
        },
        "id": "hnmGKofsJKQY",
        "outputId": "c03b6c70-049e-4bf5-d042-7a82914ec8b7"
      },
      "execution_count": 7,
      "outputs": [
        {
          "output_type": "stream",
          "name": "stdout",
          "text": [
            "[1, 2, 3]\n",
            "[1, 2, 3, 4]\n"
          ]
        }
      ]
    },
    {
      "cell_type": "code",
      "source": [
        "text = \"X-DSPAM-Confidence:    0.8475\"\n",
        "a = text.rfind(' ')\n",
        "sayi = text[a+1:]\n",
        "d = float(sayi)\n",
        "print(d)"
      ],
      "metadata": {
        "colab": {
          "base_uri": "https://localhost:8080/"
        },
        "id": "yuD3qVF3KMhX",
        "outputId": "f4cb92a9-8f95-4f17-f2db-681da04f58a7"
      },
      "execution_count": 16,
      "outputs": [
        {
          "output_type": "stream",
          "name": "stdout",
          "text": [
            "0.8475\n"
          ]
        }
      ]
    },
    {
      "cell_type": "code",
      "source": [
        "isim = 'NuriDogukan'\n",
        "\n",
        "print(isim[:])\n",
        "print(isim[4]) #------> Sadece 5. harfi yazdirir\n",
        "print(isim[:5:1])\n",
        "print(isim[:5:2])\n",
        "print(isim[2:8:1])\n",
        "\n",
        "print(isim[3:-1])\n",
        "print(isim[::4])\n",
        "print(isim[-4:])\n",
        "print(isim[::-1]) # --------> ?????? Burda neden N ILE Baslamadik da kücük n yani direk sondaki harf ile basladik???????\n",
        "print(isim[::1])  # --------> Mesela burda direk ilk harften basladi bi sonraki harfe atlamadi ama yukardakinde ilk harfi almayip direk sona gecti\n",
        "\n",
        "print(isim[:5])\n",
        "print(isim[3:-1])\n",
        "                                               # NuriDogukan\n",
        "print(isim[:6:-2])   # ------> ??????Burda neden \"g harfi kapsanmadi????????\"           \n",
        "print(isim[:4:-2])   # ------> ??????Burda 4 te bitir dedik. Peki \"D\" harfi neden kapsanmadi??????"
      ],
      "metadata": {
        "colab": {
          "base_uri": "https://localhost:8080/"
        },
        "id": "i8MqqLU71ifW",
        "outputId": "2ab70724-7ad5-4e3e-c5d7-722c155044d5"
      },
      "execution_count": null,
      "outputs": [
        {
          "output_type": "stream",
          "name": "stdout",
          "text": [
            "NuriDogukan\n",
            "D\n",
            "NuriD\n",
            "NrD\n",
            "riDogu\n",
            "iDoguka\n",
            "NDk\n",
            "ukan\n",
            "nakugoDiruN\n",
            "NuriDogukan\n",
            "NuriD\n",
            "iDoguka\n",
            "nk\n",
            "nkg\n"
          ]
        }
      ]
    },
    {
      "cell_type": "code",
      "source": [
        ""
      ],
      "metadata": {
        "id": "SXRSKhZYNkyl"
      },
      "execution_count": null,
      "outputs": []
    },
    {
      "cell_type": "markdown",
      "source": [
        "# karakter sayisini bulma"
      ],
      "metadata": {
        "id": "lE_caBE1_dTf"
      }
    },
    {
      "cell_type": "code",
      "source": [
        "cümle = 'Ben bugün hava durumuna bakmadim'\n",
        "print(len(cümle))\n",
        "\n",
        "# Bosluklar da sayiliyor  len() komutu ile yapiliyor"
      ],
      "metadata": {
        "colab": {
          "base_uri": "https://localhost:8080/"
        },
        "id": "47t9j7GS_ghA",
        "outputId": "6c7a191f-0143-4562-a644-644479dd4397"
      },
      "execution_count": null,
      "outputs": [
        {
          "output_type": "stream",
          "name": "stdout",
          "text": [
            "32\n"
          ]
        }
      ]
    },
    {
      "cell_type": "markdown",
      "source": [
        "# String Ifadeleri Birlestirme- Cogaltma"
      ],
      "metadata": {
        "id": "pmtnRNDPHL8j"
      }
    },
    {
      "cell_type": "code",
      "source": [
        "fruit = 'Orange'\n",
        "vegetable = 'Potato'\n",
        "\n",
        "print('Meyve ve sebzeyi birlstirdik:', fruit + ' ' + vegetable, sep =\"2\")"
      ],
      "metadata": {
        "colab": {
          "base_uri": "https://localhost:8080/"
        },
        "id": "vsZandMfHRqM",
        "outputId": "2d127465-7cf2-4d62-a569-93b731639096"
      },
      "execution_count": null,
      "outputs": [
        {
          "output_type": "stream",
          "name": "stdout",
          "text": [
            "Meyve ve sebzeyi birlstirdik:2Orange Potato\n"
          ]
        }
      ]
    },
    {
      "cell_type": "code",
      "source": [
        "############ Bir kelimeyi 4 defa yazdirdik\n",
        "print(\"3 kere meyve yazdir:\", 3* fruit)"
      ],
      "metadata": {
        "colab": {
          "base_uri": "https://localhost:8080/"
        },
        "id": "mTh_KZMJHsEY",
        "outputId": "dc014992-3761-46a6-dcee-e69d8421d5bc"
      },
      "execution_count": null,
      "outputs": [
        {
          "output_type": "stream",
          "name": "stdout",
          "text": [
            "3 kere meyve yazdir: OrangeOrangeOrange\n"
          ]
        }
      ]
    },
    {
      "cell_type": "code",
      "source": [
        "str_one = 'upper'\n",
        "str_two = 3 * 'upper'\n",
        "str_comb = 3 * str_one\n",
        "print(str_two)\n",
        "print(str_comb)\n",
        "print(* str_one)      #Harfleri ayristirmak icin bu komut kullanilir"
      ],
      "metadata": {
        "colab": {
          "base_uri": "https://localhost:8080/"
        },
        "id": "RVwBpIhEXYBP",
        "outputId": "c7105c86-08b1-4455-c936-cfc2eaf483d2"
      },
      "execution_count": null,
      "outputs": [
        {
          "output_type": "stream",
          "name": "stdout",
          "text": [
            "upperupperupper\n",
            "upperupperupper\n",
            "u p p e r\n"
          ]
        }
      ]
    },
    {
      "cell_type": "code",
      "source": [
        "string_1 = \"I am hungry\"    # arada 4 bosluk olur. Cünkü boslugu da bir karakter sayip bosluktan sonra da bir bosluk birakti.\n",
        "print(* string_1)"
      ],
      "metadata": {
        "colab": {
          "base_uri": "https://localhost:8080/"
        },
        "id": "XQjQ9BvUY221",
        "outputId": "5bd5eda1-4abb-4334-c4a2-3cae871e427f"
      },
      "execution_count": null,
      "outputs": [
        {
          "output_type": "stream",
          "name": "stdout",
          "text": [
            "I   a m   h u n g r y\n"
          ]
        }
      ]
    },
    {
      "cell_type": "code",
      "source": [
        "####### \"+=\" ile kelime ekleme\n",
        "fruit = \"banana\"\n",
        "fruit += 'apricot'\n",
        "\n",
        "print(fruit)\n",
        "\n",
        "print(\"\\t\")\n",
        "\n",
        "fruit = \"banana\"\n",
        "fruit += 'apricot'\n",
        "fruit += 'orange'\n",
        "\n",
        "print(fruit)"
      ],
      "metadata": {
        "colab": {
          "base_uri": "https://localhost:8080/"
        },
        "id": "4CpFToDuIYtT",
        "outputId": "2d5b414f-8b99-4204-f2f8-adeab6e591e8"
      },
      "execution_count": null,
      "outputs": [
        {
          "output_type": "stream",
          "name": "stdout",
          "text": [
            "bananaapricot\n",
            "\t\n",
            "bananaapricotorange\n"
          ]
        }
      ]
    },
    {
      "cell_type": "markdown",
      "source": [
        "# Ifadelerle str ve digit cekme,*   metnin ilk 5,6,7 ..... gibi harflerini yazdirma \n",
        "\n",
        "\n",
        "\n",
        "\n"
      ],
      "metadata": {
        "id": "kedHOtkQM6Gj"
      }
    },
    {
      "cell_type": "code",
      "source": [
        "cümle = 'Bugün pazardan 10 kg %s , %d kg armut ve %.4f domates aldim' % ('Patates', 1.5 , 3)\n",
        "print(cümle)\n",
        "##### !!!!!!! Ciktida görüldügü gibi 1.5 bile yazmis olsam \" %d \" kullandigim icin sadece int kismini aldi.\n",
        "##### !!!!!!! 3.0000 yazmasinin sebebi f float sayilir icin ve  \" .4 \" yazdigim icin de virgülden sonra 4 rakam verdi."
      ],
      "metadata": {
        "colab": {
          "base_uri": "https://localhost:8080/"
        },
        "id": "_epWvLd4M-26",
        "outputId": "d14da1f1-3050-4b42-a460-59b48ff92c7d"
      },
      "execution_count": null,
      "outputs": [
        {
          "output_type": "stream",
          "name": "stdout",
          "text": [
            "Bugün pazardan 10 kg Patates , 1 kg armut ve 3.0000 domates aldim\n"
          ]
        }
      ]
    },
    {
      "cell_type": "markdown",
      "source": [
        "yüzdelik ifadeyi iki farkli konumda yadzim ve sonuc *ayni*"
      ],
      "metadata": {
        "id": "60-5b41GTi-c"
      }
    },
    {
      "cell_type": "code",
      "source": [
        "cümle = 'Bugün pazardan 10 kg %s , %d kg armut ve %.4f domates aldim' \n",
        "print(cümle % ('Patates', 1.5 , 3))"
      ],
      "metadata": {
        "colab": {
          "base_uri": "https://localhost:8080/"
        },
        "id": "qf_DvxJUTevg",
        "outputId": "f0f0d7d1-59aa-4207-ebaa-0869a7ee2b6d"
      },
      "execution_count": null,
      "outputs": [
        {
          "output_type": "stream",
          "name": "stdout",
          "text": [
            "Bugün pazardan 10 kg Patates , 1 kg armut ve 3.0000 domates aldim\n"
          ]
        }
      ]
    },
    {
      "cell_type": "code",
      "source": [
        "str_cümle = \"özür dilemek\"\n",
        "print(\"%.7s\" % (str_cümle))  #sadece ilk 7 karakter alinir\n",
        "\n",
        "('\\n')\n",
        "\n",
        "print(\"%.7s\" % \"özür dilemek\")   #yukaridaki ile ayni sey"
      ],
      "metadata": {
        "colab": {
          "base_uri": "https://localhost:8080/"
        },
        "id": "Z4GmW8JGPmZy",
        "outputId": "45299218-bf3c-43d3-d6cc-969d07badafa"
      },
      "execution_count": null,
      "outputs": [
        {
          "output_type": "stream",
          "name": "stdout",
          "text": [
            "özür di\n",
            "özür di\n"
          ]
        }
      ]
    },
    {
      "cell_type": "code",
      "source": [
        "print('%(land)s ´da hava bugün %(celcius).2f ´derece' % {\"land\" : \"Almanya\", \"celcius\" : 33})"
      ],
      "metadata": {
        "colab": {
          "base_uri": "https://localhost:8080/"
        },
        "id": "2TQZ9hWhR_6M",
        "outputId": "d5234f87-6f04-4b5b-fb77-4411a3ac48f1"
      },
      "execution_count": null,
      "outputs": [
        {
          "output_type": "stream",
          "name": "stdout",
          "text": [
            "Almanya ´da hava bugün 33.00 ´derece\n"
          ]
        }
      ]
    },
    {
      "cell_type": "code",
      "source": [
        "print(\"\"\"Bugün %(market_ad)s´e gittim ve %(market_ad)s´den %(miktar_un)d kg un, %(miktar_meyve).1f meyve ve en son da %(miktar_peynir)d kg peynir aldim\")\"\"\" \n",
        "      % {'market_ad' : 'Deniz Market', 'miktar_un' : 2, 'miktar_meyve' : 3.5, 'miktar_peynir' : 2})\n"
      ],
      "metadata": {
        "colab": {
          "base_uri": "https://localhost:8080/"
        },
        "id": "gjsODJnDTLJg",
        "outputId": "7cabd152-7bba-46d4-84fa-45b7d39b1b0b"
      },
      "execution_count": null,
      "outputs": [
        {
          "output_type": "stream",
          "name": "stdout",
          "text": [
            "Bugün Deniz Market´e gittim ve Deniz Market´den 2 kg un, 3.5 meyve ve en son da 2 kg peynir aldim\")\n"
          ]
        }
      ]
    },
    {
      "cell_type": "code",
      "source": [
        "cümle = 'Bugün %s ´e gittim ve %s´ten %d kg un %.1f meyve %d kg peynir aldim' % ('Deniz Market', 'Deniz Market', 3, 3.5, 1)\n",
        "\n",
        "print(cümle)"
      ],
      "metadata": {
        "colab": {
          "base_uri": "https://localhost:8080/"
        },
        "id": "JlU514fiVouU",
        "outputId": "4335cc3c-a211-4950-c1ce-479d7ea38763"
      },
      "execution_count": null,
      "outputs": [
        {
          "output_type": "stream",
          "name": "stdout",
          "text": [
            "Bugün Deniz Market ´e gittim ve Deniz Market´ten 3 kg un 3.5 meyve 1 kg peynir aldim\n"
          ]
        }
      ]
    },
    {
      "cell_type": "markdown",
      "source": [
        "# .format() ifadesini kullanma"
      ],
      "metadata": {
        "id": "qnXVkQz_W0Bs"
      }
    },
    {
      "cell_type": "code",
      "source": [
        "araba_1 = \"Mustang\"\n",
        "araba_2 = \"Camaro\"\n",
        "araba_3 = \"Mercedes\"\n",
        "\n",
        "print(\"\"\"Almanya´da en cok tercih edilen araba modeli {}, satis siralamasinda {}´yu gecti.\n",
        "Amerikada ise en cok tercih edilen araba modeli {} oldu\"\"\" .format(araba_3, araba_1, araba_2))\n"
      ],
      "metadata": {
        "colab": {
          "base_uri": "https://localhost:8080/"
        },
        "id": "7Q1NvOcrW6gh",
        "outputId": "6673e806-15ae-46a6-f753-293bce190afa"
      },
      "execution_count": null,
      "outputs": [
        {
          "output_type": "stream",
          "name": "stdout",
          "text": [
            "Almanya´da en cok tercih edilen araba modeli Mercedes, satis siralamasinda Mustang´yu gecti.\n",
            " Amerikada ise en cok tercih edilen araba modeli Camaro oldu\n"
          ]
        }
      ]
    },
    {
      "cell_type": "code",
      "source": [
        "print('Bugün meyve olarak {} yerine {} aldim' .format('karpuz', 'kavun'))"
      ],
      "metadata": {
        "colab": {
          "base_uri": "https://localhost:8080/"
        },
        "id": "uRcurQXFDtL-",
        "outputId": "77255fc6-77af-4bdb-b05e-d22f6643927c"
      },
      "execution_count": null,
      "outputs": [
        {
          "output_type": "stream",
          "name": "stdout",
          "text": [
            "Bugün meyve olarak karpuz yerine kavun aldim\n"
          ]
        }
      ]
    },
    {
      "cell_type": "code",
      "source": [
        "print(' {city} {nüfus} nüfus ile {country}´nin en kalabalik sehridir' .format(city = 'Istanbul', nüfus = 20000000, country = 'Türkiye'))"
      ],
      "metadata": {
        "colab": {
          "base_uri": "https://localhost:8080/"
        },
        "id": "BLW3bMl9FY-u",
        "outputId": "6a2a4640-f05d-4bbb-f15f-dd59a6dbfdae"
      },
      "execution_count": null,
      "outputs": [
        {
          "output_type": "stream",
          "name": "stdout",
          "text": [
            " Istanbul 20000000 nüfus ile Türkiye´nin en kalabalik sehridir\n"
          ]
        }
      ]
    },
    {
      "cell_type": "code",
      "source": [
        "print(\"{0} {3} {7} {4} {6} {5} {2} {1}\" .format(\"I\", \"Months\", \"6\", \"will\", \"found\", \"in\", \"a job\", \"have\"))"
      ],
      "metadata": {
        "colab": {
          "base_uri": "https://localhost:8080/"
        },
        "id": "rl9-4D4yIn5P",
        "outputId": "97903cae-eaa2-4d4d-f4d1-c04f7b7621ef"
      },
      "execution_count": null,
      "outputs": [
        {
          "output_type": "stream",
          "name": "stdout",
          "text": [
            "I will have found a job in 6 Months\n"
          ]
        }
      ]
    },
    {
      "cell_type": "markdown",
      "source": [
        "#format(\"sadasdas\", \"10s\" veya \"2d\" veya \"3.4\" vb) kullanim"
      ],
      "metadata": {
        "id": "wbKWkGA0Xtpf"
      }
    },
    {
      "cell_type": "code",
      "source": [
        "print(format(\"Welcome\", \"10s\"), end = \"#\")    #Welcome textinden 10 karakter alicak. Yani welcomedan sonra 3 bosluk atacak.\n",
        "print(format(111, '4d'), end = \"#\")     #burda 4. karakteri bosluk olarak rakamin soluna atti. Cünkü sagina atarsa sayinin degeri degisir.\n",
        "print(format(924.656, '3.2f'), end = \"#\")  \n",
        "print(format(9324.652, '3.2f'))        #float deger oldugu icin 3.2 oldugundan dolayi tam kisimdan 3 hane alir. .2f de virgülden sonra 2 karakteri alir ve yuvarlayarak sonuc verir"
      ],
      "metadata": {
        "colab": {
          "base_uri": "https://localhost:8080/"
        },
        "id": "2IfXG1YAV_dd",
        "outputId": "c0e515ba-7350-4dcb-c799-5485255045d9"
      },
      "execution_count": null,
      "outputs": [
        {
          "output_type": "stream",
          "name": "stdout",
          "text": [
            "Welcome   # 111#924.66#9324.65\n"
          ]
        }
      ]
    },
    {
      "cell_type": "markdown",
      "source": [
        "# f-string kullanma"
      ],
      "metadata": {
        "id": "Q9Vw6FJBiNv2"
      }
    },
    {
      "cell_type": "code",
      "source": [
        "ürün = \"Pantolon\"\n",
        "fiyat = 150\n",
        "\n",
        "output = f\"Bugün magazadan {fiyat} Euroya {ürün} aldim.\"\n",
        "print(output)\n",
        "\n",
        "########Aslinda alttaki .format() ile ayni.\n",
        "\n",
        "ürün = \"Tshirt\"\n",
        "fiyat = 300\n",
        "output1 = \"Bugün HMden {} TLye {} aldim\" .format(fiyat, ürün)\n",
        "print(output1)"
      ],
      "metadata": {
        "colab": {
          "base_uri": "https://localhost:8080/"
        },
        "id": "am5GlPMpiRqX",
        "outputId": "e5d93c10-87ac-4a7f-dbde-1f1529837314"
      },
      "execution_count": null,
      "outputs": [
        {
          "output_type": "stream",
          "name": "stdout",
          "text": [
            "Bugün magazadan 150 Euroya Pantolon aldim.\n",
            "Bugün HMden 300 TLye Tshirt aldim\n"
          ]
        }
      ]
    },
    {
      "cell_type": "code",
      "source": [
        "output = f\"4 * 5 = {4*5}\"\n",
        "print(output)"
      ],
      "metadata": {
        "colab": {
          "base_uri": "https://localhost:8080/"
        },
        "id": "CVjrI-LNA62g",
        "outputId": "1dfe88c1-9d97-4c4b-accf-9eaf32f85049"
      },
      "execution_count": null,
      "outputs": [
        {
          "output_type": "stream",
          "name": "stdout",
          "text": [
            "4 * 5 = 20\n"
          ]
        }
      ]
    },
    {
      "cell_type": "code",
      "source": [
        "islem = \"2^3 = {}\". format(2**3)\n",
        "print(islem)"
      ],
      "metadata": {
        "colab": {
          "base_uri": "https://localhost:8080/"
        },
        "id": "eNWws3yToLd2",
        "outputId": "a798c607-ba3f-439c-d85a-7000a8c57ea5"
      },
      "execution_count": null,
      "outputs": [
        {
          "output_type": "stream",
          "name": "stdout",
          "text": [
            "2^3 = 8\n"
          ]
        }
      ]
    },
    {
      "cell_type": "code",
      "source": [
        "############EGER BIR SATIRA SIGDIRAMAYIP DAHA FAZLA SATIDA KODUMU YAZMAK ISTIYORSAM (     ) ACIP KAPATIRIM YA DA HER SATIR SONUNA \\ KOYARIM#######\n",
        "meslek = \"Polis\"\n",
        "maas = 3000\n",
        "sehir = \"Stuttgart\"\n",
        "\n",
        "output = (\n",
        "    f\"Günümüzün popüler meslegi olan {meslek}lik \"        #Alt alta yazmama ragmen satir ciktilari yan yana olur.\n",
        "    f\"{sehir}'da cok fazla tercih ediliyor.\"\n",
        "    f\"{meslek} mesleginin tercih edilme sebebi maasinin {maas} Euro olmasi\"\n",
        ")\n",
        "print(output)"
      ],
      "metadata": {
        "colab": {
          "base_uri": "https://localhost:8080/"
        },
        "id": "tg6_RgpMjKwg",
        "outputId": "828f904e-59de-4707-80ef-d0676252746f"
      },
      "execution_count": null,
      "outputs": [
        {
          "output_type": "stream",
          "name": "stdout",
          "text": [
            "Günümüzün popüler meslegi olan Polislik Stuttgart'da cok fazla tercih ediliyor.Polis mesleginin tercih edilme sebebi maasinin 3000 Euro olmasi\n"
          ]
        }
      ]
    },
    {
      "cell_type": "code",
      "source": [
        "meslek = \"Polis\"        ####???? niye hata veriyor bilmiyorum\n",
        "maas = 3000\n",
        "sehir = \"Stuttgart\"\n",
        "\n",
        "output = f\"Günümüzün popüler meslegi olan {meslek} lik \"\\   #Alt alta yazmama ragmen satir ciktilari yan yana olur.\n",
        " f\"{sehir}'da cok fazla tercih ediliyor.\"\\\n",
        " f\"{meslek} mesleginin tercih edilme sebebi maasinin {maas} Euro olmasi\"\n",
        "\n",
        "print(output)"
      ],
      "metadata": {
        "colab": {
          "base_uri": "https://localhost:8080/",
          "height": 130
        },
        "id": "KmtDaGmkl6h1",
        "outputId": "8eeadacf-8f79-45c8-8ee3-89f66e19f092"
      },
      "execution_count": null,
      "outputs": [
        {
          "output_type": "error",
          "ename": "SyntaxError",
          "evalue": "ignored",
          "traceback": [
            "\u001b[0;36m  File \u001b[0;32m\"<ipython-input-17-f14d18e0359c>\"\u001b[0;36m, line \u001b[0;32m5\u001b[0m\n\u001b[0;31m    output = f\"Günümüzün popüler meslegi olan {meslek} lik \"\\   #Alt alta yazmama ragmen satir ciktilari yan yana olur.\u001b[0m\n\u001b[0m                                                                                                                       ^\u001b[0m\n\u001b[0;31mSyntaxError\u001b[0m\u001b[0;31m:\u001b[0m unexpected character after line continuation character\n"
          ]
        }
      ]
    },
    {
      "cell_type": "markdown",
      "source": [
        "# Karekök alma"
      ],
      "metadata": {
        "id": "v1HMJKp6LKVH"
      }
    },
    {
      "cell_type": "code",
      "source": [
        "a = 2\n",
        "b = 8\n",
        "print((a * b) ** 0.5)     #karekökünü almak icin 0.5 kullanilabilir"
      ],
      "metadata": {
        "colab": {
          "base_uri": "https://localhost:8080/"
        },
        "id": "4XbAa3kNLPR7",
        "outputId": "88f29739-7fcd-4510-df74-56eb95cab5f7"
      },
      "execution_count": null,
      "outputs": [
        {
          "output_type": "stream",
          "name": "stdout",
          "text": [
            "4.0\n"
          ]
        }
      ]
    },
    {
      "cell_type": "code",
      "source": [
        "a = 2\n",
        "b = 8\n",
        "import math\n",
        "print(math.sqrt(a*b))     #kütüphaneden import ederek komutla karekök alma yöntemi "
      ],
      "metadata": {
        "colab": {
          "base_uri": "https://localhost:8080/"
        },
        "id": "3T7RcRm1LRAH",
        "outputId": "269b44c1-46e9-45ad-de14-8cefcfa0cd24"
      },
      "execution_count": null,
      "outputs": [
        {
          "output_type": "stream",
          "name": "stdout",
          "text": [
            "4.0\n"
          ]
        }
      ]
    },
    {
      "cell_type": "markdown",
      "source": [
        "# += , *=, //= %= ....GIBI KOMUTLAR"
      ],
      "metadata": {
        "id": "KVnrnyFqMCPD"
      }
    },
    {
      "cell_type": "code",
      "source": [
        "x =4\n",
        "x += 3 #-------> x = x + 3 anlamina gelmektedir\n",
        "print(x)\n",
        "\n",
        "x = 3\n",
        "x *= 4  ##--------> x = x ** 4 anlamina gelmektedir\n",
        "\n",
        "print(x)\n",
        "\n",
        "a = 4 \n",
        "a **= 4     #--------> a = a ** 4 anlamina gelmektedir\n",
        "print(a)\n",
        "\n",
        "print(11//5)    #bölümü sonuc verir"
      ],
      "metadata": {
        "colab": {
          "base_uri": "https://localhost:8080/"
        },
        "id": "1rpOYj1AMIRc",
        "outputId": "0b3b79b9-92d4-4524-df98-41d759f6adfb"
      },
      "execution_count": null,
      "outputs": [
        {
          "output_type": "stream",
          "name": "stdout",
          "text": [
            "7\n",
            "12\n",
            "256\n",
            "2\n"
          ]
        }
      ]
    },
    {
      "cell_type": "code",
      "source": [
        "a = 3\n",
        "b = 4\n",
        "c = ((a ** 2) + (b ** 2)) ** 0.5\n",
        "print(c)"
      ],
      "metadata": {
        "colab": {
          "base_uri": "https://localhost:8080/"
        },
        "id": "uupN5EPCRraU",
        "outputId": "1e274407-7d39-4e53-b6a8-a9c215cc85e8"
      },
      "execution_count": null,
      "outputs": [
        {
          "output_type": "stream",
          "name": "stdout",
          "text": [
            "5.0\n"
          ]
        }
      ]
    },
    {
      "cell_type": "code",
      "source": [
        "a = float(input(\"Ilk uzunlugu giriniz..:\"))\n",
        "b = float(input('Ikinci uzunlugu giriniz...:'))\n",
        "import math \n",
        "\n",
        "c = print(math.sqrt((a ** 2) + (b ** 2)))\n"
      ],
      "metadata": {
        "colab": {
          "base_uri": "https://localhost:8080/"
        },
        "id": "hVjg9zzwSksx",
        "outputId": "f4ccb984-2786-4334-99d6-d4b60320c191"
      },
      "execution_count": null,
      "outputs": [
        {
          "output_type": "stream",
          "name": "stdout",
          "text": [
            "Ilk uzunlugu giriniz..:3\n",
            "Ikinci uzunlugu giriniz...:4\n",
            "5.0\n"
          ]
        }
      ]
    },
    {
      "cell_type": "markdown",
      "source": [
        "# EMOJI KARAKTERLERI YA DA SLASH ISARETI KULLANARAK ASCII TABLOSUNDAN DEGER GÖSTERMEK"
      ],
      "metadata": {
        "id": "k2Wd9SoZapW-"
      }
    },
    {
      "cell_type": "code",
      "source": [
        "bird1 = \"\\N{bird}\"    #EMOJI KARAKTERLERINI KULLANMAK ICIN \\N{} IFADESI KULLANILIR\n",
        "print(bird1)\n",
        "print(\"\\n\")\n",
        "print(\"\\N{dog}\")"
      ],
      "metadata": {
        "colab": {
          "base_uri": "https://localhost:8080/"
        },
        "id": "teoXmQEJa2jU",
        "outputId": "fe28c117-5439-456f-d10d-9ec1cbb9cf99"
      },
      "execution_count": null,
      "outputs": [
        {
          "output_type": "stream",
          "name": "stdout",
          "text": [
            "🐦\n",
            "\n",
            "\n",
            "🐕\n"
          ]
        }
      ]
    },
    {
      "cell_type": "code",
      "source": [
        "print(\"\\124\\125\\126\")     #ASCII Tablosunda 124 T ye 125 U ya 126 V ye denk geliyor. \\ kullandigimiz icin ASCII tablsundan cektik"
      ],
      "metadata": {
        "colab": {
          "base_uri": "https://localhost:8080/"
        },
        "id": "Vl-hU3-nbDZC",
        "outputId": "8713040a-d7a4-4934-e584-545993a3d4ff"
      },
      "execution_count": null,
      "outputs": [
        {
          "output_type": "stream",
          "name": "stdout",
          "text": [
            "TUV\n"
          ]
        }
      ]
    },
    {
      "cell_type": "code",
      "source": [
        "print(\"\\101\\102\\103\")   #Unicode-ascii tablosundaki degerler\n"
      ],
      "metadata": {
        "colab": {
          "base_uri": "https://localhost:8080/"
        },
        "id": "OEGf3JhqbeMl",
        "outputId": "ffa13a21-ee75-43c7-e691-ca8d06d06ea1"
      },
      "execution_count": null,
      "outputs": [
        {
          "output_type": "stream",
          "name": "stdout",
          "text": [
            "ABC\n"
          ]
        }
      ]
    },
    {
      "cell_type": "code",
      "source": [
        "print(\"\\x41\\x42\\x43\")"
      ],
      "metadata": {
        "colab": {
          "base_uri": "https://localhost:8080/"
        },
        "id": "Y2Lj66LybmyT",
        "outputId": "ec6345b3-5a31-4eeb-9ed0-378c53af8afe"
      },
      "execution_count": null,
      "outputs": [
        {
          "output_type": "stream",
          "name": "stdout",
          "text": [
            "ABC\n"
          ]
        }
      ]
    },
    {
      "cell_type": "markdown",
      "source": [
        "# IF ELSE DÖNGÜSÜ"
      ],
      "metadata": {
        "id": "M6974QnvijeF"
      }
    },
    {
      "cell_type": "code",
      "source": [
        "def computepay(h, r):\n",
        "    if h < 40 :\n",
        "        payment = h * r\n",
        "        return payment\n",
        "\n",
        "    else :\n",
        "        payment = (40 * r) + ((h - 40) * r * 1.5)\n",
        "        return payment\n",
        "\n",
        "\n",
        "h = input(\"Enter Hours:\")\n",
        "r = input(\"Enter Rate:\")\n",
        "\n",
        "h = float(h)\n",
        "r = float(r)\n",
        "\n",
        "p = computepay(h, r)\n",
        "\n",
        "\n",
        "print(\"Pay\", p)"
      ],
      "metadata": {
        "colab": {
          "base_uri": "https://localhost:8080/"
        },
        "id": "TnJQQPvczSbn",
        "outputId": "d078503e-705c-4ca0-b6d2-090a2ca81b16"
      },
      "execution_count": null,
      "outputs": [
        {
          "output_type": "stream",
          "name": "stdout",
          "text": [
            "Enter Hours:88\n",
            "Enter Rate:10\n",
            "Pay 1120.0\n"
          ]
        }
      ]
    },
    {
      "cell_type": "code",
      "source": [
        "a = input('enter a number')\n",
        "\n",
        "a = int(a)\n",
        "while a > 10 :\n",
        "    print('True') \n",
        "    a = a + 1\n",
        "########10 dan büyük sayi girince sonsuz defa yazdiriyor neden????\n",
        "if a <= 10 :\n",
        "  print('False')"
      ],
      "metadata": {
        "colab": {
          "base_uri": "https://localhost:8080/"
        },
        "id": "Qd7YJtbGuSLY",
        "outputId": "74fcc8b7-50a7-4f96-a742-76f7e0f54e14"
      },
      "execution_count": null,
      "outputs": [
        {
          "output_type": "stream",
          "name": "stdout",
          "text": [
            "enter a number3\n",
            "False\n"
          ]
        }
      ]
    },
    {
      "cell_type": "code",
      "source": [
        "a, b, c = 600, 30000, 100\n",
        "max = a\n",
        "\n",
        "if b > max :\n",
        "  max = b\n",
        "\n",
        "if c > max :\n",
        "  max = c\n",
        "\n",
        "print(max)\n",
        "\n",
        "\n",
        " "
      ],
      "metadata": {
        "colab": {
          "base_uri": "https://localhost:8080/"
        },
        "id": "CJOrFk6yimd_",
        "outputId": "044b4f48-c0ab-48a6-db53-11817885f7d3"
      },
      "execution_count": null,
      "outputs": [
        {
          "output_type": "stream",
          "name": "stdout",
          "text": [
            "30000\n"
          ]
        }
      ]
    },
    {
      "cell_type": "markdown",
      "source": [
        "# DEF FONKSIYONU"
      ],
      "metadata": {
        "id": "0TgmtlsfyAFj"
      }
    },
    {
      "cell_type": "code",
      "source": [
        "def ornek1() :\n",
        "    print('Hello')\n",
        "    print('def örnegini yaptik')   ### Asagidaki kodu yazana kadar bu kod beklemede kalir ve asagida fonksiyon ismini yazfdigimizda aktif hale gelir\n",
        "\n",
        "ornek1()\n",
        "print('aradaki diger cümle')\n",
        "ornek1()"
      ],
      "metadata": {
        "colab": {
          "base_uri": "https://localhost:8080/"
        },
        "id": "hONm16qnyEP8",
        "outputId": "0445e5e3-6c25-4ab4-b147-1225c3903880"
      },
      "execution_count": null,
      "outputs": [
        {
          "output_type": "stream",
          "name": "stdout",
          "text": [
            "Hello\n",
            "def örnegini yaptik\n",
            "aradaki diger cümle\n",
            "Hello\n",
            "def örnegini yaptik\n"
          ]
        }
      ]
    },
    {
      "cell_type": "code",
      "source": [
        "def selamlama(dil) :\n",
        "    if dil == 'de' :\n",
        "        print('HALLO')\n",
        "    \n",
        "    elif dil == 'es' :\n",
        "        print('HOLA')\n",
        "\n",
        "    elif dil == 'tr' :\n",
        "        print('MERHABA')\n",
        "    \n",
        "    else :\n",
        "        print('HELLO')\n",
        "\n",
        "print(input('Lütfen isminizi yaziniz'))\n",
        "\n",
        "selamlama(input('Dilinizin kisaltilmis halini giriniz')) ###def FONKSIYONUNUN ISMINI GIREREK DEF FONKSIYONUNU AKTIVE ETTIK"
      ],
      "metadata": {
        "colab": {
          "base_uri": "https://localhost:8080/"
        },
        "id": "v5r5sdDXyIWL",
        "outputId": "3f3f3767-0f87-48e7-b323-223fc723d223"
      },
      "execution_count": null,
      "outputs": [
        {
          "output_type": "stream",
          "name": "stdout",
          "text": [
            "Lütfen isminizi yazinizsadas\n",
            "sadas\n",
            "Dilinizin kisaltilmis halini giriniztr\n",
            "MERHABA\n"
          ]
        }
      ]
    },
    {
      "cell_type": "code",
      "source": [
        "def ikili_girdi(x, y) :\n",
        "    sonuc = x + y \n",
        "    return sonuc\n",
        "\n",
        "a = ikili_girdi(5, 8)\n",
        "\n",
        "print(a)\n",
        "\n",
        "def addtwo(a, b):\n",
        "    added = a + b\n",
        "    return a\n",
        "\n",
        "x = addtwo(2, 7)\n",
        "print(x)"
      ],
      "metadata": {
        "colab": {
          "base_uri": "https://localhost:8080/"
        },
        "id": "0-QXgZFFykCD",
        "outputId": "06073f1a-d8ae-4550-d3f9-e72db9bdbf8e"
      },
      "execution_count": null,
      "outputs": [
        {
          "output_type": "stream",
          "name": "stdout",
          "text": [
            "13\n",
            "2\n"
          ]
        }
      ]
    },
    {
      "cell_type": "markdown",
      "source": [
        "# TRY-EXCEPT KOMUTLARININ MANTIGI"
      ],
      "metadata": {
        "id": "Cf-kEGv00iYn"
      }
    },
    {
      "cell_type": "code",
      "source": [
        "score = input(\"Enter Score: \")\n",
        "\n",
        "try :\n",
        "    score_1 = float(score)        #bu komutu dene eger dogruysa except# i atla ve diger koddan devam et\n",
        "                                  #ama bu komutu yapamazsa yani mesela str ifadeyi ceviremeiycek floata onun icin except calistirir.\n",
        "except : \n",
        "    print('You didnt a numerical input. Please try again!')\n",
        "    \n",
        "if score_1 > 1 :\n",
        "    print('You entered invalid number')\n",
        "    \n",
        "elif score_1 >= 0.9 :\n",
        "    print('A')\n",
        "    \n",
        "elif score_1 >= 0.8 :\n",
        "    print('B')\n",
        "    \n",
        "elif score_1 >= 0.7 :\n",
        "    print('C')\n",
        "    \n",
        "elif score_1 >= 0.6 :\n",
        "    print('D')\n",
        "    \n",
        "elif score_1 <0.6 :\n",
        "    print('F')"
      ],
      "metadata": {
        "colab": {
          "base_uri": "https://localhost:8080/"
        },
        "id": "BREjtElt0Czh",
        "outputId": "fd044297-d36a-40e4-a089-fdf96e73014c"
      },
      "execution_count": null,
      "outputs": [
        {
          "output_type": "stream",
          "name": "stdout",
          "text": [
            "Enter Score: 2\n",
            "You entered invalid number\n"
          ]
        }
      ]
    },
    {
      "cell_type": "markdown",
      "source": [
        "# WHILE DÖNGÜSÜ"
      ],
      "metadata": {
        "id": "_aHZopAmZZYZ"
      }
    },
    {
      "cell_type": "code",
      "source": [
        "toplam = 0\n",
        "counter = 1\n",
        "\n",
        "while counter <= 4 :\n",
        "    girilen_sayi = int(input('Bir sayi gir...:'))\n",
        "    counter += 1\n",
        "    toplam = toplam + girilen_sayi \n",
        "\n",
        "average = toplam / counter\n",
        "\n",
        "print(\"Girilen 4 sayinin ortalamasi....:\", average)\n",
        "\n"
      ],
      "metadata": {
        "colab": {
          "base_uri": "https://localhost:8080/"
        },
        "id": "6twLOY9dAMst",
        "outputId": "6b23dff6-a830-472b-edc9-ab4ef3f58779"
      },
      "execution_count": null,
      "outputs": [
        {
          "output_type": "stream",
          "name": "stdout",
          "text": [
            "Bir sayi gir...:10\n",
            "Bir sayi gir...:2\n",
            "Bir sayi gir...:3\n",
            "Bir sayi gir...:6\n",
            "Girilen 4 sayinin ortalamasi....: 4.2\n"
          ]
        }
      ]
    },
    {
      "cell_type": "code",
      "source": [
        "toplam = 0\n",
        "i = 1\n",
        "\n",
        "while i <= 100 :\n",
        "    toplam = toplam + i \n",
        "    i += 1\n",
        "    \n",
        "\n",
        "print(toplam) "
      ],
      "metadata": {
        "colab": {
          "base_uri": "https://localhost:8080/"
        },
        "id": "tyxVsuzQZf9y",
        "outputId": "40a3147c-ae1a-4e78-8474-6b7f8ceabc4f"
      },
      "execution_count": null,
      "outputs": [
        {
          "output_type": "stream",
          "name": "stdout",
          "text": [
            "5050\n"
          ]
        }
      ]
    },
    {
      "cell_type": "code",
      "source": [
        "print(\"clarusway\" + str(2020))"
      ],
      "metadata": {
        "colab": {
          "base_uri": "https://localhost:8080/"
        },
        "id": "45T5YYubfasb",
        "outputId": "969df0f7-58e0-4061-f465-bbce47103c0d"
      },
      "execution_count": null,
      "outputs": [
        {
          "output_type": "stream",
          "name": "stdout",
          "text": [
            "clarusway2020\n"
          ]
        }
      ]
    },
    {
      "cell_type": "markdown",
      "source": [
        "# HESAP MAKINESI"
      ],
      "metadata": {
        "id": "E31JWVk1ByPS"
      }
    },
    {
      "cell_type": "code",
      "source": [
        "num1 = float(input(\"Enter the number_1..:\"))\n",
        "num2 = float(input(\"Enter the number_2..:\"))\n",
        "operator = input(\"Enter the operation..:\")\n",
        "if operator == \"+\" : \n",
        "  sonuc = num1 + num2         #NUM1 VE NUM2 OPERAND ARADAKI ISLEM ISE OPERATÖR´DÜR\n",
        "\n",
        "elif operator == \"-\" :\n",
        "  sonuc = num1 - num2\n",
        "\n",
        "elif operator == \"/\" :\n",
        "  sonuc = num1 / num2\n",
        "\n",
        "elif operator == \"*\" :\n",
        "  sonuc = num1 * num2\n",
        "\n",
        "else :\n",
        "  print(\"Hatali bir islem girdiniz\")\n",
        "\n",
        "\n",
        "print(sonuc)"
      ],
      "metadata": {
        "colab": {
          "base_uri": "https://localhost:8080/"
        },
        "id": "nK1AK1GSB3gB",
        "outputId": "27cd4820-b1cd-4bbf-83dc-1f5139ca879d"
      },
      "execution_count": null,
      "outputs": [
        {
          "output_type": "stream",
          "name": "stdout",
          "text": [
            "Enter the number_1..:8\n",
            "Enter the number_2..:2\n",
            "Enter the operation..:\n",
            "Hatali bir islem girdiniz\n",
            "12.0\n"
          ]
        }
      ]
    },
    {
      "cell_type": "markdown",
      "source": [
        "# MOD ALMA OPERATÖRÜ NEGATIF SAYILAR ICIN"
      ],
      "metadata": {
        "id": "-qlNK3LMDfIb"
      }
    },
    {
      "cell_type": "code",
      "source": [
        "import math     #Negatif sayilarda normal mod islemi (%) kullanildiginda formülden dolayi hatali sonuc verir.\n",
        "print(math.fmod(-8,3))      # Bunun icin math kütüphanesini import ederek \"fmod\" kullanilabilir.\n",
        "\n",
        "print(-8%3)   #Hatali somnuc verdi\n"
      ],
      "metadata": {
        "colab": {
          "base_uri": "https://localhost:8080/"
        },
        "id": "jBEkjmrSDkwI",
        "outputId": "dc1158b1-1929-4901-aee7-159d9147b783"
      },
      "execution_count": null,
      "outputs": [
        {
          "output_type": "stream",
          "name": "stdout",
          "text": [
            "-2.0\n",
            "1\n"
          ]
        }
      ]
    },
    {
      "cell_type": "code",
      "source": [
        "from math import fmod, sqrt   # math kütüphanesinden sadece istedigimiz islemleri almak icin bunu kullanabiliriz\n",
        "print(fmod(-8,5))\n",
        "print(sqrt(8))    #karekök alir\n"
      ],
      "metadata": {
        "colab": {
          "base_uri": "https://localhost:8080/"
        },
        "id": "N16LBMwMEazh",
        "outputId": "355798d3-3abd-4d9c-f538-5b37ee49ea12"
      },
      "execution_count": null,
      "outputs": [
        {
          "output_type": "stream",
          "name": "stdout",
          "text": [
            "-3.0\n",
            "2.8284271247461903\n"
          ]
        }
      ]
    },
    {
      "cell_type": "code",
      "source": [
        "dir(math)     #math modülünün metotlarini verir"
      ],
      "metadata": {
        "colab": {
          "base_uri": "https://localhost:8080/"
        },
        "id": "DjqtET8uE3Nm",
        "outputId": "936a84f5-ff45-41ef-eb4e-105422e76494"
      },
      "execution_count": null,
      "outputs": [
        {
          "output_type": "execute_result",
          "data": {
            "text/plain": [
              "['__doc__',\n",
              " '__loader__',\n",
              " '__name__',\n",
              " '__package__',\n",
              " '__spec__',\n",
              " 'acos',\n",
              " 'acosh',\n",
              " 'asin',\n",
              " 'asinh',\n",
              " 'atan',\n",
              " 'atan2',\n",
              " 'atanh',\n",
              " 'ceil',\n",
              " 'copysign',\n",
              " 'cos',\n",
              " 'cosh',\n",
              " 'degrees',\n",
              " 'e',\n",
              " 'erf',\n",
              " 'erfc',\n",
              " 'exp',\n",
              " 'expm1',\n",
              " 'fabs',\n",
              " 'factorial',\n",
              " 'floor',\n",
              " 'fmod',\n",
              " 'frexp',\n",
              " 'fsum',\n",
              " 'gamma',\n",
              " 'gcd',\n",
              " 'hypot',\n",
              " 'inf',\n",
              " 'isclose',\n",
              " 'isfinite',\n",
              " 'isinf',\n",
              " 'isnan',\n",
              " 'ldexp',\n",
              " 'lgamma',\n",
              " 'log',\n",
              " 'log10',\n",
              " 'log1p',\n",
              " 'log2',\n",
              " 'modf',\n",
              " 'nan',\n",
              " 'pi',\n",
              " 'pow',\n",
              " 'radians',\n",
              " 'remainder',\n",
              " 'sin',\n",
              " 'sinh',\n",
              " 'sqrt',\n",
              " 'tan',\n",
              " 'tanh',\n",
              " 'tau',\n",
              " 'trunc']"
            ]
          },
          "metadata": {},
          "execution_count": 9
        }
      ]
    },
    {
      "cell_type": "markdown",
      "source": [
        "#STRING ILE ISLEM YAPMA(eval() KOMUTU)"
      ],
      "metadata": {
        "id": "-fDZKv4WOirg"
      }
    },
    {
      "cell_type": "code",
      "source": [
        "num1 = input('number1...:')\n",
        "num2 = input('number2...')\n",
        "op = input('Islemi giriniz')\n",
        "sonuc = num1 + op + num2\n",
        "print(type(sonuc))        # String islem olmasina ragmen \"EVAL\" komutu sayesinde islemi yapti\n",
        "\n",
        "print('Sonuc....:', eval(sonuc))"
      ],
      "metadata": {
        "colab": {
          "base_uri": "https://localhost:8080/"
        },
        "id": "0U4R3uJTOjG6",
        "outputId": "0d1a28a7-3855-4ca7-f850-8a164d4fe37c"
      },
      "execution_count": null,
      "outputs": [
        {
          "output_type": "stream",
          "name": "stdout",
          "text": [
            "number1...:8\n",
            "number2...7\n",
            "Islemi giriniz+\n",
            "<class 'str'>\n",
            "Sonuc....: 15\n"
          ]
        }
      ]
    },
    {
      "cell_type": "code",
      "source": [
        "print(max(eval(input('Istediginiz kadar sayi girin aralarina virgül koyarak girin')))) \n",
        "#eval komutu icine aralarina virgül konularak birden fazla syi yazilabilir.\n",
        "#BÖYLECE MAX VEYA MIN SAYI BULUNABILIR"
      ],
      "metadata": {
        "colab": {
          "base_uri": "https://localhost:8080/"
        },
        "id": "ST5m9OtbUNMP",
        "outputId": "2f9e97e3-4185-4f83-d69b-44ae358f23af"
      },
      "execution_count": null,
      "outputs": [
        {
          "output_type": "stream",
          "name": "stdout",
          "text": [
            "Istediginiz kadar sayi girin18, 24, 42, 84\n",
            "84\n"
          ]
        }
      ]
    },
    {
      "cell_type": "markdown",
      "source": [
        "# Max-Min sayiyi Bulma "
      ],
      "metadata": {
        "id": "GSUGLe4YQqmY"
      }
    },
    {
      "cell_type": "code",
      "source": [
        "num1 = int(input('number1...:'))      # Esitleme yöntemiyle bulmayi daha önce yapmistik(if yöntemiyle)\n",
        "num2 = int(input('number2...'))\n",
        "num3 = int(input('number3....'))\n",
        "\n",
        "max_number = max(num1, num2, num3)\n",
        "print(max_number)"
      ],
      "metadata": {
        "colab": {
          "base_uri": "https://localhost:8080/"
        },
        "id": "uOuafi-0QuTI",
        "outputId": "ac917259-7338-46a7-f4e3-e3901dbcf725"
      },
      "execution_count": null,
      "outputs": [
        {
          "output_type": "stream",
          "name": "stdout",
          "text": [
            "number1...:10\n",
            "number2...11\n",
            "number3....12\n",
            "12\n"
          ]
        }
      ]
    },
    {
      "cell_type": "markdown",
      "source": [
        "#Harfleri büyük harfe veya kücük harfe cevirme- lower()-upper()"
      ],
      "metadata": {
        "id": "KvkZ8thbUTmw"
      }
    },
    {
      "cell_type": "code",
      "source": [
        "var_str = 'In God we Trust'\n",
        "yeni_metin = var_str.lower()\n",
        "print(yeni_metin)"
      ],
      "metadata": {
        "colab": {
          "base_uri": "https://localhost:8080/"
        },
        "id": "Jz2RqQb6UaK-",
        "outputId": "baf80469-b7f3-44fc-d47e-b4fbf7783b87"
      },
      "execution_count": null,
      "outputs": [
        {
          "output_type": "stream",
          "name": "stdout",
          "text": [
            "in god we trust\n"
          ]
        }
      ]
    },
    {
      "cell_type": "code",
      "source": [
        "metin = 'Biz burdaYiZ'\n",
        "\n",
        "print(metin.upper())"
      ],
      "metadata": {
        "colab": {
          "base_uri": "https://localhost:8080/"
        },
        "id": "sgfXOof6U5_i",
        "outputId": "559e52d7-6ff5-46da-823a-1d08c849886e"
      },
      "execution_count": null,
      "outputs": [
        {
          "output_type": "stream",
          "name": "stdout",
          "text": [
            "BIZ BURDAYIZ\n"
          ]
        }
      ]
    },
    {
      "cell_type": "markdown",
      "source": [
        "#Metnin icinde belli bir karakter veya metin arama(E-Mail gecerli olup olmadigini kontrol etme)"
      ],
      "metadata": {
        "id": "ehVgh1gZVfl0"
      }
    },
    {
      "cell_type": "code",
      "source": [
        "email = 'bülend@clarusway.com'\n",
        "print('@' in email)\n",
        "print('@' and '.' in email)\n",
        "print('s' in email)\n",
        "print('ä' in email)"
      ],
      "metadata": {
        "colab": {
          "base_uri": "https://localhost:8080/"
        },
        "id": "NpBPhCcLVkvW",
        "outputId": "cc22317d-fd32-4280-b57b-11d48447b861"
      },
      "execution_count": null,
      "outputs": [
        {
          "output_type": "stream",
          "name": "stdout",
          "text": [
            "True\n",
            "True\n",
            "True\n",
            "False\n"
          ]
        }
      ]
    },
    {
      "cell_type": "code",
      "source": [
        "email = 'bülen.d@clarusway.com'\n",
        "\n",
        "sira1 = email.index('@')\n",
        "sira2 = email.index('.')\n",
        "print(sira1)\n",
        "print(sira2)\n",
        "print(type(sira1))\n",
        "\n"
      ],
      "metadata": {
        "colab": {
          "base_uri": "https://localhost:8080/"
        },
        "id": "mCuPNw7gWjVB",
        "outputId": "70e8260c-b059-406a-c2a0-8dc027225146"
      },
      "execution_count": null,
      "outputs": [
        {
          "output_type": "stream",
          "name": "stdout",
          "text": [
            "7\n",
            "5\n",
            "<class 'int'>\n"
          ]
        }
      ]
    },
    {
      "cell_type": "code",
      "source": [
        "text = \"www.clarusway.com\"\n",
        "print(text.endswith('.com'))        # Bosluk da karakter olarak kabul edilir\n",
        "print(text.startswith('https://'))"
      ],
      "metadata": {
        "colab": {
          "base_uri": "https://localhost:8080/"
        },
        "id": "cEXT4Rg6XYWE",
        "outputId": "76e21c21-f56d-4bd5-c5cb-597c2ed2fa53"
      },
      "execution_count": null,
      "outputs": [
        {
          "output_type": "stream",
          "name": "stdout",
          "text": [
            "False\n",
            "False\n"
          ]
        }
      ]
    },
    {
      "cell_type": "markdown",
      "source": [
        "#DETAYLI MAIL CHECK"
      ],
      "metadata": {
        "id": "uMeLPmZp_onf"
      }
    },
    {
      "cell_type": "code",
      "source": [
        "while True :\n",
        "    mail = input(\"Enter your Email adress\")\n",
        "\n",
        "    control = ('@' and '.' in mail) and mail.endswith('com')\n",
        "    loc1 = mail.find('@')\n",
        "    loc2 = mail.find('.', loc1)\n",
        "\n",
        "    if control == False or loc2 < loc1:\n",
        "        print('Invalid Email')\n",
        "        continue\n",
        "    \n",
        "    elif loc2 > loc1 and control == True :\n",
        "        break\n",
        " \n",
        "print('Valid Email')\n",
        "   \n",
        "\n",
        "    "
      ],
      "metadata": {
        "colab": {
          "base_uri": "https://localhost:8080/"
        },
        "id": "0e81jhsG_rNi",
        "outputId": "15e34155-a648-410d-d820-ccb34cc898d2"
      },
      "execution_count": null,
      "outputs": [
        {
          "output_type": "stream",
          "name": "stdout",
          "text": [
            "Mail adresinizi girinizASDASD\n",
            "Invalid Email\n",
            "Mail adresinizi girinizASDASD\n",
            "Invalid Email\n",
            "Mail adresinizi girinizASD..ASD\n",
            "Invalid Email\n",
            "Mail adresinizi girinizASDASD@\n",
            "Invalid Email\n",
            "Mail adresinizi girinizASDASD.@\n",
            "Invalid Email\n",
            "Mail adresinizi girinizADSASDAS.@ADSJASD.\n",
            "Invalid Email\n",
            "Mail adresinizi girinizASDAOSD@ASDASD.COM\n",
            "Invalid Email\n",
            "Mail adresinizi girinizKASDMASDDASD @ ASDASD.com\n",
            "Valid Email\n"
          ]
        }
      ]
    },
    {
      "cell_type": "code",
      "source": [
        "#####Bu kisimda belli aralikta arama yerini kacirdim onu tekrar kontrol edip yaz "
      ],
      "metadata": {
        "id": "KZYCudrUck6d"
      },
      "execution_count": null,
      "outputs": []
    },
    {
      "cell_type": "markdown",
      "source": [
        "# String Methods .capitalize() .count(). ...... vb"
      ],
      "metadata": {
        "id": "KsUG3vm2dt6E"
      }
    },
    {
      "cell_type": "code",
      "source": [
        "text = \"www.clarusway.com\"        #Bu komutlar True ya da False degeri verir.\n",
        "print(text.endswith('.com'))        # Bosluk da karakter olarak kabul edilir\n",
        "print(text.startswith('https://'))"
      ],
      "metadata": {
        "id": "eG-QlAnU4pou"
      },
      "execution_count": null,
      "outputs": []
    },
    {
      "cell_type": "code",
      "source": [
        "email = 'bülen.d@clarusway.com'\n",
        "\n",
        "sira1 = email.index('@')\n",
        "sira2 = email.index('.')\n",
        "print(sira1)\n",
        "print(sira2)\n",
        "print(type(sira1))"
      ],
      "metadata": {
        "id": "67y4mwbB4nEV"
      },
      "execution_count": null,
      "outputs": []
    },
    {
      "cell_type": "code",
      "source": [
        "email = \"clarusway@clarusway.com is my e-mail address\"\n",
        "print(email.startswith('l', 11))\n",
        "print(email.startswith('l', 12))\n",
        "\n",
        "print(email.endswith('.', 10,20))   #. burda 19. karakter onun icin bir üstünü yazdik. 19 yazsaydik yanlis olacakti\n",
        "\n"
      ],
      "metadata": {
        "colab": {
          "base_uri": "https://localhost:8080/"
        },
        "id": "nqauOtT-41he",
        "outputId": "5fae7d79-b16b-491a-8ce7-e745bc25bb18"
      },
      "execution_count": null,
      "outputs": [
        {
          "output_type": "stream",
          "name": "stdout",
          "text": [
            "True\n",
            "False\n",
            "False\n"
          ]
        }
      ]
    },
    {
      "cell_type": "code",
      "source": [
        "print(\"xyyzxyzxzxyy\".endswith(\"xyy\", 0, 3))\n",
        "print(\"xyyzxyzxzxyy\".endswith(\"xyy\", 0, 2))"
      ],
      "metadata": {
        "colab": {
          "base_uri": "https://localhost:8080/"
        },
        "id": "qtrt3QPhZYIs",
        "outputId": "bfad033f-c775-49a9-f620-5f1d4dac01e1"
      },
      "execution_count": null,
      "outputs": [
        {
          "output_type": "stream",
          "name": "stdout",
          "text": [
            "True\n",
            "False\n"
          ]
        }
      ]
    },
    {
      "cell_type": "code",
      "source": [
        "text = 'Galatasaray'\n",
        "\n",
        "new_text = text.replace('a', 'e')\n",
        "print(new_text)\n",
        "\n",
        "new_text = text.replace('a', 'e', 2)    ###Bastan sadece ilk 2 a harfini e ye cevirir\n",
        "print(new_text)"
      ],
      "metadata": {
        "colab": {
          "base_uri": "https://localhost:8080/"
        },
        "id": "qMJxFZ2Wd5m6",
        "outputId": "0661c78d-b161-4706-f403-f19ee03e0c8c"
      },
      "execution_count": null,
      "outputs": [
        {
          "output_type": "stream",
          "name": "stdout",
          "text": [
            "Geleteserey\n",
            "Geletasaray\n"
          ]
        }
      ]
    },
    {
      "cell_type": "code",
      "source": [
        "text = 'GalaTaSaRay'\n",
        "new_text = text.swapcase()      #Büyük harfeleri kücük, kücük harfleri büyük yapar\n",
        "print(new_text)"
      ],
      "metadata": {
        "colab": {
          "base_uri": "https://localhost:8080/"
        },
        "id": "psnNwi8mfJ__",
        "outputId": "067ac9b0-9bb5-4fc5-d357-aa7aa169c88c"
      },
      "execution_count": null,
      "outputs": [
        {
          "output_type": "stream",
          "name": "stdout",
          "text": [
            "gALAtAsArAY\n"
          ]
        }
      ]
    },
    {
      "cell_type": "code",
      "source": [
        "text='fenErBahce Galatasary'\n",
        "new_text = text.capitalize()      #Sadece ilk harfi büyük yapip kalan harfleri kücük yapar\n",
        "\n",
        "print(new_text)\n"
      ],
      "metadata": {
        "colab": {
          "base_uri": "https://localhost:8080/"
        },
        "id": "d_3mv0i2fX3P",
        "outputId": "c14dd2fc-daa7-484e-e117-929f6cafb845"
      },
      "execution_count": null,
      "outputs": [
        {
          "output_type": "stream",
          "name": "stdout",
          "text": [
            "Fenerbahce galatasary\n"
          ]
        }
      ]
    },
    {
      "cell_type": "code",
      "source": [
        "text = 'gaLaTaSaray fenerbahce'\n",
        "\n",
        "new_text = text.title()   #title metin icindeki bütün kelimelerin bas harfini büyük yapip kalanlarin hepsini kücüge cevirir\n",
        "print(new_text)           # capitalize sadece ilk harfi büyük yapar"
      ],
      "metadata": {
        "colab": {
          "base_uri": "https://localhost:8080/"
        },
        "id": "S8J9nFR7foAW",
        "outputId": "79a9f0cb-78ad-42d9-f7aa-c378a1cfd1fa"
      },
      "execution_count": null,
      "outputs": [
        {
          "output_type": "stream",
          "name": "stdout",
          "text": [
            "Galatasaray Fenerbahce\n"
          ]
        }
      ]
    },
    {
      "cell_type": "code",
      "source": [
        "text = 'gaLaTaSaray'\n",
        "\n",
        "new_text = text.upper()\n",
        "print(new_text)"
      ],
      "metadata": {
        "colab": {
          "base_uri": "https://localhost:8080/"
        },
        "id": "xjUDMxQWgAT_",
        "outputId": "8f3ec828-464a-4d14-b63c-adf3615d36ff"
      },
      "execution_count": null,
      "outputs": [
        {
          "output_type": "stream",
          "name": "stdout",
          "text": [
            "GALATASARAY\n"
          ]
        }
      ]
    },
    {
      "cell_type": "code",
      "source": [
        "text = 'GaLaTaSaray FenerBahcE'\n",
        "\n",
        "new_text = text.lower()\n",
        "print(new_text)"
      ],
      "metadata": {
        "colab": {
          "base_uri": "https://localhost:8080/"
        },
        "id": "J2VtpVdXgKKi",
        "outputId": "374e426e-b5b7-45ce-e474-b4b74d70eba0"
      },
      "execution_count": null,
      "outputs": [
        {
          "output_type": "stream",
          "name": "stdout",
          "text": [
            "galatasaray\n"
          ]
        }
      ]
    },
    {
      "cell_type": "code",
      "source": [
        "text = 'GaLaTaSaray FenerBahcE'\n",
        "\n",
        "new_text = text.casefold()  #bunun .lower() dan farki ß gibi özel harfleri cevirmek icin kullanilmasi\n",
        "print(new_text)"
      ],
      "metadata": {
        "colab": {
          "base_uri": "https://localhost:8080/"
        },
        "id": "vG2SKZ_7gTp2",
        "outputId": "7d393fcf-0cf2-4299-c477-fca6c34822a3"
      },
      "execution_count": null,
      "outputs": [
        {
          "output_type": "stream",
          "name": "stdout",
          "text": [
            "galatasaray fenerbahce\n"
          ]
        }
      ]
    },
    {
      "cell_type": "code",
      "source": [
        "text = 'Ich heiße DogukAn'\n",
        "new_text = text.lower()     #!!!!!!! Aradaki fark asagida ciktida gözüküyor\n",
        "\n",
        "print(new_text)"
      ],
      "metadata": {
        "colab": {
          "base_uri": "https://localhost:8080/"
        },
        "id": "LvbKzI2oggR6",
        "outputId": "c8fc0eb7-e6ad-4b0e-adeb-21d1c1cace2b"
      },
      "execution_count": null,
      "outputs": [
        {
          "output_type": "stream",
          "name": "stdout",
          "text": [
            "ich heiße dogukan\n"
          ]
        }
      ]
    },
    {
      "cell_type": "code",
      "source": [
        "text = 'Ich heiße DogukAn'\n",
        "new_text = text.casefold()      ####!!!!!!\n",
        "\n",
        "print(new_text)"
      ],
      "metadata": {
        "colab": {
          "base_uri": "https://localhost:8080/"
        },
        "id": "u3zd_1JTgqEv",
        "outputId": "a5e955b5-c555-4bc6-823f-2e223a10a4e6"
      },
      "execution_count": null,
      "outputs": [
        {
          "output_type": "stream",
          "name": "stdout",
          "text": [
            "ich heisse dogukan\n"
          ]
        }
      ]
    },
    {
      "cell_type": "code",
      "source": [
        "text = 'D O G U K A N'\n",
        "new_text = '-'.join(text)\n",
        "print(new_text)"
      ],
      "metadata": {
        "colab": {
          "base_uri": "https://localhost:8080/"
        },
        "id": "MzqE6uRag1Ny",
        "outputId": "fce97f0e-a24f-496e-b09d-f74767300302"
      },
      "execution_count": null,
      "outputs": [
        {
          "output_type": "stream",
          "name": "stdout",
          "text": [
            "D- -O- -G- -U- -K- -A- -N\n"
          ]
        }
      ]
    },
    {
      "cell_type": "code",
      "source": [
        "text = [\"D\", \"O\", \"G\", \"U\", \"K\", \"A\", \"N\"]\n",
        "new_text = '-'.join(text)\n",
        "print(new_text)"
      ],
      "metadata": {
        "colab": {
          "base_uri": "https://localhost:8080/"
        },
        "id": "g-4dvqP-hH8M",
        "outputId": "87460e13-f2a5-43af-a88a-a65d59f55661"
      },
      "execution_count": null,
      "outputs": [
        {
          "output_type": "stream",
          "name": "stdout",
          "text": [
            "D-O-G-U-K-A-N\n"
          ]
        }
      ]
    },
    {
      "cell_type": "code",
      "source": [
        "text = [\"D\", \"O\", \"G\", \"U\", \"K\", \"A\", \"N\"]\n",
        "new_text = ''.join(text)\n",
        "print(new_text)"
      ],
      "metadata": {
        "colab": {
          "base_uri": "https://localhost:8080/"
        },
        "id": "HSgq6w6JhdAo",
        "outputId": "e85e6087-8029-47f5-fb2c-c3c7247a70dc"
      },
      "execution_count": null,
      "outputs": [
        {
          "output_type": "stream",
          "name": "stdout",
          "text": [
            "DOGUKAN\n"
          ]
        }
      ]
    },
    {
      "cell_type": "code",
      "source": [
        "text = 'Ich heiße DogukAn'\n",
        "new_text = ''.join(reversed(text))    #ters cevirip birlestirdi\n",
        "\n",
        "print(new_text)"
      ],
      "metadata": {
        "colab": {
          "base_uri": "https://localhost:8080/"
        },
        "id": "f-XaZYXxiZdr",
        "outputId": "a9cdafea-6a36-4a42-b0a0-2518874df99d"
      },
      "execution_count": null,
      "outputs": [
        {
          "output_type": "stream",
          "name": "stdout",
          "text": [
            "nAkugoD eßieh hcI\n"
          ]
        }
      ]
    },
    {
      "cell_type": "code",
      "source": [
        "text = \"Nuri Dogukan\"\n",
        "indis = text.find('o')   \n",
        "\n",
        "print(indis)  \n",
        "\n",
        "text = \"Nurio Dogukan\"\n",
        "indis = text.find('o')            #ilk o yu verir\n",
        "\n",
        "print(indis)\n",
        "\n",
        "text = \"Nurio Dogukan\"\n",
        "indis = text.rfind('o')       #rfind ---> ikinci o yu verir\n",
        "\n",
        "print(indis)"
      ],
      "metadata": {
        "colab": {
          "base_uri": "https://localhost:8080/"
        },
        "id": "L3hsX6ttilv2",
        "outputId": "1a8c16e8-e91d-4e53-d143-e91513e69a5e"
      },
      "execution_count": null,
      "outputs": [
        {
          "output_type": "stream",
          "name": "stdout",
          "text": [
            "6\n",
            "4\n",
            "7\n"
          ]
        }
      ]
    },
    {
      "cell_type": "code",
      "source": [
        "text = \"Nuri Dogukan\"\n",
        "indis = text.find('Dogu')          # D nerde basliyorsa onu verir\n",
        "                                \n",
        "print(indis)"
      ],
      "metadata": {
        "colab": {
          "base_uri": "https://localhost:8080/"
        },
        "id": "zI8llOpOjpWq",
        "outputId": "c96b9c20-fa67-4d64-da14-b99f1bb79712"
      },
      "execution_count": null,
      "outputs": [
        {
          "output_type": "stream",
          "name": "stdout",
          "text": [
            "5\n"
          ]
        }
      ]
    },
    {
      "cell_type": "code",
      "source": [
        "text = \"Nuri Dogukan\"\n",
        "indis = text.find('Doku')          # Kelimeyi yanlis yazarsak -1 verir\n",
        "                                \n",
        "print(indis)"
      ],
      "metadata": {
        "colab": {
          "base_uri": "https://localhost:8080/"
        },
        "id": "pPcaFopHjxUd",
        "outputId": "52df4dab-1850-4e88-d903-3513b9dd068c"
      },
      "execution_count": null,
      "outputs": [
        {
          "output_type": "stream",
          "name": "stdout",
          "text": [
            "-1\n"
          ]
        }
      ]
    },
    {
      "cell_type": "code",
      "source": [
        "text = \"Nurio Dogukan\"\n",
        "indis = text.find('l')          #index ile find arasindaki fark. index eger o harf yoksa hata verir\n",
        "                                # find ise eger o harf yoksa -1 degeri verir\n",
        "\n",
        "print(indis)"
      ],
      "metadata": {
        "colab": {
          "base_uri": "https://localhost:8080/"
        },
        "id": "C-vBrB3bjBMH",
        "outputId": "545955cb-f935-412c-f4c5-6496ea9ad162"
      },
      "execution_count": null,
      "outputs": [
        {
          "output_type": "stream",
          "name": "stdout",
          "text": [
            "-1\n"
          ]
        }
      ]
    },
    {
      "cell_type": "code",
      "source": [
        "text = \"Nurio Dogukan\"\n",
        "indis = text.index('l')         #index ile find farki bir yukarda\n",
        "\n",
        "print(indis)"
      ],
      "metadata": {
        "colab": {
          "base_uri": "https://localhost:8080/",
          "height": 215
        },
        "id": "Q90q94jtjEzL",
        "outputId": "ce3cdd58-8d2e-467b-e0b1-87c517ba3f1f"
      },
      "execution_count": null,
      "outputs": [
        {
          "output_type": "error",
          "ename": "ValueError",
          "evalue": "ignored",
          "traceback": [
            "\u001b[0;31m---------------------------------------------------------------------------\u001b[0m",
            "\u001b[0;31mValueError\u001b[0m                                Traceback (most recent call last)",
            "\u001b[0;32m<ipython-input-43-9b3033cbe4b1>\u001b[0m in \u001b[0;36m<module>\u001b[0;34m()\u001b[0m\n\u001b[1;32m      1\u001b[0m \u001b[0mtext\u001b[0m \u001b[0;34m=\u001b[0m \u001b[0;34m\"Nurio Dogukan\"\u001b[0m\u001b[0;34m\u001b[0m\u001b[0;34m\u001b[0m\u001b[0m\n\u001b[0;32m----> 2\u001b[0;31m \u001b[0mindis\u001b[0m \u001b[0;34m=\u001b[0m \u001b[0mtext\u001b[0m\u001b[0;34m.\u001b[0m\u001b[0mindex\u001b[0m\u001b[0;34m(\u001b[0m\u001b[0;34m'l'\u001b[0m\u001b[0;34m)\u001b[0m\u001b[0;34m\u001b[0m\u001b[0;34m\u001b[0m\u001b[0m\n\u001b[0m\u001b[1;32m      3\u001b[0m \u001b[0;34m\u001b[0m\u001b[0m\n\u001b[1;32m      4\u001b[0m \u001b[0mprint\u001b[0m\u001b[0;34m(\u001b[0m\u001b[0mindis\u001b[0m\u001b[0;34m)\u001b[0m\u001b[0;34m\u001b[0m\u001b[0;34m\u001b[0m\u001b[0m\n",
            "\u001b[0;31mValueError\u001b[0m: substring not found"
          ]
        }
      ]
    },
    {
      "cell_type": "code",
      "source": [
        "text = 'asdas.com'\n",
        "print(text.endswith('com'))"
      ],
      "metadata": {
        "colab": {
          "base_uri": "https://localhost:8080/"
        },
        "id": "aS4dIl9awwyO",
        "outputId": "d302ca26-d704-49ad-ec19-24fddbb5e7d2"
      },
      "execution_count": null,
      "outputs": [
        {
          "output_type": "stream",
          "name": "stdout",
          "text": [
            "True\n"
          ]
        }
      ]
    },
    {
      "cell_type": "code",
      "source": [
        "text = '1234'\n",
        "new_text = text.center(10)    #sagdan ve soldan bosluk birakarak bizim metnimizi merkeze yerlestirir\n",
        "print(new_text)\n",
        "\n",
        "text = '1234'\n",
        "new_text = text.center(10, '-')    #sagdan ve soldan bosluk birakarak bizim metnimizi merkeze yerlestirir\n",
        "print(new_text)"
      ],
      "metadata": {
        "colab": {
          "base_uri": "https://localhost:8080/"
        },
        "id": "uwgTxJHjjP42",
        "outputId": "a4c1ead0-826c-4b3f-db01-a414c574f7f5"
      },
      "execution_count": null,
      "outputs": [
        {
          "output_type": "stream",
          "name": "stdout",
          "text": [
            "   1234   \n",
            "---1234---\n"
          ]
        }
      ]
    },
    {
      "cell_type": "code",
      "source": [
        "text = '1 2 3 4'\n",
        "new_text = text.split()    #Arada bosluk varsa o bosluktan sonraki karakteri örnekteki gibi ayri bir eleman olarak alir\n",
        "print(new_text)\n",
        "\n",
        "text = '1234'\n",
        "new_text = text.split()    \n",
        "print(new_text)"
      ],
      "metadata": {
        "colab": {
          "base_uri": "https://localhost:8080/"
        },
        "id": "Md9TXKo0kl-a",
        "outputId": "f5d6d48c-98fd-4d80-924e-5bc42cc7afc0"
      },
      "execution_count": null,
      "outputs": [
        {
          "output_type": "stream",
          "name": "stdout",
          "text": [
            "['1', '2', '3', '4']\n",
            "['1234']\n"
          ]
        }
      ]
    },
    {
      "cell_type": "code",
      "source": [
        "text = 'S0d0me and G0m0re'\n",
        "new_text = text.replace('0','o')\n",
        "print(new_text)"
      ],
      "metadata": {
        "colab": {
          "base_uri": "https://localhost:8080/"
        },
        "id": "TZhJYTorpevR",
        "outputId": "190c90b4-4938-4a70-a795-58fcfbd66063"
      },
      "execution_count": null,
      "outputs": [
        {
          "output_type": "stream",
          "name": "stdout",
          "text": [
            "Sodome and Gomore\n"
          ]
        }
      ]
    },
    {
      "cell_type": "markdown",
      "source": [
        "islower- isupper- is..... vb"
      ],
      "metadata": {
        "id": "O1SGR4zD4X5Z"
      }
    },
    {
      "cell_type": "code",
      "source": [
        "'1234124'.isnumeric()\n",
        "\n",
        "\n"
      ],
      "metadata": {
        "colab": {
          "base_uri": "https://localhost:8080/"
        },
        "id": "mwuMkFtk5gzs",
        "outputId": "f51876b4-bbf7-4d83-967c-050962dd17f3"
      },
      "execution_count": null,
      "outputs": [
        {
          "output_type": "execute_result",
          "data": {
            "text/plain": [
              "True"
            ]
          },
          "metadata": {},
          "execution_count": 93
        }
      ]
    },
    {
      "cell_type": "code",
      "source": [
        "'12312 123123'.isnumeric()"
      ],
      "metadata": {
        "colab": {
          "base_uri": "https://localhost:8080/"
        },
        "id": "9m1PcIO85nLU",
        "outputId": "e9001c6f-7b82-40bb-93f8-fdcf6eff42e3"
      },
      "execution_count": null,
      "outputs": [
        {
          "output_type": "execute_result",
          "data": {
            "text/plain": [
              "False"
            ]
          },
          "metadata": {},
          "execution_count": 91
        }
      ]
    },
    {
      "cell_type": "code",
      "source": [
        "text = \"ali veli ahmet\"\n",
        "text.islower()\n",
        "\n"
      ],
      "metadata": {
        "colab": {
          "base_uri": "https://localhost:8080/"
        },
        "id": "Wngpy7dI584W",
        "outputId": "04ed42fc-01d7-4279-bb0e-38a9104842cb"
      },
      "execution_count": null,
      "outputs": [
        {
          "output_type": "execute_result",
          "data": {
            "text/plain": [
              "True"
            ]
          },
          "metadata": {},
          "execution_count": 95
        }
      ]
    },
    {
      "cell_type": "code",
      "source": [
        "' '.islower() #bosluk burda false verdi ama cümle icinde hepsi büyükse büyük hepsi kücükse kücük kabul edilir"
      ],
      "metadata": {
        "colab": {
          "base_uri": "https://localhost:8080/"
        },
        "id": "a9-juTpG6NSW",
        "outputId": "ea283895-9a8c-4fe4-c88c-04492cbefc21"
      },
      "execution_count": null,
      "outputs": [
        {
          "output_type": "execute_result",
          "data": {
            "text/plain": [
              "False"
            ]
          },
          "metadata": {},
          "execution_count": 97
        }
      ]
    },
    {
      "cell_type": "code",
      "source": [
        "text = \"ALI MEHMET SALIH\"\n",
        "text.isupper()"
      ],
      "metadata": {
        "colab": {
          "base_uri": "https://localhost:8080/"
        },
        "id": "ePtOsUiN6JiL",
        "outputId": "5befc86f-f8a9-4d33-de34-2603c3edb978"
      },
      "execution_count": null,
      "outputs": [
        {
          "output_type": "execute_result",
          "data": {
            "text/plain": [
              "True"
            ]
          },
          "metadata": {},
          "execution_count": 96
        }
      ]
    },
    {
      "cell_type": "code",
      "source": [
        "text = 'clarusway'\n",
        "print(text.islower())\n",
        "\n",
        "print(text.islower() and \"Tamami kücük harf\" or \"Hepsi kücük harf degil\") # True and True or True   AND bakip daha sonra or dan önceki True degerini verir \n",
        "\n",
        "# if else komutlari yerine and or ile ciktiyi aldik\n",
        "\n"
      ],
      "metadata": {
        "colab": {
          "base_uri": "https://localhost:8080/"
        },
        "id": "qfzTFRJz4Q5E",
        "outputId": "f966944d-48d4-49a4-f6b5-07e60807bea9"
      },
      "execution_count": null,
      "outputs": [
        {
          "output_type": "stream",
          "name": "stdout",
          "text": [
            "True\n",
            "Tamami kücük harf\n"
          ]
        }
      ]
    },
    {
      "cell_type": "code",
      "source": [
        "text = 'claruswAy'\n",
        "print(text.islower())\n",
        "\n",
        "print(text.islower() and \"Tamami kücük harf\" or \"Hepsi kücük harf degil\") #False and True or True !!!Ikinci True degerini verir\n"
      ],
      "metadata": {
        "colab": {
          "base_uri": "https://localhost:8080/"
        },
        "id": "gsF1Fmhk5JqL",
        "outputId": "5f75784c-4f3d-4fb5-d912-b71170d1b56d"
      },
      "execution_count": null,
      "outputs": [
        {
          "output_type": "stream",
          "name": "stdout",
          "text": [
            "False\n",
            "Hepsi kücük harf degil\n"
          ]
        }
      ]
    },
    {
      "cell_type": "code",
      "source": [
        "#rjust ve ljust center alternatifi olarak kullanilabilir. \n",
        "#yaziyi saga ve sola dayama kalan haneyi de kac hane istersek parantez icinde yazdigimiz sayiya bagli olarak bosluk birakma veya simge birakma "
      ],
      "metadata": {
        "id": "uYnrLEWE3ugl"
      },
      "execution_count": null,
      "outputs": []
    },
    {
      "cell_type": "markdown",
      "source": [
        "#STRING IFADELERI EDITLEME STRING......() VB\n"
      ],
      "metadata": {
        "id": "rJaEkMyxqnVJ"
      }
    },
    {
      "cell_type": "code",
      "source": [
        "text = \"                listen list.     \"\n",
        "text = text.strip()   #sagda solda bosluk varsa onlari kaldirir\n",
        "print(text)"
      ],
      "metadata": {
        "colab": {
          "base_uri": "https://localhost:8080/"
        },
        "id": "7XehfF6mquRo",
        "outputId": "0ae7355d-009c-42b2-a747-80ad70f40b68"
      },
      "execution_count": null,
      "outputs": [
        {
          "output_type": "stream",
          "name": "stdout",
          "text": [
            "listen list.\n"
          ]
        }
      ]
    },
    {
      "cell_type": "code",
      "source": [
        "text = 'www.example.com'. strip('cmzw')\n",
        "\n",
        "print(text)"
      ],
      "metadata": {
        "colab": {
          "base_uri": "https://localhost:8080/"
        },
        "id": "joLzQ_8JrKU0",
        "outputId": "24af262d-c41c-4922-be0f-901eeecf3450"
      },
      "execution_count": null,
      "outputs": [
        {
          "output_type": "stream",
          "name": "stdout",
          "text": [
            ".example.co\n"
          ]
        }
      ]
    },
    {
      "cell_type": "code",
      "source": [
        "text = 'www.example.com'. strip('wcom')\n",
        "#basta veya sonda belirtilen karakterleri görmnesi lazim\n",
        "print(text)"
      ],
      "metadata": {
        "colab": {
          "base_uri": "https://localhost:8080/"
        },
        "id": "NkCW3KMfr-9S",
        "outputId": "a7aaae14-7aea-4994-9adf-11ba52956080"
      },
      "execution_count": null,
      "outputs": [
        {
          "output_type": "stream",
          "name": "stdout",
          "text": [
            ".example.\n"
          ]
        }
      ]
    },
    {
      "cell_type": "code",
      "source": [
        "##### !!!!!!lstrip ve rstriplere bak tekrar hocanin kodundan !!!!!!!"
      ],
      "metadata": {
        "id": "RqY5R0NUsnNl"
      },
      "execution_count": null,
      "outputs": []
    },
    {
      "cell_type": "code",
      "source": [
        "text = \"interoperability\"\n",
        "new_text = text.lstrip('in')    #i, n, in, ni varsa kaldirir soldan   #!!!!!Farkli bir karakter görene kadar devam eder!!!!!\n",
        "\n",
        "print(new_text)\n"
      ],
      "metadata": {
        "id": "kY54bsaTsx1R"
      },
      "execution_count": null,
      "outputs": []
    },
    {
      "cell_type": "code",
      "source": [
        "text = 'tclarusway universty classz'\n",
        "\n",
        "new_text = text.strip('tz')\n",
        "new_text = new_text.upper()\n",
        "print(new_text[:17] + 'I' + new_text[17:])"
      ],
      "metadata": {
        "colab": {
          "base_uri": "https://localhost:8080/"
        },
        "id": "Bcd8gwqfuC1-",
        "outputId": "8451aae6-d74a-4a75-bc3b-02f1879c5ee5"
      },
      "execution_count": null,
      "outputs": [
        {
          "output_type": "stream",
          "name": "stdout",
          "text": [
            "CLARUSWAY UNIVERSITY CLASS\n"
          ]
        }
      ]
    },
    {
      "cell_type": "code",
      "source": [
        "text = \"In God wee Trust\"\n",
        "print(text[:8] + text[9:])\n"
      ],
      "metadata": {
        "colab": {
          "base_uri": "https://localhost:8080/"
        },
        "id": "rI8xyrlexEAy",
        "outputId": "bcd9cbcb-ebf9-49a1-eb88-fc61a3aee973"
      },
      "execution_count": null,
      "outputs": [
        {
          "output_type": "stream",
          "name": "stdout",
          "text": [
            "In God we Trust\n"
          ]
        }
      ]
    },
    {
      "cell_type": "code",
      "source": [
        "text = \"In God wee Trust\"\n",
        "print(text.replace('ee', 'e'))"
      ],
      "metadata": {
        "colab": {
          "base_uri": "https://localhost:8080/"
        },
        "id": "pjIGLEp9xfZJ",
        "outputId": "4958c9e8-8a10-40cb-e635-7580d2e3f349"
      },
      "execution_count": null,
      "outputs": [
        {
          "output_type": "stream",
          "name": "stdout",
          "text": [
            "In God we Trust\n"
          ]
        }
      ]
    },
    {
      "cell_type": "code",
      "source": [
        "#!!!!!!removeprefix ---- lstrip         removesuffix ---- rstrip. ama aradaki fark removesuffix(), removeprefix() icine yazacagimiz yazilari direk öyle kabul eder\n",
        "\n",
        "#örnegin removesuffix('ac') dersem ac olarak bakar\n",
        "#ama rstrip('ac') dersem a, c, ac, ca olarak bakar"
      ],
      "metadata": {
        "id": "OLzvGquq93fk"
      },
      "execution_count": null,
      "outputs": []
    },
    {
      "cell_type": "code",
      "source": [
        "text = 'whansclarusway.com'\n",
        "\n",
        "new_text = text.lstrip('hwmc')\n",
        "print(new_text)\n",
        "\n",
        "#Ayni sekilde text.removeprefiy('hwmc') yapsadik 'hwmc yi bir karakter olarak görüp sol taraf öyle baslamadigi icin atmayacakti ve cikti ayni kalacakti"
      ],
      "metadata": {
        "colab": {
          "base_uri": "https://localhost:8080/"
        },
        "id": "2ZIXK3aE7fE3",
        "outputId": "e026aceb-82a4-405d-9120-2a872c8d17cc"
      },
      "execution_count": null,
      "outputs": [
        {
          "output_type": "stream",
          "name": "stdout",
          "text": [
            "ansclarusway.com\n"
          ]
        }
      ]
    },
    {
      "cell_type": "code",
      "source": [
        "text = 'www.clarusway.com'\n",
        "print(text.rstrip('omcaw.'))\n",
        "\n",
        "#Eger burada removesuffix kullansaydik 'omcaw.'bir karakter olarak algilar ve sondan basa dogru omcaw. ile baslamadigi icin cikti ayni kalirdi.\n",
        "#removeprefix- removesuffix ile rstrip-lstrip farki bu. strip ise hem sagdan bakar hem soldan bakar"
      ],
      "metadata": {
        "colab": {
          "base_uri": "https://localhost:8080/"
        },
        "id": "iGA9pX6f8E8o",
        "outputId": "e8a54d55-751b-4040-def7-99334f055f78"
      },
      "execution_count": null,
      "outputs": [
        {
          "output_type": "stream",
          "name": "stdout",
          "text": [
            "www.clarusway\n"
          ]
        }
      ]
    },
    {
      "cell_type": "code",
      "source": [
        "text = 'TestHookTesttitan'\n",
        "\n",
        "new_text = text.removeprefix('Test')      #3.9 sürümünde calisir. stripten farki Test yazan her seri kaldirir. Ortadaki dahil\n",
        "print(new_test)"
      ],
      "metadata": {
        "colab": {
          "base_uri": "https://localhost:8080/",
          "height": 215
        },
        "id": "wihSG-Qw1s5p",
        "outputId": "b1571d00-1733-4a8f-f693-6a57b9fa334c"
      },
      "execution_count": null,
      "outputs": [
        {
          "output_type": "error",
          "ename": "AttributeError",
          "evalue": "ignored",
          "traceback": [
            "\u001b[0;31m---------------------------------------------------------------------------\u001b[0m",
            "\u001b[0;31mAttributeError\u001b[0m                            Traceback (most recent call last)",
            "\u001b[0;32m<ipython-input-79-9f84c81310ee>\u001b[0m in \u001b[0;36m<module>\u001b[0;34m()\u001b[0m\n\u001b[1;32m      1\u001b[0m \u001b[0mtext\u001b[0m \u001b[0;34m=\u001b[0m \u001b[0;34m'TestHooktitan'\u001b[0m\u001b[0;34m\u001b[0m\u001b[0;34m\u001b[0m\u001b[0m\n\u001b[1;32m      2\u001b[0m \u001b[0;34m\u001b[0m\u001b[0m\n\u001b[0;32m----> 3\u001b[0;31m \u001b[0mnew_text\u001b[0m \u001b[0;34m=\u001b[0m \u001b[0mtext\u001b[0m\u001b[0;34m.\u001b[0m\u001b[0mremoveprefix\u001b[0m\u001b[0;34m(\u001b[0m\u001b[0;34m'Test'\u001b[0m\u001b[0;34m)\u001b[0m\u001b[0;34m\u001b[0m\u001b[0;34m\u001b[0m\u001b[0m\n\u001b[0m\u001b[1;32m      4\u001b[0m \u001b[0mprint\u001b[0m\u001b[0;34m(\u001b[0m\u001b[0mnew_test\u001b[0m\u001b[0;34m)\u001b[0m\u001b[0;34m\u001b[0m\u001b[0;34m\u001b[0m\u001b[0m\n",
            "\u001b[0;31mAttributeError\u001b[0m: 'str' object has no attribute 'removeprefix'"
          ]
        }
      ]
    },
    {
      "cell_type": "code",
      "source": [
        "import sys \n",
        "print(sys.version)"
      ],
      "metadata": {
        "colab": {
          "base_uri": "https://localhost:8080/"
        },
        "id": "JcmZ3Y4A2Gsr",
        "outputId": "9f6b8168-44d9-42b3-ce50-1f5a06182937"
      },
      "execution_count": null,
      "outputs": [
        {
          "output_type": "stream",
          "name": "stdout",
          "text": [
            "3.7.13 (default, Apr 24 2022, 01:04:09) \n",
            "[GCC 7.5.0]\n"
          ]
        }
      ]
    },
    {
      "cell_type": "code",
      "source": [
        "import sys \n",
        "sürüm = sys.version.split()     #split ile ciktiyi listeye dönüstürdüm\n",
        "print(sürüm)\n",
        "\n",
        "print(\"Sizin Python sürümünüz..:\", sürüm[0])"
      ],
      "metadata": {
        "colab": {
          "base_uri": "https://localhost:8080/"
        },
        "id": "zaoXKzT32S-0",
        "outputId": "83b652d7-90e2-498a-aa1d-8b2384d529b0"
      },
      "execution_count": null,
      "outputs": [
        {
          "output_type": "stream",
          "name": "stdout",
          "text": [
            "['3.7.13', '(default,', 'Apr', '24', '2022,', '01:04:09)', '[GCC', '7.5.0]']\n",
            "Sizin Python sürümünüz..: 3.7.13\n"
          ]
        }
      ]
    },
    {
      "cell_type": "code",
      "source": [
        "print(\"xsyyzxyzxzxyy\".count('yy', 2))"
      ],
      "metadata": {
        "colab": {
          "base_uri": "https://localhost:8080/"
        },
        "id": "CJJQxFn_YskQ",
        "outputId": "9a49d72e-0244-49b3-d735-aa76a20fad65"
      },
      "execution_count": null,
      "outputs": [
        {
          "output_type": "stream",
          "name": "stdout",
          "text": [
            "2\n"
          ]
        }
      ]
    },
    {
      "cell_type": "code",
      "source": [
        "ad = input('Bir isim giriniz')\n",
        "\n",
        "sayac = 0 \n",
        "while sayac < len(ad) :\n",
        "  print(ad[sayac])\n",
        "  sayac += 1\n",
        "    "
      ],
      "metadata": {
        "colab": {
          "base_uri": "https://localhost:8080/",
          "height": 368
        },
        "id": "zjxg6KyrnNYc",
        "outputId": "d0f32f7b-33e2-475f-943a-70ae46f517ad"
      },
      "execution_count": null,
      "outputs": [
        {
          "output_type": "stream",
          "name": "stdout",
          "text": [
            "Bir isim girinizdogukan\n",
            "d\n",
            "o\n",
            "g\n",
            "u\n",
            "k\n",
            "a\n",
            "n\n"
          ]
        },
        {
          "output_type": "error",
          "ename": "IndexError",
          "evalue": "ignored",
          "traceback": [
            "\u001b[0;31m---------------------------------------------------------------------------\u001b[0m",
            "\u001b[0;31mIndexError\u001b[0m                                Traceback (most recent call last)",
            "\u001b[0;32m<ipython-input-6-b84abd787e5f>\u001b[0m in \u001b[0;36m<module>\u001b[0;34m()\u001b[0m\n\u001b[1;32m      3\u001b[0m \u001b[0msayac\u001b[0m \u001b[0;34m=\u001b[0m \u001b[0;36m0\u001b[0m\u001b[0;34m\u001b[0m\u001b[0;34m\u001b[0m\u001b[0m\n\u001b[1;32m      4\u001b[0m \u001b[0;32mwhile\u001b[0m \u001b[0msayac\u001b[0m \u001b[0;34m<=\u001b[0m \u001b[0mlen\u001b[0m\u001b[0;34m(\u001b[0m\u001b[0mad\u001b[0m\u001b[0;34m)\u001b[0m \u001b[0;34m:\u001b[0m\u001b[0;34m\u001b[0m\u001b[0;34m\u001b[0m\u001b[0m\n\u001b[0;32m----> 5\u001b[0;31m   \u001b[0mprint\u001b[0m\u001b[0;34m(\u001b[0m\u001b[0mad\u001b[0m\u001b[0;34m[\u001b[0m\u001b[0msayac\u001b[0m\u001b[0;34m]\u001b[0m\u001b[0;34m)\u001b[0m\u001b[0;34m\u001b[0m\u001b[0;34m\u001b[0m\u001b[0m\n\u001b[0m\u001b[1;32m      6\u001b[0m   \u001b[0msayac\u001b[0m \u001b[0;34m+=\u001b[0m \u001b[0;36m1\u001b[0m\u001b[0;34m\u001b[0m\u001b[0;34m\u001b[0m\u001b[0m\n\u001b[1;32m      7\u001b[0m \u001b[0;34m\u001b[0m\u001b[0m\n",
            "\u001b[0;31mIndexError\u001b[0m: string index out of range"
          ]
        }
      ]
    },
    {
      "cell_type": "markdown",
      "source": [
        "#COLLECTION TYPES LISTS OLUSTURMA"
      ],
      "metadata": {
        "id": "T2flXg01-Bzc"
      }
    },
    {
      "cell_type": "code",
      "source": [
        "list1 = ['meyve', 6, 'Dogukan', 3.14, False, None]    #Icinde bütün veri tiplerini barindirabilir. Array ile farki budur\n",
        "\n",
        "print(list1)"
      ],
      "metadata": {
        "colab": {
          "base_uri": "https://localhost:8080/"
        },
        "id": "8OAVIlIk-Gwd",
        "outputId": "3411374a-f36b-4973-990a-b8e449ad29b7"
      },
      "execution_count": null,
      "outputs": [
        {
          "output_type": "stream",
          "name": "stdout",
          "text": [
            "['meyve', '6', 'Dogukan']\n"
          ]
        }
      ]
    },
    {
      "cell_type": "code",
      "source": [
        "animals = ['elephant', 'bear', 'fox', 'wolf', 'rabbit', 'deer', 'giraffe']\n",
        "print(animals[3:6]) #Direk liste halinde alir.\n",
        "print(*animals[3:6])  #Listeyi acarak elemanlari alir-"
      ],
      "metadata": {
        "colab": {
          "base_uri": "https://localhost:8080/"
        },
        "id": "OQFELRWLK1DX",
        "outputId": "f25a016d-d2b3-4c2d-98ab-ed2884761223"
      },
      "execution_count": null,
      "outputs": [
        {
          "output_type": "stream",
          "name": "stdout",
          "text": [
            "['wolf', 'rabbit', 'deer']\n",
            "wolf rabbit deer\n"
          ]
        }
      ]
    },
    {
      "cell_type": "code",
      "source": [
        "list_1 = ['h', 'a', 'p', 'p', 'y']\n",
        "word = 'happy'\n",
        "\n",
        "list_2 = list(word)   #Ayni ciktiyi verecek\n",
        "\n",
        "print(list_1)\n",
        "print(list_2)"
      ],
      "metadata": {
        "colab": {
          "base_uri": "https://localhost:8080/"
        },
        "id": "PR8_81VnAPFV",
        "outputId": "92f8818c-c51c-48bc-b73d-fb582df6ab15"
      },
      "execution_count": null,
      "outputs": [
        {
          "output_type": "stream",
          "name": "stdout",
          "text": [
            "['h', 'a', 'p', 'p', 'y']\n",
            "['h', 'a', 'p', 'p', 'y']\n"
          ]
        }
      ]
    },
    {
      "cell_type": "code",
      "source": [
        "string_1 = 'I quit smoking'\n",
        "\n",
        "new_list_1 = list(string_1)  #Bosluk dahil bütün karakterleri liste icinde tek tek olusturur.\n",
        "print(new_list_1)\n",
        "\n",
        "new_list_2 = [string_1] #Direk cümleyi tek bir liste elemani olarak alir \n",
        "\n",
        "print(new_list_2)\n"
      ],
      "metadata": {
        "colab": {
          "base_uri": "https://localhost:8080/"
        },
        "id": "1qdBF6weApEO",
        "outputId": "267d1376-1924-4eb6-9269-64a34485da59"
      },
      "execution_count": null,
      "outputs": [
        {
          "output_type": "stream",
          "name": "stdout",
          "text": [
            "['I', ' ', 'q', 'u', 'i', 't', ' ', 's', 'm', 'o', 'k', 'i', 'n', 'g']\n",
            "['I quit smoking']\n"
          ]
        }
      ]
    },
    {
      "cell_type": "code",
      "source": [
        "print(len(new_list_1))\n",
        "print(len(new_list_2))"
      ],
      "metadata": {
        "colab": {
          "base_uri": "https://localhost:8080/"
        },
        "id": "_HW34MK-Cw8N",
        "outputId": "b4013be7-ba40-4022-e4cd-f08709afc331"
      },
      "execution_count": null,
      "outputs": [
        {
          "output_type": "stream",
          "name": "stdout",
          "text": [
            "14\n",
            "1\n"
          ]
        }
      ]
    },
    {
      "cell_type": "code",
      "source": [
        "mix_list = [11, 'sinif', 3.12, True, None, [1,2, 'cümle']]    #Liste icinde liste olusturabilirim\n",
        "\n",
        "print(type(mix_list[4]))\n",
        "print(type(mix_list[3]))\n",
        "print(type(mix_list[5]))"
      ],
      "metadata": {
        "colab": {
          "base_uri": "https://localhost:8080/"
        },
        "id": "eFKFSfcUDB4C",
        "outputId": "49d7ba52-9006-48b6-8326-d1a15ae069d6"
      },
      "execution_count": null,
      "outputs": [
        {
          "output_type": "stream",
          "name": "stdout",
          "text": [
            "<class 'NoneType'>\n",
            "<class 'bool'>\n",
            "<class 'list'>\n"
          ]
        }
      ]
    },
    {
      "cell_type": "code",
      "source": [
        "my_list = [\"Joseph\", \"Clarusway\", 2020]\n",
        "new_list1 = list(my_list)\n",
        "new_list2 = [my_list]\n",
        "\n",
        "print(new_list1)\n",
        "print(len(new_list1))\n",
        "\n",
        "print(new_list2)        #!!!!!!!Bu cikti Önemli !!!!!!\n",
        "print(len(new_list2))     "
      ],
      "metadata": {
        "colab": {
          "base_uri": "https://localhost:8080/"
        },
        "id": "RkrGAc73D5cH",
        "outputId": "67fe402e-575d-411b-d815-ba3bf240a6fe"
      },
      "execution_count": null,
      "outputs": [
        {
          "output_type": "stream",
          "name": "stdout",
          "text": [
            "['Joseph', 'Clarusway', 2020]\n",
            "3\n",
            "[['Joseph', 'Clarusway', 2020]]\n",
            "1\n"
          ]
        }
      ]
    },
    {
      "cell_type": "code",
      "source": [
        "string1 = \"2020's hard\"\n",
        "new_list = list(string1)\n",
        "\n",
        "new_list2 = [string1]\n",
        "\n",
        "print(new_list)\n",
        "\n",
        "print(new_list2)"
      ],
      "metadata": {
        "colab": {
          "base_uri": "https://localhost:8080/"
        },
        "id": "SbnX1jvDE9t2",
        "outputId": "27c92f5f-8595-4be8-dd7c-09c93211bb85"
      },
      "execution_count": null,
      "outputs": [
        {
          "output_type": "stream",
          "name": "stdout",
          "text": [
            "['2', '0', '2', '0', \"'\", 's', ' ', 'h', 'a', 'r', 'd']\n",
            "[\"2020's hard\"]\n"
          ]
        }
      ]
    },
    {
      "cell_type": "markdown",
      "source": [
        "#BASIC OPERATIONS WITH LIST(YENI ELEMAN EKLEME- CIKARMA VB)\n",
        "\n",
        "1.   .append\n",
        "2.   .insert\n",
        "3.   .remove .pop .clear ve del ....(pop komutunda hangi elemani sildigimizi de gösterebiliyoruz.)\n",
        "4.   .sort\n",
        "\n",
        "Bu komutta islemleri direk print icinde yaparsak none sonucu verir cünkü in place calisiyor !!!!!! ÖNEMLI\n",
        "\n"
      ],
      "metadata": {
        "id": "5i82zS3VLBE-"
      }
    },
    {
      "cell_type": "markdown",
      "source": [
        "#Listenin En sonuna Ekleme (append komutu)\n",
        "\n"
      ],
      "metadata": {
        "id": "gNZPud-wLs8j"
      }
    },
    {
      "cell_type": "code",
      "source": [
        "numbers = [1, 4, 7]\n",
        "numbers.append(9)\n",
        "print(numbers)\n",
        "\n",
        "numbers.append('Ahmet')\n",
        "print(numbers)\n",
        "#VEYA\n",
        "\n",
        "numbers[len(numbers):] = [11]\n",
        "print(numbers)"
      ],
      "metadata": {
        "colab": {
          "base_uri": "https://localhost:8080/"
        },
        "id": "T7uXE0epLGCr",
        "outputId": "c8e3ddd1-c4c7-4455-928f-e9bdd9cc12b1"
      },
      "execution_count": null,
      "outputs": [
        {
          "output_type": "stream",
          "name": "stdout",
          "text": [
            "[1, 4, 7, 9]\n",
            "[1, 4, 7, 9, 'Ahmet']\n",
            "[1, 4, 7, 9, 'Ahmet', 11]\n"
          ]
        }
      ]
    },
    {
      "cell_type": "markdown",
      "source": [
        ""
      ],
      "metadata": {
        "id": "sMVa5ozCLyZX"
      }
    },
    {
      "cell_type": "code",
      "source": [
        "liste = []\n",
        "n = 1\n",
        "while n <= 4 :\n",
        "  liste.append(n)\n",
        "  n += 1\n",
        "  print(liste)\n",
        "\n",
        "#Veya\n",
        "\n",
        "liste = list(range(1,5))\n",
        "print(liste, '---------->range komutu kullanarak yapma')"
      ],
      "metadata": {
        "colab": {
          "base_uri": "https://localhost:8080/"
        },
        "id": "pbHBtVenNTRw",
        "outputId": "017addcd-c1a6-4d29-c3b8-be2554682be9"
      },
      "execution_count": null,
      "outputs": [
        {
          "output_type": "stream",
          "name": "stdout",
          "text": [
            "[1]\n",
            "[1, 2]\n",
            "[1, 2, 3]\n",
            "[1, 2, 3, 4]\n",
            "[1, 2, 3, 4]\n",
            "[1, 2, 3, 4] ---------->range komutu kullanarak yapma\n"
          ]
        }
      ]
    },
    {
      "cell_type": "code",
      "source": [
        "liste1 = [1, 2, 3, 4]\n",
        "liste2 = [5, 6, 7, 8]\n",
        "\n",
        "liste1.append(liste2)\n",
        "print(liste1)\n",
        "\n",
        "liste_yeni = liste1.append(liste2)    #Böyle yapinca none verir. Yeni atamadan yapicaz\n",
        "print(liste_yeni)"
      ],
      "metadata": {
        "colab": {
          "base_uri": "https://localhost:8080/"
        },
        "id": "KYu5B2ihQvf-",
        "outputId": "1314b2c2-6ed9-4203-ddbf-e5979d11bd06"
      },
      "execution_count": null,
      "outputs": [
        {
          "output_type": "stream",
          "name": "stdout",
          "text": [
            "[1, 2, 3, 4, [5, 6, 7, 8]]\n",
            "None\n"
          ]
        }
      ]
    },
    {
      "cell_type": "markdown",
      "source": [
        "#Listenin istedigimiz yerine ekleme (insert komutu)"
      ],
      "metadata": {
        "id": "xjZN6sckL1hU"
      }
    },
    {
      "cell_type": "code",
      "source": [
        "sayilar = [13, 27, 99]\n",
        "\n",
        "sayilar.insert(0, 'Ali')  #0. indise 'Ali' elemanini ekle\n",
        "\n",
        "print(sayilar)"
      ],
      "metadata": {
        "colab": {
          "base_uri": "https://localhost:8080/"
        },
        "id": "fSXBlivkL5d_",
        "outputId": "d03a25ca-05ed-46b3-8bfa-afb49dd34d2a"
      },
      "execution_count": null,
      "outputs": [
        {
          "output_type": "stream",
          "name": "stdout",
          "text": [
            "['Ali', 13, 27, 99]\n"
          ]
        }
      ]
    },
    {
      "cell_type": "code",
      "source": [
        "liste_1 = ['Ali', ' Mehmet', 34]\n",
        "\n",
        "liste_1.insert(2, ['Veli'])   #Ikinci indisteki eleman ['veli'] olacak anlamina gelmektedir. Digerlerini saga dogru iteler.\n",
        "print(liste_1)"
      ],
      "metadata": {
        "colab": {
          "base_uri": "https://localhost:8080/"
        },
        "id": "CYmAiGhsMUhR",
        "outputId": "a95f5ad8-d5a6-4703-c2c7-e7e0dfbaaf3f"
      },
      "execution_count": null,
      "outputs": [
        {
          "output_type": "stream",
          "name": "stdout",
          "text": [
            "['Ali', ' Mehmet', ['Veli'], 34]\n"
          ]
        }
      ]
    },
    {
      "cell_type": "code",
      "source": [
        "liste = []\n",
        "\n",
        "liste = list(range(1,5))\n",
        "print(liste)\n",
        "\n",
        "liste.insert(4, 5)\n",
        "\n",
        "print(liste)"
      ],
      "metadata": {
        "colab": {
          "base_uri": "https://localhost:8080/"
        },
        "id": "dxZI8dxFPiCB",
        "outputId": "c7c9d39e-07c9-46ab-fb5b-67cb1fd1875d"
      },
      "execution_count": null,
      "outputs": [
        {
          "output_type": "stream",
          "name": "stdout",
          "text": [
            "[1, 2, 3, 4]\n",
            "[1, 2, 3, 4, 5]\n"
          ]
        }
      ]
    },
    {
      "cell_type": "markdown",
      "source": [
        "#Listeden Eleman Silmek Icin (remove komutu , pop komutu , clear komutu ve del komutu\n",
        "\n",
        "\n"
      ],
      "metadata": {
        "id": "yfo55T5_QlYm"
      }
    },
    {
      "cell_type": "code",
      "source": [
        "numbers = [1, 4, 7, 9]\n",
        "\n",
        "numbers.remove(7) #Burdaki 7 indis degil direk elemanin kendi degeridir. \n",
        "#Remove komutu kullanmak istersek bu sekilde direk silmek istedigimiz elemanin kendisini yazariz.\n",
        "\n",
        "print(numbers)\n"
      ],
      "metadata": {
        "colab": {
          "base_uri": "https://localhost:8080/"
        },
        "id": "H1EwJ2VYR8Ai",
        "outputId": "2ab5deb7-f15b-4a27-c6b2-47f0ad89327c"
      },
      "execution_count": null,
      "outputs": [
        {
          "output_type": "stream",
          "name": "stdout",
          "text": [
            "[1, 4, 9]\n"
          ]
        }
      ]
    },
    {
      "cell_type": "code",
      "source": [
        "numbers =[1, 4, 7, 9]\n",
        "\n",
        "numbers.pop(2)  #Burda removedan farkli olarak indisi gireriz. 2. indisteki eleman 7 oldugu icin 7 yi siler\n",
        "\n",
        "print(numbers)"
      ],
      "metadata": {
        "colab": {
          "base_uri": "https://localhost:8080/"
        },
        "id": "Ihk1Y-G0SZfy",
        "outputId": "30876384-135e-4d64-849a-a66c1e071abf"
      },
      "execution_count": null,
      "outputs": [
        {
          "output_type": "stream",
          "name": "stdout",
          "text": [
            "[1, 4, 9]\n"
          ]
        }
      ]
    },
    {
      "cell_type": "code",
      "source": [
        "numbers =[1, 4, 7, 9]\n",
        "\n",
        "print(numbers.pop(3))   #Bu komutla hangi elemani sildigimizi cikti olarak aliriz\n",
        "\n",
        "numbers.pop(2)\n",
        "print(numbers)"
      ],
      "metadata": {
        "colab": {
          "base_uri": "https://localhost:8080/"
        },
        "id": "1UaDe4S1TqJB",
        "outputId": "38a38ef8-29aa-4aab-b98e-9ffeb1c9e770"
      },
      "execution_count": null,
      "outputs": [
        {
          "output_type": "stream",
          "name": "stdout",
          "text": [
            "9\n",
            "[1, 4]\n"
          ]
        }
      ]
    },
    {
      "cell_type": "code",
      "source": [
        "numbers =[1, 4, 7, 9]\n",
        "\n",
        "numbers.clear()   #Bütün listeyi siler\n",
        "\n",
        "print(numbers)"
      ],
      "metadata": {
        "colab": {
          "base_uri": "https://localhost:8080/"
        },
        "id": "hS-1UyAVSh0s",
        "outputId": "ed1811ae-58a4-45dc-dcbb-712862ec3832"
      },
      "execution_count": null,
      "outputs": [
        {
          "output_type": "stream",
          "name": "stdout",
          "text": [
            "[]\n"
          ]
        }
      ]
    },
    {
      "cell_type": "code",
      "source": [
        "numbers =[1, 4, 7, 9]\n",
        "\n",
        "del numbers[2]    #Yine ikinci indisteki elemani del komutuyla böyle silebiliriz\n",
        "\n",
        "print(numbers)"
      ],
      "metadata": {
        "colab": {
          "base_uri": "https://localhost:8080/"
        },
        "id": "apB1SCwYSsI3",
        "outputId": "c224ee6f-4615-4cad-a800-b5251ec957e9"
      },
      "execution_count": null,
      "outputs": [
        {
          "output_type": "stream",
          "name": "stdout",
          "text": [
            "[1, 4, 9]\n"
          ]
        }
      ]
    },
    {
      "cell_type": "code",
      "source": [
        "numbers =[1, 4, 7, 9]\n",
        "\n",
        "del numbers[:]  #listenin tamamini clear komutundan farkli olarak böyle silebiliriz.\n",
        "\n",
        "print(numbers)"
      ],
      "metadata": {
        "colab": {
          "base_uri": "https://localhost:8080/"
        },
        "id": "mQAKYlrsS0Gu",
        "outputId": "070222bd-8cd7-4ac0-d2c1-93d3cb2f4fd3"
      },
      "execution_count": null,
      "outputs": [
        {
          "output_type": "stream",
          "name": "stdout",
          "text": [
            "[]\n"
          ]
        }
      ]
    },
    {
      "cell_type": "markdown",
      "source": [
        "# .sort Komutuyla Listenin Icindeki Elemanlari Siralama"
      ],
      "metadata": {
        "id": "3Zr1JgzSUWpd"
      }
    },
    {
      "cell_type": "code",
      "source": [
        "numbers = [5, 7, 1, 13, 9]\n",
        "\n",
        "numbers.sort()\n",
        "\n",
        "print(numbers)"
      ],
      "metadata": {
        "colab": {
          "base_uri": "https://localhost:8080/"
        },
        "id": "CQhx85v0UZ0w",
        "outputId": "81be7782-21ae-4626-b726-a18a0da04825"
      },
      "execution_count": null,
      "outputs": [
        {
          "output_type": "stream",
          "name": "stdout",
          "text": [
            "[1, 5, 7, 9, 13]\n"
          ]
        }
      ]
    },
    {
      "cell_type": "code",
      "source": [
        "numbers = [5, 7, 1, 13, 9]\n",
        "\n",
        "numbers.sort(reverse = True)    #Tersten siralamak icin reverse = True Komutu kullanilir\n",
        "print(numbers)"
      ],
      "metadata": {
        "colab": {
          "base_uri": "https://localhost:8080/"
        },
        "id": "MhuAssSRXVnI",
        "outputId": "94d4738d-86ba-411c-f130-acf98229e8df"
      },
      "execution_count": null,
      "outputs": [
        {
          "output_type": "stream",
          "name": "stdout",
          "text": [
            "[13, 9, 7, 5, 1]\n"
          ]
        }
      ]
    },
    {
      "cell_type": "code",
      "source": [
        "listem = ['Meryem', 'veli', 'mehmet', 'Cihangir', ' ahmet']\n",
        "listem.sort()\n",
        "print(listem)\n",
        "print(listem.sort())\n",
        "\n",
        "\n"
      ],
      "metadata": {
        "colab": {
          "base_uri": "https://localhost:8080/"
        },
        "id": "aQZQh_YqXiuz",
        "outputId": "fa5d1cdb-45b0-48c6-c705-aed84f85c809"
      },
      "execution_count": null,
      "outputs": [
        {
          "output_type": "stream",
          "name": "stdout",
          "text": [
            "[' ahmet', 'Cihangir', 'Meryem', 'mehmet', 'veli']\n",
            "None\n",
            "[' ahmet', 'Cihangir', 'Meryem', 'mehmet', 'veli']\n"
          ]
        }
      ]
    },
    {
      "cell_type": "code",
      "source": [
        "listem = [3, 15, 8, 9]\n",
        "print(sorted(listem))\n",
        " ## !!!!!!!!!!Bu komut aynada degisiklik yapacagi icin calistirir. \n",
        "#Ama daha sonra print(listem) yaparsam eski listeiyi verir. Cünkü bu komutta orijinal liste degistirilmez. Kopyasi degistirilir\n",
        "#Bundan dolayi sort, append ... komutlari print icinde calismaz. ve kalici degisiklik yapar!!!!!!!!!!\n",
        "\n",
        "print(listem)"
      ],
      "metadata": {
        "colab": {
          "base_uri": "https://localhost:8080/"
        },
        "id": "G557dndvaI2l",
        "outputId": "9085cf56-9139-40c4-f967-a127fd662c20"
      },
      "execution_count": null,
      "outputs": [
        {
          "output_type": "stream",
          "name": "stdout",
          "text": [
            "[3, 8, 9, 15]\n",
            "[3, 15, 8, 9]\n"
          ]
        }
      ]
    },
    {
      "cell_type": "code",
      "source": [
        "L1 = ['one', 'four', 'nine']\n",
        "L2 = ['*-', '@', 'False', \"#1\"]  #ASCII code table sırasına bakarak sıralar\n",
        "L3 = [True, False]  #False:0, True:1\n",
        "L4 = [[3], [44], [-12]]\n"
      ],
      "metadata": {
        "id": "USk38wy9b3uF"
      },
      "execution_count": null,
      "outputs": []
    },
    {
      "cell_type": "code",
      "source": [
        "L1.sort()\n",
        "print(L1)"
      ],
      "metadata": {
        "colab": {
          "base_uri": "https://localhost:8080/"
        },
        "id": "fO7zfTOlcFuR",
        "outputId": "14fbe45f-60fe-41b7-f72d-4ac73e87b730"
      },
      "execution_count": null,
      "outputs": [
        {
          "output_type": "stream",
          "name": "stdout",
          "text": [
            "['four', 'nine', 'one']\n"
          ]
        }
      ]
    },
    {
      "cell_type": "code",
      "source": [
        "L2.sort()\n",
        "print(L2)"
      ],
      "metadata": {
        "colab": {
          "base_uri": "https://localhost:8080/"
        },
        "id": "C3OmNDCIcHBS",
        "outputId": "9fbc2d7e-6468-4acd-e72f-12be3d25dc82"
      },
      "execution_count": null,
      "outputs": [
        {
          "output_type": "stream",
          "name": "stdout",
          "text": [
            "['#1', '*-', '@', 'False']\n"
          ]
        }
      ]
    },
    {
      "cell_type": "code",
      "source": [
        "L3.sort()\n",
        "print(L3)"
      ],
      "metadata": {
        "colab": {
          "base_uri": "https://localhost:8080/"
        },
        "id": "v947AF-BcJbI",
        "outputId": "adff0c1e-afbc-4bc2-b9af-f79bb0984a1c"
      },
      "execution_count": null,
      "outputs": [
        {
          "output_type": "stream",
          "name": "stdout",
          "text": [
            "[False, True]\n"
          ]
        }
      ]
    },
    {
      "cell_type": "code",
      "source": [
        "L3.sort()\n",
        "print(L4)"
      ],
      "metadata": {
        "colab": {
          "base_uri": "https://localhost:8080/"
        },
        "id": "iNaO_mhscMMh",
        "outputId": "26579522-a25a-4f4c-c32e-a7ff81d997fc"
      },
      "execution_count": null,
      "outputs": [
        {
          "output_type": "stream",
          "name": "stdout",
          "text": [
            "[[3], [44], [-12]]\n"
          ]
        }
      ]
    },
    {
      "cell_type": "markdown",
      "source": [
        "#count Methodu ile listedeki belli elemandan kac adet oldugunu bulma"
      ],
      "metadata": {
        "id": "-YkXJtxucPaM"
      }
    },
    {
      "cell_type": "code",
      "source": [
        "text = ' one four nine'\n",
        "listem = list(text)\n",
        "print(listem)\n",
        "print(listem.count('o'))    #listedeki o larin sayisini verir"
      ],
      "metadata": {
        "colab": {
          "base_uri": "https://localhost:8080/"
        },
        "id": "lp4DEHmjcUCA",
        "outputId": "8d8564eb-2844-491b-febd-9b81121b4b67"
      },
      "execution_count": null,
      "outputs": [
        {
          "output_type": "stream",
          "name": "stdout",
          "text": [
            "[' ', 'o', 'n', 'e', ' ', 'f', 'o', 'u', 'r', ' ', 'n', 'i', 'n', 'e']\n",
            "2\n"
          ]
        }
      ]
    },
    {
      "cell_type": "markdown",
      "source": [
        "#Listeye dönüstürdügüm metni tekrar eski haline \"join\" methodu ile cevirme"
      ],
      "metadata": {
        "id": "67T2dhoddJ0p"
      }
    },
    {
      "cell_type": "code",
      "source": [
        "text = ' one four nine'\n",
        "listem = list(text)\n",
        "print(listem)\n",
        "text2 = ''.join(listem)\n",
        "print(text2)"
      ],
      "metadata": {
        "colab": {
          "base_uri": "https://localhost:8080/"
        },
        "id": "M_YXy8B4coSn",
        "outputId": "eb15604f-a844-4a8d-fceb-1a4f51924b15"
      },
      "execution_count": null,
      "outputs": [
        {
          "output_type": "stream",
          "name": "stdout",
          "text": [
            "[' ', 'o', 'n', 'e', ' ', 'f', 'o', 'u', 'r', ' ', 'n', 'i', 'n', 'e']\n",
            " one four nine\n"
          ]
        }
      ]
    },
    {
      "cell_type": "markdown",
      "source": [
        "reverse metodu ile tersten siralama"
      ],
      "metadata": {
        "id": "wxhSxU0xeeYq"
      }
    },
    {
      "cell_type": "code",
      "source": [
        "fruits = ['orange', 'apple', 'kiwi', 'pear', 'banana']\n",
        "\n",
        "fruits.reverse()\n",
        "print(fruits)"
      ],
      "metadata": {
        "colab": {
          "base_uri": "https://localhost:8080/"
        },
        "id": "rflYWK7Id95f",
        "outputId": "c8113b96-0552-4124-a682-c778946405e0"
      },
      "execution_count": null,
      "outputs": [
        {
          "output_type": "stream",
          "name": "stdout",
          "text": [
            "['banana', 'pear', 'kiwi', 'apple', 'orange']\n"
          ]
        }
      ]
    },
    {
      "cell_type": "markdown",
      "source": [
        "#coppy methodu"
      ],
      "metadata": {
        "id": "8NbMft-_ecaY"
      }
    },
    {
      "cell_type": "code",
      "source": [
        "fruits = ['orange', 'apple', 'kiwi', 'pear', 'banana']\n",
        "\n",
        "meyve = fruits.copy()\n",
        "\n",
        "print(meyve)\n",
        "\n",
        "#veya \n",
        "\n",
        "meyve1 = fruits[:]\n",
        "\n",
        "print(meyve1)"
      ],
      "metadata": {
        "colab": {
          "base_uri": "https://localhost:8080/"
        },
        "id": "XyWIh0vNeN-V",
        "outputId": "040ca4e9-4861-42a6-b52f-9a7dce7857a9"
      },
      "execution_count": null,
      "outputs": [
        {
          "output_type": "stream",
          "name": "stdout",
          "text": [
            "['orange', 'apple', 'kiwi', 'pear', 'banana']\n",
            "['orange', 'apple', 'kiwi', 'pear', 'banana']\n"
          ]
        }
      ]
    },
    {
      "cell_type": "markdown",
      "source": [
        "#index() Mehodu"
      ],
      "metadata": {
        "id": "rCApp8OAe6VA"
      }
    },
    {
      "cell_type": "code",
      "source": [
        "fruits = ['orange', 'apple', 'kiwi', 'pear', 'banana', 'apple']\n",
        "\n",
        "app_indis = fruits.index(\"apple\")\n",
        "print(app_indis)\n",
        "\n",
        "app_indis2 = fruits.index(\"apple\", 2) #2. indisten sonraki 'apple' kacinci indiste\n",
        "print(app_indis2)"
      ],
      "metadata": {
        "colab": {
          "base_uri": "https://localhost:8080/"
        },
        "id": "TIC86rSHe9tp",
        "outputId": "06271d48-cccf-4573-f8ba-26397b54a9d3"
      },
      "execution_count": null,
      "outputs": [
        {
          "output_type": "stream",
          "name": "stdout",
          "text": [
            "1\n",
            "5\n"
          ]
        }
      ]
    },
    {
      "cell_type": "markdown",
      "source": [
        "#reverse() Methodu"
      ],
      "metadata": {
        "id": "EQZRxrFaguEl"
      }
    },
    {
      "cell_type": "code",
      "source": [
        "a = list(range(0,10))\n",
        "print(a)\n",
        "\n",
        "b = a.copy()\n",
        "\n",
        "print(b)\n",
        "b.reverse()\n",
        "print(b)\n",
        "print(a)\n",
        "\n",
        "c = a[::-1]\n",
        "print(c)"
      ],
      "metadata": {
        "colab": {
          "base_uri": "https://localhost:8080/"
        },
        "id": "wFkMEV4_fqYL",
        "outputId": "64133a47-78f5-42fa-e4e2-f82c2c6ffb37"
      },
      "execution_count": null,
      "outputs": [
        {
          "output_type": "stream",
          "name": "stdout",
          "text": [
            "[0, 1, 2, 3, 4, 5, 6, 7, 8, 9]\n",
            "[0, 1, 2, 3, 4, 5, 6, 7, 8, 9]\n",
            "[9, 8, 7, 6, 5, 4, 3, 2, 1, 0]\n",
            "[0, 1, 2, 3, 4, 5, 6, 7, 8, 9]\n",
            "[9, 8, 7, 6, 5, 4, 3, 2, 1, 0]\n"
          ]
        }
      ]
    },
    {
      "cell_type": "markdown",
      "source": [
        "#FORMAT METODU ILE SAGA SOLA VEYA MERKEZE YERLESTIRME"
      ],
      "metadata": {
        "id": "ZYC0IYevq8vM"
      }
    },
    {
      "cell_type": "code",
      "source": [
        "'{:<30s}'.format('sola yasladim')\n",
        "\n",
        "#veya\n",
        " \n"
      ],
      "metadata": {
        "colab": {
          "base_uri": "https://localhost:8080/",
          "height": 37
        },
        "id": "coCGg8ctp6W-",
        "outputId": "93fd6410-879e-4a97-e0a9-363f21c9a811"
      },
      "execution_count": null,
      "outputs": [
        {
          "output_type": "execute_result",
          "data": {
            "text/plain": [
              "'sola yasladim                 '"
            ],
            "application/vnd.google.colaboratory.intrinsic+json": {
              "type": "string"
            }
          },
          "metadata": {},
          "execution_count": 111
        }
      ]
    },
    {
      "cell_type": "code",
      "source": [
        "format('sola yasladim', '<30')"
      ],
      "metadata": {
        "colab": {
          "base_uri": "https://localhost:8080/",
          "height": 37
        },
        "id": "UGP3fvrOqEOe",
        "outputId": "1564af46-0bd5-40f1-cae2-0daabde68c2f"
      },
      "execution_count": null,
      "outputs": [
        {
          "output_type": "execute_result",
          "data": {
            "text/plain": [
              "'sola yasladim                 '"
            ],
            "application/vnd.google.colaboratory.intrinsic+json": {
              "type": "string"
            }
          },
          "metadata": {},
          "execution_count": 109
        }
      ]
    },
    {
      "cell_type": "code",
      "source": [
        "'{:->30}' .format('saga yasladim') #Aradaki bosluklara - isareti koydurdum.\n",
        "\n",
        "#veya\n",
        "\n"
      ],
      "metadata": {
        "colab": {
          "base_uri": "https://localhost:8080/",
          "height": 37
        },
        "id": "upXuN3ZNqWnw",
        "outputId": "0aa843fb-20a1-4580-89a2-3260378a7c18"
      },
      "execution_count": null,
      "outputs": [
        {
          "output_type": "execute_result",
          "data": {
            "text/plain": [
              "'-----------------saga yasladim'"
            ],
            "application/vnd.google.colaboratory.intrinsic+json": {
              "type": "string"
            }
          },
          "metadata": {},
          "execution_count": 119
        }
      ]
    },
    {
      "cell_type": "code",
      "source": [
        "format('saga yasladim', '>30s')"
      ],
      "metadata": {
        "colab": {
          "base_uri": "https://localhost:8080/",
          "height": 37
        },
        "id": "p4N_Dae4qe6E",
        "outputId": "319918b4-3f32-418b-9b55-d4363e170bb8"
      },
      "execution_count": null,
      "outputs": [
        {
          "output_type": "execute_result",
          "data": {
            "text/plain": [
              "'                 saga yasladim'"
            ],
            "application/vnd.google.colaboratory.intrinsic+json": {
              "type": "string"
            }
          },
          "metadata": {},
          "execution_count": 113
        }
      ]
    },
    {
      "cell_type": "code",
      "source": [
        "'{:^30}' .format('merkeze yerlestirdim')\n",
        "\n",
        "#veya \n",
        "\n"
      ],
      "metadata": {
        "colab": {
          "base_uri": "https://localhost:8080/",
          "height": 37
        },
        "id": "vrgUVexMqkpN",
        "outputId": "5d08b4b0-707c-4454-cc4b-93e15661f150"
      },
      "execution_count": null,
      "outputs": [
        {
          "output_type": "execute_result",
          "data": {
            "text/plain": [
              "'     merkeze yerlestirdim     '"
            ],
            "application/vnd.google.colaboratory.intrinsic+json": {
              "type": "string"
            }
          },
          "metadata": {},
          "execution_count": 118
        }
      ]
    },
    {
      "cell_type": "code",
      "source": [
        "format('merkeze yerlestirdim', '$^30')"
      ],
      "metadata": {
        "colab": {
          "base_uri": "https://localhost:8080/",
          "height": 37
        },
        "id": "mHH6QCNgqtjN",
        "outputId": "99244f33-223d-49ef-e70b-7a02d4e3c81e"
      },
      "execution_count": null,
      "outputs": [
        {
          "output_type": "execute_result",
          "data": {
            "text/plain": [
              "'$$$$$merkeze yerlestirdim$$$$$'"
            ],
            "application/vnd.google.colaboratory.intrinsic+json": {
              "type": "string"
            }
          },
          "metadata": {},
          "execution_count": 116
        }
      ]
    },
    {
      "cell_type": "code",
      "source": [
        "a = input('dosya ismini giriniz')\n",
        "\n",
        "nokta_indis = a.find('.')\n",
        "print('Noktanin konumu: ', nokta_indis)\n",
        "\n",
        "uzanti = a[nokta_indis+1:]\n",
        "\n",
        "print(\"Dosyanin uzantisi=\", uzanti)\n",
        "\n",
        "if uzanti == 'py' :\n",
        "  print(\"Bu dosya bir python dosyasidir\")\n",
        "\n",
        "else :\n",
        "  print(\"Bu bir Python dosyasi degildir\")\n",
        "\n"
      ],
      "metadata": {
        "colab": {
          "base_uri": "https://localhost:8080/"
        },
        "id": "nEKbAuGkrDpW",
        "outputId": "2dc41958-96e5-4993-b1ee-5acfc4460162"
      },
      "execution_count": null,
      "outputs": [
        {
          "output_type": "stream",
          "name": "stdout",
          "text": [
            "dosya ismini girinizasdasd.yyy\n",
            "Noktanin konumu:  6\n",
            "Dosyanin uzantisi= yyy\n",
            "Bu bir Python dosyasi degildir\n"
          ]
        }
      ]
    },
    {
      "cell_type": "code",
      "source": [
        "dosya = 'dosyam.ipynb'\n",
        "\n",
        "uzanti1 = dosya.endswith('ipynb')\n",
        "uzanti2 = dosya.endswith('py')\n",
        "\n",
        "print(uzanti2)\n",
        "print((uzanti1 == True or uzanti2 == True) and \"Python dosyasi\" or \"Python dosyasi degildir\")\n",
        "print((uzanti1 or uzanti2 ) and \"Python dosyasi\" or \"Python dosyasi degildir\")"
      ],
      "metadata": {
        "colab": {
          "base_uri": "https://localhost:8080/"
        },
        "id": "935LnveYs1CE",
        "outputId": "e5c552a2-56d2-41c6-828d-25af3d7f1789"
      },
      "execution_count": null,
      "outputs": [
        {
          "output_type": "stream",
          "name": "stdout",
          "text": [
            "False\n",
            "Python dosyasi\n",
            "Python dosyasi\n"
          ]
        }
      ]
    },
    {
      "cell_type": "markdown",
      "source": [
        "#split() methodu ile istedigimiz karakter arasindaki karakterleri listeleme metodu"
      ],
      "metadata": {
        "id": "6r5qDNDEpWNf"
      }
    },
    {
      "cell_type": "code",
      "source": [
        "text = 'Ali ve Mehmet okuldan geldiler, pizza almaya gittiler'\n",
        "print(text.split('a'))\n"
      ],
      "metadata": {
        "colab": {
          "base_uri": "https://localhost:8080/"
        },
        "id": "Y8__eZx9ozng",
        "outputId": "b8318454-c192-4c85-fcd1-f4258feff153"
      },
      "execution_count": null,
      "outputs": [
        {
          "output_type": "stream",
          "name": "stdout",
          "text": [
            "['Ali ve Mehmet okuld', 'n geldiler, pizz', ' ', 'lm', 'y', ' gittiler']\n"
          ]
        }
      ]
    },
    {
      "cell_type": "code",
      "source": [
        "text = 'Ali ve Mehmet okuldan geldiler, pizza almaya gittiler'\n",
        "\n",
        "new_text = text.split(',')\n",
        "\n",
        "print(new_text)"
      ],
      "metadata": {
        "colab": {
          "base_uri": "https://localhost:8080/"
        },
        "id": "63I4Nv-zpNC1",
        "outputId": "98083c48-2b61-44e0-a19e-7b1cdcfcff73"
      },
      "execution_count": null,
      "outputs": [
        {
          "output_type": "stream",
          "name": "stdout",
          "text": [
            "['Ali ve Mehmet okuldan geldiler', ' pizza almaya gittiler']\n"
          ]
        }
      ]
    },
    {
      "cell_type": "markdown",
      "source": [
        "#IKI LISTEYI BIRBIRIYLE BIRLESTIRME"
      ],
      "metadata": {
        "id": "VH4w-W5uqyVA"
      }
    },
    {
      "cell_type": "code",
      "source": [
        "listem = ['a', 'b', 'c', 'd', 'e']\n",
        "\n",
        "liste_2 = ['g', 'h', 'i', 'j']\n",
        "\n",
        "print(listem + liste_2)\n",
        "\n",
        "listem.append(liste_2)\n",
        "\n",
        "print(listem)"
      ],
      "metadata": {
        "colab": {
          "base_uri": "https://localhost:8080/"
        },
        "id": "KpSNlipVp49V",
        "outputId": "0dc17859-f431-4d93-fc8f-d93c05f2d704"
      },
      "execution_count": null,
      "outputs": [
        {
          "output_type": "stream",
          "name": "stdout",
          "text": [
            "['a', 'b', 'c', 'd', 'e', 'g', 'h', 'i', 'j']\n",
            "['a', 'b', 'c', 'd', 'e', ['g', 'h', 'i', 'j']]\n"
          ]
        }
      ]
    },
    {
      "cell_type": "code",
      "source": [
        "liste_1 = ['g', 'h', 'i', 'j']\n",
        "\n",
        "liste = liste_1 + ['k']\n",
        "\n",
        "print(liste)"
      ],
      "metadata": {
        "colab": {
          "base_uri": "https://localhost:8080/"
        },
        "id": "VHrUp4-qq1cr",
        "outputId": "ba6ae3f6-77aa-4ef9-e10f-c4e2fa5a6fd2"
      },
      "execution_count": null,
      "outputs": [
        {
          "output_type": "stream",
          "name": "stdout",
          "text": [
            "['g', 'h', 'i', 'j', 'k']\n"
          ]
        }
      ]
    },
    {
      "cell_type": "code",
      "source": [
        "city = ['New York', 'London', 'Istanbul', 'Seoul', 'Sydney']\n",
        "city_list = []\n",
        "city_list.append(city)      #Tek elemanli liste icinde bir liste oldu. \n",
        "print(city_list)\n",
        "\n",
        "city_list.append(123) #gözükmesi icin bir eleman daha ekledim.\n",
        "print(city_list)"
      ],
      "metadata": {
        "colab": {
          "base_uri": "https://localhost:8080/"
        },
        "id": "jRCxYyOPSsq1",
        "outputId": "39239ad0-bef1-4974-ee65-783597279077"
      },
      "execution_count": null,
      "outputs": [
        {
          "output_type": "stream",
          "name": "stdout",
          "text": [
            "[['New York', 'London', 'Istanbul', 'Seoul', 'Sydney']]\n",
            "[['New York', 'London', 'Istanbul', 'Seoul', 'Sydney'], 123]\n"
          ]
        }
      ]
    },
    {
      "cell_type": "code",
      "source": [
        "city = ['New York', 'London', 'Istanbul', 'Seoul', 'Sydney']\n",
        "city_list = ['a', 'b', 'c']\n",
        "city.insert(1,(city_list))\n",
        "print(city)"
      ],
      "metadata": {
        "colab": {
          "base_uri": "https://localhost:8080/"
        },
        "id": "PIHdu1w6TSvA",
        "outputId": "04563bba-e5df-42e2-cfd9-8ef4e85fa96f"
      },
      "execution_count": null,
      "outputs": [
        {
          "output_type": "stream",
          "name": "stdout",
          "text": [
            "['New York', ['a', 'b', 'c'], 'London', 'Istanbul', 'Seoul', 'Sydney']\n"
          ]
        }
      ]
    },
    {
      "cell_type": "markdown",
      "source": [
        "#Liste icindeki liste elemaninin icindeki elmani bulma \"city[0][2][3]\" seklinde"
      ],
      "metadata": {
        "id": "8OX5KTRbU0YD"
      }
    },
    {
      "cell_type": "code",
      "source": [
        "t = 1, 3, 5, 'a','b', 'c'\n",
        "u = t , (8, 10, 12)\n",
        "\n",
        "print(u)\n",
        "print(len(u))"
      ],
      "metadata": {
        "colab": {
          "base_uri": "https://localhost:8080/"
        },
        "id": "tbCFYWxpRt8e",
        "outputId": "1d89b233-fe7d-4aa0-c217-4859ac7f2044"
      },
      "execution_count": null,
      "outputs": [
        {
          "output_type": "stream",
          "name": "stdout",
          "text": [
            "((1, 3, 5, 'a', 'b', 'c'), (8, 10, 12))\n",
            "2\n"
          ]
        }
      ]
    },
    {
      "cell_type": "code",
      "source": [
        "print(u.index('c'))  # Hata verir.Cünkü 'c' elemani liste icindeki listenin elemani. Direk 'c' olarak ayri bir eleman yok.''''"
      ],
      "metadata": {
        "colab": {
          "base_uri": "https://localhost:8080/",
          "height": 164
        },
        "id": "jrtW-md2R0fG",
        "outputId": "d9b4f780-bd82-43a2-ead1-27f043af064f"
      },
      "execution_count": null,
      "outputs": [
        {
          "output_type": "error",
          "ename": "ValueError",
          "evalue": "ignored",
          "traceback": [
            "\u001b[0;31m---------------------------------------------------------------------------\u001b[0m",
            "\u001b[0;31mValueError\u001b[0m                                Traceback (most recent call last)",
            "\u001b[0;32m<ipython-input-42-8e0711ee173f>\u001b[0m in \u001b[0;36m<module>\u001b[0;34m()\u001b[0m\n\u001b[0;32m----> 1\u001b[0;31m \u001b[0mprint\u001b[0m\u001b[0;34m(\u001b[0m\u001b[0mu\u001b[0m\u001b[0;34m.\u001b[0m\u001b[0mindex\u001b[0m\u001b[0;34m(\u001b[0m\u001b[0;34m'c'\u001b[0m\u001b[0;34m)\u001b[0m\u001b[0;34m)\u001b[0m  \u001b[0;31m# Hata verir.Cünkü 'c' elemani liste icindeki listenin elemani. Direk 'c' olarak ayri bir eleman yok.''''\u001b[0m\u001b[0;34m\u001b[0m\u001b[0;34m\u001b[0m\u001b[0m\n\u001b[0m",
            "\u001b[0;31mValueError\u001b[0m: tuple.index(x): x not in tuple"
          ]
        }
      ]
    },
    {
      "cell_type": "code",
      "source": [
        "print(u[0].index('c'))"
      ],
      "metadata": {
        "colab": {
          "base_uri": "https://localhost:8080/"
        },
        "id": "aeBp-mkZSQ5L",
        "outputId": "b3721967-1168-4db4-9d1d-e35e5c820018"
      },
      "execution_count": null,
      "outputs": [
        {
          "output_type": "stream",
          "name": "stdout",
          "text": [
            "5\n"
          ]
        }
      ]
    },
    {
      "cell_type": "code",
      "source": [
        "city = [['New York', 'London', 'Istanbul', 'Seoul', 'Sydney'], ['a', 'b'], 123, 'ceyhan']\n",
        "\n",
        "print(city[0][2])\n"
      ],
      "metadata": {
        "colab": {
          "base_uri": "https://localhost:8080/"
        },
        "id": "a_E2uWK-U49E",
        "outputId": "031b6af1-f698-434c-d399-17988d479f7e"
      },
      "execution_count": null,
      "outputs": [
        {
          "output_type": "stream",
          "name": "stdout",
          "text": [
            "Istanbul\n"
          ]
        }
      ]
    },
    {
      "cell_type": "code",
      "source": [
        "city = [['New York', 'London', 'Istanbul', 'Seoul', 'Sydney'], ['a', 'b'], 123, 'ceyhan']\n",
        "\n",
        "print(city[0][2][3])"
      ],
      "metadata": {
        "colab": {
          "base_uri": "https://localhost:8080/"
        },
        "id": "ozsnELO3VR-l",
        "outputId": "4383a4b3-0445-47b4-d04f-5b3556669964"
      },
      "execution_count": null,
      "outputs": [
        {
          "output_type": "stream",
          "name": "stdout",
          "text": [
            "a\n"
          ]
        }
      ]
    },
    {
      "cell_type": "code",
      "source": [
        "mix_list = [1, [1, \"one\", 2, \"two\", 3, \"three\"], 4]\n",
        "print(mix_list[1][1] , mix_list[1][3] , mix_list[1][5])   #tek tek secersek liste olarak vermez. Tek eleman alma bu sekilde oluyor.\n",
        "\n",
        "#veya\n",
        "\n",
        "print(mix_list[1][1::2])  #Listede ayni anda birden fazla eleman aliniyorsa liste seklinde cikarir."
      ],
      "metadata": {
        "colab": {
          "base_uri": "https://localhost:8080/"
        },
        "id": "9sw44lkWan3H",
        "outputId": "32a41019-4771-4238-f354-63ea22143f51"
      },
      "execution_count": null,
      "outputs": [
        {
          "output_type": "stream",
          "name": "stdout",
          "text": [
            "one two three\n",
            "['one', 'two', 'three']\n"
          ]
        }
      ]
    },
    {
      "cell_type": "code",
      "source": [
        "city = [['New York', 'London', 'Istanbul', 'Seoul', 'Sydney'], ['a', 'b'], 123, 'ceyhan']\n",
        "\n",
        "print(city[3][0])"
      ],
      "metadata": {
        "colab": {
          "base_uri": "https://localhost:8080/"
        },
        "id": "VUkI2Is4VhNR",
        "outputId": "7e5a28a5-d4bb-4517-e258-4ded8197a592"
      },
      "execution_count": null,
      "outputs": [
        {
          "output_type": "stream",
          "name": "stdout",
          "text": [
            "c\n"
          ]
        }
      ]
    },
    {
      "cell_type": "markdown",
      "source": [
        "#Birden fazla tekrar eden karakter veya sayilari set komutuyla bir kere yazdirma"
      ],
      "metadata": {
        "id": "Y0bfqxlUxrzR"
      }
    },
    {
      "cell_type": "code",
      "source": [
        "liste_2 = [3, 16, 3, 35, 3, 2, 18, 2]     #set komutunda bütün tekrar edilen sayilar bir kere yazilir ve icerdeki tüm sayilar siralanir.\n",
        "set(liste_2)\n",
        "###ciktidaki oaranteze dikkat et\n"
      ],
      "metadata": {
        "colab": {
          "base_uri": "https://localhost:8080/"
        },
        "id": "0cm1hUDWtsGr",
        "outputId": "784d95a8-4703-44ff-c6cf-8ce4d7229d0c"
      },
      "execution_count": null,
      "outputs": [
        {
          "output_type": "execute_result",
          "data": {
            "text/plain": [
              "{2, 3, 16, 18, 35}"
            ]
          },
          "metadata": {},
          "execution_count": 25
        }
      ]
    },
    {
      "cell_type": "code",
      "source": [
        "liste_2 = ['h', 'j', 'g', 'i', 'a']\n",
        "\n",
        "set(liste_2)"
      ],
      "metadata": {
        "colab": {
          "base_uri": "https://localhost:8080/"
        },
        "id": "3Rddb35Lx5HL",
        "outputId": "85bca990-01c8-4df8-ae0e-787b9447a425"
      },
      "execution_count": null,
      "outputs": [
        {
          "output_type": "execute_result",
          "data": {
            "text/plain": [
              "{'a', 'g', 'h', 'i', 'j'}"
            ]
          },
          "metadata": {},
          "execution_count": 26
        }
      ]
    },
    {
      "cell_type": "markdown",
      "source": [
        "#TUPPLE TIPI LISTE YAPARAK LISTENIN DEGISTIRLMESINI ÖNLEME"
      ],
      "metadata": {
        "id": "i_tc5_aI0CfE"
      }
    },
    {
      "cell_type": "code",
      "source": [
        "print(dir(tuple))     #BIR ELEMENTIN HANGI MOUTLARI DESTEKLEDIGINI GÖRMEK ICIN BU KOMUTU YAZABILIRIZ"
      ],
      "metadata": {
        "colab": {
          "base_uri": "https://localhost:8080/"
        },
        "id": "lNsS1uo3uMWa",
        "outputId": "9d6a702a-1070-4cda-cb1c-ee123614da0c"
      },
      "execution_count": null,
      "outputs": [
        {
          "output_type": "stream",
          "name": "stdout",
          "text": [
            "['__add__', '__class__', '__contains__', '__delattr__', '__dir__', '__doc__', '__eq__', '__format__', '__ge__', '__getattribute__', '__getitem__', '__getnewargs__', '__gt__', '__hash__', '__init__', '__init_subclass__', '__iter__', '__le__', '__len__', '__lt__', '__mul__', '__ne__', '__new__', '__reduce__', '__reduce_ex__', '__repr__', '__rmul__', '__setattr__', '__sizeof__', '__str__', '__subclasshook__', 'count', 'index']\n"
          ]
        }
      ]
    },
    {
      "cell_type": "code",
      "source": [
        "word = tuple('Meraba')\n",
        "\n",
        "print(word)"
      ],
      "metadata": {
        "colab": {
          "base_uri": "https://localhost:8080/"
        },
        "id": "6PVUQD_zQoba",
        "outputId": "fd334373-9362-49c1-d078-567d439aad0e"
      },
      "execution_count": null,
      "outputs": [
        {
          "output_type": "stream",
          "name": "stdout",
          "text": [
            "('M', 'e', 'r', 'a', 'b', 'a')\n"
          ]
        }
      ]
    },
    {
      "cell_type": "code",
      "source": [
        "word = tuple('Hosgeldiniz')\n",
        "print(word)\n",
        "\n",
        "new_word = ''.join(word)\n",
        "print(new_word)\n",
        "\n"
      ],
      "metadata": {
        "colab": {
          "base_uri": "https://localhost:8080/"
        },
        "id": "zCjDhjTdQxOM",
        "outputId": "666cfafa-cbfa-4cae-e0e9-62374d05211c"
      },
      "execution_count": null,
      "outputs": [
        {
          "output_type": "stream",
          "name": "stdout",
          "text": [
            "('H', 'o', 's', 'g', 'e', 'l', 'd', 'i', 'n', 'i', 'z')\n",
            "Hosgeldiniz\n"
          ]
        }
      ]
    },
    {
      "cell_type": "code",
      "source": [
        "tuple_1 = 'h', 'a', 'p', 'p', 'y'  ## parantez olmasa da virgüllerle ayrılan veriler tuple \n",
        "tuple_2 = 1, 3, 5\n",
        "print(tuple_1)\n",
        "print(type(tuple_1))\n",
        "print(tuple_2)\n",
        "print(type(tuple_2))"
      ],
      "metadata": {
        "colab": {
          "base_uri": "https://localhost:8080/"
        },
        "id": "x_sKOw9DRU3H",
        "outputId": "4c6ab715-e2bc-4fdb-9a65-6cce9036cec9"
      },
      "execution_count": null,
      "outputs": [
        {
          "output_type": "stream",
          "name": "stdout",
          "text": [
            "('h', 'a', 'p', 'p', 'y')\n",
            "<class 'tuple'>\n",
            "(1, 3, 5)\n",
            "<class 'tuple'>\n"
          ]
        }
      ]
    },
    {
      "cell_type": "code",
      "source": [
        "liste_2 = ['g', 'h', 'g', 'i', 'j']\n",
        "\n",
        "liste_2[0] = 123\n",
        "print(liste_2)"
      ],
      "metadata": {
        "colab": {
          "base_uri": "https://localhost:8080/"
        },
        "id": "S5IRZFq3y2nt",
        "outputId": "ff21fb6b-89d5-4642-da75-439c13876427"
      },
      "execution_count": null,
      "outputs": [
        {
          "output_type": "stream",
          "name": "stdout",
          "text": [
            "[123, 'h', 'g', 'i', 'j']\n"
          ]
        }
      ]
    },
    {
      "cell_type": "code",
      "source": [
        "liste_2 = ['a', 'b', 'c', 'd', 'e', 'f']\n",
        "\n",
        "tup_1 = ('a', 'b', 'c', 'd', 'e', 'f')  #tupple tipi bir listeleme yaptik. () parantez arasina yazarak\n",
        "\n",
        "tup_1[0] = 123      # Bu komutta hata verir cünkü tupple tipi liste immutable dir. yani degistirme kabul etmez."
      ],
      "metadata": {
        "colab": {
          "base_uri": "https://localhost:8080/",
          "height": 198
        },
        "id": "GYxAHjoIzY4k",
        "outputId": "1134cc02-ef96-40d7-aab5-1a225a16ec0c"
      },
      "execution_count": null,
      "outputs": [
        {
          "output_type": "error",
          "ename": "TypeError",
          "evalue": "ignored",
          "traceback": [
            "\u001b[0;31m---------------------------------------------------------------------------\u001b[0m",
            "\u001b[0;31mTypeError\u001b[0m                                 Traceback (most recent call last)",
            "\u001b[0;32m<ipython-input-28-4992e2fc8ee7>\u001b[0m in \u001b[0;36m<module>\u001b[0;34m()\u001b[0m\n\u001b[1;32m      3\u001b[0m \u001b[0mtup_1\u001b[0m \u001b[0;34m=\u001b[0m \u001b[0;34m(\u001b[0m\u001b[0;34m'a'\u001b[0m\u001b[0;34m,\u001b[0m \u001b[0;34m'b'\u001b[0m\u001b[0;34m,\u001b[0m \u001b[0;34m'c'\u001b[0m\u001b[0;34m,\u001b[0m \u001b[0;34m'd'\u001b[0m\u001b[0;34m,\u001b[0m \u001b[0;34m'e'\u001b[0m\u001b[0;34m,\u001b[0m \u001b[0;34m'f'\u001b[0m\u001b[0;34m)\u001b[0m  \u001b[0;31m#tupple tipi bir listeleme yaptik. () parantez arasina yazarak\u001b[0m\u001b[0;34m\u001b[0m\u001b[0;34m\u001b[0m\u001b[0m\n\u001b[1;32m      4\u001b[0m \u001b[0;34m\u001b[0m\u001b[0m\n\u001b[0;32m----> 5\u001b[0;31m \u001b[0mtup_1\u001b[0m\u001b[0;34m[\u001b[0m\u001b[0;36m0\u001b[0m\u001b[0;34m]\u001b[0m \u001b[0;34m=\u001b[0m \u001b[0;36m123\u001b[0m      \u001b[0;31m# Bu komutta hata verir cünkü tupple tipi liste immutable dir. yani degistirme kabul etmez.\u001b[0m\u001b[0;34m\u001b[0m\u001b[0;34m\u001b[0m\u001b[0m\n\u001b[0m",
            "\u001b[0;31mTypeError\u001b[0m: 'tuple' object does not support item assignment"
          ]
        }
      ]
    },
    {
      "cell_type": "code",
      "source": [
        "word = 'happy'\n",
        "\n",
        "demet = tuple(word)   #list formati ve tuple formati arasindaki cikti farki asagida gözüküyor.\n",
        "print(demet)\n",
        "demet1 = list(word)\n",
        "print(demet1)"
      ],
      "metadata": {
        "colab": {
          "base_uri": "https://localhost:8080/"
        },
        "id": "xZoonkUmnBop",
        "outputId": "34a4b049-f481-44f1-9719-921abbab489a"
      },
      "execution_count": null,
      "outputs": [
        {
          "output_type": "stream",
          "name": "stdout",
          "text": [
            "('h', 'a', 'p', 'p', 'y')\n",
            "['h', 'a', 'p', 'p', 'y']\n"
          ]
        }
      ]
    },
    {
      "cell_type": "code",
      "source": [
        "word = () #Bos parantez de tuple olarak algilanir.\n",
        "print(type(word))\n",
        "\n",
        "word = ('a')      #Icidne tek ifade olan tup degil string bir ifadedir. aralarda virgül yok\n",
        "print(type(word))\n",
        "\n",
        "word2 = ('a','b')\n",
        "print(type(word2))\n",
        "\n",
        "word1 = 'a', 'b', 'c'   #Parantez icine almasak dahi bu tuple olarak saklanmis olur.\n",
        "\n",
        "print(type(word1))\n"
      ],
      "metadata": {
        "colab": {
          "base_uri": "https://localhost:8080/"
        },
        "id": "tFvJ4fxOrRZB",
        "outputId": "a76717e1-e123-46ce-c429-28f311778f01"
      },
      "execution_count": null,
      "outputs": [
        {
          "output_type": "stream",
          "name": "stdout",
          "text": [
            "<class 'tuple'>\n",
            "<class 'str'>\n",
            "<class 'tuple'>\n",
            "<class 'tuple'>\n"
          ]
        }
      ]
    },
    {
      "cell_type": "code",
      "source": [
        "word = 'mountain'\n",
        "\n",
        "new_word = tuple(word)\n",
        "print(new_word)\n",
        "\n",
        "new_word = list(word)\n",
        "print(new_word)"
      ],
      "metadata": {
        "colab": {
          "base_uri": "https://localhost:8080/"
        },
        "id": "kdAfud4St0qH",
        "outputId": "81924eb8-3c29-4d03-adbe-8eee49ad091b"
      },
      "execution_count": null,
      "outputs": [
        {
          "output_type": "stream",
          "name": "stdout",
          "text": [
            "('m', 'o', 'u', 'n', 't', 'a', 'i', 'n')\n",
            "['m', 'o', 'u', 'n', 't', 'a', 'i', 'n']\n"
          ]
        }
      ]
    },
    {
      "cell_type": "code",
      "source": [
        "tuple1 = tuple(range(0,30,2))\n",
        "print(tuple1)\n",
        "\n",
        "print(14 in tuple1)"
      ],
      "metadata": {
        "colab": {
          "base_uri": "https://localhost:8080/"
        },
        "id": "qio4q0E6wCr5",
        "outputId": "8ab40654-b6c4-48ab-a181-975049a62dd6"
      },
      "execution_count": null,
      "outputs": [
        {
          "output_type": "stream",
          "name": "stdout",
          "text": [
            "(0, 2, 4, 6, 8, 10, 12, 14, 16, 18, 20, 22, 24, 26, 28)\n",
            "True\n"
          ]
        }
      ]
    },
    {
      "cell_type": "markdown",
      "source": [
        "#IKI TUPLE BIRLESTIRME( hem virgül hem de + ile birlestirme )"
      ],
      "metadata": {
        "id": "9gFyBusLxzJO"
      }
    },
    {
      "cell_type": "code",
      "source": [
        "t = 1 , 3, 8, 'a', 'b', 'c'\n",
        "u = t, (8,10,12) # iki elemana sahip bir tuple olur. Virgül ile birlestirdik cünkü\n",
        "\n",
        "print(u)  \n",
        "print('eleman sayisi:',len(u))"
      ],
      "metadata": {
        "colab": {
          "base_uri": "https://localhost:8080/"
        },
        "id": "Z5TZhVfYx1aQ",
        "outputId": "95d202ff-bf10-4457-ebbf-c4f194d3112a"
      },
      "execution_count": null,
      "outputs": [
        {
          "output_type": "stream",
          "name": "stdout",
          "text": [
            "((1, 3, 8, 'a', 'b', 'c'), (8, 10, 12))\n",
            "eleman sayisi: 2\n"
          ]
        }
      ]
    },
    {
      "cell_type": "code",
      "source": [
        "t = 1 , 3, 8, 'a', 'b', 'c'\n",
        "u = t + (8,10,12) # + ile birlestirirsek direk diger elemanlarin arasina katar.\n",
        "\n",
        "print(u)\n",
        "print('eleman sayisi:',len(u))"
      ],
      "metadata": {
        "colab": {
          "base_uri": "https://localhost:8080/"
        },
        "id": "neh0C3GPyB3J",
        "outputId": "0e2c616d-f38e-4d7e-ecf5-847977130135"
      },
      "execution_count": null,
      "outputs": [
        {
          "output_type": "stream",
          "name": "stdout",
          "text": [
            "(1, 3, 8, 'a', 'b', 'c', 8, 10, 12)\n",
            "eleman sayisi: 9\n"
          ]
        }
      ]
    },
    {
      "cell_type": "markdown",
      "source": [
        "#IC ICE OLAN TUPLE AYRISTIRIP BIR DEGISKENE ATAMA"
      ],
      "metadata": {
        "id": "ej5SE7nlwr2l"
      }
    },
    {
      "cell_type": "code",
      "source": [
        "number = ((13, 27, 35), (0, 2, 4, 6, 8, 10, 12, 14, 16, 18, 20, 22, 24, 26, 28))\n",
        "\n",
        "print(number[0][0])"
      ],
      "metadata": {
        "colab": {
          "base_uri": "https://localhost:8080/"
        },
        "id": "4kFGDBpiwMYR",
        "outputId": "7a774613-d2a8-4843-f581-578f87d07bda"
      },
      "execution_count": null,
      "outputs": [
        {
          "output_type": "stream",
          "name": "stdout",
          "text": [
            "13\n"
          ]
        }
      ]
    },
    {
      "cell_type": "code",
      "source": [
        "number = ((13, 27, 35), (0, 2, 4, 6, 8, 10, 12, 14, 16, 18, 20, 22, 24, 26, 28))\n",
        "a, b = number\n",
        "print(a)\n",
        "print(b)"
      ],
      "metadata": {
        "colab": {
          "base_uri": "https://localhost:8080/"
        },
        "id": "lmUZvQs5wvnM",
        "outputId": "7dfffbee-4ec3-4f5f-ecc9-5e53f74ee33a"
      },
      "execution_count": null,
      "outputs": [
        {
          "output_type": "stream",
          "name": "stdout",
          "text": [
            "(13, 27, 35)\n",
            "(0, 2, 4, 6, 8, 10, 12, 14, 16, 18, 20, 22, 24, 26, 28)\n"
          ]
        }
      ]
    },
    {
      "cell_type": "markdown",
      "source": [
        "#List(range()) ve slicing metodu ile tek ve cift sayilari yazdirma "
      ],
      "metadata": {
        "id": "FNI27y34Yl8T"
      }
    },
    {
      "cell_type": "code",
      "source": [
        "print(list(range(1,11,2)))\n",
        "\n",
        "#veya \n",
        "\n",
        "tek_sayilar = [0, 1, 2, 3, 4, 5, 6, 7, 8, 9, 10]\n",
        "print(tek_sayilar[1:11:2])\n"
      ],
      "metadata": {
        "colab": {
          "base_uri": "https://localhost:8080/"
        },
        "id": "LBeKBfws0H1l",
        "outputId": "a276c4af-9d1d-4c8b-a6bf-2a3b08807d17"
      },
      "execution_count": null,
      "outputs": [
        {
          "output_type": "stream",
          "name": "stdout",
          "text": [
            "[1, 3, 5, 7, 9]\n",
            "[1, 3, 5, 7, 9]\n"
          ]
        }
      ]
    },
    {
      "cell_type": "code",
      "source": [
        "print(list(range(0,16,2)))"
      ],
      "metadata": {
        "colab": {
          "base_uri": "https://localhost:8080/"
        },
        "id": "u0j_J7E-YxSQ",
        "outputId": "cbec947a-898c-407d-ae6c-d340f996d5ef"
      },
      "execution_count": null,
      "outputs": [
        {
          "output_type": "stream",
          "name": "stdout",
          "text": [
            "[0, 2, 4, 6, 8, 10, 12, 14]\n"
          ]
        }
      ]
    },
    {
      "cell_type": "code",
      "source": [
        "liste = list(range(0,15))\n",
        "\n",
        "print(liste[::2])"
      ],
      "metadata": {
        "colab": {
          "base_uri": "https://localhost:8080/"
        },
        "id": "sF19j_ubY0mw",
        "outputId": "9bb51fd1-8559-4418-cd20-fa103d453e1f"
      },
      "execution_count": null,
      "outputs": [
        {
          "output_type": "stream",
          "name": "stdout",
          "text": [
            "[0, 2, 4, 6, 8, 10, 12, 14]\n"
          ]
        }
      ]
    },
    {
      "cell_type": "markdown",
      "source": [
        "#Palindrom olup olmadigini bulma"
      ],
      "metadata": {
        "id": "uMWoibPYTd6n"
      }
    },
    {
      "cell_type": "code",
      "source": [
        "kelime = 'Merhaba'\n",
        "\n",
        "kelime = list(kelime)\n",
        "kelime[0] = 'L'\n",
        "\n",
        "print(kelime)"
      ],
      "metadata": {
        "colab": {
          "base_uri": "https://localhost:8080/"
        },
        "id": "MROhfKUtB8Gv",
        "outputId": "509e8a9c-23ae-4bae-f002-0103ff164cdc"
      },
      "execution_count": null,
      "outputs": [
        {
          "output_type": "stream",
          "name": "stdout",
          "text": [
            "['L', 'e', 'r', 'h', 'a', 'b', 'a']\n"
          ]
        }
      ]
    },
    {
      "cell_type": "code",
      "source": [
        "text = input('Schreiben Sie bitte einen Text oder ein Wort')\n",
        "\n",
        "text_1 = list(text)\n",
        "\n",
        "text_1.reverse()\n",
        "\n",
        "\n",
        "print((text == text_1) and 'Den Text oder das Wort, was Sie geschrieben haben, ist Palindrom' or \n",
        "      'Den Text oder das Wort, was Sie geschrieben haben, ist nicht Palindrom')\n",
        "\n"
      ],
      "metadata": {
        "colab": {
          "base_uri": "https://localhost:8080/"
        },
        "id": "3E_YBUOfFJLK",
        "outputId": "49230421-32e6-4448-a7ef-32f7bf6c569e"
      },
      "execution_count": null,
      "outputs": [
        {
          "output_type": "stream",
          "name": "stdout",
          "text": [
            "Schreiben Sie bitte einen Text oder ein Wortmadam\n",
            "Den Text oder das Wort, was Sie geschrieben haben, ist Palindrom\n"
          ]
        }
      ]
    },
    {
      "cell_type": "code",
      "source": [
        "grocer = [\"banana\", [\"orange\", [\"apple\", \"eggplant\", \"melon\", \"spinach\", \"cheese\", \"leek\" ], \"water\"], \"mandarin\"]\n",
        "\n",
        "print(grocer[1][1][1::2])"
      ],
      "metadata": {
        "colab": {
          "base_uri": "https://localhost:8080/"
        },
        "id": "nRqqzIKlBOxr",
        "outputId": "0f623404-aaae-48dc-b750-98ccf627ab2e"
      },
      "execution_count": null,
      "outputs": [
        {
          "output_type": "stream",
          "name": "stdout",
          "text": [
            "['eggplant', 'spinach', 'leek']\n"
          ]
        }
      ]
    },
    {
      "cell_type": "code",
      "source": [
        "escapes = [\"\\n\\t\", (\"\\t\", \"\\t\\t\"), [\"\\n\", \"\\n\\t\\t\"]]\n",
        "\n",
        "sentence = \"I am 40 years old.{}I have two children.{}Data Science is my IT domain.\".format(escapes[0], escapes[2][1])\n",
        "\n",
        "print(sentence)"
      ],
      "metadata": {
        "colab": {
          "base_uri": "https://localhost:8080/"
        },
        "id": "snfGRM_JBsRV",
        "outputId": "f0552120-8a61-458f-a915-eb851e49fc2b"
      },
      "execution_count": null,
      "outputs": [
        {
          "output_type": "stream",
          "name": "stdout",
          "text": [
            "I am 40 years old.\n",
            "\tI have two children.\n",
            "\t\tData Science is my IT domain.\n"
          ]
        }
      ]
    },
    {
      "cell_type": "markdown",
      "source": [
        "#SIRASIZ BIR LISTEDE ENB ÜYÜK 3. ELEMANI , YA DA EN KÜCÜK 5. VB ELEMAN BULMA"
      ],
      "metadata": {
        "id": "_DKqn76m_dTy"
      }
    },
    {
      "cell_type": "code",
      "source": [
        "liste = [3, 4, 13,74,23, 51, 15, 72, 33]\n",
        "\n",
        "liste.sort()  #önce listeyi siralariz.\n",
        "print(liste)\n",
        "\n",
        "print(liste[-2])    #en sondan bir önceki eleman en büyük 2. elamn olacagi icin bu sekilde en büyük ikinci sayiyi buluruz."
      ],
      "metadata": {
        "colab": {
          "base_uri": "https://localhost:8080/"
        },
        "id": "-Mwhh6LM_BFg",
        "outputId": "5a0380c7-0bb6-4a62-978d-ee25e2f87a4b"
      },
      "execution_count": null,
      "outputs": [
        {
          "output_type": "stream",
          "name": "stdout",
          "text": [
            "[3, 4, 13, 15, 23, 33, 51, 72, 74]\n",
            "72\n"
          ]
        }
      ]
    },
    {
      "cell_type": "code",
      "source": [
        "#sort metodu kullanmadan en büyük 2. sayiyi bulmamiz gerekiyorsa\n",
        "liste = [3, 4, 13,74,23, 51, 15, 72, 33]\n",
        "\n",
        "a = max(liste)\n",
        "print(\"En büyük sayi : \",a) #simdi bu en büyük sayiyi cikartirsak en büyük 2. sayi en büyük sayi olur\n",
        "\n",
        "liste.remove(a)\n",
        "print(liste)  #74 listeden cikti\n",
        "\n",
        "b = max(liste)\n",
        "print('Suan en büyük sayi : ', b)\n",
        "\n"
      ],
      "metadata": {
        "colab": {
          "base_uri": "https://localhost:8080/"
        },
        "id": "lM8N8a86ADUH",
        "outputId": "96f86065-fd27-495f-ff94-a7f733f8ec77"
      },
      "execution_count": null,
      "outputs": [
        {
          "output_type": "stream",
          "name": "stdout",
          "text": [
            "En büyük sayi :  74\n",
            "[3, 4, 13, 23, 51, 15, 72, 33]\n",
            "Suan en büyük sayi :  72\n"
          ]
        }
      ]
    },
    {
      "cell_type": "markdown",
      "source": [
        "#Liste arasina istedigimiz sayilari eklemek ama bir liste elemani olmadan"
      ],
      "metadata": {
        "id": "QYF01UnSAqUd"
      }
    },
    {
      "cell_type": "code",
      "source": [
        "a = [1, 2, 7, 8]\n",
        "\n",
        "b = list(range(3,7))\n",
        "\n",
        "print(b)\n",
        "\n",
        "a[2:2] = b \n",
        "\n",
        "print(a)"
      ],
      "metadata": {
        "colab": {
          "base_uri": "https://localhost:8080/"
        },
        "id": "WLHocjnD58jj",
        "outputId": "af70ac58-3799-44de-8a17-f1f6b03d7e24"
      },
      "execution_count": null,
      "outputs": [
        {
          "output_type": "stream",
          "name": "stdout",
          "text": [
            "[3, 4, 5, 6]\n",
            "[1, 2, 3, 4, 5, 6, 7, 8]\n"
          ]
        }
      ]
    },
    {
      "cell_type": "markdown",
      "source": [
        "#---------------------DICTIONARY-----------------------------------------------"
      ],
      "metadata": {
        "id": "K3TPzYgZB5em"
      }
    },
    {
      "cell_type": "code",
      "source": [
        "grocer1 = {'fruit':'apple', 'drink':'water'}      #iKISI DE AYNI SONUCU VERIR\n",
        "grocer2 = dict(fruit='apple', drink='water')      #YA köseli parantez icine yazicaz ya da dict() icine yazicaz\n",
        "\n",
        "print(grocer1)\n",
        "print(grocer2)"
      ],
      "metadata": {
        "colab": {
          "base_uri": "https://localhost:8080/"
        },
        "id": "s5EOb8_aAyap",
        "outputId": "ba6f255f-c529-4f17-d4b0-7b7dd6850ab8"
      },
      "execution_count": null,
      "outputs": [
        {
          "output_type": "stream",
          "name": "stdout",
          "text": [
            "{'fruit': 'apple', 'drink': 'water'}\n",
            "{'fruit': 'apple', 'drink': 'water'}\n"
          ]
        }
      ]
    },
    {
      "cell_type": "code",
      "source": [
        "state_capitals = {'Arkansas':'Little Rock',\n",
        "\t\t\t            'Colorado':'Denver',\n",
        "\t\t\t            'California':'Sacramento',\n",
        "\t\t            \t'Georgia':'Atlanta'\n",
        "\t\t            \t}\n",
        "print(state_capitals['Colorado'])\n",
        "print(state_capitals['California'])"
      ],
      "metadata": {
        "colab": {
          "base_uri": "https://localhost:8080/"
        },
        "id": "Y945xk33CbNy",
        "outputId": "94ccf25c-3d30-4faf-b1c4-098b9afe8a06"
      },
      "execution_count": null,
      "outputs": [
        {
          "output_type": "stream",
          "name": "stdout",
          "text": [
            "Denver\n",
            "Sacramento\n"
          ]
        }
      ]
    },
    {
      "cell_type": "code",
      "source": [
        "cities = {1 : 'Adana',\n",
        "          2 :'Antalya',\n",
        "          3 : 'Ankara', 4 : 'Istanbul'}\n",
        "\n",
        "print(cities[3])"
      ],
      "metadata": {
        "colab": {
          "base_uri": "https://localhost:8080/"
        },
        "id": "nXHQTkv5C_mF",
        "outputId": "bb570f82-7b09-4bb6-d135-36d81d243604"
      },
      "execution_count": null,
      "outputs": [
        {
          "output_type": "stream",
          "name": "stdout",
          "text": [
            "Ankara\n"
          ]
        }
      ]
    },
    {
      "cell_type": "code",
      "source": [
        "cities = dict(1 = 'Adana',      #bu metodda int bir degere esitleyemiyoruz.\n",
        "          2 = 'Antalya',\n",
        "          3 = 'Ankara', 4 : 'Istanbul')\n",
        "\n",
        "print(cities[3])"
      ],
      "metadata": {
        "colab": {
          "base_uri": "https://localhost:8080/",
          "height": 130
        },
        "id": "NzoWsyQ2EKmv",
        "outputId": "d051e050-944f-44c6-9c83-92391c51bf28"
      },
      "execution_count": null,
      "outputs": [
        {
          "output_type": "error",
          "ename": "SyntaxError",
          "evalue": "ignored",
          "traceback": [
            "\u001b[0;36m  File \u001b[0;32m\"<ipython-input-36-649e5ba109bc>\"\u001b[0;36m, line \u001b[0;32m3\u001b[0m\n\u001b[0;31m    3 = 'Ankara', 4 : 'Istanbul')\u001b[0m\n\u001b[0m                    ^\u001b[0m\n\u001b[0;31mSyntaxError\u001b[0m\u001b[0;31m:\u001b[0m invalid syntax\n"
          ]
        }
      ]
    },
    {
      "cell_type": "code",
      "source": [
        "state_capitals = dict(Arkansas = 'Little Rock',     #YUKARDAKI {..} ile ayni anlama geliyor.\n",
        "\t\t\t            Colorado = 'Denver',\n",
        "\t\t\t            California = 'Sacramento',\n",
        "\t\t            \tGeorgia = 'Atlanta')\n",
        "print(state_capitals['Colorado'])\n",
        "print(state_capitals['California'])"
      ],
      "metadata": {
        "colab": {
          "base_uri": "https://localhost:8080/"
        },
        "id": "D2vcld9cDdPm",
        "outputId": "ef60afd6-3ba1-4fe4-de40-3d4bd2eaf234"
      },
      "execution_count": null,
      "outputs": [
        {
          "output_type": "stream",
          "name": "stdout",
          "text": [
            "Denver\n",
            "Sacramento\n"
          ]
        }
      ]
    },
    {
      "cell_type": "code",
      "source": [
        "mix_values = {'animal':('dog','cat'),\n",
        "\t\t\t'planet': ['Neptun', 'Saturn', 'Jupiter'],\n",
        "\t\t\t'number': 40,\n",
        "\t\t\t'pi':3.14,\n",
        "\t\t\t'is_good': True}\n",
        "mix_keys = {22:'integer',\n",
        "\t\t1.2:'float',\n",
        "\t\tTrue:'boolean',\n",
        "\t\t'key':'string'}"
      ],
      "metadata": {
        "id": "QjB2WR2vF4A3"
      },
      "execution_count": null,
      "outputs": []
    },
    {
      "cell_type": "markdown",
      "source": [
        "##Dictionary de yeni bir eleman ekleme veya listede var olan elemani degistirme"
      ],
      "metadata": {
        "id": "SNx8lVyLE11j"
      }
    },
    {
      "cell_type": "code",
      "source": [
        "state_capitals = {'Arkansas':'Little Rock',\n",
        "\t\t\t            'Colorado':'Denver',\n",
        "\t\t\t            'California':'Sacramento',\n",
        "\t\t            \t'Georgia':'Atlanta'\n",
        "\t\t            \t}\n",
        "\n",
        "state_capitals['Virginia'] = 'Richmond' # bu yöntemle yeni eleman ekleyebiliriz.\n",
        "\n",
        "print(state_capitals)"
      ],
      "metadata": {
        "colab": {
          "base_uri": "https://localhost:8080/"
        },
        "id": "c006VmjkE55b",
        "outputId": "ea38fe0b-02aa-4fcb-cb3a-35f7d88d6180"
      },
      "execution_count": null,
      "outputs": [
        {
          "output_type": "stream",
          "name": "stdout",
          "text": [
            "{'Arkansas': 'Little Rock', 'Colorado': 'Denver', 'California': 'Sacramento', 'Georgia': 'Atlanta', 'Virginia': 'Richmond'}\n"
          ]
        }
      ]
    },
    {
      "cell_type": "code",
      "source": [
        "state_capitals = {'Arkansas':'Little Rock',\n",
        "\t\t\t            'Colorado':'Denver',\n",
        "\t\t\t            'California':'Sacramento',\n",
        "\t\t            \t'Georgia':'Atlanta'\n",
        "\t\t            \t}\n",
        "\n",
        "state_capitals['Arkansas'] = 'Istanbul'   # bU yöntemle var olan veriyi degistirebiliriz. Cünkü mutable dir.\n",
        "print(state_capitals)"
      ],
      "metadata": {
        "colab": {
          "base_uri": "https://localhost:8080/"
        },
        "id": "q8klaCB-FVI4",
        "outputId": "3a1b18c1-432a-4b6a-ee07-af76b46719fd"
      },
      "execution_count": null,
      "outputs": [
        {
          "output_type": "stream",
          "name": "stdout",
          "text": [
            "{'Arkansas': 'Istanbul', 'Colorado': 'Denver', 'California': 'Sacramento', 'Georgia': 'Atlanta'}\n"
          ]
        }
      ]
    },
    {
      "cell_type": "markdown",
      "source": [
        "##.items().   .values().  .update({..}) vb METODLARI"
      ],
      "metadata": {
        "id": "KRTvGrIpLdai"
      }
    },
    {
      "cell_type": "code",
      "source": [
        "liste = {'animal':'dog',\n",
        "\t\t\t'planet': 'Neptun',\n",
        "\t\t\t'number': 40,\n",
        "\t\t\t'pi':3.14,\n",
        "\t\t\t'is_good': True}\n",
        "\n",
        "print('Sadece values \\n', liste.values(), end ='\\n\\n')\n",
        "\n",
        "print('Sadece keys\\n', liste.keys(), end = '\\n\\n')\n",
        "\n",
        "print('Bütün items : \\n', liste.items())"
      ],
      "metadata": {
        "colab": {
          "base_uri": "https://localhost:8080/"
        },
        "id": "Jp_canblGEq1",
        "outputId": "ff85cfc6-4456-476d-eac4-5d90384c4350"
      },
      "execution_count": null,
      "outputs": [
        {
          "output_type": "stream",
          "name": "stdout",
          "text": [
            "Sadece values \n",
            " dict_values(['dog', 'Neptun', 40, 3.14, True])\n",
            "\n",
            "Sadece keys\n",
            " dict_keys(['animal', 'planet', 'number', 'pi', 'is_good'])\n",
            "\n",
            "Bütün items : \n",
            " dict_items([('animal', 'dog'), ('planet', 'Neptun'), ('number', 40), ('pi', 3.14), ('is_good', True)])\n"
          ]
        }
      ]
    },
    {
      "cell_type": "code",
      "source": [
        "family = dict(name1= 'Joseph', name2= 'Bella', name3='Aisha', name4= 'Bulend')\n",
        "print(family.values())\n",
        "print(family.keys())\n",
        "print(family.items())"
      ],
      "metadata": {
        "colab": {
          "base_uri": "https://localhost:8080/"
        },
        "id": "vKtrPYAyMB-2",
        "outputId": "8d3736a6-bcf1-4cb8-8b78-3384612204c7"
      },
      "execution_count": null,
      "outputs": [
        {
          "output_type": "stream",
          "name": "stdout",
          "text": [
            "dict_values(['Joseph', 'Bella', 'Aisha', 'Bulend'])\n",
            "dict_keys(['name1', 'name2', 'name3', 'name4'])\n",
            "dict_items([('name1', 'Joseph'), ('name2', 'Bella'), ('name3', 'Aisha'), ('name4', 'Bulend')])\n"
          ]
        }
      ]
    },
    {
      "cell_type": "code",
      "source": [
        "sözlük = {'animal':'dog',\n",
        "\t\t\t'planet': 'Neptun',\n",
        "\t\t\t'number': 40,\n",
        "\t\t\t'pi':3.14,\n",
        "\t\t\t'is_good': True}\n",
        "\n",
        "sözlük.update({'is_bad' : False})  \n",
        "\n",
        "print(sözlük)"
      ],
      "metadata": {
        "colab": {
          "base_uri": "https://localhost:8080/"
        },
        "id": "OW6o08fKOarM",
        "outputId": "3a0d7816-fa83-49d5-d8dc-1643dd693a2c"
      },
      "execution_count": null,
      "outputs": [
        {
          "output_type": "stream",
          "name": "stdout",
          "text": [
            "{'animal': 'dog', 'planet': 'Neptun', 'number': 40, 'pi': 3.14, 'is_good': True, 'is_bad': False}\n"
          ]
        }
      ]
    },
    {
      "cell_type": "code",
      "source": [
        "sözlük = {'animal':'dog',   \n",
        "\t\t\t'planet': 'Neptun',\n",
        "\t\t\t'number': 40,\n",
        "\t\t\t'pi':3.14,\n",
        "\t\t\t'is_good': True}\n",
        "\n",
        "sözlük.update(is_bad = False)  #Üstteki ile ayni sonuc\n",
        "\n",
        "print(sözlük)"
      ],
      "metadata": {
        "colab": {
          "base_uri": "https://localhost:8080/"
        },
        "id": "SdB9e_SyPONW",
        "outputId": "35146694-8217-4fb3-8a28-9b7377195269"
      },
      "execution_count": null,
      "outputs": [
        {
          "output_type": "stream",
          "name": "stdout",
          "text": [
            "{'animal': 'dog', 'planet': 'Neptun', 'number': 40, 'pi': 3.14, 'is_good': True, 'is_bad': False}\n"
          ]
        }
      ]
    },
    {
      "cell_type": "code",
      "source": [
        "sözlük = {'animal':'dog',\n",
        "\t\t\t'planet': 'Neptun',\n",
        "\t\t\t'number': 40,\n",
        "\t\t\t'pi':3.14,\n",
        "\t\t\t'is_good': True}\n",
        "\n",
        "sözlük.update({'pi' : 3.14231})\n",
        "print(sözlük)"
      ],
      "metadata": {
        "colab": {
          "base_uri": "https://localhost:8080/"
        },
        "id": "nX8Sqnz5Oxat",
        "outputId": "905158bb-4453-4252-cb1e-fa2a4510179b"
      },
      "execution_count": null,
      "outputs": [
        {
          "output_type": "stream",
          "name": "stdout",
          "text": [
            "{'animal': 'dog', 'planet': 'Neptun', 'number': 40, 'pi': 3.14231, 'is_good': True}\n"
          ]
        }
      ]
    },
    {
      "cell_type": "code",
      "source": [
        "sözlük = {'animal':'dog',   \n",
        "\t\t\t'planet': 'Neptun',\n",
        "\t\t\t'number': 40,\n",
        "\t\t\t'pi':3.14,\n",
        "\t\t\t'is_good': True}\n",
        "\n",
        "sözlük.update(is_bad = False, planet = 'Mars') \n",
        "\n",
        "print(sözlük)"
      ],
      "metadata": {
        "colab": {
          "base_uri": "https://localhost:8080/"
        },
        "id": "ka2fumTyPm_r",
        "outputId": "7f198446-9466-409b-f59c-dd570005b7f7"
      },
      "execution_count": null,
      "outputs": [
        {
          "output_type": "stream",
          "name": "stdout",
          "text": [
            "{'animal': 'dog', 'planet': 'Mars', 'number': 40, 'pi': 3.14, 'is_good': True, 'is_bad': False}\n"
          ]
        }
      ]
    },
    {
      "cell_type": "code",
      "source": [
        "family = dict(name1= 'Joseph', name2= 'Bella', name3='Aisha', name4= 'Bulend')\n",
        "\n",
        "family.update(name5 = 'Mehmet')\n",
        "print(family)\n",
        "\n",
        "family.update({'name6': 'Abdurrahman'})\n",
        "\n",
        "print(family)"
      ],
      "metadata": {
        "colab": {
          "base_uri": "https://localhost:8080/"
        },
        "id": "ubKNNu5XP0_i",
        "outputId": "73935d32-0080-470f-f927-7411a226d69a"
      },
      "execution_count": null,
      "outputs": [
        {
          "output_type": "stream",
          "name": "stdout",
          "text": [
            "{'name1': 'Joseph', 'name2': 'Bella', 'name3': 'Aisha', 'name4': 'Bulend', 'name5': 'Mehmet'}\n",
            "{'name1': 'Joseph', 'name2': 'Bella', 'name3': 'Aisha', 'name4': 'Bulend', 'name5': 'Mehmet', 'name6': 'Abdurrahman'}\n"
          ]
        }
      ]
    },
    {
      "cell_type": "markdown",
      "source": [
        "## del sözlük['key']-------DEL METODU ILE BIR VEYAA BIRDEN FAZLA ELEMAN SILME- "
      ],
      "metadata": {
        "id": "kISKFTmhQ_Uk"
      }
    },
    {
      "cell_type": "code",
      "source": [
        "sözlük = {'animal':'dog',   \n",
        "\t\t\t'planet': 'Neptun',\n",
        "\t\t\t'number': 40,\n",
        "\t\t\t'pi':3.14,\n",
        "\t\t\t'is_good': True}\n",
        "\n",
        "del sözlük['planet']    #Parantez icine key yazilir ['key']\n",
        "\n",
        "print(sözlük)"
      ],
      "metadata": {
        "colab": {
          "base_uri": "https://localhost:8080/"
        },
        "id": "DwdRmSyaQg6X",
        "outputId": "c4c1b1c2-2581-4669-84dc-10f7edde841b"
      },
      "execution_count": null,
      "outputs": [
        {
          "output_type": "stream",
          "name": "stdout",
          "text": [
            "{'animal': 'dog', 'number': 40, 'pi': 3.14, 'is_good': True}\n"
          ]
        }
      ]
    },
    {
      "cell_type": "code",
      "source": [
        "del sözlük['animal', 'number']  #IKI ELEMAN AYNI ANDA SILINMEZ. A<RI AYRI SILINMESI GEREKIR \n",
        "print(sözlük)"
      ],
      "metadata": {
        "colab": {
          "base_uri": "https://localhost:8080/",
          "height": 181
        },
        "id": "mcrfxiKURDaK",
        "outputId": "be03f1bc-3ccb-462a-db99-b3159e13ba33"
      },
      "execution_count": null,
      "outputs": [
        {
          "output_type": "error",
          "ename": "KeyError",
          "evalue": "ignored",
          "traceback": [
            "\u001b[0;31m---------------------------------------------------------------------------\u001b[0m",
            "\u001b[0;31mKeyError\u001b[0m                                  Traceback (most recent call last)",
            "\u001b[0;32m<ipython-input-74-72c40bab9e89>\u001b[0m in \u001b[0;36m<module>\u001b[0;34m()\u001b[0m\n\u001b[0;32m----> 1\u001b[0;31m \u001b[0;32mdel\u001b[0m \u001b[0msözlük\u001b[0m\u001b[0;34m[\u001b[0m\u001b[0;34m'animal'\u001b[0m\u001b[0;34m,\u001b[0m \u001b[0;34m'number'\u001b[0m\u001b[0;34m]\u001b[0m\u001b[0;34m\u001b[0m\u001b[0;34m\u001b[0m\u001b[0m\n\u001b[0m\u001b[1;32m      2\u001b[0m \u001b[0mprint\u001b[0m\u001b[0;34m(\u001b[0m\u001b[0msözlük\u001b[0m\u001b[0;34m)\u001b[0m\u001b[0;34m\u001b[0m\u001b[0;34m\u001b[0m\u001b[0m\n",
            "\u001b[0;31mKeyError\u001b[0m: ('animal', 'number')"
          ]
        }
      ]
    },
    {
      "cell_type": "code",
      "source": [
        "del sözlük['animal'], sözlük['pi']\n",
        "print(sözlük)"
      ],
      "metadata": {
        "colab": {
          "base_uri": "https://localhost:8080/"
        },
        "id": "dRJ21Gk7RcGB",
        "outputId": "ff2ba073-0e11-4c80-a7b7-9bdb2d8e5084"
      },
      "execution_count": null,
      "outputs": [
        {
          "output_type": "stream",
          "name": "stdout",
          "text": [
            "{'number': 40, 'is_good': True}\n"
          ]
        }
      ]
    },
    {
      "cell_type": "code",
      "source": [
        "family = dict(name1= 'Joseph', name2= 'Bella', name3='Aisha', name4= 'Bulend')\n",
        "list_family = list(family)    #EGER BÖYLE YAPARSAK SADECE KEYLERI DÖNÜSTÜRÜR ve EN SON TEKRAR DICT E \n",
        "print(list_family)            #CEVIRIRKEN VALUE DEGERLERI OLMADIGI ICIN HATA VERIR.(ASAGIUDAKI ÖRNEGE BAK)\n",
        "del list_family[0:2]      #Dilimleme ile sildik\n",
        "family = dict(list_family)\n",
        "print(family)"
      ],
      "metadata": {
        "colab": {
          "base_uri": "https://localhost:8080/",
          "height": 232
        },
        "id": "8Es-RoGuE51a",
        "outputId": "a36b8159-df0f-4bd6-cc61-38460ec3793c"
      },
      "execution_count": null,
      "outputs": [
        {
          "output_type": "stream",
          "name": "stdout",
          "text": [
            "['name1', 'name2', 'name3', 'name4']\n"
          ]
        },
        {
          "output_type": "error",
          "ename": "ValueError",
          "evalue": "ignored",
          "traceback": [
            "\u001b[0;31m---------------------------------------------------------------------------\u001b[0m",
            "\u001b[0;31mValueError\u001b[0m                                Traceback (most recent call last)",
            "\u001b[0;32m<ipython-input-11-189d0fd3b2d2>\u001b[0m in \u001b[0;36m<module>\u001b[0;34m()\u001b[0m\n\u001b[1;32m      3\u001b[0m \u001b[0mprint\u001b[0m\u001b[0;34m(\u001b[0m\u001b[0mlist_family\u001b[0m\u001b[0;34m)\u001b[0m            \u001b[0;31m#CEVIRIRKEN VALUE DEGERLERI OLMADIGI ICIN HATA VERIR.(ASAGIUDAKI ÖRNEGE BAK)\u001b[0m\u001b[0;34m\u001b[0m\u001b[0;34m\u001b[0m\u001b[0m\n\u001b[1;32m      4\u001b[0m \u001b[0;32mdel\u001b[0m \u001b[0mlist_family\u001b[0m\u001b[0;34m[\u001b[0m\u001b[0;36m0\u001b[0m\u001b[0;34m:\u001b[0m\u001b[0;36m2\u001b[0m\u001b[0;34m]\u001b[0m      \u001b[0;31m#Dilimleme ile sildik\u001b[0m\u001b[0;34m\u001b[0m\u001b[0;34m\u001b[0m\u001b[0m\n\u001b[0;32m----> 5\u001b[0;31m \u001b[0mfamily\u001b[0m \u001b[0;34m=\u001b[0m \u001b[0mdict\u001b[0m\u001b[0;34m(\u001b[0m\u001b[0mlist_family\u001b[0m\u001b[0;34m)\u001b[0m\u001b[0;34m\u001b[0m\u001b[0;34m\u001b[0m\u001b[0m\n\u001b[0m\u001b[1;32m      6\u001b[0m \u001b[0mprint\u001b[0m\u001b[0;34m(\u001b[0m\u001b[0mfamily\u001b[0m\u001b[0;34m)\u001b[0m\u001b[0;34m\u001b[0m\u001b[0;34m\u001b[0m\u001b[0m\n",
            "\u001b[0;31mValueError\u001b[0m: dictionary update sequence element #0 has length 5; 2 is required"
          ]
        }
      ]
    },
    {
      "cell_type": "code",
      "source": [
        "family = dict(name1= 'Joseph', name2= 'Bella', name3='Aisha', name4= 'Bulend')\n",
        "\n",
        "list_family = list(family.items())  #Ilk önce her bir key ve value yu ayirdik. ciktida gözüktügü gibi\n",
        "print(list_family)\n",
        "\n",
        "del list_family[0:2]    #Daha sonra 0'dan 2 ye kadar sildik.(2 dahil degil)\n",
        "family = dict(list_family)\n",
        "print(family)"
      ],
      "metadata": {
        "colab": {
          "base_uri": "https://localhost:8080/"
        },
        "id": "OEJ5azdYGI9G",
        "outputId": "10fe958e-e2c4-4eab-d502-84df0f361461"
      },
      "execution_count": null,
      "outputs": [
        {
          "output_type": "stream",
          "name": "stdout",
          "text": [
            "[('name1', 'Joseph'), ('name2', 'Bella'), ('name3', 'Aisha'), ('name4', 'Bulend')]\n",
            "{'name3': 'Aisha', 'name4': 'Bulend'}\n"
          ]
        }
      ]
    },
    {
      "cell_type": "markdown",
      "source": [
        "##Pop() METODU ILE ELEMAN SILME YOKSA DEFAULT MESAJ VERME"
      ],
      "metadata": {
        "id": "GUSUccUiEoNB"
      }
    },
    {
      "cell_type": "code",
      "source": [
        "family = dict(name1= 'Joseph', name2= 'Bella', name3='Aisha', name4= 'Bulend')\n",
        "print('deleted..... : ', family.pop('name1'))    #burda hangi elemani sildigimizi gösterdi\n",
        "print(family)                  #Burda silindikten sonra listenin son halini yazdirdi."
      ],
      "metadata": {
        "colab": {
          "base_uri": "https://localhost:8080/"
        },
        "id": "TPiivYdLD5ZP",
        "outputId": "b6277edd-77fa-48d4-aabe-58e0dbc99853"
      },
      "execution_count": null,
      "outputs": [
        {
          "output_type": "stream",
          "name": "stdout",
          "text": [
            "deleted..... :  Joseph\n",
            "{'name2': 'Bella', 'name3': 'Aisha', 'name4': 'Bulend'}\n"
          ]
        }
      ]
    },
    {
      "cell_type": "code",
      "source": [
        "family = dict(name1= 'Joseph', name2= 'Bella', name3='Aisha', name4= 'Bulend')\n",
        "print(family.pop('name8'))    #Olmadigi icin hata verir ama bir default deger döndürebiliriz. (asagidakki örnek)"
      ],
      "metadata": {
        "colab": {
          "base_uri": "https://localhost:8080/",
          "height": 181
        },
        "id": "hig1pUADEPD1",
        "outputId": "dd784399-73e4-42e7-bc3d-a1c4a55c624c"
      },
      "execution_count": null,
      "outputs": [
        {
          "output_type": "error",
          "ename": "KeyError",
          "evalue": "ignored",
          "traceback": [
            "\u001b[0;31m---------------------------------------------------------------------------\u001b[0m",
            "\u001b[0;31mKeyError\u001b[0m                                  Traceback (most recent call last)",
            "\u001b[0;32m<ipython-input-6-d8c3e134c129>\u001b[0m in \u001b[0;36m<module>\u001b[0;34m()\u001b[0m\n\u001b[1;32m      1\u001b[0m \u001b[0mfamily\u001b[0m \u001b[0;34m=\u001b[0m \u001b[0mdict\u001b[0m\u001b[0;34m(\u001b[0m\u001b[0mname1\u001b[0m\u001b[0;34m=\u001b[0m \u001b[0;34m'Joseph'\u001b[0m\u001b[0;34m,\u001b[0m \u001b[0mname2\u001b[0m\u001b[0;34m=\u001b[0m \u001b[0;34m'Bella'\u001b[0m\u001b[0;34m,\u001b[0m \u001b[0mname3\u001b[0m\u001b[0;34m=\u001b[0m\u001b[0;34m'Aisha'\u001b[0m\u001b[0;34m,\u001b[0m \u001b[0mname4\u001b[0m\u001b[0;34m=\u001b[0m \u001b[0;34m'Bulend'\u001b[0m\u001b[0;34m)\u001b[0m\u001b[0;34m\u001b[0m\u001b[0;34m\u001b[0m\u001b[0m\n\u001b[0;32m----> 2\u001b[0;31m \u001b[0mprint\u001b[0m\u001b[0;34m(\u001b[0m\u001b[0mfamily\u001b[0m\u001b[0;34m.\u001b[0m\u001b[0mpop\u001b[0m\u001b[0;34m(\u001b[0m\u001b[0;34m'name8'\u001b[0m\u001b[0;34m)\u001b[0m\u001b[0;34m)\u001b[0m\u001b[0;34m\u001b[0m\u001b[0;34m\u001b[0m\u001b[0m\n\u001b[0m",
            "\u001b[0;31mKeyError\u001b[0m: 'name8'"
          ]
        }
      ]
    },
    {
      "cell_type": "code",
      "source": [
        "family = dict(name1= 'Joseph', name2= 'Bella', name3='Aisha', name4= 'Bulend')\n",
        "print(family.pop('name8', \"silmek istediginiz eleman yok\"))"
      ],
      "metadata": {
        "colab": {
          "base_uri": "https://localhost:8080/"
        },
        "id": "eK675BSWEdZo",
        "outputId": "b807235e-b72c-4069-c7ad-4b4bc26d3c9b"
      },
      "execution_count": null,
      "outputs": [
        {
          "output_type": "stream",
          "name": "stdout",
          "text": [
            "silmek istediginiz eleman yok\n"
          ]
        }
      ]
    },
    {
      "cell_type": "markdown",
      "source": [
        "##DICT KOPYALAMA"
      ],
      "metadata": {
        "id": "_U3bJE6qG6Mq"
      }
    },
    {
      "cell_type": "code",
      "source": [
        "d1 = {'foo':100, 'bar':200, 'baz':300}\n",
        "d2 = d1.copy()\n",
        "print(d2)"
      ],
      "metadata": {
        "colab": {
          "base_uri": "https://localhost:8080/"
        },
        "id": "JeXwieTdG806",
        "outputId": "2ba9e044-661a-4221-cce4-ae747ecc2a88"
      },
      "execution_count": null,
      "outputs": [
        {
          "output_type": "stream",
          "name": "stdout",
          "text": [
            "{'foo': 100, 'bar': 200, 'baz': 300}\n"
          ]
        }
      ]
    },
    {
      "cell_type": "code",
      "source": [
        "d1 = {'foo':100, 'bar':200, 'baz':300}\n",
        "d3 = {}\n",
        "d3.update(d1)\n",
        "print(d3)"
      ],
      "metadata": {
        "colab": {
          "base_uri": "https://localhost:8080/"
        },
        "id": "eFx75mz1HJ3-",
        "outputId": "46df1265-3128-4d3f-ec56-c672574753fc"
      },
      "execution_count": null,
      "outputs": [
        {
          "output_type": "stream",
          "name": "stdout",
          "text": [
            "{'foo': 100, 'bar': 200, 'baz': 300}\n"
          ]
        }
      ]
    },
    {
      "cell_type": "code",
      "source": [
        "d4 = dict(d1)\n",
        "print(d4)"
      ],
      "metadata": {
        "colab": {
          "base_uri": "https://localhost:8080/"
        },
        "id": "9perm5XQHfU2",
        "outputId": "d4ada42b-afb3-48c8-9835-704f6ad5139a"
      },
      "execution_count": null,
      "outputs": [
        {
          "output_type": "stream",
          "name": "stdout",
          "text": [
            "{'foo': 100, 'bar': 200, 'baz': 300}\n"
          ]
        }
      ]
    },
    {
      "cell_type": "code",
      "source": [
        "d5 = d1   #cok tavsiye edilmiyor Cünkü bu durumda ayni id veriyor. Diger metodlarda farkli id ile üretiyor.\n",
        "          #FARKL ID LER ILE YAPMAMIZ DAHA SAGLIKLI\n",
        "print(d5)\n",
        "print(id(d1), ':d1')\n",
        "print(id(d5), ':d5')\n",
        "print(id(d4), ':d4')"
      ],
      "metadata": {
        "colab": {
          "base_uri": "https://localhost:8080/"
        },
        "id": "sw09mMj9Hk2F",
        "outputId": "b0c329d6-e95b-4899-919b-b3512f42ca62"
      },
      "execution_count": null,
      "outputs": [
        {
          "output_type": "stream",
          "name": "stdout",
          "text": [
            "{'foo': 100, 'bar': 200, 'baz': 300}\n",
            "139965802093936 :d1\n",
            "139965802093936 :d5\n",
            "139965801854528 :d4\n"
          ]
        }
      ]
    },
    {
      "cell_type": "code",
      "source": [
        "print(d1 == d2 == d3 == d4 == d5)"
      ],
      "metadata": {
        "colab": {
          "base_uri": "https://localhost:8080/"
        },
        "id": "MW9j4W51Hq5Z",
        "outputId": "c3af0cbe-298a-405e-b121-89105daef8cd"
      },
      "execution_count": null,
      "outputs": [
        {
          "output_type": "stream",
          "name": "stdout",
          "text": [
            "True\n"
          ]
        }
      ]
    },
    {
      "cell_type": "markdown",
      "source": [
        "##get('key', \"yoksa yazdirmak istedigimiz mesaj\" ) Metodu"
      ],
      "metadata": {
        "id": "RmV33NIbTIH6"
      }
    },
    {
      "cell_type": "code",
      "source": [
        "trEn = {\"pazartesi\" : 'Monday',\n",
        "        \"sali\" : 'Tuesday',\n",
        "        \"carsamba\" : 'Wednesday',\n",
        "        \"persembe\" : 'Thursday',\n",
        "        \"cuma\" : 'Friday' }\n",
        "\n",
        "arama = input(\"Türkce isim giriniz : \")\n",
        "print('INGILIZCESI : ', trEn[arama])    #ama girilen deger yoksa kod hata verir. Bu sebeple get() metodu kullanmamiz gerekir"
      ],
      "metadata": {
        "colab": {
          "base_uri": "https://localhost:8080/"
        },
        "id": "8WuHpcb3RpBn",
        "outputId": "12ea0b8e-41c9-44da-f4a0-c56a6bffb5d3"
      },
      "execution_count": null,
      "outputs": [
        {
          "output_type": "stream",
          "name": "stdout",
          "text": [
            "Türkce isim giriniz : carsamba\n",
            "INGILIZCESI :  Wednesday\n"
          ]
        }
      ]
    },
    {
      "cell_type": "code",
      "source": [
        "trEn = {\"pazartesi\" : 'Monday',\n",
        "        \"sali\" : 'Tuesday',\n",
        "        \"carsamba\" : 'Wednesday',\n",
        "        \"persembe\" : 'Thursday',\n",
        "        \"cuma\" : 'Friday' }\n",
        "\n",
        "arama = input(\"Türkce isim giriniz : \")\n",
        "\n",
        "print(\"Ingilizcesi : \", trEn.get(arama, 'Girdiginiz gün yanlis'))   #Eger yanlis girilirse yazdigimiz ciktiyi verir"
      ],
      "metadata": {
        "colab": {
          "base_uri": "https://localhost:8080/"
        },
        "id": "pHoLYbs5S2xX",
        "outputId": "1c3ea316-7ef6-486a-f633-48d2310c5bb5"
      },
      "execution_count": null,
      "outputs": [
        {
          "output_type": "stream",
          "name": "stdout",
          "text": [
            "Türkce isim giriniz : asdas\n",
            "Ingilizcesi :  Girdiginiz gün yanlis\n"
          ]
        }
      ]
    },
    {
      "cell_type": "markdown",
      "source": [
        "##setdefault() METODU ILE ARATTIGIMIZ DEGER YOKSA ARADIGIMIZ DEGERI OTOMATIK OLARAK DICTIONARYE EKLETME"
      ],
      "metadata": {
        "id": "x-gW_44GM5rf"
      }
    },
    {
      "cell_type": "code",
      "source": [
        "listem = {\n",
        "          100 : 'Animal',\n",
        "          200 : 'Flowers',\n",
        "          300 : 'Bear',\n",
        "          400 : 'Bird'\n",
        "          }\n",
        "#1\n",
        "print(listem.get(500, 'Arattiginiz deger yok'))   #liste ayni kalir.\n",
        "print(listem, end = '\\n')\n",
        "#3\n",
        "print(listem.setdefault(600,'Aradigin deger yok')) #arattigimiz deger key olarak , yazdirdigimiz mesaj da value olarak dictionarye atanir.\n",
        "print(listem)"
      ],
      "metadata": {
        "colab": {
          "base_uri": "https://localhost:8080/"
        },
        "id": "lm_41NFbNFK8",
        "outputId": "241aa40d-731a-4dae-f2a5-6cad8785c81f"
      },
      "execution_count": null,
      "outputs": [
        {
          "output_type": "stream",
          "name": "stdout",
          "text": [
            "Arattiginiz deger yok\n",
            "{100: 'Animal', 200: 'Flowers', 300: 'Bear', 400: 'Bird'}\n",
            "Aradigin deger yok\n",
            "{100: 'Animal', 200: 'Flowers', 300: 'Bear', 400: 'Bird', 600: 'Aradigin deger yok'}\n"
          ]
        }
      ]
    },
    {
      "cell_type": "markdown",
      "source": [
        "##Value DATASI ILE Key e ULASMA "
      ],
      "metadata": {
        "id": "iuyskMi9V9eN"
      }
    },
    {
      "cell_type": "code",
      "source": [
        "sözlük = {1 : 'one', 2 : 'two', 3 : 'three'}\n",
        "key_list = list(sözlük.keys())\n",
        "print(key_list)\n",
        "value_list = list(sözlük.values())\n",
        "print(value_list)"
      ],
      "metadata": {
        "colab": {
          "base_uri": "https://localhost:8080/"
        },
        "id": "2hOarC7-V89E",
        "outputId": "651f7168-4656-41c0-aee5-7292a8f36061"
      },
      "execution_count": null,
      "outputs": [
        {
          "output_type": "stream",
          "name": "stdout",
          "text": [
            "[1, 2, 3]\n",
            "['one', 'two', 'three']\n"
          ]
        }
      ]
    },
    {
      "cell_type": "markdown",
      "source": [
        "#KEY ile Value Ulasma"
      ],
      "metadata": {
        "id": "DABsFbEDoJKU"
      }
    },
    {
      "cell_type": "code",
      "source": [
        "#in 10^6 \n",
        "entfernungen  = {\n",
        "    'Merkur' : 58, \n",
        "    'Venus' : 108,\n",
        "    'Erde' : 150,\n",
        "    'Mars' : 228,\n",
        "    'Jupiter' :778,\n",
        "    'Saturn' :1427,\n",
        "    'Uranus' :2884,\n",
        "    'Neptun' :4509\n",
        "}\n",
        "\n",
        "\n",
        "umrechnungen = {\n",
        "    'km' : 1,\n",
        "    'm' : 1000,\n",
        "    'dm' : 10000,\n",
        "    'cm' : 100000\n",
        "}\n",
        "\n",
        "angefragte_planet = input('Bitte geben Sie den Namen des Planeten : ').title()\n",
        "angefragte_einheit = input('In welcher Einheit soll die Entfernung zur Sonne angezeigt werden? : ').lower()\n",
        "\n",
        "ergebnis = entfernungen[angefragte_planet] * 1000000 * umrechnungen[angefragte_einheit]\n",
        "\n",
        "print(f'Der Planet {angefragte_planet} hat eine Entfernung von {ergebnis} {angefragte_einheit} zur Sonne.')\n"
      ],
      "metadata": {
        "colab": {
          "base_uri": "https://localhost:8080/"
        },
        "id": "EFp8-txZoMCU",
        "outputId": "c0808f49-1882-418d-a79c-570451489012"
      },
      "execution_count": null,
      "outputs": [
        {
          "output_type": "stream",
          "name": "stdout",
          "text": [
            "Bitte geben Sie den Namen des Planeten : URANUS\n",
            "In welcher Einheit soll die Entfernung zur Sonne angezeigt werden? : CM\n",
            "Der Planet Uranus ist 288400000000000 cm zur Sonne entfernt\n"
          ]
        }
      ]
    },
    {
      "cell_type": "markdown",
      "source": [
        "##in methodu ile dictionary de o degerin olup olmadigini check etme"
      ],
      "metadata": {
        "id": "C2wMxGB3Tu1M"
      }
    },
    {
      "cell_type": "code",
      "source": [
        "family = dict(name1= 'Joseph', name2= 'Bella', name3='Aisha', name4= 'Bulend')    ####??????? olmadi\n",
        "\n",
        "print(name1 in dict)"
      ],
      "metadata": {
        "colab": {
          "base_uri": "https://localhost:8080/",
          "height": 198
        },
        "id": "NDXUB_KFTOaD",
        "outputId": "5fe41f67-64a8-4d9d-e320-16da887c7d5d"
      },
      "execution_count": null,
      "outputs": [
        {
          "output_type": "error",
          "ename": "NameError",
          "evalue": "ignored",
          "traceback": [
            "\u001b[0;31m---------------------------------------------------------------------------\u001b[0m",
            "\u001b[0;31mNameError\u001b[0m                                 Traceback (most recent call last)",
            "\u001b[0;32m<ipython-input-1-f04e48aed4bd>\u001b[0m in \u001b[0;36m<module>\u001b[0;34m()\u001b[0m\n\u001b[1;32m      1\u001b[0m \u001b[0mfamily\u001b[0m \u001b[0;34m=\u001b[0m \u001b[0mdict\u001b[0m\u001b[0;34m(\u001b[0m\u001b[0mname1\u001b[0m\u001b[0;34m=\u001b[0m \u001b[0;34m'Joseph'\u001b[0m\u001b[0;34m,\u001b[0m \u001b[0mname2\u001b[0m\u001b[0;34m=\u001b[0m \u001b[0;34m'Bella'\u001b[0m\u001b[0;34m,\u001b[0m \u001b[0mname3\u001b[0m\u001b[0;34m=\u001b[0m\u001b[0;34m'Aisha'\u001b[0m\u001b[0;34m,\u001b[0m \u001b[0mname4\u001b[0m\u001b[0;34m=\u001b[0m \u001b[0;34m'Bulend'\u001b[0m\u001b[0;34m)\u001b[0m    \u001b[0;31m####??????? olmadi\u001b[0m\u001b[0;34m\u001b[0m\u001b[0;34m\u001b[0m\u001b[0m\n\u001b[1;32m      2\u001b[0m \u001b[0;34m\u001b[0m\u001b[0m\n\u001b[0;32m----> 3\u001b[0;31m \u001b[0mprint\u001b[0m\u001b[0;34m(\u001b[0m\u001b[0mname1\u001b[0m \u001b[0;32min\u001b[0m \u001b[0mfamily\u001b[0m\u001b[0;34m)\u001b[0m\u001b[0;34m\u001b[0m\u001b[0;34m\u001b[0m\u001b[0m\n\u001b[0m",
            "\u001b[0;31mNameError\u001b[0m: name 'name1' is not defined"
          ]
        }
      ]
    },
    {
      "cell_type": "code",
      "source": [
        "numbers = [1, 3, 4, 3, 0, 3, 6, 3]\n",
        "sayac = 0\n",
        "for i in numbers :\n",
        "  tekrar_sayisi = numbers.count(i)\n",
        "  if tekrar_sayisi > sayac :\n",
        "    sayac  = tekrar_sayisi\n",
        "    deger = i\n",
        "print('En fazla tekrar eden sayi : {}\\nTekrar sayisi : {}'.format(deger, tekrar_sayisi))\n"
      ],
      "metadata": {
        "colab": {
          "base_uri": "https://localhost:8080/"
        },
        "id": "zTjUcgn325WY",
        "outputId": "14b2fe7b-c61b-4f9d-bea9-58b44c5f8f28"
      },
      "execution_count": null,
      "outputs": [
        {
          "output_type": "stream",
          "name": "stdout",
          "text": [
            "En fazla tekrar eden sayi : 4\n",
            "Tekrar sayisi : 7\n"
          ]
        }
      ]
    },
    {
      "cell_type": "code",
      "source": [
        "mydict = {\n",
        "          1: \"I love\",\n",
        "          2: \"Python!!\"\n",
        "}\n",
        "\n",
        "print(*mydict)\n"
      ],
      "metadata": {
        "colab": {
          "base_uri": "https://localhost:8080/"
        },
        "id": "4g9ksfFeKdTI",
        "outputId": "9f618fc6-2ea2-4b93-c6e2-780020dc75de"
      },
      "execution_count": null,
      "outputs": [
        {
          "output_type": "stream",
          "name": "stdout",
          "text": [
            "1 2\n"
          ]
        }
      ]
    },
    {
      "cell_type": "markdown",
      "source": [
        "## DICT(ZIP(.... , ....)) METODU-------- ZIP() METODU"
      ],
      "metadata": {
        "id": "B2NyRFSxDOqq"
      }
    },
    {
      "cell_type": "code",
      "source": [
        "a = dict(zip(['one', 'two', 'three'], [1, 2, 3]))\n",
        "print(a)"
      ],
      "metadata": {
        "colab": {
          "base_uri": "https://localhost:8080/"
        },
        "id": "th12nOPvC4uW",
        "outputId": "6c1638f2-0f98-4697-cd16-6e3006ef8593"
      },
      "execution_count": null,
      "outputs": [
        {
          "output_type": "stream",
          "name": "stdout",
          "text": [
            "{'one': 1, 'two': 2, 'three': 3}\n"
          ]
        }
      ]
    },
    {
      "cell_type": "code",
      "source": [
        "liste = [13, 27, 'a', 44, 13,82, 88, 32, 88, 24, 88]\n",
        "\n",
        "frequent = [liste.count(i) for i in liste]\n",
        "\n",
        "a = dict(zip(liste, frequent))\n",
        "print(a)"
      ],
      "metadata": {
        "colab": {
          "base_uri": "https://localhost:8080/"
        },
        "id": "HFNe_2SpC5S9",
        "outputId": "4dfd5187-7a9d-402a-cb4c-eb3fb32a63a9"
      },
      "execution_count": null,
      "outputs": [
        {
          "output_type": "stream",
          "name": "stdout",
          "text": [
            "{13: 2, 27: 1, 'a': 1, 44: 1, 82: 1, 88: 3, 32: 1, 24: 1}\n"
          ]
        }
      ]
    },
    {
      "cell_type": "markdown",
      "source": [
        "### !!!!!!!ZIP VE ZIPSIZ HALI FOR ILE !!!!!"
      ],
      "metadata": {
        "id": "cyuKNs0GEpEv"
      }
    },
    {
      "cell_type": "code",
      "source": [
        "fruits = ['Apples', 'Oranges', 'Bananas'] \n",
        "quantities = [5, 3, 4] \n",
        "prices = [1.50, 2.25, 0.89]\n",
        "\n",
        "print(list(zip(fruits, quantities, prices)))"
      ],
      "metadata": {
        "colab": {
          "base_uri": "https://localhost:8080/"
        },
        "id": "7yAmF_NYCCsn",
        "outputId": "36d8727b-392c-4564-fd44-2de785ccf26d"
      },
      "execution_count": null,
      "outputs": [
        {
          "output_type": "stream",
          "name": "stdout",
          "text": [
            "[('Apples', 5, 1.5), ('Oranges', 3, 2.25), ('Bananas', 4, 0.89)]\n"
          ]
        }
      ]
    },
    {
      "cell_type": "code",
      "source": [
        "fruits = ['Apples', 'Oranges', 'Bananas']     #same method\n",
        "quantities = [5, 3, 4] \n",
        "prices = [1.50, 2.25, 0.89] \n",
        "output=[] \n",
        " \n",
        "fruit_tuple_0 = (fruits[0], quantities[0], prices[0]) \n",
        "output.append(fruit_tuple_0) \n",
        "fruit_tuple_1 = (fruits[1], quantities[1], prices[1]) \n",
        "output.append(fruit_tuple_1) \n",
        "fruit_tuple_2 = (fruits[2], quantities[2], prices[2]) \n",
        "output.append(fruit_tuple_2) \n",
        "print(output)"
      ],
      "metadata": {
        "colab": {
          "base_uri": "https://localhost:8080/"
        },
        "id": "yc1To9SBCnzC",
        "outputId": "0decda74-dadf-49bf-eb39-919b5224ddb4"
      },
      "execution_count": null,
      "outputs": [
        {
          "output_type": "stream",
          "name": "stdout",
          "text": [
            "[('Apples', 5, 1.5), ('Oranges', 3, 2.25), ('Bananas', 4, 0.89)]\n"
          ]
        }
      ]
    },
    {
      "cell_type": "code",
      "source": [
        "fruit_tuple_0 = (fruits[0], quantities[0], prices[0])   #That is true too\n",
        "output.append(output) \n",
        "fruit_tuple_1 = (fruits[1], quantities[1], prices[1]) \n",
        "output.append(output) \n",
        "fruit_tuple_2 = (fruits[2], quantities[2], prices[2]) \n",
        "output.append(output) \n",
        "print(fruit_tuple_0, fruit_tuple_1, fruit_tuple_2)    #here are the differences"
      ],
      "metadata": {
        "colab": {
          "base_uri": "https://localhost:8080/"
        },
        "id": "9C8H9nHmDDhz",
        "outputId": "01ce1073-9e6c-40ac-a6af-b41074662e30"
      },
      "execution_count": null,
      "outputs": [
        {
          "output_type": "stream",
          "name": "stdout",
          "text": [
            "('Apples', 5, 1.5) ('Oranges', 3, 2.25) ('Bananas', 4, 0.89)\n"
          ]
        }
      ]
    },
    {
      "cell_type": "code",
      "source": [
        "fruits = ['Apples', 'Oranges', 'Bananas'] \n",
        "quantities = [5, 3, 4] \n",
        "prices = [1.50, 2.25, 0.89] \n",
        "i = 0 \n",
        "output = [] \n",
        "for fruit in fruits: \n",
        "    temp_qty = quantities[i] \n",
        "    temp_price = prices[i] \n",
        "    output.append((fruit, temp_qty, temp_price))\n",
        "    i += 1\n",
        "print(output)"
      ],
      "metadata": {
        "colab": {
          "base_uri": "https://localhost:8080/"
        },
        "id": "_psiOm6tDYZ2",
        "outputId": "13583e13-0656-4dc9-d6c5-e6731497def9"
      },
      "execution_count": null,
      "outputs": [
        {
          "output_type": "stream",
          "name": "stdout",
          "text": [
            "[('Apples', 5, 1.5), ('Oranges', 3, 2.25), ('Bananas', 4, 0.89)]\n"
          ]
        }
      ]
    },
    {
      "cell_type": "markdown",
      "source": [
        "##NESTED DICT ----IC ICE SÖZLÜK YAPISI"
      ],
      "metadata": {
        "id": "AJ30aibvJSDO"
      }
    },
    {
      "cell_type": "code",
      "source": [
        "school_records={\n",
        "\t'personal_info':\n",
        "\t\t{'kid':{'tom':{'class':'intermediate', 'age':10},\n",
        "\t\t\t'sue':{'class':'elemantary', 'age':8}\n",
        "\t\t\t},\n",
        "\t\t'teen':{'joseph':{'class':'college', 'age':19},\n",
        "\t\t\t'marry':{'class':'high school', 'age':16}\n",
        "\t\t\t},\n",
        "\t\t},\n",
        "\t'grades_info':\n",
        "\t\t{'kid':{'tom':{'math':88, 'speech':69},\n",
        "\t\t\t'sue':{'math':90, 'speech':81}\n",
        "\t\t\t},\n",
        "\t\t'teen':{'joseph':{'coding':80, 'math':89},\n",
        "\t\t\t'marry':{'coding':70, 'math':96}\n",
        "\t\t\t},\n",
        "\t\t}\n",
        "}\n",
        "\n",
        "print(school_records['personal_info']['teen']['marry']['age'])\n",
        "\n",
        "print('math note : ', school_records['grades_info']['teen']['joseph']['math'])\n",
        "print('coding note : ', school_records['grades_info']['teen']['joseph']['coding'])\n"
      ],
      "metadata": {
        "colab": {
          "base_uri": "https://localhost:8080/"
        },
        "id": "cNXhRLkpJWYN",
        "outputId": "ae030992-9a37-4b7a-8a73-aa382990bdad"
      },
      "execution_count": null,
      "outputs": [
        {
          "output_type": "stream",
          "name": "stdout",
          "text": [
            "16\n",
            "math note :  89\n",
            "coding note :  80\n",
            "Joseph verileri :  {'coding': 80, 'math': 89}\n"
          ]
        }
      ]
    },
    {
      "cell_type": "code",
      "source": [
        "print('Joseph verileri : ', school_records['grades_info']['teen']['joseph'])  #veya\n",
        "print('veya')\n",
        "print('Joseph verileri : ', school_records['grades_info']['teen']['joseph'].items(),'\\n')\n",
        "\n",
        "#ciktidaki dict_items yazisini kaldirmak icin list sarmalina aldim\n",
        "print('!!!!direct_item yazisini kaldirmak icin list sarmalina aldim!!!!1\\n')\n",
        "print('Joseph verileri : ', list(school_records['grades_info']['teen']['joseph'].items()))  "
      ],
      "metadata": {
        "colab": {
          "base_uri": "https://localhost:8080/"
        },
        "id": "S1O9tmW5LZpi",
        "outputId": "2b1902b7-0ce5-4f27-ba81-8c39187e918d"
      },
      "execution_count": null,
      "outputs": [
        {
          "output_type": "stream",
          "name": "stdout",
          "text": [
            "Joseph verileri :  {'coding': 80, 'math': 89}\n",
            "veya\n",
            "Joseph verileri :  dict_items([('coding', 80), ('math', 89)]) \n",
            "\n",
            "!!!!direct_item yazisini kaldirmak icin list sarmalina aldim!!!!1\n",
            "\n",
            "Joseph verileri :  [('coding', 80), ('math', 89)]\n"
          ]
        }
      ]
    },
    {
      "cell_type": "code",
      "source": [
        "names = {\n",
        "  'friends' : {\n",
        "    'friend1' : {'first' : 'Sue', 'last': 'Bold'},\n",
        "    'friend2' : {'first' : 'Steve', 'last' : 'Smith'}\n",
        "  },\n",
        "\n",
        "  'family' : {\n",
        "      'family1' : {'first' : 'Ali', 'last' : 'Kahraman'},\n",
        "      'family2' : {'first': 'Mehmet', 'last' : 'Kartal'},\n",
        "      'family3' : {'first': 'Ismail', 'last' : 'Mücahit'}\n",
        "  }\n",
        "}\n",
        "    \n",
        "print(names)"
      ],
      "metadata": {
        "colab": {
          "base_uri": "https://localhost:8080/"
        },
        "id": "_TUgslQROOlg",
        "outputId": "6970407a-d385-4df4-c7e6-f3bbbf925158"
      },
      "execution_count": null,
      "outputs": [
        {
          "output_type": "stream",
          "name": "stdout",
          "text": [
            "{'friends': {'friend1': {'first': 'Sue', 'last': 'Bold'}, 'friend2': {'first': 'Steve', 'last': 'Smith'}}, 'family': {'family1': {'first': 'Ali', 'last': 'Kahraman'}, 'family2': {'first': 'Mehmet', 'last': 'Kartal'}}}\n"
          ]
        }
      ]
    },
    {
      "cell_type": "code",
      "source": [
        "names = {\n",
        "  'friends' : {\n",
        "    'friend1' : {'first' : 'Sue', 'last': 'Bold'},\n",
        "    'friend2' : {'first' : 'Steve', 'last' : 'Smith'}\n",
        "  },\n",
        "\n",
        "  'family' : {\n",
        "      'family1' : {'first' : 'Ali', 'last' : 'Kahraman'},\n",
        "      'family2' : {'first': 'Mehmet', 'last' : 'Kartal'},\n",
        "      'family3' : {'first': 'Ismail', 'last' : 'Mücahit'}\n",
        "  }\n",
        "}\n",
        "\n",
        "delete_family3 = names['family'].pop('family3')\n",
        "print(delete_family3)   #deleted item\n",
        "print(names)        #Silindikten sonraki hali \n"
      ],
      "metadata": {
        "colab": {
          "base_uri": "https://localhost:8080/"
        },
        "id": "F0UfTBvsRmkm",
        "outputId": "d91a631d-fcb6-43cf-c749-7b421cdb6345"
      },
      "execution_count": null,
      "outputs": [
        {
          "output_type": "stream",
          "name": "stdout",
          "text": [
            "{'first': 'Ismail', 'last': 'Mücahit'}\n",
            "{'friends': {'friend1': {'first': 'Sue', 'last': 'Bold'}, 'friend2': {'first': 'Steve', 'last': 'Smith'}}, 'family': {'family1': {'first': 'Ali', 'last': 'Kahraman'}, 'family2': {'first': 'Mehmet', 'last': 'Kartal'}}}\n"
          ]
        }
      ]
    },
    {
      "cell_type": "code",
      "source": [
        "liste = [\n",
        "    'a',\n",
        "    'b',\n",
        "    {\n",
        "        'foo': 1,\n",
        "        'bar':\n",
        "        {\n",
        "            'x' : 10,\n",
        "            'y' : 20,\n",
        "            'z' : 30\n",
        "        },\n",
        "        'baz': 3\n",
        "    },\n",
        "    'c',\n",
        "    'd'\n",
        "]\n",
        "a = liste[2]['bar']['z']\n",
        "print(a)\n",
        "print(type(liste))"
      ],
      "metadata": {
        "colab": {
          "base_uri": "https://localhost:8080/"
        },
        "id": "oJeRdZqtWWAq",
        "outputId": "c0a4aad7-0f1b-4004-9900-a7dad295f130"
      },
      "execution_count": null,
      "outputs": [
        {
          "output_type": "stream",
          "name": "stdout",
          "text": [
            "30\n",
            "<class 'list'>\n"
          ]
        }
      ]
    },
    {
      "cell_type": "markdown",
      "source": [
        "#Bir listede en fazla tekrar eden karakteri ve ne kadar tekrar ettigini bulma"
      ],
      "metadata": {
        "id": "PNTJSeNEkDHB"
      }
    },
    {
      "cell_type": "code",
      "source": [
        "liste = [13, 27, 'a', 44, 13,82, 88, 32, 88, 24, 88]\n",
        "sayac = 0\n",
        "\n",
        "for i in liste :\n",
        "  tekrar_sayisi = liste.count(i)\n",
        "  \n",
        "  if tekrar_sayisi > sayac : \n",
        "    sayac = tekrar_sayisi\n",
        "    deger = i\n",
        "\n",
        "print(\"Listede en fazla tekrar eden sayi : {}\\nTekrar Sayisi : {}\".format(deger, tekrar_sayisi))"
      ],
      "metadata": {
        "colab": {
          "base_uri": "https://localhost:8080/"
        },
        "id": "0mNYNlaPbS1U",
        "outputId": "252b6a57-e681-459a-d7fd-1d0ca26b5e05"
      },
      "execution_count": null,
      "outputs": [
        {
          "output_type": "stream",
          "name": "stdout",
          "text": [
            "Listede en fazla tekrar eden sayi : 88\n",
            "Tekrar Sayisi : 3\n"
          ]
        }
      ]
    },
    {
      "cell_type": "code",
      "source": [
        "#####Pythonic Solution1########\n",
        "numbers = [1,3,7,'a',4,3,0,3,'a',3, 'a', 'a', 'a']\n",
        "item = max(numbers, key = numbers.count)    #key bize neye göre max almamiz gerektigini söyler!Numbers icindeki degerlerin tekrar sayisina göre max tekrar edeni bul.\n",
        "print(item)\n",
        "frequent = numbers.count(item)\n",
        "print(f\"The most frequent item is '{item}' and it was {frequent} times repeated.\")"
      ],
      "metadata": {
        "colab": {
          "base_uri": "https://localhost:8080/"
        },
        "id": "fe9Cm_CL-rF6",
        "outputId": "74f4dcc0-f909-4d1e-d2b3-6a37844e7f7b"
      },
      "execution_count": null,
      "outputs": [
        {
          "output_type": "stream",
          "name": "stdout",
          "text": [
            "a\n",
            "The most frequent item is 'a' and it was 5 times repeated.\n"
          ]
        }
      ]
    },
    {
      "cell_type": "code",
      "source": [
        "#####Pythonic Solution2 #####\n",
        "from statistics import mode\n",
        "numbers = [13,7,12,12,7,8,6,23,12,12]\n",
        "item = mode(numbers)    #numbers icindeki hangi sayinin en fazla tekrar ettigin bulmayi saglayan metod mode(liste_ad)\n",
        "frequent = numbers.count(item)\n",
        "print(f'The most frequent number is {item} and it was {frequent} times repeated.')"
      ],
      "metadata": {
        "id": "nhEYrvH8_kqA",
        "colab": {
          "base_uri": "https://localhost:8080/"
        },
        "outputId": "5464777a-1365-487f-a3ca-1f73c6b72b5a"
      },
      "execution_count": null,
      "outputs": [
        {
          "output_type": "stream",
          "name": "stdout",
          "text": [
            "The most frequent number is 12 and it was 4 times repeated.\n"
          ]
        }
      ]
    },
    {
      "cell_type": "code",
      "source": [
        "###### Pythonic Solution 3 ##########\n",
        "from collections import Counter\n",
        "numbers = [1,3,7,4,3,10,3,6,3,3,10]\n",
        "item = Counter(numbers).most_common(len(numbers))\n",
        "print(item)\n",
        "print (f\" The most frequent number is {item[0][0]} and it was {item[0][1]} times repeated.\")"
      ],
      "metadata": {
        "id": "aiEEAW8XUs-K",
        "colab": {
          "base_uri": "https://localhost:8080/"
        },
        "outputId": "dcf9cbd9-48d8-487d-f1f9-9a0859869015"
      },
      "execution_count": null,
      "outputs": [
        {
          "output_type": "stream",
          "name": "stdout",
          "text": [
            "[(3, 5), (10, 2), (1, 1), (7, 1), (4, 1), (6, 1)]\n",
            " The most frequent number is 3 and it was 5 times repeated.\n"
          ]
        }
      ]
    },
    {
      "cell_type": "code",
      "source": [
        "from collections import Counter\n",
        "numbers = [1,3,7,4,3,10,3,6,3,3,10]\n",
        "item = Counter(numbers).most_common(len(numbers))\n",
        "print(item)\n",
        "print (f\" The most frequent number is {item[0][0]} and it was {item[0][1]} times repeated.\")"
      ],
      "metadata": {
        "colab": {
          "base_uri": "https://localhost:8080/"
        },
        "id": "O6XDFApNOLQY",
        "outputId": "84b98e9b-ebbe-4e29-9157-3900e6a7c093"
      },
      "execution_count": null,
      "outputs": [
        {
          "output_type": "stream",
          "name": "stdout",
          "text": [
            "[(3, 5), (10, 2), (1, 1), (7, 1), (4, 1), (6, 1)]\n",
            " The most frequent number is 3 and it was 5 times repeated.\n"
          ]
        }
      ]
    },
    {
      "cell_type": "markdown",
      "source": [
        "#STRING BIR IFADENIN ICINDEKI KARAKTERLERIN KAC DEFA TEKRAR ETTIGINI BULMA VE ZIP() METODU ILE YAZDIRMA"
      ],
      "metadata": {
        "id": "BxpEMuprA03N"
      }
    },
    {
      "cell_type": "code",
      "source": [
        "word = input(\"Schreiben Sie bitte einen Satz\")\n",
        "\n",
        "word= list(word) \n",
        "\n",
        "tekrar = [word.count(i) for i in word]\n",
        "\n",
        "sonuc = dict(zip(word, tekrar))\n",
        "\n",
        "print(sonuc)"
      ],
      "metadata": {
        "colab": {
          "base_uri": "https://localhost:8080/"
        },
        "id": "aEQgitsxxjg3",
        "outputId": "6d7e0db1-1d61-4d6b-aa43-3b1ca7d69a02"
      },
      "execution_count": null,
      "outputs": [
        {
          "output_type": "stream",
          "name": "stdout",
          "text": [
            "Schreiben Sie bitte einen SatzDogukan d!!! \"?222\n",
            "{'D': 1, 'o': 1, 'g': 1, 'u': 1, 'k': 1, 'a': 1, 'n': 1, ' ': 2, 'd': 1, '!': 3, '\"': 1, '?': 1, '2': 3}\n"
          ]
        }
      ]
    },
    {
      "cell_type": "markdown",
      "source": [
        "##More Example"
      ],
      "metadata": {
        "id": "OI91SYcoWm2s"
      }
    },
    {
      "cell_type": "code",
      "source": [
        "capitals = {\"USA\":\"Washington D.C.\", \"France\":\"Paris\", \"India\":\"New Delhi\"}\n",
        "\n",
        "for key in capitals:\n",
        "    print(\"Key = \" + key + \", Value = \" + capitals[key]) "
      ],
      "metadata": {
        "colab": {
          "base_uri": "https://localhost:8080/"
        },
        "id": "vudFxt3AWphx",
        "outputId": "d78d1d06-b702-4f6c-84a8-24e350f2e68e"
      },
      "execution_count": 2,
      "outputs": [
        {
          "output_type": "stream",
          "name": "stdout",
          "text": [
            "Key = USA, Value = Washington D.C.\n",
            "Key = France, Value = Paris\n",
            "Key = India, Value = New Delhi\n"
          ]
        }
      ]
    },
    {
      "cell_type": "code",
      "source": [
        "# create a dictionary\n",
        "squares = {1: 1, 2: 4, 3: 9, 4: 16, 5: 25}\n",
        "\n",
        "# remove a particular item, returns its value\n",
        "# Output: 16\n",
        "print(squares.pop(4))\n",
        "\n",
        "# Output: {1: 1, 2: 4, 3: 9, 5: 25}\n",
        "print(squares)\n",
        "\n",
        "# remove an arbitrary item, return (key,value)\n",
        "# Output: (5, 25)\n",
        "print(squares.popitem())\n",
        "\n",
        "# Output: {1: 1, 2: 4, 3: 9}\n",
        "print(squares)\n",
        "\n",
        "# remove all items\n",
        "squares.clear()\n",
        "\n",
        "# Output: {}\n",
        "print(squares)\n",
        "\n",
        "# delete the dictionary itself\n",
        "del squares\n",
        "\n",
        "# Throws Error\n",
        "#print(squares)"
      ],
      "metadata": {
        "colab": {
          "base_uri": "https://localhost:8080/"
        },
        "id": "b4gwtnojW_oF",
        "outputId": "9eb2158a-3a72-4cc3-f9c9-53487d3f321b"
      },
      "execution_count": 8,
      "outputs": [
        {
          "output_type": "stream",
          "name": "stdout",
          "text": [
            "16\n",
            "{1: 1, 2: 4, 3: 9, 5: 25}\n",
            "(5, 25)\n",
            "{1: 1, 2: 4, 3: 9}\n",
            "{}\n"
          ]
        }
      ]
    },
    {
      "cell_type": "markdown",
      "source": [
        "#---------------SET- KÜMELER METODU-----------------------"
      ],
      "metadata": {
        "id": "lWqx1kZjXO-H"
      }
    },
    {
      "cell_type": "code",
      "source": [
        "set_1 = { 'red', 'blue', 'yellow', 'red'} #direk {} icine yazdigimizda otomatik olarak set olur\n",
        "set_2 = 'red', 'blue', 'yellow', 'red'       # bu ise tupledir\n",
        "\n",
        "set_2 = set(set_2)\n",
        "\n",
        "print(set_1)    #IKI CIKTIDA DA TEKRAR EDENLER SADECE BIR KERE YAZILIR!!!!!!\n",
        "print(set_2)"
      ],
      "metadata": {
        "colab": {
          "base_uri": "https://localhost:8080/"
        },
        "id": "PahEJKbxXRjq",
        "outputId": "d6e8bee9-f9ac-4cb7-bccb-b1893e0a3480"
      },
      "execution_count": null,
      "outputs": [
        {
          "output_type": "stream",
          "name": "stdout",
          "text": [
            "{'yellow', 'red', 'blue'}\n",
            "{'yellow', 'red', 'blue'}\n"
          ]
        }
      ]
    },
    {
      "cell_type": "code",
      "source": [
        "#BOS SET OLUSTURMAK ICIN\n",
        "a = set()\n",
        "\n",
        "print(type(a))\n",
        "\n",
        "b = {}      #!!!!bu dict olarak algilanir. bu sekilde olmaz\n",
        "print(type(b), '\\t -----> bu bir dict tir')"
      ],
      "metadata": {
        "colab": {
          "base_uri": "https://localhost:8080/"
        },
        "id": "l8f-8x_nX0Jn",
        "outputId": "f972c15c-79ba-49f1-d6a1-d7a2f0d99167"
      },
      "execution_count": null,
      "outputs": [
        {
          "output_type": "stream",
          "name": "stdout",
          "text": [
            "<class 'set'>\n",
            "<class 'dict'> \t -----> bu bir dict tir\n"
          ]
        }
      ]
    },
    {
      "cell_type": "code",
      "source": [
        "flower_list = 'rose', 'violet', 'carnation', 'orchid', 'rose', 'orchid'\n",
        "flower_set = set(flower_list)\n",
        "flowerlist_again = list(flower_set)\n",
        "print(flower_set)     #bu set\n",
        "print(flowerlist_again) #bu liste"
      ],
      "metadata": {
        "colab": {
          "base_uri": "https://localhost:8080/"
        },
        "id": "LFYZWWQjYhja",
        "outputId": "d02136ea-4612-4714-cfef-3f81e1b62b7c"
      },
      "execution_count": null,
      "outputs": [
        {
          "output_type": "stream",
          "name": "stdout",
          "text": [
            "{'rose', 'violet', 'carnation', 'orchid'}\n",
            "['rose', 'violet', 'carnation', 'orchid']\n"
          ]
        }
      ]
    },
    {
      "cell_type": "code",
      "source": [
        "a = {'rose', 'violet', 'carnation', 'orchid', 'rose', 'orchid'}\n",
        "b = {'rose', 'violet', 'carnation', 'orchid'}\n",
        "\n",
        "print(a)      #Set oldugu icin ikisi de hicbir sey yapmasak bile ayni ciktiyi verir\n",
        "print(b)"
      ],
      "metadata": {
        "colab": {
          "base_uri": "https://localhost:8080/"
        },
        "id": "bKrdb7zpZHS1",
        "outputId": "49e35951-ca30-4fe4-91bf-d58ca11f2bc0"
      },
      "execution_count": null,
      "outputs": [
        {
          "output_type": "stream",
          "name": "stdout",
          "text": [
            "{'rose', 'violet', 'carnation', 'orchid'}\n",
            "{'rose', 'violet', 'carnation', 'orchid'}\n"
          ]
        }
      ]
    },
    {
      "cell_type": "code",
      "source": [
        "a = set('philadelphia')\n",
        "b = set('dolphin')\n",
        "print(a)\n",
        "print(b)\n",
        "\n"
      ],
      "metadata": {
        "colab": {
          "base_uri": "https://localhost:8080/"
        },
        "id": "YUGk9hz1c4zX",
        "outputId": "05d7e39b-dde4-4d20-b3d5-8e743566cf6c"
      },
      "execution_count": null,
      "outputs": [
        {
          "output_type": "stream",
          "name": "stdout",
          "text": [
            "{'i', 'h', 'l', 'p', 'a', 'd', 'e'}\n",
            "{'n', 'i', 'h', 'l', 'p', 'd', 'o'}\n",
            "{'a', 'e'}\n",
            "{'a', 'e'}\n",
            "{'o', 'n'}\n"
          ]
        }
      ]
    },
    {
      "cell_type": "code",
      "source": [
        "a = set('philadelphia')\n",
        "b = set('dolphin')\n",
        "print(a-b)\n",
        "print(a.difference(b))"
      ],
      "metadata": {
        "colab": {
          "base_uri": "https://localhost:8080/"
        },
        "id": "p1SCD-wydWy8",
        "outputId": "e5ed4df0-64d8-4550-90ca-5ad786acfc3f"
      },
      "execution_count": null,
      "outputs": [
        {
          "output_type": "stream",
          "name": "stdout",
          "text": [
            "{'a', 'e'}\n",
            "{'a', 'e'}\n"
          ]
        }
      ]
    },
    {
      "cell_type": "code",
      "source": [
        "a = set('philadelphia')\n",
        "b = set('dolphin')\n",
        "print(b-a)\n",
        "print(b.difference(a))"
      ],
      "metadata": {
        "colab": {
          "base_uri": "https://localhost:8080/"
        },
        "id": "D5w85GfldY7g",
        "outputId": "960e2fd4-2687-4a6b-9547-42f5a02b4e02"
      },
      "execution_count": null,
      "outputs": [
        {
          "output_type": "stream",
          "name": "stdout",
          "text": [
            "{'o', 'n'}\n",
            "{'o', 'n'}\n"
          ]
        }
      ]
    },
    {
      "cell_type": "code",
      "source": [
        "a = set('philadelphia')\n",
        "b = set('dolphin')\n",
        "print(a.union(b))\n",
        "print(a|b)"
      ],
      "metadata": {
        "colab": {
          "base_uri": "https://localhost:8080/"
        },
        "id": "IKC7agmidrE_",
        "outputId": "8346d2fe-818d-44e1-d5c4-30330d7857c0"
      },
      "execution_count": null,
      "outputs": [
        {
          "output_type": "stream",
          "name": "stdout",
          "text": [
            "{'n', 'i', 'h', 'l', 'p', 'a', 'd', 'o', 'e'}\n",
            "{'n', 'i', 'h', 'l', 'p', 'a', 'd', 'o', 'e'}\n"
          ]
        }
      ]
    },
    {
      "cell_type": "code",
      "source": [
        "usa_capital = set('Washington')\n",
        "new_zealand_capital = set('Wellington')\n",
        "\n",
        "inter = usa_capital.intersection(new_zealand_capital)\n",
        "print(inter)  # veya\n",
        "print(usa_capital & new_zealand_capital, '\\n')  #ortak olan karakterler\n",
        "\n",
        "dif = usa_capital.difference(new_zealand_capital)\n",
        "print(dif)      #usa olup nwz olmayan karakterler\n",
        "print(usa_capital-new_zealand_capital, '\\n')\n",
        "\n",
        "uni = usa_capital.union(new_zealand_capital)\n",
        "print(uni)\n",
        "print(usa_capital | new_zealand_capital)"
      ],
      "metadata": {
        "colab": {
          "base_uri": "https://localhost:8080/"
        },
        "id": "GfX8NYegfQQ7",
        "outputId": "214736a9-73ef-4f17-9bc7-73dec5db3b6c"
      },
      "execution_count": null,
      "outputs": [
        {
          "output_type": "stream",
          "name": "stdout",
          "text": [
            "{'g', 'W', 'i', 't', 'n', 'o'}\n",
            "{'g', 'W', 'i', 't', 'n', 'o'} \n",
            "\n",
            "{'h', 'a', 's'}\n",
            "{'h', 'a', 's'} \n",
            "\n",
            "{'g', 'W', 'i', 't', 'h', 'l', 'a', 's', 'n', 'o', 'e'}\n",
            "{'g', 'W', 'i', 't', 'h', 'l', 'a', 's', 'n', 'o', 'e'}\n"
          ]
        }
      ]
    },
    {
      "cell_type": "markdown",
      "source": [
        "##set ELEMANINA YENI ELEMAN EKLEME VEYA ELEMAN EKLEMEYE KAPATMA \"frozenset()\""
      ],
      "metadata": {
        "id": "JbiM7YPlhImt"
      }
    },
    {
      "cell_type": "code",
      "source": [
        "usa_capital = set('Washington')\n",
        "\n",
        "usa_capital.add('y')\n",
        "\n",
        "print(usa_capital)"
      ],
      "metadata": {
        "colab": {
          "base_uri": "https://localhost:8080/"
        },
        "id": "fV9524t7hQpV",
        "outputId": "95e46569-f799-4e84-d97f-b09237e35964"
      },
      "execution_count": null,
      "outputs": [
        {
          "output_type": "stream",
          "name": "stdout",
          "text": [
            "{'g', 'y', 'W', 'i', 't', 'h', 'a', 's', 'n', 'o'}\n"
          ]
        }
      ]
    },
    {
      "cell_type": "code",
      "source": [
        "usa_capital = set('Washington')\n",
        "usa_capital = frozenset('Washington')\n",
        "\n",
        "usa_capital.add('y')  #hata verir cünkü degisiklik yapma özelligini kapattik\n",
        "print(usa_capital)"
      ],
      "metadata": {
        "colab": {
          "base_uri": "https://localhost:8080/",
          "height": 215
        },
        "id": "fmjgvuMshbyr",
        "outputId": "473749f6-a184-484c-d040-05c0a34b487f"
      },
      "execution_count": null,
      "outputs": [
        {
          "output_type": "error",
          "ename": "AttributeError",
          "evalue": "ignored",
          "traceback": [
            "\u001b[0;31m---------------------------------------------------------------------------\u001b[0m",
            "\u001b[0;31mAttributeError\u001b[0m                            Traceback (most recent call last)",
            "\u001b[0;32m<ipython-input-92-e6230d6fadc9>\u001b[0m in \u001b[0;36m<module>\u001b[0;34m()\u001b[0m\n\u001b[1;32m      2\u001b[0m \u001b[0musa_capital\u001b[0m \u001b[0;34m=\u001b[0m \u001b[0mfrozenset\u001b[0m\u001b[0;34m(\u001b[0m\u001b[0;34m'Washington'\u001b[0m\u001b[0;34m)\u001b[0m\u001b[0;34m\u001b[0m\u001b[0;34m\u001b[0m\u001b[0m\n\u001b[1;32m      3\u001b[0m \u001b[0;34m\u001b[0m\u001b[0m\n\u001b[0;32m----> 4\u001b[0;31m \u001b[0musa_capital\u001b[0m\u001b[0;34m.\u001b[0m\u001b[0madd\u001b[0m\u001b[0;34m(\u001b[0m\u001b[0;34m'y'\u001b[0m\u001b[0;34m)\u001b[0m\u001b[0;34m\u001b[0m\u001b[0;34m\u001b[0m\u001b[0m\n\u001b[0m\u001b[1;32m      5\u001b[0m \u001b[0mprint\u001b[0m\u001b[0;34m(\u001b[0m\u001b[0musa_capital\u001b[0m\u001b[0;34m)\u001b[0m\u001b[0;34m\u001b[0m\u001b[0;34m\u001b[0m\u001b[0m\n",
            "\u001b[0;31mAttributeError\u001b[0m: 'frozenset' object has no attribute 'add'"
          ]
        }
      ]
    },
    {
      "cell_type": "code",
      "source": [
        "usa_capital = set('Washington')\n",
        "usa_capital = frozenset('Washington')\n",
        "usa_capital.clear() #Burda da degisiklik ypaamayacagimiz icin hata verir\n",
        "print(usa_capital)"
      ],
      "metadata": {
        "colab": {
          "base_uri": "https://localhost:8080/",
          "height": 215
        },
        "id": "huyU0O2jhuEB",
        "outputId": "9072a41d-f473-40cb-900a-014d077f2ef3"
      },
      "execution_count": null,
      "outputs": [
        {
          "output_type": "error",
          "ename": "AttributeError",
          "evalue": "ignored",
          "traceback": [
            "\u001b[0;31m---------------------------------------------------------------------------\u001b[0m",
            "\u001b[0;31mAttributeError\u001b[0m                            Traceback (most recent call last)",
            "\u001b[0;32m<ipython-input-93-41fc6ca4d1b1>\u001b[0m in \u001b[0;36m<module>\u001b[0;34m()\u001b[0m\n\u001b[1;32m      1\u001b[0m \u001b[0musa_capital\u001b[0m \u001b[0;34m=\u001b[0m \u001b[0mset\u001b[0m\u001b[0;34m(\u001b[0m\u001b[0;34m'Washington'\u001b[0m\u001b[0;34m)\u001b[0m\u001b[0;34m\u001b[0m\u001b[0;34m\u001b[0m\u001b[0m\n\u001b[1;32m      2\u001b[0m \u001b[0musa_capital\u001b[0m \u001b[0;34m=\u001b[0m \u001b[0mfrozenset\u001b[0m\u001b[0;34m(\u001b[0m\u001b[0;34m'Washington'\u001b[0m\u001b[0;34m)\u001b[0m\u001b[0;34m\u001b[0m\u001b[0;34m\u001b[0m\u001b[0m\n\u001b[0;32m----> 3\u001b[0;31m \u001b[0musa_capital\u001b[0m\u001b[0;34m.\u001b[0m\u001b[0mclear\u001b[0m\u001b[0;34m(\u001b[0m\u001b[0;34m)\u001b[0m\u001b[0;34m\u001b[0m\u001b[0;34m\u001b[0m\u001b[0m\n\u001b[0m\u001b[1;32m      4\u001b[0m \u001b[0mprint\u001b[0m\u001b[0;34m(\u001b[0m\u001b[0musa_capital\u001b[0m\u001b[0;34m)\u001b[0m\u001b[0;34m\u001b[0m\u001b[0;34m\u001b[0m\u001b[0m\n",
            "\u001b[0;31mAttributeError\u001b[0m: 'frozenset' object has no attribute 'clear'"
          ]
        }
      ]
    },
    {
      "cell_type": "markdown",
      "source": [
        "##!!!!!****set metodunda girilen yaziyi karakter karakter ayirio alma veya girilen metni tek bir eleman olarak alma!!!!****"
      ],
      "metadata": {
        "id": "bVa-nc5me7xJ"
      }
    },
    {
      "cell_type": "code",
      "source": [
        "a = {\"06/14/2022\"}    #tek eleman olarak alir\n",
        "b = set('06/14/2022')   # tek tek ayirir\n",
        "\n",
        "print(a)    #Ikisi de set olmasina ve ayni yazilar olmasina ragmen farkli ciktilar verdi.\n",
        "print(b)"
      ],
      "metadata": {
        "colab": {
          "base_uri": "https://localhost:8080/"
        },
        "id": "xaOoi6ISePNS",
        "outputId": "76b106a0-a813-4c26-a8a3-f2b7f70ca41b"
      },
      "execution_count": null,
      "outputs": [
        {
          "output_type": "stream",
          "name": "stdout",
          "text": [
            "{'06/14/2022'}\n",
            "{'2', '6', '0', '1', '/', '4'}\n"
          ]
        }
      ]
    },
    {
      "cell_type": "code",
      "source": [
        "cümle1 = {'Merhaba Hosgeldiniz'}\n",
        "cümle2 = set('Merhaba Hosgeldiniz')\n",
        "\n",
        "print(cümle1)\n",
        "print(cümle2) #!!!!Rastegele bir sirayla dizer.!!!!"
      ],
      "metadata": {
        "colab": {
          "base_uri": "https://localhost:8080/"
        },
        "id": "dMldGw8nDTPY",
        "outputId": "f6ad738f-2e20-439a-e19b-5d34b77d4eed"
      },
      "execution_count": null,
      "outputs": [
        {
          "output_type": "stream",
          "name": "stdout",
          "text": [
            "{'Merhaba Hosgeldiniz'}\n",
            "{'g', 'n', 'i', 'H', 'h', 'l', 'a', 'M', 'b', 's', 'd', ' ', 'r', 'z', 'o', 'e'}\n"
          ]
        }
      ]
    },
    {
      "cell_type": "markdown",
      "source": [
        "##SET METHODS"
      ],
      "metadata": {
        "id": "k4zZKVVMDvt_"
      }
    },
    {
      "cell_type": "code",
      "source": [
        "dir(set)"
      ],
      "metadata": {
        "colab": {
          "base_uri": "https://localhost:8080/"
        },
        "id": "CxsR-XxzDrvU",
        "outputId": "67c649e8-ed7d-41f9-b754-0864e2489828"
      },
      "execution_count": null,
      "outputs": [
        {
          "output_type": "execute_result",
          "data": {
            "text/plain": [
              "['__and__',\n",
              " '__class__',\n",
              " '__contains__',\n",
              " '__delattr__',\n",
              " '__dir__',\n",
              " '__doc__',\n",
              " '__eq__',\n",
              " '__format__',\n",
              " '__ge__',\n",
              " '__getattribute__',\n",
              " '__gt__',\n",
              " '__hash__',\n",
              " '__iand__',\n",
              " '__init__',\n",
              " '__init_subclass__',\n",
              " '__ior__',\n",
              " '__isub__',\n",
              " '__iter__',\n",
              " '__ixor__',\n",
              " '__le__',\n",
              " '__len__',\n",
              " '__lt__',\n",
              " '__ne__',\n",
              " '__new__',\n",
              " '__or__',\n",
              " '__rand__',\n",
              " '__reduce__',\n",
              " '__reduce_ex__',\n",
              " '__repr__',\n",
              " '__ror__',\n",
              " '__rsub__',\n",
              " '__rxor__',\n",
              " '__setattr__',\n",
              " '__sizeof__',\n",
              " '__str__',\n",
              " '__sub__',\n",
              " '__subclasshook__',\n",
              " '__xor__',\n",
              " 'add',\n",
              " 'clear',\n",
              " 'copy',\n",
              " 'difference',\n",
              " 'difference_update',\n",
              " 'discard',\n",
              " 'intersection',\n",
              " 'intersection_update',\n",
              " 'isdisjoint',\n",
              " 'issubset',\n",
              " 'issuperset',\n",
              " 'pop',\n",
              " 'remove',\n",
              " 'symmetric_difference',\n",
              " 'symmetric_difference_update',\n",
              " 'union',\n",
              " 'update']"
            ]
          },
          "metadata": {},
          "execution_count": 98
        }
      ]
    },
    {
      "cell_type": "markdown",
      "source": [
        "#hashable un hashable-Sözlükteki Key degeri her zaman immutable olmali"
      ],
      "metadata": {
        "id": "GjZZK3zHFHc0"
      }
    },
    {
      "cell_type": "code",
      "source": [
        "liste = [1, 2, 3, 5]\n",
        "\n",
        "sözlük = {liste : \"mesaj\"}  #unhashable hatasi verir. Cünkü mutable elemanlar key olamaz. list mutable dir.\n",
        "\n",
        "print(sözlük)       #ama asagidaki örnekte tam tersini yaparsak olur."
      ],
      "metadata": {
        "colab": {
          "base_uri": "https://localhost:8080/",
          "height": 232
        },
        "id": "kgMuIXA2Duqd",
        "outputId": "ec3e3ce7-8eb8-49e8-9bc8-871d75faaaa7"
      },
      "execution_count": null,
      "outputs": [
        {
          "output_type": "error",
          "ename": "TypeError",
          "evalue": "ignored",
          "traceback": [
            "\u001b[0;31m---------------------------------------------------------------------------\u001b[0m",
            "\u001b[0;31mTypeError\u001b[0m                                 Traceback (most recent call last)",
            "\u001b[0;32m<ipython-input-99-6ed60b7d2b40>\u001b[0m in \u001b[0;36m<module>\u001b[0;34m()\u001b[0m\n\u001b[1;32m      1\u001b[0m \u001b[0mliste\u001b[0m \u001b[0;34m=\u001b[0m \u001b[0;34m[\u001b[0m\u001b[0;36m1\u001b[0m\u001b[0;34m,\u001b[0m \u001b[0;36m2\u001b[0m\u001b[0;34m,\u001b[0m \u001b[0;36m3\u001b[0m\u001b[0;34m,\u001b[0m \u001b[0;36m5\u001b[0m\u001b[0;34m]\u001b[0m\u001b[0;34m\u001b[0m\u001b[0;34m\u001b[0m\u001b[0m\n\u001b[1;32m      2\u001b[0m \u001b[0;34m\u001b[0m\u001b[0m\n\u001b[0;32m----> 3\u001b[0;31m \u001b[0msözlük\u001b[0m \u001b[0;34m=\u001b[0m \u001b[0;34m{\u001b[0m\u001b[0mliste\u001b[0m \u001b[0;34m:\u001b[0m \u001b[0;34m\"mesaj\"\u001b[0m\u001b[0;34m}\u001b[0m\u001b[0;34m\u001b[0m\u001b[0;34m\u001b[0m\u001b[0m\n\u001b[0m\u001b[1;32m      4\u001b[0m \u001b[0;34m\u001b[0m\u001b[0m\n\u001b[1;32m      5\u001b[0m \u001b[0mprint\u001b[0m\u001b[0;34m(\u001b[0m\u001b[0msözlük\u001b[0m\u001b[0;34m)\u001b[0m\u001b[0;34m\u001b[0m\u001b[0;34m\u001b[0m\u001b[0m\n",
            "\u001b[0;31mTypeError\u001b[0m: unhashable type: 'list'"
          ]
        }
      ]
    },
    {
      "cell_type": "code",
      "source": [
        "liste = [2, 3, 4, 5]\n",
        "sözlük = {\"mesaj\" : liste}  #string, int ifadeler immutable oldugu icin bu formati destekler. \n",
        "print(sözlük)   #!!!!!key her zaman immutable olmalidir.!!!!!"
      ],
      "metadata": {
        "colab": {
          "base_uri": "https://localhost:8080/"
        },
        "id": "41N0YS9_EOrL",
        "outputId": "864a42e2-2926-42ce-bcb3-c00033b2e160"
      },
      "execution_count": null,
      "outputs": [
        {
          "output_type": "stream",
          "name": "stdout",
          "text": [
            "{'mesaj': [2, 3, 4, 5]}\n"
          ]
        }
      ]
    },
    {
      "cell_type": "code",
      "source": [
        "liste1 = [2, 3, 5, 6]\n",
        "sözlük = {tuple(liste1) : \"mesaj\"}    #!!!!Destekler.Cünkü mutable olan list'i immutable olan tupple'a cevirdik!!!!!\n",
        "print(sözlük)"
      ],
      "metadata": {
        "colab": {
          "base_uri": "https://localhost:8080/"
        },
        "id": "3oBOwAo4Ei9_",
        "outputId": "43fff10d-bd96-4a0a-cc31-a1e33c2111fa"
      },
      "execution_count": null,
      "outputs": [
        {
          "output_type": "stream",
          "name": "stdout",
          "text": [
            "{(2, 3, 5, 6): 'mesaj'}\n"
          ]
        }
      ]
    },
    {
      "cell_type": "code",
      "source": [
        "liste1 = [2, 3, 5, 6]\n",
        "\n",
        "sözlük = {110 :liste1}\n",
        "print(sözlük)"
      ],
      "metadata": {
        "colab": {
          "base_uri": "https://localhost:8080/"
        },
        "id": "-GI53iHCE-DQ",
        "outputId": "dd8f352b-c6fc-4d00-9d06-9848edeef9a0"
      },
      "execution_count": null,
      "outputs": [
        {
          "output_type": "stream",
          "name": "stdout",
          "text": [
            "{110: [2, 3, 5, 6]}\n"
          ]
        }
      ]
    },
    {
      "cell_type": "markdown",
      "source": [
        "##SETLERDE SILME KOMUTLARI"
      ],
      "metadata": {
        "id": "q1Xn90kORpDI"
      }
    },
    {
      "cell_type": "code",
      "source": [
        "capital = {'Washington'}\n",
        "capital.remove('h') #bütün elemanlar karakter karakter olmadigi icin hata verir. Asagidaki metod dogrudur.\n",
        "print(capital)"
      ],
      "metadata": {
        "colab": {
          "base_uri": "https://localhost:8080/",
          "height": 198
        },
        "id": "JJFY5wiWR9ka",
        "outputId": "b85a0b3e-e996-46a2-aa25-28b5c0a70210"
      },
      "execution_count": null,
      "outputs": [
        {
          "output_type": "error",
          "ename": "KeyError",
          "evalue": "ignored",
          "traceback": [
            "\u001b[0;31m---------------------------------------------------------------------------\u001b[0m",
            "\u001b[0;31mKeyError\u001b[0m                                  Traceback (most recent call last)",
            "\u001b[0;32m<ipython-input-106-7d862fa92568>\u001b[0m in \u001b[0;36m<module>\u001b[0;34m()\u001b[0m\n\u001b[1;32m      1\u001b[0m \u001b[0mcapital\u001b[0m \u001b[0;34m=\u001b[0m \u001b[0;34m{\u001b[0m\u001b[0;34m'Washington'\u001b[0m\u001b[0;34m}\u001b[0m\u001b[0;34m\u001b[0m\u001b[0;34m\u001b[0m\u001b[0m\n\u001b[0;32m----> 2\u001b[0;31m \u001b[0mcapital\u001b[0m\u001b[0;34m.\u001b[0m\u001b[0mremove\u001b[0m\u001b[0;34m(\u001b[0m\u001b[0;34m'h'\u001b[0m\u001b[0;34m)\u001b[0m\u001b[0;34m\u001b[0m\u001b[0;34m\u001b[0m\u001b[0m\n\u001b[0m\u001b[1;32m      3\u001b[0m \u001b[0mprint\u001b[0m\u001b[0;34m(\u001b[0m\u001b[0mcapital\u001b[0m\u001b[0;34m)\u001b[0m\u001b[0;34m\u001b[0m\u001b[0;34m\u001b[0m\u001b[0m\n",
            "\u001b[0;31mKeyError\u001b[0m: 'h'"
          ]
        }
      ]
    },
    {
      "cell_type": "code",
      "source": [
        "capital = set('Washington')\n",
        "capital.remove('h')\n",
        "print(capital)"
      ],
      "metadata": {
        "colab": {
          "base_uri": "https://localhost:8080/"
        },
        "id": "fqmmcmLEFWGI",
        "outputId": "0f1b4ea4-0ea9-4da5-dc8f-03ddfc3547c0"
      },
      "execution_count": null,
      "outputs": [
        {
          "output_type": "stream",
          "name": "stdout",
          "text": [
            "{'g', 'W', 'i', 't', 'a', 's', 'n', 'o'}\n"
          ]
        }
      ]
    },
    {
      "cell_type": "code",
      "source": [
        "capital = set('Washington')\n",
        "capital.pop()   #!!!!Ilk harfi siler. Ama program harfleri karisik olarak siraladigi icin hangi harfi sildigini bilemeyiz.\n",
        "#Saglikli bir metod degil\n",
        "print(capital)    "
      ],
      "metadata": {
        "colab": {
          "base_uri": "https://localhost:8080/"
        },
        "id": "V1JbqZnfSM5f",
        "outputId": "edcd4de7-2dec-4879-ad45-1fb8a764ec11"
      },
      "execution_count": null,
      "outputs": [
        {
          "output_type": "stream",
          "name": "stdout",
          "text": [
            "{'W', 'i', 't', 'h', 'a', 's', 'n', 'o'}\n"
          ]
        }
      ]
    },
    {
      "cell_type": "code",
      "source": [
        "capital = set(\"Istanbul\")\n",
        "capital. discard('a')\n",
        "print(capital)"
      ],
      "metadata": {
        "colab": {
          "base_uri": "https://localhost:8080/"
        },
        "id": "9WqJI1tdShzl",
        "outputId": "9efad2ac-ed2c-43b3-bdc4-b8894077a316"
      },
      "execution_count": null,
      "outputs": [
        {
          "output_type": "stream",
          "name": "stdout",
          "text": [
            "{'I', 't', 'u', 'l', 's', 'b', 'n'}\n"
          ]
        }
      ]
    },
    {
      "cell_type": "code",
      "source": [
        "#remove() silmek istedigimiz harf yoksa hata verir\n",
        "\n",
        "capital = set(\"Constantin\")\n",
        "capital.remove('K')\n",
        "\n",
        "print(capital)"
      ],
      "metadata": {
        "colab": {
          "base_uri": "https://localhost:8080/",
          "height": 232
        },
        "id": "f0Zz1KrVTGLA",
        "outputId": "4d590aa0-889a-40f4-d682-440297cd0544"
      },
      "execution_count": null,
      "outputs": [
        {
          "output_type": "error",
          "ename": "KeyError",
          "evalue": "ignored",
          "traceback": [
            "\u001b[0;31m---------------------------------------------------------------------------\u001b[0m",
            "\u001b[0;31mKeyError\u001b[0m                                  Traceback (most recent call last)",
            "\u001b[0;32m<ipython-input-110-7d7149ed3861>\u001b[0m in \u001b[0;36m<module>\u001b[0;34m()\u001b[0m\n\u001b[1;32m      2\u001b[0m \u001b[0;34m\u001b[0m\u001b[0m\n\u001b[1;32m      3\u001b[0m \u001b[0mcapital\u001b[0m \u001b[0;34m=\u001b[0m \u001b[0mset\u001b[0m\u001b[0;34m(\u001b[0m\u001b[0;34m\"Constantin\"\u001b[0m\u001b[0;34m)\u001b[0m\u001b[0;34m\u001b[0m\u001b[0;34m\u001b[0m\u001b[0m\n\u001b[0;32m----> 4\u001b[0;31m \u001b[0mcapital\u001b[0m\u001b[0;34m.\u001b[0m\u001b[0mremove\u001b[0m\u001b[0;34m(\u001b[0m\u001b[0;34m'K'\u001b[0m\u001b[0;34m)\u001b[0m\u001b[0;34m\u001b[0m\u001b[0;34m\u001b[0m\u001b[0m\n\u001b[0m\u001b[1;32m      5\u001b[0m \u001b[0;34m\u001b[0m\u001b[0m\n\u001b[1;32m      6\u001b[0m \u001b[0mprint\u001b[0m\u001b[0;34m(\u001b[0m\u001b[0mcapital\u001b[0m\u001b[0;34m)\u001b[0m\u001b[0;34m\u001b[0m\u001b[0;34m\u001b[0m\u001b[0m\n",
            "\u001b[0;31mKeyError\u001b[0m: 'K'"
          ]
        }
      ]
    },
    {
      "cell_type": "code",
      "source": [
        "#Discard() metodunda silmek istedigimiz harf olmasa bile hata vermez\n",
        "capital = set('Istanbul')\n",
        "capital.discard('J')\n",
        "print(capital)"
      ],
      "metadata": {
        "colab": {
          "base_uri": "https://localhost:8080/"
        },
        "id": "VrUF53bPS4J2",
        "outputId": "8b3f1162-7dbe-47ef-e005-972197474e7a"
      },
      "execution_count": null,
      "outputs": [
        {
          "output_type": "stream",
          "name": "stdout",
          "text": [
            "{'I', 't', 'u', 'a', 'l', 's', 'b', 'n'}\n"
          ]
        }
      ]
    },
    {
      "cell_type": "markdown",
      "source": [
        "##enumerate() komutu "
      ],
      "metadata": {
        "id": "91Koz3Rfc0-W"
      }
    },
    {
      "cell_type": "code",
      "source": [
        "list(enumerate('Python'))\n"
      ],
      "metadata": {
        "colab": {
          "base_uri": "https://localhost:8080/"
        },
        "id": "XG5L1QSqc8ZU",
        "outputId": "1e6bd797-8d87-42c7-91fa-a75f82528aa5"
      },
      "execution_count": null,
      "outputs": [
        {
          "output_type": "execute_result",
          "data": {
            "text/plain": [
              "[(0, 'P'), (1, 'y'), (2, 't'), (3, 'h'), (4, 'o'), (5, 'n')]"
            ]
          },
          "metadata": {},
          "execution_count": 3
        }
      ]
    },
    {
      "cell_type": "code",
      "source": [
        "tuple(enumerate('Python', start = 3 ))"
      ],
      "metadata": {
        "colab": {
          "base_uri": "https://localhost:8080/"
        },
        "id": "WUDFdCrrdP1s",
        "outputId": "5f8acf73-eea5-4481-de1c-848b8af61855"
      },
      "execution_count": null,
      "outputs": [
        {
          "output_type": "execute_result",
          "data": {
            "text/plain": [
              "((3, 'P'), (4, 'y'), (5, 't'), (6, 'h'), (7, 'o'), (8, 'n'))"
            ]
          },
          "metadata": {},
          "execution_count": 4
        }
      ]
    },
    {
      "cell_type": "code",
      "source": [
        "gün = ['Pazartesi', 'Sali', 'Carsamba', 'Persembe', 'Cuma', 'Cumartesi', 'Pazar']\n",
        "\n",
        "gün_list = list(enumerate(gün, start = 1))\n",
        "print(gün_list)"
      ],
      "metadata": {
        "colab": {
          "base_uri": "https://localhost:8080/"
        },
        "id": "iMDW4u1fdflx",
        "outputId": "98a8f859-6ad4-4520-dd86-6df5142746a5"
      },
      "execution_count": null,
      "outputs": [
        {
          "output_type": "stream",
          "name": "stdout",
          "text": [
            "[(1, 'Pazartesi'), (2, 'Sali'), (3, 'Carsamba'), (4, 'Persembe'), (5, 'Cuma'), (6, 'Cumartesi'), (7, 'Pazar')]\n"
          ]
        }
      ]
    },
    {
      "cell_type": "code",
      "source": [
        "rakam = int(input('Enter a number. : '))\n",
        "\n",
        "print(gün_list[rakam-1])        #Burda 3 carsamba olarak \n",
        "print(gün_list[rakam-1][1])      #Burda sadece günü yazdirmak icin bier daha iceri girdik"
      ],
      "metadata": {
        "colab": {
          "base_uri": "https://localhost:8080/"
        },
        "id": "8ARTrdIfeNM7",
        "outputId": "785144f4-d7ba-48d3-c04d-06138bd9a9af"
      },
      "execution_count": null,
      "outputs": [
        {
          "output_type": "stream",
          "name": "stdout",
          "text": [
            "Enter a number. : 3\n",
            "(3, 'Carsamba')\n",
            "Carsamba\n"
          ]
        }
      ]
    },
    {
      "cell_type": "code",
      "source": [
        ""
      ],
      "metadata": {
        "colab": {
          "base_uri": "https://localhost:8080/"
        },
        "id": "2nHYmyjrCFQT",
        "outputId": "887a5670-564d-44e9-958e-1a53ef4f20ce"
      },
      "execution_count": null,
      "outputs": [
        {
          "output_type": "stream",
          "name": "stdout",
          "text": [
            "('Apples', 5, 1.5) ('Oranges', 3, 2.25) ('Bananas', 4, 0.89)\n"
          ]
        }
      ]
    }
  ]
}