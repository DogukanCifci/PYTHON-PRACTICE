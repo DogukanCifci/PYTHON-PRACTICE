{
  "nbformat": 4,
  "nbformat_minor": 0,
  "metadata": {
    "colab": {
      "name": "FUNCTIONS.ipynb",
      "provenance": [],
      "collapsed_sections": [],
      "toc_visible": true,
      "authorship_tag": "ABX9TyPI2IFJY6qNiczRe+0YmaMm",
      "include_colab_link": true
    },
    "kernelspec": {
      "name": "python3",
      "display_name": "Python 3"
    },
    "language_info": {
      "name": "python"
    }
  },
  "cells": [
    {
      "cell_type": "markdown",
      "metadata": {
        "id": "view-in-github",
        "colab_type": "text"
      },
      "source": [
        "<a href=\"https://colab.research.google.com/github/DogukanCifci/PYTHON-PRACTICE/blob/main/FUNCTIONS.ipynb\" target=\"_parent\"><img src=\"https://colab.research.google.com/assets/colab-badge.svg\" alt=\"Open In Colab\"/></a>"
      ]
    },
    {
      "cell_type": "markdown",
      "source": [
        "#**OPEN FUNCTION **"
      ],
      "metadata": {
        "id": "ksefc8mW-fzq"
      }
    },
    {
      "cell_type": "code",
      "source": [
        "from isort import file    #vs code da calisiyor. Burda tekrar baktigimda hatirlamak icin koydum.\n",
        "\n",
        "#1. Method\n",
        "with open(\"mbox-short.txt\", \"r\") as File1 :\n",
        "    file_stuff = File1.readlines()\n",
        "\n",
        "    #print(file_stuff)\n",
        "\n",
        "    print(file_stuff[0]) #-------> Ilk satir anlamina gelir. Ciktiya bakarsak sadece ilk satiri almistir\n",
        "    file_stuff[1] #-------> 2. satir anlamina gelir.\n",
        "\n",
        "    print(file_stuff[:3]) #------->listelemis bir sekilde bize ilk 3 satiri vericek. Ciktiya bak kesin \n",
        "\n",
        "\n",
        "    #Eger bu sekilde yazarsak ;\n",
        "    file_stuff1 = File1.readlines(16) #--------> Ilk 16 karakteri alir.\n",
        "\n",
        "    print(file_stuff1)\n",
        "\n",
        "    file_stuff1 = File1.readlines(5)\n",
        "\n",
        "    print(file_stuff1)  # --------> Ilk 16 karakterden sonra gelen 5 karakteri alir. En basa dönmez\n",
        "\n"
      ],
      "metadata": {
        "id": "M4zg6nSF-1WM"
      },
      "execution_count": null,
      "outputs": []
    },
    {
      "cell_type": "markdown",
      "source": [
        "#**DEF FUNCTION**"
      ],
      "metadata": {
        "id": "OiU7VzgruU47"
      }
    },
    {
      "cell_type": "code",
      "source": [
        "il = 'Istanbul'\n",
        "def function1() :\n",
        "  il = 'Samsun'\n",
        "  def function2() :\n",
        "    il = 'Bursa'\n",
        "    def function3() :\n",
        "      nonlocal il \n",
        "      il = \"Izmir\"\n",
        "      print(\"il3 .... = \", il)\n",
        "    function3()\n",
        "    print(\"Il2 ...... = \", il)\n",
        "  function2()\n",
        "  print(\"Il1 ..... = \", il)\n",
        "function1()\n",
        "print(\"GLOBAL IL .... = \", il)"
      ],
      "metadata": {
        "colab": {
          "base_uri": "https://localhost:8080/"
        },
        "id": "IAHoNGGInrLY",
        "outputId": "7fbb377d-7c82-4f75-bd69-50cf7fe64af1"
      },
      "execution_count": null,
      "outputs": [
        {
          "output_type": "stream",
          "name": "stdout",
          "text": [
            "il3 .... =  Izmir\n",
            "Il2 ...... =  Izmir\n",
            "Il1 ..... =  Samsun\n",
            "GLOBAL IL .... =  Istanbul\n"
          ]
        }
      ]
    },
    {
      "cell_type": "markdown",
      "source": [
        "##None gelmesi ve gelmemesi icin yöntem. Tüm örnekler var"
      ],
      "metadata": {
        "id": "m7N0C5LtF0mw"
      }
    },
    {
      "cell_type": "code",
      "source": [
        "# Function example\n",
        "\n",
        "def type_of_album(artist, album, year_released):\n",
        "    \n",
        "    print(artist, album, year_released)\n",
        "    if year_released > 1980:\n",
        "        return \"Modern\"\n",
        "    else:\n",
        "        return \"Oldie\"\n",
        "    \n",
        "x = type_of_album(\"Michael Jackson\", \"Thriller\", 1980)\n",
        "print(x)        #Eger print ile yazdirmazsak fonskiyon icidne sadece print ile yazdirilan kisimlar gözükür. retrun kismi gelmez. #Asagiya bak!!!!!"
      ],
      "metadata": {
        "colab": {
          "base_uri": "https://localhost:8080/"
        },
        "id": "4f7tdG9CFTPK",
        "outputId": "b1a90b9d-8f45-4cb0-9cf4-3244f22ad6cb"
      },
      "execution_count": null,
      "outputs": [
        {
          "output_type": "stream",
          "name": "stdout",
          "text": [
            "Michael Jackson Thriller 1980\n",
            "Oldie\n"
          ]
        }
      ]
    },
    {
      "cell_type": "code",
      "source": [
        "# Function example\n",
        "\n",
        "def type_of_album(artist, album, year_released):\n",
        "    \n",
        "    print(artist, album, year_released)\n",
        "    if year_released > 1980:\n",
        "        return \"Modern\"\n",
        "    else:\n",
        "        return \"Oldie\"\n",
        "    \n",
        "x = type_of_album(\"Michael Jackson\", \"Thriller\", 1980)    #Oldie gözükmedi\n",
        "     "
      ],
      "metadata": {
        "colab": {
          "base_uri": "https://localhost:8080/"
        },
        "id": "Z9-ivCWPFfer",
        "outputId": "ec38a53d-8549-4899-f35f-583ad98b7b7c"
      },
      "execution_count": null,
      "outputs": [
        {
          "output_type": "stream",
          "name": "stdout",
          "text": [
            "Michael Jackson Thriller 1980\n"
          ]
        }
      ]
    },
    {
      "cell_type": "code",
      "source": [
        "def type_of_album(artist, album, year_released):\n",
        "    \n",
        "    print(artist, album, year_released)\n",
        "    \n",
        "x = type_of_album(\"Michael Jackson\", \"Thriller\", 1980)    #Bu sekilde yaparsam da daha sonrasinda return kullanmadigim ve iki print ic ice oldugu icin None gözükür.\n",
        "print(x)        "
      ],
      "metadata": {
        "colab": {
          "base_uri": "https://localhost:8080/"
        },
        "id": "12p6C-6WFoGu",
        "outputId": "c8a53792-6f9d-4c8c-b043-2dd4c500404b"
      },
      "execution_count": null,
      "outputs": [
        {
          "output_type": "stream",
          "name": "stdout",
          "text": [
            "Michael Jackson Thriller 1980\n",
            "None\n"
          ]
        }
      ]
    },
    {
      "cell_type": "markdown",
      "source": [
        "##SCOPE "
      ],
      "metadata": {
        "id": "rGe2ArJbtRrI"
      }
    },
    {
      "cell_type": "markdown",
      "source": [
        "###Global Variables"
      ],
      "metadata": {
        "id": "q4S4Rc5OJISi"
      }
    },
    {
      "cell_type": "code",
      "source": [
        "my_var = \"outer variable\"\n",
        "def my_function():\n",
        "  my_var = \"inner variable\"             #my_var = my_var + 'inner variable' -->bu sekilde yaparsak hata aliriz. asagidaki örnekteki gibi ayni\n",
        "  print(my_var)\n",
        "\n",
        "my_function()     #inner yani local olani yadirir!\n",
        "print(my_var)     #global degeri alir!"
      ],
      "metadata": {
        "colab": {
          "base_uri": "https://localhost:8080/"
        },
        "id": "usgnoLZwta0m",
        "outputId": "279cc5ba-e403-44e7-a894-86c1552a546f"
      },
      "execution_count": null,
      "outputs": [
        {
          "output_type": "stream",
          "name": "stdout",
          "text": [
            "inner variable\n",
            "outer variable\n"
          ]
        }
      ]
    },
    {
      "cell_type": "code",
      "source": [
        "x = 5 \n",
        "def my_function():\n",
        "  x = x * 2       #Hata verir. ama x = 8 gibi bi sey yapsak hata vermez.  Suan globaldeki x i görmüyor.\n",
        "  print(x)\n",
        "\n",
        "my_function()"
      ],
      "metadata": {
        "colab": {
          "base_uri": "https://localhost:8080/",
          "height": 317
        },
        "id": "qy-1EcUAvAwX",
        "outputId": "3da00a6e-8195-4466-fbb8-2a0200b84992"
      },
      "execution_count": null,
      "outputs": [
        {
          "output_type": "error",
          "ename": "UnboundLocalError",
          "evalue": "ignored",
          "traceback": [
            "\u001b[0;31m---------------------------------------------------------------------------\u001b[0m",
            "\u001b[0;31mUnboundLocalError\u001b[0m                         Traceback (most recent call last)",
            "\u001b[0;32m<ipython-input-2-701a7cc23f47>\u001b[0m in \u001b[0;36m<module>\u001b[0;34m()\u001b[0m\n\u001b[1;32m      4\u001b[0m   \u001b[0mprint\u001b[0m\u001b[0;34m(\u001b[0m\u001b[0mx\u001b[0m\u001b[0;34m)\u001b[0m\u001b[0;34m\u001b[0m\u001b[0;34m\u001b[0m\u001b[0m\n\u001b[1;32m      5\u001b[0m \u001b[0;34m\u001b[0m\u001b[0m\n\u001b[0;32m----> 6\u001b[0;31m \u001b[0mmy_function\u001b[0m\u001b[0;34m(\u001b[0m\u001b[0;34m)\u001b[0m\u001b[0;34m\u001b[0m\u001b[0;34m\u001b[0m\u001b[0m\n\u001b[0m",
            "\u001b[0;32m<ipython-input-2-701a7cc23f47>\u001b[0m in \u001b[0;36mmy_function\u001b[0;34m()\u001b[0m\n\u001b[1;32m      1\u001b[0m \u001b[0mx\u001b[0m \u001b[0;34m=\u001b[0m \u001b[0;36m5\u001b[0m\u001b[0;34m\u001b[0m\u001b[0;34m\u001b[0m\u001b[0m\n\u001b[1;32m      2\u001b[0m \u001b[0;32mdef\u001b[0m \u001b[0mmy_function\u001b[0m\u001b[0;34m(\u001b[0m\u001b[0;34m)\u001b[0m\u001b[0;34m:\u001b[0m\u001b[0;34m\u001b[0m\u001b[0;34m\u001b[0m\u001b[0m\n\u001b[0;32m----> 3\u001b[0;31m   \u001b[0mx\u001b[0m \u001b[0;34m=\u001b[0m \u001b[0mx\u001b[0m \u001b[0;34m*\u001b[0m \u001b[0;36m2\u001b[0m\u001b[0;34m\u001b[0m\u001b[0;34m\u001b[0m\u001b[0m\n\u001b[0m\u001b[1;32m      4\u001b[0m   \u001b[0mprint\u001b[0m\u001b[0;34m(\u001b[0m\u001b[0mx\u001b[0m\u001b[0;34m)\u001b[0m\u001b[0;34m\u001b[0m\u001b[0;34m\u001b[0m\u001b[0m\n\u001b[1;32m      5\u001b[0m \u001b[0;34m\u001b[0m\u001b[0m\n",
            "\u001b[0;31mUnboundLocalError\u001b[0m: local variable 'x' referenced before assignment"
          ]
        }
      ]
    },
    {
      "cell_type": "code",
      "source": [
        "x = 5         \n",
        "def my_function():\n",
        "   print(x * 2)           #Bu sekilde yapabilirz. Direk print icindde olunca global degeri görüyor.      \n",
        "\n",
        "my_function()\n",
        "print(x)"
      ],
      "metadata": {
        "id": "SzUiNZUhxFJq"
      },
      "execution_count": null,
      "outputs": []
    },
    {
      "cell_type": "code",
      "source": [
        "x = 5         \n",
        "def my_function():\n",
        "  x= 5              #Veya Bu sekilde yapmaliyiz\n",
        "  x = x * 2       \n",
        "  print(x)\n",
        "\n",
        "my_function()\n",
        "print(x)"
      ],
      "metadata": {
        "colab": {
          "base_uri": "https://localhost:8080/"
        },
        "id": "gh1oPVhevYbR",
        "outputId": "1c43d440-7ca3-4ab3-d05c-59ae1c7a64ce"
      },
      "execution_count": null,
      "outputs": [
        {
          "output_type": "stream",
          "name": "stdout",
          "text": [
            "10\n",
            "5\n"
          ]
        }
      ]
    },
    {
      "cell_type": "code",
      "source": [
        "# Define a function for multiple two numbers\n",
        "\n",
        "def Mult(a, b):\n",
        "    c = a * b\n",
        "    return(c)\n",
        "    print('This is not printed')    #Weil diese Zeile nach return kommt, wird die nicht gesehen.\n",
        "    \n",
        "result = Mult(12,2)\n",
        "print(result)"
      ],
      "metadata": {
        "id": "1T40ZQHyDr4_"
      },
      "execution_count": null,
      "outputs": []
    },
    {
      "cell_type": "code",
      "source": [
        "def deneme() :\n",
        "  date = 1980\n",
        "  return date \n",
        "\n",
        "date = 2039\n",
        "\n",
        "print(deneme())     #Fonksiyon icinde tarihi degistirmemize ragmen altta fonskiyondan bagimisz tarihi bir daha yazrdirdigimizda eskiden tanimladigimiz yazar. Cünkü o global degerdir.\n",
        "#Fonksiyon icinde ki fonskiyon icidne kalir. Disari cikinca biter\n",
        "\n",
        "print(date)"
      ],
      "metadata": {
        "colab": {
          "base_uri": "https://localhost:8080/"
        },
        "id": "FFlHJEjpJRx0",
        "outputId": "0f0f9de0-5f16-4bcf-ddb1-494983b31480"
      },
      "execution_count": null,
      "outputs": [
        {
          "output_type": "stream",
          "name": "stdout",
          "text": [
            "1980\n",
            "2039\n"
          ]
        }
      ]
    },
    {
      "cell_type": "code",
      "source": [
        "def deneme() :\n",
        "  date = 1980\n",
        "  return date \n",
        "\n",
        "date = 2039\n",
        "\n",
        "deneme()  #Fonksiyon icinde ki fonskiyon icidne kalir. Disari cikinca biter\n",
        "#Hatta bu sekilde deneme() yi printsiz yazarsak. altina printle yazdirdigimiz farkli bir sey oldugu icin buranin ciktisi bir daha gözükmez\n",
        "print('Hello')"
      ],
      "metadata": {
        "colab": {
          "base_uri": "https://localhost:8080/"
        },
        "id": "mewim6hxKBaO",
        "outputId": "abced63f-ff3d-4f9d-d245-5701f9c0bfa5"
      },
      "execution_count": null,
      "outputs": [
        {
          "output_type": "stream",
          "name": "stdout",
          "text": [
            "Hello\n"
          ]
        }
      ]
    },
    {
      "cell_type": "code",
      "source": [
        "# Example of global variable      #Asagidaki 3 kod baglantilidir.\n",
        "\n",
        "artist = \"Michael Jackson\"\n",
        "def printer1(artist):\n",
        "    internal_var1 = artist\n",
        "    print(artist, \"is an artist\")\n",
        "    \n",
        "printer1(artist)\n",
        "# try runningthe following code\n",
        "print(internal_var1)    #Hata verir. Cünkü bu deger sadece fonksiyon kullanildiginda gelir.\n"
      ],
      "metadata": {
        "colab": {
          "base_uri": "https://localhost:8080/",
          "height": 215
        },
        "id": "zvDar5JZIqxW",
        "outputId": "1628cf66-bbee-4ed8-9b70-765225080e0f"
      },
      "execution_count": null,
      "outputs": [
        {
          "output_type": "stream",
          "name": "stdout",
          "text": [
            "Michael Jackson is an artist\n"
          ]
        },
        {
          "output_type": "error",
          "ename": "NameError",
          "evalue": "ignored",
          "traceback": [
            "\u001b[0;31m---------------------------------------------------------------------------\u001b[0m",
            "\u001b[0;31mNameError\u001b[0m                                 Traceback (most recent call last)",
            "\u001b[0;32m<ipython-input-28-a6d89c7b7448>\u001b[0m in \u001b[0;36m<module>\u001b[0;34m()\u001b[0m\n\u001b[1;32m      8\u001b[0m \u001b[0mprinter1\u001b[0m\u001b[0;34m(\u001b[0m\u001b[0martist\u001b[0m\u001b[0;34m)\u001b[0m\u001b[0;34m\u001b[0m\u001b[0;34m\u001b[0m\u001b[0m\n\u001b[1;32m      9\u001b[0m \u001b[0;31m# try runningthe following code\u001b[0m\u001b[0;34m\u001b[0m\u001b[0;34m\u001b[0m\u001b[0;34m\u001b[0m\u001b[0m\n\u001b[0;32m---> 10\u001b[0;31m \u001b[0mprint\u001b[0m\u001b[0;34m(\u001b[0m\u001b[0minternal_var1\u001b[0m\u001b[0;34m)\u001b[0m    \u001b[0;31m#Hata verir. Cünkü bu deger sadece fonksiyon kullanildiginda gelir.\u001b[0m\u001b[0;34m\u001b[0m\u001b[0;34m\u001b[0m\u001b[0m\n\u001b[0m",
            "\u001b[0;31mNameError\u001b[0m: name 'internal_var1' is not defined"
          ]
        }
      ]
    },
    {
      "cell_type": "code",
      "source": [
        "# Example of global variable\n",
        "\n",
        "artist = \"Michael Jackson\"\n",
        "def Printer111(artist):\n",
        "    internal_var1 = artist\n",
        "    print(artist, \"is an artist\")\n",
        "    \n",
        "Printer111(artist)\n",
        "# try runningthe following code\n",
        "Printer111(internal_var1) #Fonksiyon adiyla cagirsak bile hata aliriz. Cünkü global olarak tanimlamadik. "
      ],
      "metadata": {
        "colab": {
          "base_uri": "https://localhost:8080/",
          "height": 215
        },
        "id": "ARPoI5HBLI1i",
        "outputId": "b685f11e-2616-4db2-feaa-e91c2d44d800"
      },
      "execution_count": null,
      "outputs": [
        {
          "output_type": "stream",
          "name": "stdout",
          "text": [
            "Michael Jackson is an artist\n"
          ]
        },
        {
          "output_type": "error",
          "ename": "NameError",
          "evalue": "ignored",
          "traceback": [
            "\u001b[0;31m---------------------------------------------------------------------------\u001b[0m",
            "\u001b[0;31mNameError\u001b[0m                                 Traceback (most recent call last)",
            "\u001b[0;32m<ipython-input-35-dd79802170e4>\u001b[0m in \u001b[0;36m<module>\u001b[0;34m()\u001b[0m\n\u001b[1;32m      8\u001b[0m \u001b[0mprinter1\u001b[0m\u001b[0;34m(\u001b[0m\u001b[0martist\u001b[0m\u001b[0;34m)\u001b[0m\u001b[0;34m\u001b[0m\u001b[0;34m\u001b[0m\u001b[0m\n\u001b[1;32m      9\u001b[0m \u001b[0;31m# try runningthe following code\u001b[0m\u001b[0;34m\u001b[0m\u001b[0;34m\u001b[0m\u001b[0;34m\u001b[0m\u001b[0m\n\u001b[0;32m---> 10\u001b[0;31m \u001b[0mPrinter111\u001b[0m\u001b[0;34m(\u001b[0m\u001b[0minternal_var1\u001b[0m\u001b[0;34m)\u001b[0m \u001b[0;31m#Fonksiyon adiyla cagirsak bile hata aliriz. Cünkü global olarak tanimlamadik.\u001b[0m\u001b[0;34m\u001b[0m\u001b[0;34m\u001b[0m\u001b[0m\n\u001b[0m",
            "\u001b[0;31mNameError\u001b[0m: name 'internal_var1' is not defined"
          ]
        }
      ]
    },
    {
      "cell_type": "code",
      "source": [
        "artist = \"Michael Jackson\"     \n",
        "\n",
        "def Printer222(artist):\n",
        "    global internal_var      #Hata vermemsi icin bu sekilde tanimlamaliyiz.\n",
        "    internal_var= \"Whitney Houston\"\n",
        "    print(artist,\"is an artist\")\n",
        "\n",
        "Printer222(artist) \n",
        "Printer222(internal_var)\n",
        "print(internal_var)     # Busekilde de verir."
      ],
      "metadata": {
        "colab": {
          "base_uri": "https://localhost:8080/"
        },
        "id": "sZ8eG5ALLWyS",
        "outputId": "f4cd0893-5d14-4b8c-be7e-7ffeaa3b2d82"
      },
      "execution_count": null,
      "outputs": [
        {
          "output_type": "stream",
          "name": "stdout",
          "text": [
            "Michael Jackson is an artist\n",
            "Whitney Houston is an artist\n",
            "Whitney Houston\n"
          ]
        }
      ]
    },
    {
      "cell_type": "code",
      "source": [
        "# Another example of global variable Asagidaki kod ile bagalntili\n",
        "\n",
        "myFavouriteBand = \"AC/DC\"   #Disarda tanimladik\n",
        "\n",
        "def getBandRating(bandname):\n",
        "    if bandname == myFavouriteBand:\n",
        "        return 10.0\n",
        "    else:\n",
        "        return 0.0\n",
        "\n",
        "print(\"AC/DC's rating is:\", getBandRating(\"AC/DC\"))\n",
        "print(\"Deep Purple's rating is:\",getBandRating(\"Deep Purple\"))\n",
        "print(\"My favourite band is:\", myFavouriteBand)"
      ],
      "metadata": {
        "id": "3CLdYy_cMYOT",
        "colab": {
          "base_uri": "https://localhost:8080/"
        },
        "outputId": "ced082a7-57fb-417d-e92f-4c55770d2801"
      },
      "execution_count": null,
      "outputs": [
        {
          "output_type": "stream",
          "name": "stdout",
          "text": [
            "AC/DC's rating is: 10.0\n",
            "Deep Purple's rating is: 0.0\n",
            "My favourite band is: AC/DC\n"
          ]
        }
      ]
    },
    {
      "cell_type": "code",
      "source": [
        "def getBandRating(bandname):\n",
        "    myFavouriteBand = \"AC/DC\"     #Fonskiyon icinde tanimladigimiz icin global degil. Busebeple hata verir.\n",
        "    if bandname == myFavouriteBand:     \n",
        "        return 10.0\n",
        "    else:\n",
        "        return 0.0\n",
        "\n",
        "print(\"AC/DC's rating is: \", getBandRating(\"AC/DC\"))\n",
        "print(\"Deep Purple's rating is: \", getBandRating(\"Deep Purple\"))\n",
        "print(\"My favourite band is\", myFavouriteBand)"
      ],
      "metadata": {
        "colab": {
          "base_uri": "https://localhost:8080/",
          "height": 232
        },
        "id": "VtM8JwlyMd2W",
        "outputId": "beb983e7-fcfb-43f5-f874-03e9c31415f9"
      },
      "execution_count": null,
      "outputs": [
        {
          "output_type": "stream",
          "name": "stdout",
          "text": [
            "AC/DC's rating is:  10.0\n",
            "Deep Purple's rating is:  0.0\n"
          ]
        },
        {
          "output_type": "error",
          "ename": "NameError",
          "evalue": "ignored",
          "traceback": [
            "\u001b[0;31m---------------------------------------------------------------------------\u001b[0m",
            "\u001b[0;31mNameError\u001b[0m                                 Traceback (most recent call last)",
            "\u001b[0;32m<ipython-input-39-f0272ad55787>\u001b[0m in \u001b[0;36m<module>\u001b[0;34m()\u001b[0m\n\u001b[1;32m      8\u001b[0m \u001b[0mprint\u001b[0m\u001b[0;34m(\u001b[0m\u001b[0;34m\"AC/DC's rating is: \"\u001b[0m\u001b[0;34m,\u001b[0m \u001b[0mgetBandRating\u001b[0m\u001b[0;34m(\u001b[0m\u001b[0;34m\"AC/DC\"\u001b[0m\u001b[0;34m)\u001b[0m\u001b[0;34m)\u001b[0m\u001b[0;34m\u001b[0m\u001b[0;34m\u001b[0m\u001b[0m\n\u001b[1;32m      9\u001b[0m \u001b[0mprint\u001b[0m\u001b[0;34m(\u001b[0m\u001b[0;34m\"Deep Purple's rating is: \"\u001b[0m\u001b[0;34m,\u001b[0m \u001b[0mgetBandRating\u001b[0m\u001b[0;34m(\u001b[0m\u001b[0;34m\"Deep Purple\"\u001b[0m\u001b[0;34m)\u001b[0m\u001b[0;34m)\u001b[0m\u001b[0;34m\u001b[0m\u001b[0;34m\u001b[0m\u001b[0m\n\u001b[0;32m---> 10\u001b[0;31m \u001b[0mprint\u001b[0m\u001b[0;34m(\u001b[0m\u001b[0;34m\"My favourite band is\"\u001b[0m\u001b[0;34m,\u001b[0m \u001b[0mmyFavouriteBand\u001b[0m\u001b[0;34m)\u001b[0m\u001b[0;34m\u001b[0m\u001b[0;34m\u001b[0m\u001b[0m\n\u001b[0m",
            "\u001b[0;31mNameError\u001b[0m: name 'myFavouriteBand' is not defined"
          ]
        }
      ]
    },
    {
      "cell_type": "code",
      "source": [
        "def getBandRating(bandname):\n",
        "    global myFavouriteBand  # Bir önceki örnekete oldugu gibi bu sekilde yapsaydik olurdu.\n",
        "    myFavouriteBand = \"AC/DC\" \n",
        "    if bandname == myFavouriteBand:     \n",
        "        return 10.0\n",
        "    else:\n",
        "        return 0.0\n",
        "\n",
        "print(\"AC/DC's rating is: \", getBandRating(\"AC/DC\"))\n",
        "print(\"Deep Purple's rating is: \", getBandRating(\"Deep Purple\"))\n",
        "print(\"My favourite band is\", myFavouriteBand)"
      ],
      "metadata": {
        "colab": {
          "base_uri": "https://localhost:8080/"
        },
        "id": "2dEzipUmMuNk",
        "outputId": "5009ba23-0ec2-4525-8ff3-7bf1dacd02e1"
      },
      "execution_count": null,
      "outputs": [
        {
          "output_type": "stream",
          "name": "stdout",
          "text": [
            "AC/DC's rating is:  10.0\n",
            "Deep Purple's rating is:  0.0\n",
            "My favourite band is AC/DC\n"
          ]
        }
      ]
    },
    {
      "cell_type": "code",
      "source": [
        "count = 1\n",
        "def print_global() :\n",
        "  print(count)\n",
        "\n",
        "print_global()\n",
        "\n",
        "def counter() :\n",
        "  print(count)\n",
        "  count += 1     #We are trying to change here. Ama globa bir deger icerigini fonksiyon icerisinde degistiremeyiz. Hata verir.\n",
        "\n",
        "counter()           #Eger degistirmek istersek global keyword kullanmamiz gerekir. Yukardaki örnketeki gibi"
      ],
      "metadata": {
        "colab": {
          "base_uri": "https://localhost:8080/",
          "height": 334
        },
        "id": "axVxrBog3vfG",
        "outputId": "e41b0e69-a6b7-4f78-b077-8a55c79e0373"
      },
      "execution_count": null,
      "outputs": [
        {
          "output_type": "stream",
          "name": "stdout",
          "text": [
            "1\n"
          ]
        },
        {
          "output_type": "error",
          "ename": "UnboundLocalError",
          "evalue": "ignored",
          "traceback": [
            "\u001b[0;31m---------------------------------------------------------------------------\u001b[0m",
            "\u001b[0;31mUnboundLocalError\u001b[0m                         Traceback (most recent call last)",
            "\u001b[0;32m<ipython-input-10-bb92ae19fc01>\u001b[0m in \u001b[0;36m<module>\u001b[0;34m()\u001b[0m\n\u001b[1;32m      9\u001b[0m   \u001b[0mcount\u001b[0m \u001b[0;34m+=\u001b[0m \u001b[0;36m1\u001b[0m     \u001b[0;31m#We are trying to change here. Ama globa bir deger icerigini fonksiyon icerisinde degistiremeyiz. Hata verir.\u001b[0m\u001b[0;34m\u001b[0m\u001b[0;34m\u001b[0m\u001b[0m\n\u001b[1;32m     10\u001b[0m \u001b[0;34m\u001b[0m\u001b[0m\n\u001b[0;32m---> 11\u001b[0;31m \u001b[0mcounter\u001b[0m\u001b[0;34m(\u001b[0m\u001b[0;34m)\u001b[0m           \u001b[0;31m#Eger degistirmek istersek global keyword kullanmamiz gerekir. Yukardaki örnketeki gibi\u001b[0m\u001b[0;34m\u001b[0m\u001b[0;34m\u001b[0m\u001b[0m\n\u001b[0m",
            "\u001b[0;32m<ipython-input-10-bb92ae19fc01>\u001b[0m in \u001b[0;36mcounter\u001b[0;34m()\u001b[0m\n\u001b[1;32m      6\u001b[0m \u001b[0;34m\u001b[0m\u001b[0m\n\u001b[1;32m      7\u001b[0m \u001b[0;32mdef\u001b[0m \u001b[0mcounter\u001b[0m\u001b[0;34m(\u001b[0m\u001b[0;34m)\u001b[0m \u001b[0;34m:\u001b[0m\u001b[0;34m\u001b[0m\u001b[0;34m\u001b[0m\u001b[0m\n\u001b[0;32m----> 8\u001b[0;31m   \u001b[0mprint\u001b[0m\u001b[0;34m(\u001b[0m\u001b[0mcount\u001b[0m\u001b[0;34m)\u001b[0m\u001b[0;34m\u001b[0m\u001b[0;34m\u001b[0m\u001b[0m\n\u001b[0m\u001b[1;32m      9\u001b[0m   \u001b[0mcount\u001b[0m \u001b[0;34m+=\u001b[0m \u001b[0;36m1\u001b[0m     \u001b[0;31m#We are trying to change here. Ama globa bir deger icerigini fonksiyon icerisinde degistiremeyiz. Hata verir.\u001b[0m\u001b[0;34m\u001b[0m\u001b[0;34m\u001b[0m\u001b[0m\n\u001b[1;32m     10\u001b[0m \u001b[0;34m\u001b[0m\u001b[0m\n",
            "\u001b[0;31mUnboundLocalError\u001b[0m: local variable 'count' referenced before assignment"
          ]
        }
      ]
    },
    {
      "cell_type": "code",
      "source": [
        "count = 1\n",
        "def print_global() :\n",
        "  print(count)\n",
        "\n",
        "print_global()\n",
        "\n",
        "def counter() :\n",
        "  global count\n",
        "  print(count)\n",
        "  count += 1     #Bu sekilde degistirebiliriz.\n",
        "\n",
        "counter()  \n",
        "print(count)    "
      ],
      "metadata": {
        "colab": {
          "base_uri": "https://localhost:8080/"
        },
        "id": "z24scXe84x4B",
        "outputId": "40386ed8-7781-4ca7-a4aa-85a0df9cd479"
      },
      "execution_count": null,
      "outputs": [
        {
          "output_type": "stream",
          "name": "stdout",
          "text": [
            "1\n",
            "1\n",
            "2\n"
          ]
        }
      ]
    },
    {
      "cell_type": "code",
      "source": [
        "count = 1\n",
        "\n",
        "def counter() :\n",
        "  global count\n",
        "  print(count)\n",
        "  count += 1\n",
        "\n",
        "counter()\n",
        "counter()\n",
        "counter()"
      ],
      "metadata": {
        "colab": {
          "base_uri": "https://localhost:8080/"
        },
        "id": "rOZpPVFG6Fow",
        "outputId": "db6a4eca-c74a-45a3-9d04-e0d2f1701ae3"
      },
      "execution_count": null,
      "outputs": [
        {
          "output_type": "stream",
          "name": "stdout",
          "text": [
            "1\n",
            "2\n",
            "3\n"
          ]
        }
      ]
    },
    {
      "cell_type": "code",
      "source": [
        "#Nested def\n",
        "\n",
        "def func_enclosing1() :\n",
        "  x = \"outer variable\"\n",
        "  def func_enclosing2() :\n",
        "    x = \"inner variable\"\n",
        "    print(\"inner : \", x)\n",
        "  func_enclosing2()\n",
        "  print(\"outer : \", x)\n",
        "\n",
        "func_enclosing1()"
      ],
      "metadata": {
        "colab": {
          "base_uri": "https://localhost:8080/"
        },
        "id": "FgIMqEw-7cwF",
        "outputId": "002808f1-7b5e-4ccf-cf14-9b7de5e16754"
      },
      "execution_count": null,
      "outputs": [
        {
          "output_type": "stream",
          "name": "stdout",
          "text": [
            "inner :  inner variable\n",
            "outer :  outer variable\n"
          ]
        }
      ]
    },
    {
      "cell_type": "code",
      "source": [
        "var = 1 \n",
        "def assigner(a) :\n",
        "  global var\n",
        "  var = a   #veya var = 'one' diyebilirdik\n",
        "\n",
        "assigner(\"one\")\n",
        "print(var)"
      ],
      "metadata": {
        "colab": {
          "base_uri": "https://localhost:8080/"
        },
        "id": "97R19ieU89YI",
        "outputId": "1018ab3b-7857-44eb-e2f9-acf99d5eb650"
      },
      "execution_count": null,
      "outputs": [
        {
          "output_type": "stream",
          "name": "stdout",
          "text": [
            "one\n"
          ]
        }
      ]
    },
    {
      "cell_type": "markdown",
      "source": [
        "###NONLOCAL KEYWORD"
      ],
      "metadata": {
        "id": "BStcKBlBEKrG"
      }
    },
    {
      "cell_type": "code",
      "source": [
        "#NONLOCAL BIR DISARDAKI FONKSIYONA ETKI EDER, HEPSINI DEGIL \n",
        "il = \"Berlin\"\n",
        "def city1() :\n",
        "  il = \"Samsun\"\n",
        "  def city2():\n",
        "    il = \"Istanbul\"\n",
        "    \n",
        "    def city3() :\n",
        "      il = \"izmir\"\n",
        "      print(\"Sehir3 : \", il)\n",
        "\n",
        "    city3()\n",
        "    print(\"Sehir2 : \", il)\n",
        "\n",
        "  city2()\n",
        "  print(\"sehir1 : \", il)\n",
        "\n",
        "city1()\n",
        "print(il)"
      ],
      "metadata": {
        "colab": {
          "base_uri": "https://localhost:8080/"
        },
        "id": "lQbodmnaCSgj",
        "outputId": "4813844a-c339-4336-e569-c8903f8d3be0"
      },
      "execution_count": null,
      "outputs": [
        {
          "output_type": "stream",
          "name": "stdout",
          "text": [
            "Sehir3 :  izmir\n",
            "Sehir2 :  Istanbul\n",
            "sehir1 :  Samsun\n",
            "Berlin\n"
          ]
        }
      ]
    },
    {
      "cell_type": "code",
      "source": [
        "il = \"Berlin\"\n",
        "def city1() :\n",
        "  il = \"Samsun\"     \n",
        "  def city2():  \n",
        "    nonlocal il         #samsunu da istanbula cevirdik\n",
        "    il = \"Istanbul\"\n",
        "    \n",
        "    def city3() :\n",
        "      il = \"izmir\"\n",
        "      print(\"Sehir3 : \", il)\n",
        "\n",
        "    city3()\n",
        "    print(\"Sehir2 : \", il)\n",
        "\n",
        "  city2()\n",
        "  print(\"sehir1 : \", il)\n",
        "  \n",
        "city1()\n",
        "print(il)"
      ],
      "metadata": {
        "colab": {
          "base_uri": "https://localhost:8080/"
        },
        "id": "lWMwFqpTD-qs",
        "outputId": "3047e296-43dc-4ec9-85e0-dd0829180f50"
      },
      "execution_count": null,
      "outputs": [
        {
          "output_type": "stream",
          "name": "stdout",
          "text": [
            "Sehir3 :  izmir\n",
            "Sehir2 :  Istanbul\n",
            "sehir1 :  Istanbul\n",
            "Berlin\n"
          ]
        }
      ]
    },
    {
      "cell_type": "code",
      "source": [
        "il = \"Berlin\"\n",
        "def city1() :\n",
        "  il = \"Samsun\"\n",
        "  def city2():\n",
        "    il = \"Istanbul\"\n",
        "    \n",
        "    def city3() :\n",
        "      global il       #global yaptik. ama dikkat et en disardaki globali degistirdi\n",
        "      il = \"izmir\"\n",
        "      print(\"Sehir3 : \", il)\n",
        "\n",
        "    city3()\n",
        "    print(\"Sehir2 : \", il)\n",
        "\n",
        "  city2()\n",
        "  print(\"sehir1 : \", il)\n",
        "\n",
        "city1()\n",
        "print(il)"
      ],
      "metadata": {
        "colab": {
          "base_uri": "https://localhost:8080/"
        },
        "id": "gz8Z31IuEdvS",
        "outputId": "da0084f2-9e36-490e-c3b8-df09f012a0e6"
      },
      "execution_count": null,
      "outputs": [
        {
          "output_type": "stream",
          "name": "stdout",
          "text": [
            "Sehir3 :  izmir\n",
            "Sehir2 :  Istanbul\n",
            "sehir1 :  Samsun\n",
            "izmir\n"
          ]
        }
      ]
    },
    {
      "cell_type": "code",
      "source": [
        "il = \"Berlin\"\n",
        "def city1() :\n",
        "  il = \"Samsun\"\n",
        "  def city2():\n",
        "    il = \"Istanbul\"\n",
        "    \n",
        "    def city3() :\n",
        "      nonlocal il       #Istanbulu izmire cevirdik.\n",
        "      il = \"izmir\"\n",
        "      print(\"Sehir3 : \", il)\n",
        "\n",
        "    city3()\n",
        "    print(\"Sehir2 : \", il)\n",
        "\n",
        "  city2()\n",
        "  print(\"sehir1 : \", il)\n",
        "\n",
        "city1()\n",
        "print(il)"
      ],
      "metadata": {
        "colab": {
          "base_uri": "https://localhost:8080/"
        },
        "id": "PFEapx7TEr-8",
        "outputId": "78a4e3b0-3bcd-4f25-bc47-fece28a85e57"
      },
      "execution_count": null,
      "outputs": [
        {
          "output_type": "stream",
          "name": "stdout",
          "text": [
            "Sehir3 :  izmir\n",
            "Sehir2 :  izmir\n",
            "sehir1 :  Samsun\n",
            "Berlin\n"
          ]
        }
      ]
    },
    {
      "cell_type": "markdown",
      "source": [
        "##To create our own function like abs(), pow(), int() ..."
      ],
      "metadata": {
        "id": "B8Yx_kN_C9Xs"
      }
    },
    {
      "cell_type": "code",
      "source": [
        "def myAbs(a) :    #myAbs opsiyonal abs fonksiyonu\n",
        "  \"\"\"Bu fonksiyonun aciklamasidir. Bu kendi yaptigimiz mutlak deger fonksiyonudur. Negatif sayilari pozitife cevirmeye yarar\"\"\"   ##help yazdigimizda __doc_- yazdigimizda cikacak aciklama\n",
        "  if a < 0 :\n",
        "    sonuc = a * (-1)\n",
        "    return sonuc\n",
        "  else :\n",
        "    return a\n",
        "a= -9\n",
        "\n",
        "print(myAbs(a))\n",
        "print(myAbs(11))\n",
        "print(myAbs(-11.3))\n",
        "help(myAbs)"
      ],
      "metadata": {
        "colab": {
          "base_uri": "https://localhost:8080/"
        },
        "id": "-7LdXE8A_gB0",
        "outputId": "a893eade-46b9-494b-d9fa-09366490cf62"
      },
      "execution_count": null,
      "outputs": [
        {
          "output_type": "stream",
          "name": "stdout",
          "text": [
            "9\n",
            "11\n",
            "11.3\n",
            "Help on function myAbs in module __main__:\n",
            "\n",
            "myAbs(a)\n",
            "    Bu fonksiyonun aciklamasidir. Bu kendi yaptigimiz mutlak deger fonksiyonudur. Negatif sayilari pozitife cevirmeye yarar\n",
            "\n"
          ]
        }
      ]
    },
    {
      "cell_type": "code",
      "source": [
        "#myFibo yap\n"
      ],
      "metadata": {
        "id": "Fh49guyfJVnT"
      },
      "execution_count": null,
      "outputs": []
    },
    {
      "cell_type": "markdown",
      "source": [
        "##DEF Function's Examples and Solving to understand the logic of def function"
      ],
      "metadata": {
        "id": "hhDUXcIsubI5"
      }
    },
    {
      "cell_type": "code",
      "source": [
        "def multiply_1(a,b) :\n",
        "  print(a + b)\n",
        "\n",
        "multiply_1(5,6)\n",
        "\n",
        "print(multiply_1(5,6))  ###def fonksiyonu icinde print ile islem yaptigimiz icin islemi yapar ama en son none yazar.\n",
        "\n",
        "#onun icin return ile yazdirmamiz gerekiyor. alttaki örnek. Kendi def fonksiyonumu olusturdugum örnekte return ile döndür."
      ],
      "metadata": {
        "colab": {
          "base_uri": "https://localhost:8080/"
        },
        "id": "S5FItoz60Ox8",
        "outputId": "48b24c36-3a96-44af-9735-e3c8ebc7977c"
      },
      "execution_count": null,
      "outputs": [
        {
          "output_type": "stream",
          "name": "stdout",
          "text": [
            "11\n",
            "11\n",
            "None\n"
          ]
        }
      ]
    },
    {
      "cell_type": "code",
      "source": [
        "def multiply_2(a,b) :\n",
        "  return a * b\n",
        "\n",
        "multiply_2(10, 20)\n",
        "\n",
        "print(multiply_2(10,20))   # Bu sefer None olmadan yazdirdi. "
      ],
      "metadata": {
        "colab": {
          "base_uri": "https://localhost:8080/"
        },
        "id": "ygNi65g_0mSM",
        "outputId": "d191a623-08df-4c56-f16c-5c6dafbe128c"
      },
      "execution_count": null,
      "outputs": [
        {
          "output_type": "stream",
          "name": "stdout",
          "text": [
            "200\n"
          ]
        }
      ]
    },
    {
      "cell_type": "code",
      "source": [
        "def calculator(a, b, parametre) :\n",
        "  if parametre == \"+\" :\n",
        "    print(a + b) \n",
        "  elif parametre == '-' :\n",
        "    print(a - b)\n",
        "  elif parametre == '*' :\n",
        "    print(a * b)\n",
        "  \n",
        "  elif parametre == '/' :\n",
        "    print(a / b)\n",
        "  \n",
        "  else :\n",
        "    print('Yanlis parametre girdiniz!')\n",
        "    pass\n",
        "\n",
        "  \n",
        "\n",
        "sayi1 = int(input(\"sayi1 : \"))\n",
        "sayi2 =int(input(\"sayi2: \"))\n",
        "parametre1 = input(\"parametre giriniz : \")\n",
        "\n",
        "calculator(sayi1, sayi2, parametre1)"
      ],
      "metadata": {
        "colab": {
          "base_uri": "https://localhost:8080/"
        },
        "id": "-fjVVCpLq-sp",
        "outputId": "e6a15596-6b99-49b6-ff7e-72bc61151927"
      },
      "execution_count": null,
      "outputs": [
        {
          "output_type": "stream",
          "name": "stdout",
          "text": [
            "sayi1 : 14\n",
            "sayi2: 25\n",
            "parametre giriniz : 5\n",
            "Yanlis parametre girdiniz!\n"
          ]
        }
      ]
    },
    {
      "cell_type": "code",
      "source": [
        "def calculator(a, b, parametre) :\n",
        "  if parametre == \"+\" :\n",
        "    sonuc = a + b\n",
        "  elif parametre == '-' :\n",
        "    sonuc = a - b\n",
        "  elif parametre == '*' :\n",
        "    sonuc = a * b\n",
        "  \n",
        "  elif parametre == '/' :\n",
        "    sonuc = a / b\n",
        "  \n",
        "  else :\n",
        "    print('Yanlis parametre girdiniz!')\n",
        "    pass\n",
        "\n",
        "  return sonuc\n",
        "  \n",
        "sayi1 = int(input(\"sayi1 : \"))\n",
        "sayi2 =int(input(\"sayi2: \"))\n",
        "parametre1 = input(\"parametre giriniz : \")\n",
        "\n",
        "calculator(sayi1, sayi2, parametre1)"
      ],
      "metadata": {
        "colab": {
          "base_uri": "https://localhost:8080/"
        },
        "id": "xctAbGuJ2Ey2",
        "outputId": "896d472d-414b-49b9-adc1-9a32e8b9f376"
      },
      "execution_count": null,
      "outputs": [
        {
          "name": "stdout",
          "output_type": "stream",
          "text": [
            "sayi1 : 14\n",
            "sayi2: 40\n",
            "parametre giriniz : /\n"
          ]
        },
        {
          "output_type": "execute_result",
          "data": {
            "text/plain": [
              "0.35"
            ]
          },
          "metadata": {},
          "execution_count": 23
        }
      ]
    },
    {
      "cell_type": "code",
      "source": [
        "##menülü calculatorwith while loops\n",
        "\n",
        "def menu() :\n",
        "  print(\"\"\"\\t[+]-Toplama\\n\n",
        "        [-]-Cikarma\\n\n",
        "        [/]-Bölme\\n\n",
        "        [*]-Carpma\"\"\")\n",
        "  \n",
        "def calculator(a, b, parametre) :\n",
        "  if parametre == \"+\" :\n",
        "    sonuc = a + b\n",
        "  elif parametre == '-' :\n",
        "    sonuc = a - b\n",
        "  elif parametre == '*' :\n",
        "    sonuc = a * b\n",
        "  \n",
        "  elif parametre == '/' :\n",
        "    sonuc = a / b\n",
        "  \n",
        "  else :\n",
        "    print('Yanlis parametre girdiniz!')\n",
        "    pass\n",
        "\n",
        "  return sonuc\n",
        "\n",
        "while True :\n",
        "  menu()\n",
        "\n",
        "  x = float(input('Enter the first number : '))\n",
        "  y = float(input('Enter the second number : '))\n",
        "  operator = input('Enter the operator : ')\n",
        "\n",
        "  islem = calculator(x, y, operator)\n",
        "  print(\"Sonuc : \", islem)\n",
        "\n",
        "  answer = input('Do you wanna break the calculator [y] or [n] : ')\n",
        "  if answer == 'y' :\n",
        "    print(\"DONE!\")\n",
        "    break\n"
      ],
      "metadata": {
        "colab": {
          "base_uri": "https://localhost:8080/"
        },
        "id": "P2MTtd6l4jLN",
        "outputId": "54d292d9-3439-4dba-e64c-97869711aea3"
      },
      "execution_count": null,
      "outputs": [
        {
          "output_type": "stream",
          "name": "stdout",
          "text": [
            "\t[+]-Toplama\n",
            "\n",
            "        [-]-Cikarma\n",
            "\n",
            "        [/]-Bölme\n",
            "\n",
            "        [*]-Carpma\n",
            "Enter the first number : 12\n",
            "Enter the second number : 15\n",
            "Enter the operator : /\n",
            "Sonuc :  0.8\n",
            "Do you wanna break the calculator [y] or [n] : n\n",
            "\t[+]-Toplama\n",
            "\n",
            "        [-]-Cikarma\n",
            "\n",
            "        [/]-Bölme\n",
            "\n",
            "        [*]-Carpma\n",
            "Enter the first number : 14\n",
            "Enter the second number : 2\n",
            "Enter the operator : *\n",
            "Sonuc :  28.0\n",
            "Do you wanna break the calculator [y] or [n] : y\n",
            "DONE!\n"
          ]
        }
      ]
    },
    {
      "cell_type": "code",
      "source": [
        "def menu() :\n",
        "  print(\"\"\"\\t Toplama : [+]\\n\n",
        "          Cikarma : [-]\\n\n",
        "          Carpma : [*]\\n\n",
        "          Bölme : [/] \"\"\")\n",
        "\n",
        "def hesap_makinesi(o, x, y) :\n",
        "  if o in \"+-*/\" :\n",
        "    if x.isdigit() and y.isdigit() :\n",
        "      if o == '+' :\n",
        "        sonuc = x + y\n",
        "      elif o == '-' :\n",
        "        sonuc = x - y\n",
        "      elif o == '/' :\n",
        "        sonuc = x / y \n",
        "      elif o == ' * ':\n",
        "        sonuc = x * y\n",
        "\n",
        "      return sonuc \n",
        "\n",
        "    else :\n",
        "      return 'Hatali bir girdi yaptiniz.'\n",
        "  else :\n",
        "    return 'Menüdeki islemlerden giriniz!'\n",
        "\n",
        "  \n",
        "while True:\n",
        "  menu()\n",
        "  islem = input('Yapmak istediginiz islemi giriniz : ')\n",
        "  sayi1 =input(\"Enter a number : \")\n",
        "  sayi2 = (input(\"Enter another number : \"))\n",
        "  hesap_makinesi(islem, sayi1, sayi2) \n",
        "  \n",
        "    \n",
        "\n",
        "\n",
        "\n",
        "\n",
        "\n",
        "\n"
      ],
      "metadata": {
        "colab": {
          "base_uri": "https://localhost:8080/",
          "height": 521
        },
        "id": "RNrjsCKjABE1",
        "outputId": "923ee924-88e0-4eb2-aab3-65bfc1de8bd4"
      },
      "execution_count": null,
      "outputs": [
        {
          "name": "stdout",
          "output_type": "stream",
          "text": [
            "\t Toplama : [+]\n",
            "\n",
            "          Cikarma : [-]\n",
            "\n",
            "          Carpma : [*]\n",
            "\n",
            "          Bölme : [/] \n",
            "Yapmak istediginiz islemi giriniz : *\n",
            "Enter a number : 2\n",
            "Enter another number : 15\n"
          ]
        },
        {
          "output_type": "error",
          "ename": "UnboundLocalError",
          "evalue": "ignored",
          "traceback": [
            "\u001b[0;31m---------------------------------------------------------------------------\u001b[0m",
            "\u001b[0;31mUnboundLocalError\u001b[0m                         Traceback (most recent call last)",
            "\u001b[0;32m<ipython-input-34-9d2a613bb76b>\u001b[0m in \u001b[0;36m<module>\u001b[0;34m()\u001b[0m\n\u001b[1;32m     30\u001b[0m   \u001b[0msayi1\u001b[0m \u001b[0;34m=\u001b[0m\u001b[0minput\u001b[0m\u001b[0;34m(\u001b[0m\u001b[0;34m\"Enter a number : \"\u001b[0m\u001b[0;34m)\u001b[0m\u001b[0;34m\u001b[0m\u001b[0;34m\u001b[0m\u001b[0m\n\u001b[1;32m     31\u001b[0m   \u001b[0msayi2\u001b[0m \u001b[0;34m=\u001b[0m \u001b[0;34m(\u001b[0m\u001b[0minput\u001b[0m\u001b[0;34m(\u001b[0m\u001b[0;34m\"Enter another number : \"\u001b[0m\u001b[0;34m)\u001b[0m\u001b[0;34m)\u001b[0m\u001b[0;34m\u001b[0m\u001b[0;34m\u001b[0m\u001b[0m\n\u001b[0;32m---> 32\u001b[0;31m   \u001b[0mhesap_makinesi\u001b[0m\u001b[0;34m(\u001b[0m\u001b[0mislem\u001b[0m\u001b[0;34m,\u001b[0m \u001b[0msayi1\u001b[0m\u001b[0;34m,\u001b[0m \u001b[0msayi2\u001b[0m\u001b[0;34m)\u001b[0m\u001b[0;34m\u001b[0m\u001b[0;34m\u001b[0m\u001b[0m\n\u001b[0m\u001b[1;32m     33\u001b[0m \u001b[0;34m\u001b[0m\u001b[0m\n\u001b[1;32m     34\u001b[0m \u001b[0;34m\u001b[0m\u001b[0m\n",
            "\u001b[0;32m<ipython-input-34-9d2a613bb76b>\u001b[0m in \u001b[0;36mhesap_makinesi\u001b[0;34m(o, x, y)\u001b[0m\n\u001b[1;32m     17\u001b[0m         \u001b[0msonuc\u001b[0m \u001b[0;34m=\u001b[0m \u001b[0mx\u001b[0m \u001b[0;34m*\u001b[0m \u001b[0my\u001b[0m\u001b[0;34m\u001b[0m\u001b[0;34m\u001b[0m\u001b[0m\n\u001b[1;32m     18\u001b[0m \u001b[0;34m\u001b[0m\u001b[0m\n\u001b[0;32m---> 19\u001b[0;31m       \u001b[0;32mreturn\u001b[0m \u001b[0msonuc\u001b[0m\u001b[0;34m\u001b[0m\u001b[0;34m\u001b[0m\u001b[0m\n\u001b[0m\u001b[1;32m     20\u001b[0m \u001b[0;34m\u001b[0m\u001b[0m\n\u001b[1;32m     21\u001b[0m     \u001b[0;32melse\u001b[0m \u001b[0;34m:\u001b[0m\u001b[0;34m\u001b[0m\u001b[0;34m\u001b[0m\u001b[0m\n",
            "\u001b[0;31mUnboundLocalError\u001b[0m: local variable 'sonuc' referenced before assignment"
          ]
        }
      ]
    },
    {
      "cell_type": "markdown",
      "source": [
        "##def basics"
      ],
      "metadata": {
        "id": "KaHqlRpN3uBJ"
      }
    },
    {
      "cell_type": "code",
      "source": [
        "def selamlama() :\n",
        "  return 'Hallo. Hezlich Wilkommen auf dem Thema def'"
      ],
      "metadata": {
        "colab": {
          "base_uri": "https://localhost:8080/",
          "height": 37
        },
        "id": "Njgh3kavtzPo",
        "outputId": "c1fa6469-b601-40a4-fbf5-3e3d779b3ca9"
      },
      "execution_count": null,
      "outputs": [
        {
          "output_type": "execute_result",
          "data": {
            "text/plain": [
              "'Hallo. Hezlich Wilkommen auf dem Thema def'"
            ],
            "application/vnd.google.colaboratory.intrinsic+json": {
              "type": "string"
            }
          },
          "metadata": {},
          "execution_count": 8
        }
      ]
    },
    {
      "cell_type": "code",
      "execution_count": null,
      "metadata": {
        "colab": {
          "base_uri": "https://localhost:8080/"
        },
        "id": "CuyEYezarzaO",
        "outputId": "807074a8-3d21-4476-8764-0ba2bd985db7"
      },
      "outputs": [
        {
          "output_type": "stream",
          "name": "stdout",
          "text": [
            "Enter a number6\n",
            "720\n",
            "120\n"
          ]
        }
      ],
      "source": [
        "def fac(a) :      #asagidan veriyi alip a ya atar ve a ile islem yapar.\n",
        "  t = 1\n",
        "  for i in range(1, a + 1) :\n",
        "    t = t * i\n",
        "  print(t)\n",
        "\n",
        "number = int(input('Enter a number'))\n",
        "fac(number) #numberi yukarda def fonksiyonu icinde a ya atar.\n",
        "\n",
        "fac(5)    # inputsuz otomatik olarak 5 sayisini atar\n",
        "\n"
      ]
    },
    {
      "cell_type": "code",
      "source": [
        "def sum(a, b) :\n",
        "  summe = a + b\n",
        "  return summe\n",
        "\n",
        "number1 = int(input('Enter a number : '))\n",
        "number2 = int(input('Enter another number : '))\n",
        "\n",
        "sum(number1,number2)"
      ],
      "metadata": {
        "colab": {
          "base_uri": "https://localhost:8080/"
        },
        "id": "M0idtzrWt24o",
        "outputId": "4b998e7e-7a78-48bf-e497-e43a5ca2c535"
      },
      "execution_count": null,
      "outputs": [
        {
          "name": "stdout",
          "output_type": "stream",
          "text": [
            "Enter a number : 15\n",
            "Enter another number : 16\n"
          ]
        },
        {
          "output_type": "execute_result",
          "data": {
            "text/plain": [
              "31"
            ]
          },
          "metadata": {},
          "execution_count": 10
        }
      ]
    },
    {
      "cell_type": "code",
      "source": [
        "def carpma(a, b, c) :\n",
        "  sonuc = a * b * c\n",
        "  return sonuc\n",
        "\n",
        "num1 = int(input('Enter the first number : '))\n",
        "num2 = int(input('Enter the second number : '))\n",
        "num3 = int(input('Enter the third number : '))\n",
        "\n",
        "print(carpma(num1, num2, num3))"
      ],
      "metadata": {
        "colab": {
          "base_uri": "https://localhost:8080/"
        },
        "id": "H9q5CopXt9LF",
        "outputId": "ddcf69c9-25f4-426c-efa4-396a021d1149"
      },
      "execution_count": null,
      "outputs": [
        {
          "output_type": "stream",
          "name": "stdout",
          "text": [
            "Enter the first number : 4\n",
            "Enter the second number : 6\n",
            "Enter the third number : 5\n",
            "120\n"
          ]
        }
      ]
    },
    {
      "cell_type": "code",
      "source": [
        "def selamlama(name1, name2, herkunft = 'Universe') :\n",
        "  return f'Hello {name1} and {name2} from {herkunft}'\n",
        "\n",
        "name1 = input('Enter your name : ')\n",
        "name2 = input('Enter your name : ')\n",
        "\n",
        "selamlama(name1,name2)   #Yukardaki degiskenlerden birisi tanimlanmis oldugu icin 2 tane deger girmem yeterli"
      ],
      "metadata": {
        "colab": {
          "base_uri": "https://localhost:8080/",
          "height": 71
        },
        "id": "oRsv2gguuIHG",
        "outputId": "bcd3f63e-7e3c-48b8-b565-abbd80c2ce68"
      },
      "execution_count": null,
      "outputs": [
        {
          "name": "stdout",
          "output_type": "stream",
          "text": [
            "Enter your name : Dogukan\n",
            "Enter your name : Mehmet\n"
          ]
        },
        {
          "output_type": "execute_result",
          "data": {
            "text/plain": [
              "'Hello Dogukan and Mehmet from Universe'"
            ],
            "application/vnd.google.colaboratory.intrinsic+json": {
              "type": "string"
            }
          },
          "metadata": {},
          "execution_count": 13
        }
      ]
    },
    {
      "cell_type": "code",
      "source": [
        "def selamlama(name1, name2, name3) :\n",
        "  return f'Hello {name1} and {name2} from the Universe'\n",
        "\n",
        "name1 = input('Enter your name')\n",
        "name2 = input('Enter your name')\n",
        "\n",
        "selamlama(name1,name2)      #Eger burda 2 degisken atarsam hata verir. Cünkü def fonksiyonunu icinde 3 degisken var"
      ],
      "metadata": {
        "colab": {
          "base_uri": "https://localhost:8080/",
          "height": 249
        },
        "id": "a37t3z25uOXd",
        "outputId": "4bd79da5-ee13-4c05-deca-c9ffdaf3909f"
      },
      "execution_count": null,
      "outputs": [
        {
          "name": "stdout",
          "output_type": "stream",
          "text": [
            "Enter your nameali\n",
            "Enter your namesultan\n"
          ]
        },
        {
          "output_type": "error",
          "ename": "TypeError",
          "evalue": "ignored",
          "traceback": [
            "\u001b[0;31m---------------------------------------------------------------------------\u001b[0m",
            "\u001b[0;31mTypeError\u001b[0m                                 Traceback (most recent call last)",
            "\u001b[0;32m<ipython-input-14-d48cfbeb33b4>\u001b[0m in \u001b[0;36m<module>\u001b[0;34m()\u001b[0m\n\u001b[1;32m      5\u001b[0m \u001b[0mname2\u001b[0m \u001b[0;34m=\u001b[0m \u001b[0minput\u001b[0m\u001b[0;34m(\u001b[0m\u001b[0;34m'Enter your name'\u001b[0m\u001b[0;34m)\u001b[0m\u001b[0;34m\u001b[0m\u001b[0;34m\u001b[0m\u001b[0m\n\u001b[1;32m      6\u001b[0m \u001b[0;34m\u001b[0m\u001b[0m\n\u001b[0;32m----> 7\u001b[0;31m \u001b[0mselamlama\u001b[0m\u001b[0;34m(\u001b[0m\u001b[0mname1\u001b[0m\u001b[0;34m,\u001b[0m\u001b[0mname2\u001b[0m\u001b[0;34m)\u001b[0m      \u001b[0;31m#Eger burda 2 degisken atarsam hata verir. Cünkü def fonksiyonunu icinde 3 degisken var\u001b[0m\u001b[0;34m\u001b[0m\u001b[0;34m\u001b[0m\u001b[0m\n\u001b[0m",
            "\u001b[0;31mTypeError\u001b[0m: selamlama() missing 1 required positional argument: 'name3'"
          ]
        }
      ]
    },
    {
      "cell_type": "code",
      "source": [
        "def one():\n",
        "    return \"January\"\n",
        " \n",
        "def two():\n",
        "    return \"February\"\n",
        " \n",
        "def three():\n",
        "    return \"March\"\n",
        " \n",
        "def four():\n",
        "    return \"April\"\n",
        " \n",
        "def five():\n",
        "    return \"May\"\n",
        " \n",
        "def six():\n",
        "    return \"June\"\n",
        " \n",
        "def seven():\n",
        "    return \"July\"\n",
        " \n",
        "def eight():\n",
        "    return \"August\"\n",
        " \n",
        "def nine():\n",
        "    return \"September\"\n",
        " \n",
        "def ten():\n",
        "    return \"October\"\n",
        " \n",
        "def eleven():\n",
        "    return \"November\"\n",
        " \n",
        "def twelve():\n",
        "    return \"December\"\n",
        " \n",
        " \n",
        "def numbers_to_months(argument):\n",
        "    switcher = {\n",
        "        1: one,\n",
        "        2: two,\n",
        "        3: three,\n",
        "        4: four,\n",
        "        5: five,\n",
        "        6: six,\n",
        "        7: seven,\n",
        "        8: eight,\n",
        "        9: nine,\n",
        "        10: ten,\n",
        "        11: eleven,\n",
        "        12: twelve\n",
        "    }\n",
        "    # Get the function from switcher dictionary\n",
        "    func = switcher.get(argument, lambda: \"Invalid month\")\n",
        "    # Execute the function\n"
      ],
      "metadata": {
        "id": "2AjUXl0OthUb"
      },
      "execution_count": null,
      "outputs": []
    },
    {
      "cell_type": "markdown",
      "source": [
        "## \"*\" Komutu kullanarak birden fazla elemani tek bir degiskenle fonksiyon icine alma allElements(*numbers) gibi"
      ],
      "metadata": {
        "id": "EnXCTFFuNoEN"
      }
    },
    {
      "cell_type": "code",
      "source": [
        "def slicer(*number) :\n",
        "  for i in number :\n",
        "    if i % 2 == 0 :\n",
        "      even_list.append(i)\n",
        "    else :\n",
        "      odd_list.append(i)\n",
        "\n",
        "  print('even numbers :', even_list)\n",
        "  print('odd numbers : ', odd_list)\n",
        "  \n",
        "\n",
        "even_list= []\n",
        "odd_list = []\n",
        "slicer(1,2,3,4,5,6,7,8,9)     #Asagida listeli hali var"
      ],
      "metadata": {
        "colab": {
          "base_uri": "https://localhost:8080/"
        },
        "id": "6-pvOV2kpX2B",
        "outputId": "8cabf1ba-f658-4d4c-b700-456ea08b65ae"
      },
      "execution_count": null,
      "outputs": [
        {
          "output_type": "stream",
          "name": "stdout",
          "text": [
            "even numbers : [2, 4, 6, 8]\n",
            "odd numbers :  [1, 3, 5, 7, 9]\n"
          ]
        }
      ]
    },
    {
      "cell_type": "code",
      "source": [
        "def slicer(number) :      #Eger listeyse * kullanmamaliyiz. yoksa hata verir.\n",
        "  for i in number :\n",
        "    if i % 2 == 0 :\n",
        "      even_list.append(i)\n",
        "    else :\n",
        "      odd_list.append(i)\n",
        "\n",
        "  print('even numbers :', even_list)\n",
        "  print('odd numbers : ', odd_list)\n",
        "  \n",
        "\n",
        "even_list= []\n",
        "odd_list = []\n",
        "liste = [1,2,3,4,5,6,7,8,9]\n",
        "slicer(liste)"
      ],
      "metadata": {
        "colab": {
          "base_uri": "https://localhost:8080/"
        },
        "id": "ZiXAk6Oup-Ld",
        "outputId": "fb1925ec-afb7-471a-d08c-2150c9339258"
      },
      "execution_count": null,
      "outputs": [
        {
          "output_type": "stream",
          "name": "stdout",
          "text": [
            "even numbers : [2, 4, 6, 8]\n",
            "odd numbers :  [1, 3, 5, 7, 9]\n"
          ]
        }
      ]
    },
    {
      "cell_type": "code",
      "source": [
        "def printAll(*args): # All the arguments are 'packed' into args which can be treated like a tuple\n",
        "    print(\"No of arguments:\", len(args)) \n",
        "    for argument in args:\n",
        "        print(argument)\n",
        "#printAll with 3 arguments\n",
        "printAll('Horsefeather','Adonis','Bone','Bone')\n",
        "#printAll with 4 arguments\n",
        "printAll('Sidecar','Long Island','Mudslide','Carriage')"
      ],
      "metadata": {
        "colab": {
          "base_uri": "https://localhost:8080/"
        },
        "id": "4c8z3Ur8NytC",
        "outputId": "2776aa5e-54d8-460b-e65d-ee919b9602f4"
      },
      "execution_count": null,
      "outputs": [
        {
          "output_type": "stream",
          "name": "stdout",
          "text": [
            "No of arguments: 4\n",
            "Horsefeather\n",
            "Adonis\n",
            "Bone\n",
            "Bone\n",
            "No of arguments: 4\n",
            "Sidecar\n",
            "Long Island\n",
            "Mudslide\n",
            "Carriage\n"
          ]
        }
      ]
    },
    {
      "cell_type": "code",
      "source": [
        "def printAll(args): #Bu sekilde kullanirsak asagida fonksiyonu cagirirken birden fazla eleamn girdigimiz icin hata verecektir.\n",
        "\n",
        "    print(\"No of arguments:\", len(args)) \n",
        "    for argument in args:\n",
        "        print(argument)\n",
        "#printAll with 3 arguments\n",
        "printAll('Horsefeather','Adonis','Bone')\n",
        "#printAll with 4 arguments\n",
        "printAll('Sidecar','Long Island','Mudslide','Carriage')"
      ],
      "metadata": {
        "colab": {
          "base_uri": "https://localhost:8080/",
          "height": 232
        },
        "id": "CzwIFIP6N6MZ",
        "outputId": "80715344-5ad7-4b44-d3a9-6bba23e3a273"
      },
      "execution_count": null,
      "outputs": [
        {
          "output_type": "error",
          "ename": "TypeError",
          "evalue": "ignored",
          "traceback": [
            "\u001b[0;31m---------------------------------------------------------------------------\u001b[0m",
            "\u001b[0;31mTypeError\u001b[0m                                 Traceback (most recent call last)",
            "\u001b[0;32m<ipython-input-41-f153f9e42a17>\u001b[0m in \u001b[0;36m<module>\u001b[0;34m()\u001b[0m\n\u001b[1;32m      4\u001b[0m         \u001b[0mprint\u001b[0m\u001b[0;34m(\u001b[0m\u001b[0margument\u001b[0m\u001b[0;34m)\u001b[0m\u001b[0;34m\u001b[0m\u001b[0;34m\u001b[0m\u001b[0m\n\u001b[1;32m      5\u001b[0m \u001b[0;31m#printAll with 3 arguments\u001b[0m\u001b[0;34m\u001b[0m\u001b[0;34m\u001b[0m\u001b[0;34m\u001b[0m\u001b[0m\n\u001b[0;32m----> 6\u001b[0;31m \u001b[0mprintAll\u001b[0m\u001b[0;34m(\u001b[0m\u001b[0;34m'Horsefeather'\u001b[0m\u001b[0;34m,\u001b[0m\u001b[0;34m'Adonis'\u001b[0m\u001b[0;34m,\u001b[0m\u001b[0;34m'Bone'\u001b[0m\u001b[0;34m)\u001b[0m\u001b[0;34m\u001b[0m\u001b[0;34m\u001b[0m\u001b[0m\n\u001b[0m\u001b[1;32m      7\u001b[0m \u001b[0;31m#printAll with 4 arguments\u001b[0m\u001b[0;34m\u001b[0m\u001b[0;34m\u001b[0m\u001b[0;34m\u001b[0m\u001b[0m\n\u001b[1;32m      8\u001b[0m \u001b[0mprintAll\u001b[0m\u001b[0;34m(\u001b[0m\u001b[0;34m'Sidecar'\u001b[0m\u001b[0;34m,\u001b[0m\u001b[0;34m'Long Island'\u001b[0m\u001b[0;34m,\u001b[0m\u001b[0;34m'Mudslide'\u001b[0m\u001b[0;34m,\u001b[0m\u001b[0;34m'Carriage'\u001b[0m\u001b[0;34m)\u001b[0m\u001b[0;34m\u001b[0m\u001b[0;34m\u001b[0m\u001b[0m\n",
            "\u001b[0;31mTypeError\u001b[0m: printAll() takes 1 positional argument but 3 were given"
          ]
        }
      ]
    },
    {
      "cell_type": "code",
      "source": [
        "def brothers(bro1, bro2, bro3):\n",
        "    print('Here are the names of brothers :')\n",
        "    print(bro1, bro2, bro3, sep='\\n')\n",
        "\n",
        "family = ['tom', 'sue', 'tim']\n",
        "brothers(*family)   "
      ],
      "metadata": {
        "colab": {
          "base_uri": "https://localhost:8080/"
        },
        "id": "tTU6ayTweQ5M",
        "outputId": "5512d396-0657-453e-c131-bf92e4dca872"
      },
      "execution_count": null,
      "outputs": [
        {
          "output_type": "stream",
          "name": "stdout",
          "text": [
            "Here are the names of brothers :\n",
            "tom\n",
            "sue\n",
            "tim\n"
          ]
        }
      ]
    },
    {
      "cell_type": "code",
      "source": [
        "def func(a,b,c,d) :\n",
        "  print('For me', a, d, 'and', c, b, 'are genius')\n",
        "\n",
        "\n",
        "genius = ('Bill', 'Rossum', 'Guido van', 'Gates')\n",
        "\n",
        "func(*genius)"
      ],
      "metadata": {
        "colab": {
          "base_uri": "https://localhost:8080/"
        },
        "id": "ZfrMm3gV0AEr",
        "outputId": "ca227880-dc5f-4fd9-909f-d962b0639d92"
      },
      "execution_count": null,
      "outputs": [
        {
          "output_type": "stream",
          "name": "stdout",
          "text": [
            "For me Bill Gates and Guido van Rossum are genius\n"
          ]
        }
      ]
    },
    {
      "cell_type": "markdown",
      "source": [
        "## \"**\" ile key-value degerlerini yazdirma"
      ],
      "metadata": {
        "id": "sTZBxOlSdOJe"
      }
    },
    {
      "cell_type": "code",
      "source": [
        "def animals(**kwargs):\n",
        "    for key, value in kwargs.items():\n",
        "        print(value, \"are\", key)\n",
        " \n",
        "animals(Carnivores=\"Lions\", Omnivores=\"Bears\", Herbivores=\"Deers\", Nomnivores=\"Human\")\n"
      ],
      "metadata": {
        "colab": {
          "base_uri": "https://localhost:8080/"
        },
        "id": "rFmWr5EPdUWZ",
        "outputId": "007b076c-9ce5-4cea-d278-7e69ccab3c6f"
      },
      "execution_count": null,
      "outputs": [
        {
          "output_type": "stream",
          "name": "stdout",
          "text": [
            "Lions are Carnivores\n",
            "Bears are Omnivores\n",
            "Deers are Herbivores\n",
            "Human are Nomnivores\n"
          ]
        }
      ]
    },
    {
      "cell_type": "code",
      "source": [
        "def sözlük(**kwargs) :\n",
        "  for key, value in kwargs.items() :\n",
        "    print(key, '--------', value)\n",
        "\n",
        "my_dict = {'vegetable' : 'lemon', 'dog' : 'animal', 'meat' : 'food'}\n",
        "\n",
        "sözlük(**my_dict)\n",
        "\n",
        "\n",
        "print()\n",
        "#or                                                 AYNI METOD IKI FARKLI YÖNTEM\n",
        "print()\n",
        "\n",
        "def sözlük2(key, value) :\n",
        "  print(key, '------', value)\n",
        "\n",
        "\n",
        "my_dict = {'vegetable' : 'lemon', 'dog' : 'animal', 'meat' : 'food'}\n",
        "\n",
        "sözlük(**my_dict)"
      ],
      "metadata": {
        "colab": {
          "base_uri": "https://localhost:8080/"
        },
        "id": "3bZ-lbAOeWur",
        "outputId": "f876dc52-a422-4e26-e150-550be91cd6fb"
      },
      "execution_count": null,
      "outputs": [
        {
          "output_type": "stream",
          "name": "stdout",
          "text": [
            "vegetable -------- lemon\n",
            "dog -------- animal\n",
            "meat -------- food\n",
            "\n",
            "\n",
            "vegetable -------- lemon\n",
            "dog -------- animal\n",
            "meat -------- food\n"
          ]
        }
      ]
    },
    {
      "cell_type": "code",
      "source": [
        "def gene(x='Solomon', y='David'):  # EGER ASAGIDAKI SÖZLÜK BOS GELIRSE DEFAULT DEGER OLARAK BUNLARI DÖNDÜRÜR. AMA DOLU GELIRSE SÖZLÜKTEKI ISIMLER GELIR. BU DEFAULT DEGERLER DEGIL\n",
        "    print(x, \"belongs to Generation X\")\n",
        "    print(y, \"belongs to Generation Y\")\n",
        " \n",
        "dict_gene = {'y' : \"Marry\", 'x' : \"Fred\"}\n",
        "gene(**dict_gene) "
      ],
      "metadata": {
        "colab": {
          "base_uri": "https://localhost:8080/"
        },
        "id": "b1XRVGEEe00S",
        "outputId": "69f085cf-0cd7-4d6c-b44e-2cf387ba8d67"
      },
      "execution_count": null,
      "outputs": [
        {
          "output_type": "stream",
          "name": "stdout",
          "text": [
            "Fred belongs to Generation X\n",
            "Marry belongs to Generation Y\n"
          ]
        }
      ]
    },
    {
      "cell_type": "code",
      "source": [
        "def gene(x='Solomon', y='David'):  # defined by kwargs (default values assigned to x and y)\n",
        "    print(x, \"belongs to Generation X\")\n",
        "    print(y, \"belongs to Generation Y\")\n",
        " \n",
        "dict_gene = {}\n",
        "gene(**dict_gene) "
      ],
      "metadata": {
        "colab": {
          "base_uri": "https://localhost:8080/"
        },
        "id": "auzWdl8BfjY2",
        "outputId": "9a832ed0-2b01-4dda-8ad7-6c98814e7bb7"
      },
      "execution_count": null,
      "outputs": [
        {
          "output_type": "stream",
          "name": "stdout",
          "text": [
            "Solomon belongs to Generation X\n",
            "David belongs to Generation Y\n"
          ]
        }
      ]
    },
    {
      "cell_type": "code",
      "source": [
        "def organizer(**degerler) :     #En basiti\n",
        "  for key,value in degerler.items() :\n",
        "    key_list.append(key)\n",
        "    value_list.append(value)\n",
        "  print('Key list = ', key_list)\n",
        "  print('Value List : ', value_list)\n",
        "key_list = []\n",
        "value_list = []\n",
        "organizer(Beth=26, Oscar=42, Justin=18, Frank=33)"
      ],
      "metadata": {
        "colab": {
          "base_uri": "https://localhost:8080/"
        },
        "id": "5VLnsbiVs-PZ",
        "outputId": "b0d5b553-1418-4f4f-ab41-caca14821fc6"
      },
      "execution_count": null,
      "outputs": [
        {
          "output_type": "stream",
          "name": "stdout",
          "text": [
            "Key list =  ['Beth', 'Oscar', 'Justin', 'Frank']\n",
            "Value List :  [26, 42, 18, 33]\n"
          ]
        }
      ]
    },
    {
      "cell_type": "markdown",
      "source": [
        "#RECURSIVE FONKSIYON"
      ],
      "metadata": {
        "id": "0aHTTHo3M0HF"
      }
    },
    {
      "cell_type": "code",
      "source": [
        "def af(i) :\n",
        "  if i < 2 :\n",
        "    return 1\n",
        "  else :\n",
        "    return i * af(i -1)     #1.Durum i = 6 icin ; 6 *af(6-1) --> 6 * 5 * af(4) ->>>> 6 * 5 * 4 *af(3) .....\n",
        "\n",
        "af(6)\n",
        "print(af(5))\n",
        "print('----')\n",
        "af(7)"
      ],
      "metadata": {
        "colab": {
          "base_uri": "https://localhost:8080/"
        },
        "id": "cC2wyUFhM32I",
        "outputId": "9d8713df-6a47-4665-d3c2-2958ead22c48"
      },
      "execution_count": null,
      "outputs": [
        {
          "output_type": "stream",
          "name": "stdout",
          "text": [
            "120\n",
            "----\n"
          ]
        },
        {
          "output_type": "execute_result",
          "data": {
            "text/plain": [
              "5040"
            ]
          },
          "metadata": {},
          "execution_count": 14
        }
      ]
    },
    {
      "cell_type": "code",
      "source": [
        "def üs(i) :\n",
        "  if i == 0 :\n",
        "    return 1\n",
        "  else :\n",
        "    return 2 * üs(i-1)\n",
        "\n",
        "üs(6)\n",
        "üs(5)"
      ],
      "metadata": {
        "colab": {
          "base_uri": "https://localhost:8080/"
        },
        "id": "7LavDVweNehb",
        "outputId": "b7d3b677-2fbf-4ed9-c519-8108c08973ff"
      },
      "execution_count": null,
      "outputs": [
        {
          "output_type": "execute_result",
          "data": {
            "text/plain": [
              "32"
            ]
          },
          "metadata": {},
          "execution_count": 17
        }
      ]
    },
    {
      "cell_type": "markdown",
      "source": [
        "#LAMBDA FUNCTION\n"
      ],
      "metadata": {
        "id": "xwfUEE8DGZtB"
      }
    },
    {
      "cell_type": "code",
      "source": [
        "def square(x) :\n",
        "  return x ** 2\n",
        "print(square(5))"
      ],
      "metadata": {
        "colab": {
          "base_uri": "https://localhost:8080/"
        },
        "id": "uBRGMmwyGdgc",
        "outputId": "b120d28a-2e94-4c28-dc6b-9d6fa4567e14"
      },
      "execution_count": null,
      "outputs": [
        {
          "output_type": "stream",
          "name": "stdout",
          "text": [
            "25\n"
          ]
        }
      ]
    },
    {
      "cell_type": "code",
      "source": [
        "print((lambda x: x ** 2) (5))"
      ],
      "metadata": {
        "colab": {
          "base_uri": "https://localhost:8080/"
        },
        "id": "A-YiigzKHcx2",
        "outputId": "52e94c4f-10fe-48ff-c1a3-81a7bbfb1f25"
      },
      "execution_count": null,
      "outputs": [
        {
          "output_type": "stream",
          "name": "stdout",
          "text": [
            "25\n"
          ]
        }
      ]
    },
    {
      "cell_type": "code",
      "source": [
        "square1 = lambda x : x ** 2     #burda square1 adli bir fonskiyona atamis gibi olduk\n",
        "print(square1(8))"
      ],
      "metadata": {
        "colab": {
          "base_uri": "https://localhost:8080/"
        },
        "id": "7LAUbmqMHkND",
        "outputId": "4097dcaf-a96c-41a4-f047-89606a2214b0"
      },
      "execution_count": null,
      "outputs": [
        {
          "output_type": "stream",
          "name": "stdout",
          "text": [
            "64\n"
          ]
        }
      ]
    },
    {
      "cell_type": "code",
      "source": [
        "#1.yol\n",
        "\n",
        "add = lambda x,y : x + y \n",
        "print(add(5,7))"
      ],
      "metadata": {
        "colab": {
          "base_uri": "https://localhost:8080/"
        },
        "id": "WaOCCI9lH0qa",
        "outputId": "f21a558d-7811-4ca5-a377-bdda589618fc"
      },
      "execution_count": null,
      "outputs": [
        {
          "output_type": "stream",
          "name": "stdout",
          "text": [
            "12\n"
          ]
        }
      ]
    },
    {
      "cell_type": "code",
      "source": [
        "#2.yol\n",
        "print((lambda x,y : x + y) (5,7))"
      ],
      "metadata": {
        "colab": {
          "base_uri": "https://localhost:8080/"
        },
        "id": "J1BlHD-lICQR",
        "outputId": "1ae02b10-0db3-45b8-9355-e711336605aa"
      },
      "execution_count": null,
      "outputs": [
        {
          "output_type": "stream",
          "name": "stdout",
          "text": [
            "12\n"
          ]
        }
      ]
    },
    {
      "cell_type": "code",
      "source": [
        "print((lambda x : \"odd\" if x % 2 != 0 else \"even\") (6))\n",
        "print((lambda y : \"odd\" if y % 2!= 0 else \"even\") (y:=7)) #Python 3.8 den sonra bu sekilde atama da yapilabiliyor."
      ],
      "metadata": {
        "colab": {
          "base_uri": "https://localhost:8080/"
        },
        "id": "RexngLfcIYFd",
        "outputId": "cc6be0e4-6fc7-4996-d9dd-1aa3ec94f0f2"
      },
      "execution_count": null,
      "outputs": [
        {
          "output_type": "stream",
          "name": "stdout",
          "text": [
            "even\n"
          ]
        }
      ]
    },
    {
      "cell_type": "code",
      "source": [
        "print((lambda x, y : (x+y)/2) (3,5))\n",
        "\n",
        "#veya\n",
        "\n",
        "average = lambda x, y : (x+y) / 2 \n",
        "print(average(5,6))\n",
        "\n",
        "#veya \n",
        "\n",
        "average1 = (lambda a, b : (a +b) / 2) (5,6)   #Degiskeni burda da atayaybiliriz. Yukardaki gibi print icinde de\n",
        "print(average1)"
      ],
      "metadata": {
        "colab": {
          "base_uri": "https://localhost:8080/"
        },
        "id": "2MG91pXdJBia",
        "outputId": "066bf2e0-c012-4434-acd4-f83455dfe81b"
      },
      "execution_count": null,
      "outputs": [
        {
          "output_type": "stream",
          "name": "stdout",
          "text": [
            "4.0\n",
            "5.5\n",
            "5.5\n"
          ]
        }
      ]
    },
    {
      "cell_type": "code",
      "source": [
        "my_list = [3,8,11,7,6]\n",
        "\n",
        "reverse = (lambda a : a[::-1]) (my_list)  #my_listi a ya atamis olduk\n",
        "print(reverse)\n",
        "\n",
        "string = 'Merhaba Dogukan'\n",
        "reverse1 = (lambda x : x[::-1]) (string)\n",
        "print(reverse1)\n",
        "\n",
        "#veeya \n",
        "print()\n",
        "print((lambda a : a[::-1])(my_list))"
      ],
      "metadata": {
        "colab": {
          "base_uri": "https://localhost:8080/"
        },
        "id": "h4GWo8uUK0sO",
        "outputId": "0abbcdd4-90ea-4444-8f56-ab3b37461be1"
      },
      "execution_count": null,
      "outputs": [
        {
          "output_type": "stream",
          "name": "stdout",
          "text": [
            "[6, 7, 11, 8, 3]\n",
            "nakugoD abahreM\n",
            "\n",
            "[6, 7, 11, 8, 3]\n"
          ]
        }
      ]
    },
    {
      "cell_type": "code",
      "source": [
        "#son metod olarak ;   \n",
        "my_list = [3,4,5,6,7,8]\n",
        "reversed2 = lambda x : list(reversed(x)) \n",
        "print(reversed2(my_list))"
      ],
      "metadata": {
        "colab": {
          "base_uri": "https://localhost:8080/"
        },
        "id": "U5T2k4bHNuZ_",
        "outputId": "02f8ae87-e3d9-482a-cc67-9b0da8efac94"
      },
      "execution_count": null,
      "outputs": [
        {
          "output_type": "stream",
          "name": "stdout",
          "text": [
            "[8, 7, 6, 5, 4, 3]\n"
          ]
        }
      ]
    },
    {
      "cell_type": "code",
      "source": [
        "liste1 = [1,2,3,4]\n",
        "for i in liste1 :\n",
        "  print(i, ':',(lambda x : 'even' if i % 2 == 0 else \"odd\") (liste1))"
      ],
      "metadata": {
        "colab": {
          "base_uri": "https://localhost:8080/"
        },
        "id": "Z6QBH8ZoOFbI",
        "outputId": "13a7ffa7-bb37-447f-d2f4-1d04f0ed2c40"
      },
      "execution_count": null,
      "outputs": [
        {
          "output_type": "stream",
          "name": "stdout",
          "text": [
            "1 : odd\n",
            "2 : even\n",
            "3 : odd\n",
            "4 : even\n"
          ]
        }
      ]
    },
    {
      "cell_type": "code",
      "source": [
        "a = filter(lambda x : x % 2 == 0, [1,2,3,4,5,6])  #WHERE yani kisitmiz  x % 2 == 0. degerlerden 2 ye bölümünden 0 olarak kala nverenleri filtrele ve göster demek\n",
        "\n",
        "print(list(a))"
      ],
      "metadata": {
        "colab": {
          "base_uri": "https://localhost:8080/"
        },
        "id": "PEI5_e0eQcY3",
        "outputId": "ce4e0663-a004-461b-bc4d-64d3b6b602ae"
      },
      "execution_count": 6,
      "outputs": [
        {
          "output_type": "stream",
          "name": "stdout",
          "text": [
            "[2, 4, 6]\n"
          ]
        }
      ]
    },
    {
      "cell_type": "code",
      "source": [
        "a = map(lambda x : x , [1,2,3,4])\n",
        "toplam = 0\n",
        "for i in list(a) :\n",
        "  toplam += i\n",
        "\n",
        "print(toplam)"
      ],
      "metadata": {
        "colab": {
          "base_uri": "https://localhost:8080/"
        },
        "id": "VHFs7lsfQiO2",
        "outputId": "9c739fff-b7e8-484d-cbc5-a249e2ee83fa"
      },
      "execution_count": 12,
      "outputs": [
        {
          "output_type": "stream",
          "name": "stdout",
          "text": [
            "10\n"
          ]
        }
      ]
    },
    {
      "cell_type": "markdown",
      "source": [
        "#IMPORT METHOD"
      ],
      "metadata": {
        "id": "asLzCEpcrHR9"
      }
    },
    {
      "cell_type": "markdown",
      "source": [
        "##MATH KÜTÜPHANESI"
      ],
      "metadata": {
        "id": "ularojaKSKM5"
      }
    },
    {
      "cell_type": "code",
      "source": [
        "import functools\n",
        "print(dir(functools))"
      ],
      "metadata": {
        "colab": {
          "base_uri": "https://localhost:8080/"
        },
        "id": "bawya6JpSRKa",
        "outputId": "18838560-211f-47c3-b8dc-0e6ad9a9a881"
      },
      "execution_count": 16,
      "outputs": [
        {
          "output_type": "stream",
          "name": "stdout",
          "text": [
            "['RLock', 'WRAPPER_ASSIGNMENTS', 'WRAPPER_UPDATES', '_CacheInfo', '_HashedSeq', '__all__', '__builtins__', '__cached__', '__doc__', '__file__', '__loader__', '__name__', '__package__', '__spec__', '_c3_merge', '_c3_mro', '_compose_mro', '_convert', '_find_impl', '_ge_from_gt', '_ge_from_le', '_ge_from_lt', '_gt_from_ge', '_gt_from_le', '_gt_from_lt', '_le_from_ge', '_le_from_gt', '_le_from_lt', '_lru_cache_wrapper', '_lt_from_ge', '_lt_from_gt', '_lt_from_le', '_make_key', 'cmp_to_key', 'get_cache_token', 'lru_cache', 'namedtuple', 'partial', 'partialmethod', 'recursive_repr', 'reduce', 'singledispatch', 'total_ordering', 'update_wrapper', 'wraps']\n"
          ]
        }
      ]
    },
    {
      "cell_type": "code",
      "source": [
        "import math \n",
        "print(dir(math))"
      ],
      "metadata": {
        "colab": {
          "base_uri": "https://localhost:8080/"
        },
        "id": "OkKcGEzKSXeT",
        "outputId": "a11030a2-419b-4dc7-9175-bdbf314741e9"
      },
      "execution_count": 17,
      "outputs": [
        {
          "output_type": "stream",
          "name": "stdout",
          "text": [
            "['__doc__', '__loader__', '__name__', '__package__', '__spec__', 'acos', 'acosh', 'asin', 'asinh', 'atan', 'atan2', 'atanh', 'ceil', 'copysign', 'cos', 'cosh', 'degrees', 'e', 'erf', 'erfc', 'exp', 'expm1', 'fabs', 'factorial', 'floor', 'fmod', 'frexp', 'fsum', 'gamma', 'gcd', 'hypot', 'inf', 'isclose', 'isfinite', 'isinf', 'isnan', 'ldexp', 'lgamma', 'log', 'log10', 'log1p', 'log2', 'modf', 'nan', 'pi', 'pow', 'radians', 'remainder', 'sin', 'sinh', 'sqrt', 'tan', 'tanh', 'tau', 'trunc']\n"
          ]
        }
      ]
    },
    {
      "cell_type": "code",
      "source": [
        "#veya \n",
        "#ard arda toplayabilmek icin\n",
        "#in.: [1,2,3,4]\n",
        "#out: 10\n",
        "from functools import reduce\n",
        "sumList = reduce(lambda x,y: x+y, [1, 2, 3, 4]) # aggregate\n",
        "print(sumList) #list,tuple dönüştürme gerekmez...\n",
        "# A single value gained as a result of applying the function to the iterable’s element."
      ],
      "metadata": {
        "colab": {
          "base_uri": "https://localhost:8080/"
        },
        "id": "M5Alyy2SRPG9",
        "outputId": "808eb46a-1cf1-438f-cf62-16737229c7a9"
      },
      "execution_count": 13,
      "outputs": [
        {
          "output_type": "stream",
          "name": "stdout",
          "text": [
            "10\n"
          ]
        }
      ]
    },
    {
      "cell_type": "code",
      "source": [
        "import math             #sürüm eski oldugu icin hata veriyor\n",
        "print(math.prod(1,2,4,5))   #math.prod ---->listedeki sayilarin carpimlarini sonuc olarak verir\n",
        "\n",
        "# yani :   1 * 2 * 4 * 5 = 40"
      ],
      "metadata": {
        "colab": {
          "base_uri": "https://localhost:8080/",
          "height": 181
        },
        "id": "SN9JbfYBRrOg",
        "outputId": "33906c66-90c6-43f9-e426-d83bb76be675"
      },
      "execution_count": 14,
      "outputs": [
        {
          "output_type": "error",
          "ename": "AttributeError",
          "evalue": "ignored",
          "traceback": [
            "\u001b[0;31m---------------------------------------------------------------------------\u001b[0m",
            "\u001b[0;31mAttributeError\u001b[0m                            Traceback (most recent call last)",
            "\u001b[0;32m<ipython-input-14-04d5ca6be63e>\u001b[0m in \u001b[0;36m<module>\u001b[0;34m()\u001b[0m\n\u001b[1;32m      1\u001b[0m \u001b[0;32mimport\u001b[0m \u001b[0mmath\u001b[0m\u001b[0;34m\u001b[0m\u001b[0;34m\u001b[0m\u001b[0m\n\u001b[0;32m----> 2\u001b[0;31m \u001b[0mprint\u001b[0m\u001b[0;34m(\u001b[0m\u001b[0mmath\u001b[0m\u001b[0;34m.\u001b[0m\u001b[0mprod\u001b[0m\u001b[0;34m(\u001b[0m\u001b[0;36m1\u001b[0m\u001b[0;34m,\u001b[0m\u001b[0;36m2\u001b[0m\u001b[0;34m,\u001b[0m\u001b[0;36m4\u001b[0m\u001b[0;34m,\u001b[0m\u001b[0;36m5\u001b[0m\u001b[0;34m)\u001b[0m\u001b[0;34m)\u001b[0m\u001b[0;34m\u001b[0m\u001b[0;34m\u001b[0m\u001b[0m\n\u001b[0m",
            "\u001b[0;31mAttributeError\u001b[0m: module 'math' has no attribute 'prod'"
          ]
        }
      ]
    },
    {
      "cell_type": "code",
      "source": [
        "from math import pi, log, factorial\n",
        "print(pi)\n",
        "print('log10 ...  = ' , log(10))\n",
        "print('5!         = ', factorial(5))"
      ],
      "metadata": {
        "colab": {
          "base_uri": "https://localhost:8080/"
        },
        "id": "4qnoPqXMSNmW",
        "outputId": "48eed501-1d52-4d28-a4ea-4fc6d07e4a50"
      },
      "execution_count": 24,
      "outputs": [
        {
          "output_type": "stream",
          "name": "stdout",
          "text": [
            "3.141592653589793\n",
            "log10 ...  =  2.302585092994046\n",
            "5!         =  120\n"
          ]
        }
      ]
    },
    {
      "cell_type": "code",
      "source": [
        "#veya \n",
        "import math\n",
        "print(math.factorial(6))\n",
        "print(math.pi)\n",
        "print('log10 = ', math.log(10))"
      ],
      "metadata": {
        "colab": {
          "base_uri": "https://localhost:8080/"
        },
        "id": "m0HLqQomS5aM",
        "outputId": "a06f662f-2ea7-4fc9-944e-a21cfe7ad5c7"
      },
      "execution_count": 21,
      "outputs": [
        {
          "output_type": "stream",
          "name": "stdout",
          "text": [
            "720\n",
            "3.141592653589793\n",
            "log10 =  2.302585092994046\n"
          ]
        }
      ]
    },
    {
      "cell_type": "code",
      "source": [
        "#veya \n",
        "import math as m\n",
        "print('pi       = ', m.pi)\n",
        "print('log1000  = ', m.log(1000))\n",
        "print('10!      = ', m.factorial(10))"
      ],
      "metadata": {
        "colab": {
          "base_uri": "https://localhost:8080/"
        },
        "id": "INrWaXDqTJF5",
        "outputId": "2bd56e06-01ac-43a6-d047-a503ecf17473"
      },
      "execution_count": 23,
      "outputs": [
        {
          "output_type": "stream",
          "name": "stdout",
          "text": [
            "pi       =  3.141592653589793\n",
            "log1000  =  6.907755278982137\n",
            "10!      =  3628800\n"
          ]
        }
      ]
    },
    {
      "cell_type": "code",
      "source": [
        "import string as s\n",
        "print(s.punctuation)\n",
        "print(s.digits)"
      ],
      "metadata": {
        "colab": {
          "base_uri": "https://localhost:8080/"
        },
        "id": "E_logxivTcxd",
        "outputId": "8cd4e356-6cd5-4aba-922c-ad99434cffef"
      },
      "execution_count": 26,
      "outputs": [
        {
          "output_type": "stream",
          "name": "stdout",
          "text": [
            "!\"#$%&'()*+,-./:;<=>?@[\\]^_`{|}~\n",
            "0123456789\n"
          ]
        }
      ]
    },
    {
      "cell_type": "markdown",
      "source": [
        "###Random sifre atama"
      ],
      "metadata": {
        "id": "eLj_qkwcWyUE"
      }
    },
    {
      "cell_type": "code",
      "source": [
        "## Soru: password generator \n",
        "## en az 1 harf (küçük, büyük), 1 rakam, 1 noktalama işaretinden oluşan bir şifre nasl oluştururuz?\n",
        "\n",
        "import string\n",
        "import random\n",
        "\n",
        "s1 = string.ascii_lowercase #küçük harf listesi\n",
        "s2 = string.ascii_uppercase #büyük harf listesi\n",
        "s3 = string.digits          #rakam listesi\n",
        "s4 = string.punctuation     #noktalama karakterlerinin listesi\n",
        "\n",
        "liste = s1 + s2 + s3 + s4\n",
        "print(\"Üretilen Password..:\")\n",
        "print(liste)\n",
        "#print(random.sample(liste, 8))\n",
        "print(random.sample(liste, 8))      #Böyle yaparsak liste halinde verir.Onun icin join metodu ile birlestirmeliyiz."
      ],
      "metadata": {
        "colab": {
          "base_uri": "https://localhost:8080/"
        },
        "id": "wqFFB94gWXZa",
        "outputId": "81a1d52c-db96-4f06-b000-51290cc57fa2"
      },
      "execution_count": 57,
      "outputs": [
        {
          "output_type": "stream",
          "name": "stdout",
          "text": [
            "Üretilen Password..:\n",
            "abcdefghijklmnopqrstuvwxyzABCDEFGHIJKLMNOPQRSTUVWXYZ0123456789!\"#$%&'()*+,-./:;<=>?@[\\]^_`{|}~\n",
            "['b', 'B', 'c', 'v', '&', 'A', 'D', \"'\"]\n"
          ]
        }
      ]
    },
    {
      "cell_type": "code",
      "source": [
        "print(''.join(random.sample(liste,9)))"
      ],
      "metadata": {
        "colab": {
          "base_uri": "https://localhost:8080/"
        },
        "id": "WtfYADbOWn23",
        "outputId": "ea69fda7-4a9c-46b7-b849-2b35ff592eda"
      },
      "execution_count": 58,
      "outputs": [
        {
          "output_type": "stream",
          "name": "stdout",
          "text": [
            "hR@IJqPs]\n"
          ]
        }
      ]
    },
    {
      "cell_type": "code",
      "source": [
        "import random as r\n",
        "a = '1234'\n",
        "b= 'abcd'\n",
        "c = a + b\n",
        "\n",
        "print(''.join(r.sample(c,4)))\n"
      ],
      "metadata": {
        "colab": {
          "base_uri": "https://localhost:8080/"
        },
        "id": "wmar1hHwW3U4",
        "outputId": "9da1fba5-6198-44d2-f883-8ab13b70aacc"
      },
      "execution_count": 59,
      "outputs": [
        {
          "output_type": "stream",
          "name": "stdout",
          "text": [
            "3bda\n"
          ]
        }
      ]
    },
    {
      "cell_type": "code",
      "source": [
        "#another method\n",
        "\n",
        "import string as str\n",
        "import random\n",
        "\n",
        "d1 = random.sample(str.ascii_uppercase, 3)      #3 büyük harf rastegele sec\n",
        "d2 = random.sample(str.ascii_lowercase, 3)      #3 kücük harf rastgele sex\n",
        "d3 = random.sample(str.digits, 2)               #2 tane rastgele rakam sec\n",
        "d4 = random.sample(str.punctuation, 2)          # 2 tane rastegele noktalama isareti sec\n",
        "\n",
        "listem = d1 + d2 + d3 + d4 \n",
        "\n",
        "print(listem)\n",
        "print(''.join(listem))    #Böyle yaaprsam listedeki rastgele gelmis olanlari birlestirir.\n",
        "\n",
        "print()\n",
        "\n",
        "random.shuffle(listem)   #Ayni listeyi bir kere karistirir.  O sekilde bir sifre olusuturur. Sifre icerikleri ayni harften olusur. Sadce bir kere liste icindeki karakterleri karistirmis olduk\n",
        "print(listem)         \n",
        "print(''. join(listem))\n"
      ],
      "metadata": {
        "colab": {
          "base_uri": "https://localhost:8080/"
        },
        "id": "BlWYQv9lYioU",
        "outputId": "6e1a5ee9-790e-4ff7-ed1f-297f0f4dbba3"
      },
      "execution_count": 67,
      "outputs": [
        {
          "output_type": "stream",
          "name": "stdout",
          "text": [
            "['Z', 'O', 'P', 'r', 'u', 's', '6', '2', '/', '+']\n",
            "ZOPrus62/+\n",
            "\n",
            "['2', 'u', '/', '+', 'O', 'P', '6', 'Z', 's', 'r']\n",
            "2u/+OP6Zsr\n"
          ]
        }
      ]
    },
    {
      "cell_type": "markdown",
      "source": [
        "##DATE - TIME IMPORT"
      ],
      "metadata": {
        "id": "a_2w2__arUxZ"
      }
    },
    {
      "cell_type": "code",
      "source": [
        "import datetime\n",
        "print(datetime.datetime.now())\n",
        "print()\n",
        "print(datetime.date.today())"
      ],
      "metadata": {
        "colab": {
          "base_uri": "https://localhost:8080/"
        },
        "id": "6CJ3pWV2rT-a",
        "outputId": "7426899d-dc3e-44a7-e1c6-b77a499a4efb"
      },
      "execution_count": 73,
      "outputs": [
        {
          "output_type": "stream",
          "name": "stdout",
          "text": [
            "2022-07-17 19:42:22.177932\n",
            "\n",
            "2022-07-17\n"
          ]
        }
      ]
    },
    {
      "cell_type": "code",
      "source": [
        "from datetime import date \n",
        "dogum = date(571, 4 , 22)        #(year, month, day)\n",
        "vefat = date(632, 6, 8)\n",
        "\n",
        "toplam_yil = (vefat.year - dogum.year)      # vefat.day yazsak 22 sonucunu verir. gün ay yil böyle secebiliriz\n",
        "print(toplam_yil)"
      ],
      "metadata": {
        "colab": {
          "base_uri": "https://localhost:8080/"
        },
        "id": "OZemcogbxWmQ",
        "outputId": "dcdb8be2-c0d0-4f0f-c9f5-191e5c02c25e"
      },
      "execution_count": 121,
      "outputs": [
        {
          "output_type": "stream",
          "name": "stdout",
          "text": [
            "61\n"
          ]
        }
      ]
    },
    {
      "cell_type": "code",
      "source": [
        "from datetime import date\n",
        "dogum = date(571, 4, 22)\n",
        "vefat = date(632, 6, 8)\n",
        "\n",
        "#Burada genel olarak kabul gören baslangic tarihi 0001, 01, 01 \n",
        "\n",
        "dogum_gün = date.toordinal(dogum)     #0. günü baslangic olarak kabul eder ve onun üstüne sayar.\n",
        "print('0 dan bugüne kadar gecen toplam gün sayisi : ', dogum_gün)\n",
        "vefat_gün = date.toordinal(vefat)\n",
        "print('0 dan bugüne kadar gecen toplam gün sayisi : ', vefat_gün)\n",
        "toplam_gün = vefat_gün - dogum_gün      #En son o iki sayiyi cikarinca toplam gün bulunur.\n",
        "print(toplam_gün)"
      ],
      "metadata": {
        "colab": {
          "base_uri": "https://localhost:8080/"
        },
        "id": "xVXTvw_8yFbS",
        "outputId": "ec9845df-ec22-483a-e234-d9ab7d45c04c"
      },
      "execution_count": 140,
      "outputs": [
        {
          "output_type": "stream",
          "name": "stdout",
          "text": [
            "0 dan bugüne kadar gecen toplam gün sayisi :  208300\n",
            "0 dan bugüne kadar gecen toplam gün sayisi :  230627\n",
            "22327\n"
          ]
        }
      ]
    },
    {
      "cell_type": "code",
      "source": [
        "# veya \n",
        "d1 = date(571, 4, 22)\n",
        "d2 = date(632, 6, 8)\n",
        "print(d1)\n",
        "print(d2)\n",
        "\n",
        "difference = d2 - d1 \n",
        "print(difference)\n",
        "print()\n",
        "\n",
        "print('Sadece gün olarak : ', difference.days)"
      ],
      "metadata": {
        "colab": {
          "base_uri": "https://localhost:8080/"
        },
        "id": "dJZ6MJejztHQ",
        "outputId": "0eb00971-2aeb-40c2-88c8-47753bc0241b"
      },
      "execution_count": 139,
      "outputs": [
        {
          "output_type": "stream",
          "name": "stdout",
          "text": [
            "0571-04-22\n",
            "0632-06-08\n",
            "22327 days, 0:00:00\n",
            "\n",
            "Sadece gün olarak :  22327\n"
          ]
        }
      ]
    },
    {
      "cell_type": "markdown",
      "source": [
        "##Random choice"
      ],
      "metadata": {
        "id": "Ws4a7Tjjr26J"
      }
    },
    {
      "cell_type": "code",
      "source": [
        "from random import choice\n",
        "cities = ['Istanbul', 'Seul', 'Barcelona', 'Madrid', 'Paris']   #Bu listeden rastgele birisini sececek\n",
        "print(choice(cities))"
      ],
      "metadata": {
        "colab": {
          "base_uri": "https://localhost:8080/"
        },
        "id": "HP8itO5Sr5IG",
        "outputId": "300ef955-e867-4a50-959a-2f035fa8c72b"
      },
      "execution_count": 84,
      "outputs": [
        {
          "output_type": "stream",
          "name": "stdout",
          "text": [
            "Istanbul\n"
          ]
        }
      ]
    },
    {
      "cell_type": "code",
      "source": [
        "print(dir(random))"
      ],
      "metadata": {
        "colab": {
          "base_uri": "https://localhost:8080/"
        },
        "id": "bUbCc93Zsaj4",
        "outputId": "5a0817ea-db6c-4319-d3cd-697369f996a0"
      },
      "execution_count": 85,
      "outputs": [
        {
          "output_type": "stream",
          "name": "stdout",
          "text": [
            "['BPF', 'LOG4', 'NV_MAGICCONST', 'RECIP_BPF', 'Random', 'SG_MAGICCONST', 'SystemRandom', 'TWOPI', '_BuiltinMethodType', '_MethodType', '_Sequence', '_Set', '__all__', '__builtins__', '__cached__', '__doc__', '__file__', '__loader__', '__name__', '__package__', '__spec__', '_acos', '_bisect', '_ceil', '_cos', '_e', '_exp', '_inst', '_itertools', '_log', '_os', '_pi', '_random', '_sha512', '_sin', '_sqrt', '_test', '_test_generator', '_urandom', '_warn', 'betavariate', 'choice', 'choices', 'expovariate', 'gammavariate', 'gauss', 'getrandbits', 'getstate', 'lognormvariate', 'normalvariate', 'paretovariate', 'randint', 'random', 'randrange', 'sample', 'seed', 'setstate', 'shuffle', 'triangular', 'uniform', 'vonmisesvariate', 'weibullvariate']\n"
          ]
        }
      ]
    },
    {
      "cell_type": "code",
      "source": [
        "from random import choice\n",
        "groups = [1, 2, 3, 4]\n",
        "\n",
        "group_choice = choice(groups)\n",
        "print(group_choice)\n",
        "\n",
        "group1 = ['Veli', 'Michael', 'Süleyman']\n",
        "group2 = ['Mustafa', 'Kamil', 'Adrian', 'Micahel']\n",
        "group3 = ['Kürsat', 'Dogukan', 'Kemal']\n",
        "group4 = ['Iscan', 'Sultan', 'Ismet', 'Sergio']\n",
        "\n",
        "\n",
        "def secim() :\n",
        "  if group_choice == 1 :\n",
        "    sonuc = choice(group1)  \n",
        "  elif group_choice == 2 :\n",
        "    sonuc = choice(group2)\n",
        "  elif group_choice == 3 :\n",
        "    sonuc = choice(group3)\n",
        "  else :\n",
        "    sonuc = choice(group4)\n",
        "  print(sonuc)\n",
        "\n",
        "secim()\n"
      ],
      "metadata": {
        "colab": {
          "base_uri": "https://localhost:8080/"
        },
        "id": "NG7ei88osleE",
        "outputId": "1c629e33-fa87-4a8d-9f6a-c7d07c46a673"
      },
      "execution_count": 119,
      "outputs": [
        {
          "output_type": "stream",
          "name": "stdout",
          "text": [
            "1\n",
            "Süleyman\n"
          ]
        }
      ]
    },
    {
      "cell_type": "markdown",
      "source": [
        "#MAP() FUNCTION"
      ],
      "metadata": {
        "id": "7svpfmltQf4K"
      }
    },
    {
      "cell_type": "code",
      "source": [
        "a = map(lambda x : x ** 3, [1,3,5,7]) \n",
        "print(list(a))"
      ],
      "metadata": {
        "colab": {
          "base_uri": "https://localhost:8080/"
        },
        "id": "9E9zvvsHPVbP",
        "outputId": "7cce81be-6263-4c08-e6ec-ccc8f1c0117e"
      },
      "execution_count": 2,
      "outputs": [
        {
          "output_type": "stream",
          "name": "stdout",
          "text": [
            "[1, 27, 125, 343]\n"
          ]
        }
      ]
    },
    {
      "cell_type": "code",
      "source": [
        "iterable = [1,2,3,4,5,6,7]\n",
        "result = map(lambda x : x ** 2, iterable)\n",
        "print(type(result))\n",
        "print(result)\n",
        "print(list(result))\n",
        "print()\n",
        "print(list(map(lambda x : x ** 2, iterable)))   #Tek satirda"
      ],
      "metadata": {
        "colab": {
          "base_uri": "https://localhost:8080/"
        },
        "id": "g71fXbNGQiVW",
        "outputId": "074ca61a-73d1-423f-b226-bcb671a9e7b8"
      },
      "execution_count": null,
      "outputs": [
        {
          "output_type": "stream",
          "name": "stdout",
          "text": [
            "<class 'map'>\n",
            "<map object at 0x7ff9d995dc50>\n",
            "[1, 4, 9, 16, 25, 36, 49]\n",
            "\n",
            "[1, 4, 9, 16, 25, 36, 49]\n"
          ]
        }
      ]
    },
    {
      "cell_type": "code",
      "source": [
        "letter1 = ['o', 's' , 't', 't','g']\n",
        "letter2 = ['n', 'i', 'e', 'w','f']\n",
        "letter3 = ['e', 'x', 'n', 'o']\n",
        "\n",
        "result = map(lambda x,y,z : x + y + z, letter1, letter2, letter3)\n",
        "\n",
        "print(*result)\n",
        "\n"
      ],
      "metadata": {
        "colab": {
          "base_uri": "https://localhost:8080/"
        },
        "id": "fe-ppAS5RlA7",
        "outputId": "2caa4adf-5089-4588-af98-d0b1df1b7d54"
      },
      "execution_count": null,
      "outputs": [
        {
          "output_type": "stream",
          "name": "stdout",
          "text": [
            "one six ten two\n"
          ]
        }
      ]
    },
    {
      "cell_type": "code",
      "source": [
        "nums1 = [9,6,7,4]\n",
        "nums2 = [3,6,5,8]\n",
        "\n",
        "result1 = map(lambda a, b : (a+b)/2, nums1,nums2)\n",
        "print(list(result1))"
      ],
      "metadata": {
        "colab": {
          "base_uri": "https://localhost:8080/"
        },
        "id": "47cJSqgJSQwb",
        "outputId": "577c344b-e2d0-4f82-faf4-fd8c2dfa18c9"
      },
      "execution_count": null,
      "outputs": [
        {
          "output_type": "stream",
          "name": "stdout",
          "text": [
            "[6.0, 6.0, 6.0, 6.0]\n"
          ]
        }
      ]
    },
    {
      "cell_type": "code",
      "source": [
        "words1 = [\"you\", \"much\", \"hard\"]\n",
        "words2 = [\"i\", \"you\", \"he\"]\n",
        "words3 = [\"love\", \"ate\", \"works\"]\n",
        "sonuc = map(lambda x, y, z : y + ' ' + z + ' '+ x, words1, words2, words3)\n",
        "print(list(sonuc))"
      ],
      "metadata": {
        "colab": {
          "base_uri": "https://localhost:8080/"
        },
        "id": "5o6HQt7Ix4qp",
        "outputId": "14a29aea-781f-4ae2-c891-c36687bc8d56"
      },
      "execution_count": null,
      "outputs": [
        {
          "output_type": "stream",
          "name": "stdout",
          "text": [
            "['i love you', 'you ate much', 'he works hard']\n"
          ]
        }
      ]
    },
    {
      "cell_type": "code",
      "source": [
        "words1 = [\"you\", \"much\", \"hard\"]\n",
        "words2 = [\"i\", \"you\", \"he\"]\n",
        "words3 = [\"love\", \"ate\", \"works\"]\n",
        "\n",
        "result3 = map(lambda x, y, z : x + ' ' + y + ' ' + z, words2, words3, words1)\n",
        "\n",
        "print(list(result3))\n"
      ],
      "metadata": {
        "colab": {
          "base_uri": "https://localhost:8080/"
        },
        "id": "3O2emIgnSu5j",
        "outputId": "4a28cdd5-66f3-4fe8-e20a-0248cd1c10cc"
      },
      "execution_count": null,
      "outputs": [
        {
          "output_type": "stream",
          "name": "stdout",
          "text": [
            "['i love you', 'you ate much', 'he works hard']\n"
          ]
        }
      ]
    },
    {
      "cell_type": "code",
      "source": [
        "vowels = ['a', 'e', 'i', 'o', 'u']\n",
        "first_ten = ['a', 'b', 'c', 'd', 'e', 'f', 'g', 'i']\n",
        "\n",
        "sesliler = filter(lambda x : True if x in vowels else False, first_ten)\n",
        "\n",
        "print(list(sesliler))"
      ],
      "metadata": {
        "colab": {
          "base_uri": "https://localhost:8080/"
        },
        "id": "xbhv6MmAUDEy",
        "outputId": "6bff057a-da29-43f0-9268-8a2246074bcb"
      },
      "execution_count": null,
      "outputs": [
        {
          "output_type": "stream",
          "name": "stdout",
          "text": [
            "['a', 'e', 'i']\n"
          ]
        }
      ]
    },
    {
      "cell_type": "markdown",
      "source": [
        "#BUILT IN FUNCTIONS\n"
      ],
      "metadata": {
        "id": "U-JEDSyKx2Yy"
      }
    },
    {
      "cell_type": "code",
      "source": [
        "print(abs(-5))  #abs Mutlak deger almaya yarar."
      ],
      "metadata": {
        "colab": {
          "base_uri": "https://localhost:8080/"
        },
        "id": "IzBagbzCx5AS",
        "outputId": "8fdd6275-daa8-4bb1-f05a-a8cd9ce4919b"
      },
      "execution_count": null,
      "outputs": [
        {
          "output_type": "stream",
          "name": "stdout",
          "text": [
            "5\n"
          ]
        }
      ]
    },
    {
      "cell_type": "markdown",
      "source": [
        "##math.floor() -math.ceil()- round() functions"
      ],
      "metadata": {
        "id": "hheXwy13d6wc"
      }
    },
    {
      "cell_type": "code",
      "source": [
        "x = 5.66\n",
        "print(round(x))     #-->round yuvarlamaya yarar.\n",
        "\n",
        "print(round(5.678, 2))      #virgülden sonraki ilk 2 haneyi yuvarlayarak al demek 5.68 olarak cevirdi\n",
        "print(round(5.673,2))        #virgülden sonraki 3. rakam 5ten kücük oldugu icin asagiya yuvarlayarak virgülden sonraki ilk 2 haneyi aldi.\n",
        "x= 5.5            #. dan sonraki kisim yaridan düsükse asagiya 5 ve yukarisysa yukariya yuvarlar\n",
        "print(round(x))\n",
        "\n",
        "x = 5.45\n",
        "print(round(x))"
      ],
      "metadata": {
        "colab": {
          "base_uri": "https://localhost:8080/"
        },
        "id": "fuWRENM2yIyg",
        "outputId": "6ce96ee9-c0d5-490e-b349-27ca481e8a8d"
      },
      "execution_count": null,
      "outputs": [
        {
          "output_type": "stream",
          "name": "stdout",
          "text": [
            "6\n",
            "5.68\n",
            "5.67\n",
            "6\n",
            "5\n"
          ]
        }
      ]
    },
    {
      "cell_type": "code",
      "source": [
        "print(round(123_456, -1))    ##round the nearest 10\n",
        "print()\n",
        "print(round(123_456, -2))    ##round the nearest 100\n",
        "print()\n",
        "print(round(123_456, -3))    ##round the nearest 1000"
      ],
      "metadata": {
        "colab": {
          "base_uri": "https://localhost:8080/"
        },
        "id": "FXEfG6_hoaxD",
        "outputId": "67531191-c8ef-422e-d8f2-d604f7351859"
      },
      "execution_count": null,
      "outputs": [
        {
          "output_type": "stream",
          "name": "stdout",
          "text": [
            "123460\n",
            "\n",
            "123500\n",
            "\n",
            "123000\n"
          ]
        }
      ]
    },
    {
      "cell_type": "code",
      "source": [
        "import math \n",
        "x = 5.67\n",
        "\n",
        "print(math.floor(x))        #floor ne olursa olsun asagiya yuvarlar\n",
        "print(math.ceil(x))         #ceil ise ne olursa olsun yukariya yuvarlar.\n"
      ],
      "metadata": {
        "colab": {
          "base_uri": "https://localhost:8080/"
        },
        "id": "mHQlkZAcyn_m",
        "outputId": "5d80cd89-36f0-4bd8-face-815407755bae"
      },
      "execution_count": null,
      "outputs": [
        {
          "output_type": "stream",
          "name": "stdout",
          "text": [
            "5\n",
            "6\n"
          ]
        }
      ]
    },
    {
      "cell_type": "markdown",
      "source": [
        "##all() function"
      ],
      "metadata": {
        "id": "SFz6GmeTdmqS"
      }
    },
    {
      "cell_type": "code",
      "source": [
        "#all() ici bos olanlari ve icerdeki elemanlarin hepsi true ise true döndürür. Yoksa False döndürür\n",
        "names = ['susan', 'tom', 'False']\n",
        "mood = ['happy', 'sad', 0]\n",
        "empty = {}\n",
        "\n",
        "print(all(names), all(mood), all(empty), sep = '\\n')"
      ],
      "metadata": {
        "colab": {
          "base_uri": "https://localhost:8080/"
        },
        "id": "i7Z3lhdcdL0Y",
        "outputId": "861e3de8-db51-422c-ff0a-210916541ce2"
      },
      "execution_count": null,
      "outputs": [
        {
          "output_type": "stream",
          "name": "stdout",
          "text": [
            "True\n",
            "False\n",
            "True\n"
          ]
        }
      ]
    },
    {
      "cell_type": "markdown",
      "source": [
        "## any() funtion"
      ],
      "metadata": {
        "id": "C4G6_HyoiMZV"
      }
    },
    {
      "cell_type": "code",
      "source": [
        "listA = ['Susan', 'Mehmet', None]     #Eger bir tane bile True varsa True döndürür.\n",
        "listB = [None, (), 0]\n",
        "empty = {}                #bos listeyken any fonksiyonu, all fonksiyonunun aksine False döndürür.\n",
        "\n",
        "print(any(listA), any(listB), any(empty), sep = '\\n')"
      ],
      "metadata": {
        "colab": {
          "base_uri": "https://localhost:8080/"
        },
        "id": "P9Fn-xIUiPze",
        "outputId": "12335a67-7b3d-40a6-acbc-eae450ed1b8b"
      },
      "execution_count": null,
      "outputs": [
        {
          "output_type": "stream",
          "name": "stdout",
          "text": [
            "True\n",
            "False\n",
            "False\n"
          ]
        }
      ]
    },
    {
      "cell_type": "markdown",
      "source": [
        "## bin() - oct() - hex() functions"
      ],
      "metadata": {
        "id": "ic-44-4E0gkV"
      }
    },
    {
      "cell_type": "code",
      "source": [
        "print(f'{12:b} and {12:o} and {12:X} and {12:x}')\n",
        "print()\n",
        "print(f'{12:#b} and {12:#o} and {12:#x}')     # '#' isareti ile yaparsak öndeki ekleri de koyar."
      ],
      "metadata": {
        "colab": {
          "base_uri": "https://localhost:8080/"
        },
        "id": "EiZ7WOdEqAkk",
        "outputId": "d9898b16-6588-40c7-bacd-376160faca20"
      },
      "execution_count": null,
      "outputs": [
        {
          "output_type": "stream",
          "name": "stdout",
          "text": [
            "1100 and 14 and C and c\n",
            "\n",
            "0b1100 and 0o14 and 0xc \n"
          ]
        }
      ]
    },
    {
      "cell_type": "markdown",
      "source": [
        "##complex() function"
      ],
      "metadata": {
        "id": "oqqDbL6N0Yf4"
      }
    },
    {
      "cell_type": "code",
      "source": [
        "print(complex(3, 5))"
      ],
      "metadata": {
        "colab": {
          "base_uri": "https://localhost:8080/"
        },
        "id": "ztbwpNgL0RNZ",
        "outputId": "e7ad561c-ce26-4ef5-ee78-b538eb778d8a"
      },
      "execution_count": null,
      "outputs": [
        {
          "output_type": "stream",
          "name": "stdout",
          "text": [
            "(3+5j)\n"
          ]
        }
      ]
    },
    {
      "cell_type": "markdown",
      "source": [
        "##callable function\n"
      ],
      "metadata": {
        "id": "GtElCmp0vK8i"
      }
    },
    {
      "cell_type": "code",
      "source": [
        "#Icerisine yzadigimiz seyin cagirilabilen bir nesen olup olmadigini kontrol eder\n",
        "mynumber = 15\n",
        "print(callable(mynumber))\n",
        "\n",
        "print(callable(len))\n",
        "print(callable(int))"
      ],
      "metadata": {
        "colab": {
          "base_uri": "https://localhost:8080/"
        },
        "id": "aAuv3v4kvNVE",
        "outputId": "59d2ba28-409a-434c-94b5-6e7e1c61c0be"
      },
      "execution_count": null,
      "outputs": [
        {
          "output_type": "stream",
          "name": "stdout",
          "text": [
            "False\n",
            "True\n",
            "True\n"
          ]
        }
      ]
    },
    {
      "cell_type": "markdown",
      "source": [
        "##eval function"
      ],
      "metadata": {
        "id": "dqHPEOUJ1kyx"
      }
    },
    {
      "cell_type": "code",
      "source": [
        "x = 'Hi'    #eval komutu string ifadeleri komutlari normal komutmus gibi algilar\n",
        "print(x)\n",
        "\n",
        "x = 'print(\"eval ile yazilmis hi\")'\n",
        "eval(x)\n",
        "\n",
        "x = \"23 + 54\"\n",
        "eval(x)"
      ],
      "metadata": {
        "colab": {
          "base_uri": "https://localhost:8080/"
        },
        "id": "qDsRbmUD1nJl",
        "outputId": "9938eee5-40f3-4018-e98b-1ea4c201d0b0"
      },
      "execution_count": null,
      "outputs": [
        {
          "output_type": "stream",
          "name": "stdout",
          "text": [
            "Hi\n",
            "eval ile yazilmis hi\n"
          ]
        },
        {
          "output_type": "execute_result",
          "data": {
            "text/plain": [
              "77"
            ]
          },
          "metadata": {},
          "execution_count": 30
        }
      ]
    },
    {
      "cell_type": "markdown",
      "source": [
        "##filter() function\n",
        "\n"
      ],
      "metadata": {
        "id": "L1FhNmlxjcT_"
      }
    },
    {
      "cell_type": "code",
      "source": [
        "a = filter(lambda x : x % 2 == 0, [1,2,3,4,5,6])  #WHERE yani kisitmiz  x % 2 == 0. degerlerden 2 ye bölümünden 0 olarak kala nverenleri filtrele ve göster demek\n",
        "\n",
        "print(list(a))"
      ],
      "metadata": {
        "colab": {
          "base_uri": "https://localhost:8080/"
        },
        "id": "jhFHJZYPP2Z4",
        "outputId": "d2f0b2ed-c2dc-460c-be8d-18ab2a245952"
      },
      "execution_count": 5,
      "outputs": [
        {
          "output_type": "stream",
          "name": "stdout",
          "text": [
            "[2, 4, 6]\n"
          ]
        }
      ]
    },
    {
      "cell_type": "code",
      "source": [
        "listA = ['susan', 'tom', False, 0, '3']\n",
        "filtered_list = filter(None, listA)     #Parantez ici ilk degere bir fonksiyon yazilir. Biz None yazdik\n",
        "                                        #None yazdigimizda bize filter listA icinde False döndüren degerleri atar. Kalanari yazdirir.\n",
        "for i in filtered_list :\n",
        "  print(i)"
      ],
      "metadata": {
        "colab": {
          "base_uri": "https://localhost:8080/"
        },
        "id": "GRdlUsZFjoTi",
        "outputId": "5bb538f0-7578-43c1-96fe-81bb97bdadc7"
      },
      "execution_count": null,
      "outputs": [
        {
          "output_type": "stream",
          "name": "stdout",
          "text": [
            "susan\n",
            "tom\n",
            "3\n"
          ]
        }
      ]
    },
    {
      "cell_type": "code",
      "source": [
        "liste = list(range(101))\n",
        "\n",
        "def tek(number) :       #burda da islemi yaptik\n",
        "  if number % 2 != 0 :\n",
        "    return number   #ne görmek istiyorsak onu yaptik. Eger == 0 yapsaydik asagida cift sayilari görürdük.\n",
        "\n",
        "tek_sayilar = list(filter(tek, liste))      #tek ismiyle bir fonksiyon yaptik. Cünkü filter parantezi ilk kisma fonksiyon yazmaliyiz.\n",
        "print(tek_sayilar)"
      ],
      "metadata": {
        "colab": {
          "base_uri": "https://localhost:8080/"
        },
        "id": "MKK2qFCL1Ac8",
        "outputId": "4db202de-0c36-4fab-ef18-c05b419f854e"
      },
      "execution_count": null,
      "outputs": [
        {
          "output_type": "stream",
          "name": "stdout",
          "text": [
            "[1, 3, 5, 7, 9, 11, 13, 15, 17, 19, 21, 23, 25, 27, 29, 31, 33, 35, 37, 39, 41, 43, 45, 47, 49, 51, 53, 55, 57, 59, 61, 63, 65, 67, 69, 71, 73, 75, 77, 79, 81, 83, 85, 87, 89, 91, 93, 95, 97, 99]\n"
          ]
        }
      ]
    },
    {
      "cell_type": "markdown",
      "source": [
        "##zip() function "
      ],
      "metadata": {
        "id": "1yGuecAQ3MXl"
      }
    },
    {
      "cell_type": "code",
      "source": [
        "for item in zip (['ali', 'mehmet', 'süleyman'], [10, 5, 8], ['meyve', 'sebze', 'peynir']) :\n",
        "  print(item)\n",
        "\n",
        "#or"
      ],
      "metadata": {
        "colab": {
          "base_uri": "https://localhost:8080/"
        },
        "id": "e2xdkmlW3Lpt",
        "outputId": "3487a461-2bd9-4079-eca1-c3bea218de6c"
      },
      "execution_count": null,
      "outputs": [
        {
          "output_type": "stream",
          "name": "stdout",
          "text": [
            "('ali', 10, 'meyve')\n",
            "('mehmet', 5, 'sebze')\n",
            "('süleyman', 8, 'peynir')\n"
          ]
        }
      ]
    },
    {
      "cell_type": "code",
      "source": [
        "ad = ['ali', 'mehmet', 'süleyman']\n",
        "puan = [10, 5, 8]\n",
        "malzeme = ['meyve', 'sebze', 'peynir']\n",
        "\n",
        "for item2 in zip(ad, malzeme, puan) :\n",
        "  print(item2)"
      ],
      "metadata": {
        "colab": {
          "base_uri": "https://localhost:8080/"
        },
        "id": "qCop9nGF3fiK",
        "outputId": "6cb27e4b-9019-4db4-b2a2-e454e5731225"
      },
      "execution_count": null,
      "outputs": [
        {
          "output_type": "stream",
          "name": "stdout",
          "text": [
            "('ali', 'meyve', 10)\n",
            "('mehmet', 'sebze', 5)\n",
            "('süleyman', 'peynir', 8)\n"
          ]
        }
      ]
    },
    {
      "cell_type": "markdown",
      "source": [
        "##sum() function"
      ],
      "metadata": {
        "id": "fw-QRAI0laf6"
      }
    },
    {
      "cell_type": "code",
      "source": [
        "numbers = [3, 5, 7, 8,12, 15]\n",
        "toplam = sum(numbers)\n",
        "print(toplam)\n",
        "\n",
        "toplam2 = sum(numbers, 20)      #böyle eklemeli olarak da yazabiliyoruz. Baslangic degeri verebiliriz\n",
        "print(toplam2)"
      ],
      "metadata": {
        "colab": {
          "base_uri": "https://localhost:8080/"
        },
        "id": "xRWmgpgFlcza",
        "outputId": "97020e81-d3bc-43f1-cab2-006763ff2ee3"
      },
      "execution_count": null,
      "outputs": [
        {
          "output_type": "stream",
          "name": "stdout",
          "text": [
            "50\n",
            "70\n"
          ]
        }
      ]
    },
    {
      "cell_type": "markdown",
      "source": [
        " ##enumerate() function"
      ],
      "metadata": {
        "id": "rDQjO1UykbVj"
      }
    },
    {
      "cell_type": "code",
      "source": [
        "list(enumerate('Python'))"
      ],
      "metadata": {
        "id": "xbD00PzfkfbQ",
        "colab": {
          "base_uri": "https://localhost:8080/"
        },
        "outputId": "6d9b64f5-32cb-4e7a-aa05-acc3f9c11fcc"
      },
      "execution_count": null,
      "outputs": [
        {
          "output_type": "execute_result",
          "data": {
            "text/plain": [
              "[(0, 'P'), (1, 'y'), (2, 't'), (3, 'h'), (4, 'o'), (5, 'n')]"
            ]
          },
          "metadata": {},
          "execution_count": 3
        }
      ]
    },
    {
      "cell_type": "code",
      "source": [
        "tuple(enumerate('Python', start = 3 ))"
      ],
      "metadata": {
        "colab": {
          "base_uri": "https://localhost:8080/"
        },
        "id": "C9DsRWhutEdm",
        "outputId": "7a26110e-e97e-4a01-f416-c7b45c934a7f"
      },
      "execution_count": null,
      "outputs": [
        {
          "output_type": "execute_result",
          "data": {
            "text/plain": [
              "((3, 'P'), (4, 'y'), (5, 't'), (6, 'h'), (7, 'o'), (8, 'n'))"
            ]
          },
          "metadata": {},
          "execution_count": 4
        }
      ]
    },
    {
      "cell_type": "code",
      "source": [
        "gün = ['Pazartesi', 'Sali', 'Carsamba', 'Persembe', 'Cuma', 'Cumartesi', 'Pazar']\n",
        "\n",
        "gün_list = list(enumerate(gün, start = 1))\n",
        "print(gün_list)"
      ],
      "metadata": {
        "colab": {
          "base_uri": "https://localhost:8080/"
        },
        "id": "8-JjIZ6GtIau",
        "outputId": "b63fbfb1-c19d-48ac-da72-a7de50f98610"
      },
      "execution_count": null,
      "outputs": [
        {
          "output_type": "stream",
          "name": "stdout",
          "text": [
            "[(1, 'Pazartesi'), (2, 'Sali'), (3, 'Carsamba'), (4, 'Persembe'), (5, 'Cuma'), (6, 'Cumartesi'), (7, 'Pazar')]\n"
          ]
        }
      ]
    },
    {
      "cell_type": "code",
      "source": [
        "rakam = int(input('Enter a number. : '))\n",
        "\n",
        "print(gün_list[rakam-1])        #Burda 3 carsamba olarak \n",
        "print(gün_list[rakam-1][1])      #Burda sadece günü yazdirmak icin bier daha iceri girdik"
      ],
      "metadata": {
        "colab": {
          "base_uri": "https://localhost:8080/"
        },
        "id": "DikmJI-ptKmE",
        "outputId": "b64ec07b-7e14-42e0-d25b-5f657a99be7f"
      },
      "execution_count": null,
      "outputs": [
        {
          "output_type": "stream",
          "name": "stdout",
          "text": [
            "Enter a number. : 2\n",
            "(2, 'Sali')\n",
            "Sali\n"
          ]
        }
      ]
    },
    {
      "cell_type": "code",
      "source": [
        "groceries = [\"bananas\",\"butter\",\"cheese\",\"toothpaste\"]\n",
        "for index, grocery in enumerate(groceries):\n",
        "    print(f\"Grocery: {grocery} is at index: {index}.\") "
      ],
      "metadata": {
        "colab": {
          "base_uri": "https://localhost:8080/"
        },
        "id": "iHOPnTE0tQFh",
        "outputId": "fce80372-d2fb-46d2-8015-652308fd58ea"
      },
      "execution_count": null,
      "outputs": [
        {
          "output_type": "stream",
          "name": "stdout",
          "text": [
            "Grocery: bananas is at index: 0.\n",
            "Grocery: butter is at index: 1.\n",
            "Grocery: cheese is at index: 2.\n",
            "Grocery: toothpaste is at index: 3.\n"
          ]
        }
      ]
    },
    {
      "cell_type": "markdown",
      "source": [
        "###BUNU KONTROL ET\n"
      ],
      "metadata": {
        "id": "PfVB0hBki4V4"
      }
    },
    {
      "cell_type": "code",
      "source": [
        "def meaner(**kwargs) :\n",
        "  toplam = 0\n",
        "  counter = 0\n",
        "  for key, value in kwargs.items() :\n",
        "    toplam = toplam + value\n",
        "    counter += 1\n",
        "  \n",
        "  print(f'Yaslarin ortalamasi = {toplam/counter}')\n",
        "    \n",
        "\n",
        "\n",
        "friends = {'ahmet' : 10, 'mehmet' : 20, 'süleyman' : 30 }\n",
        "meaner(**friends)"
      ],
      "metadata": {
        "colab": {
          "base_uri": "https://localhost:8080/"
        },
        "id": "Q9WBiV_j2HCi",
        "outputId": "672f0845-77c8-4da0-a793-ed1b95edec5f"
      },
      "execution_count": null,
      "outputs": [
        {
          "output_type": "stream",
          "name": "stdout",
          "text": [
            "Yaslarin ortalamasi = 20.0\n"
          ]
        }
      ]
    },
    {
      "cell_type": "code",
      "source": [
        "\n",
        "def myRange(number) :\n",
        "    sayi = 0\n",
        "    while sayi < number - 1  :    #Bilerek bir sayi eksik gösterdim, son kalan sayiyi retrun ile dödnürmek icin\n",
        "        print(sayi)\n",
        "        sayi +=1\n",
        "\n",
        "        if sayi == number - 1 :\n",
        "          return number - 1     #Tekrar return ile yazdirmamin sebebi None gözükmemesi icin \n",
        "    \n",
        "\n",
        "\n",
        "x = myRange(9)\n",
        "print(x)\n",
        "\n",
        "print(myRange(5))\n",
        "myRange(13)\n",
        "\n",
        "myRange(6)    #?????Bundan sonra printsiz sadece fonksiyon adi ile cagirinca bunun son degerini göstermiyor ?????\n",
        "myRange(5)"
      ],
      "metadata": {
        "colab": {
          "base_uri": "https://localhost:8080/"
        },
        "id": "ISCoNEKq86B2",
        "outputId": "248eba1d-3625-4927-d580-8897210dba57"
      },
      "execution_count": null,
      "outputs": [
        {
          "output_type": "stream",
          "name": "stdout",
          "text": [
            "0\n",
            "1\n",
            "2\n",
            "3\n",
            "4\n",
            "5\n",
            "6\n",
            "7\n",
            "8\n",
            "0\n",
            "1\n",
            "2\n",
            "3\n",
            "4\n",
            "0\n",
            "1\n",
            "2\n",
            "3\n",
            "4\n",
            "0\n",
            "1\n",
            "2\n",
            "3\n"
          ]
        },
        {
          "output_type": "execute_result",
          "data": {
            "text/plain": [
              "4"
            ]
          },
          "metadata": {},
          "execution_count": 25
        }
      ]
    },
    {
      "cell_type": "code",
      "source": [
        "while True :\n",
        "  number = input(\"Enter a number : \")\n",
        "  if number.isdigit() :\n",
        "    number = int(number)\n",
        "    break\n",
        "  else :\n",
        "    print('Invalid Input.Please try again ')\n",
        "    continue \n",
        "\n",
        "my_list = list()\n",
        "for i in range(2, number+1) :\n",
        "  status = True\n",
        "  for ii in range(2, i) :\n",
        "    if i % ii == 0 :\n",
        "      status = False\n",
        "    \n",
        "  if status == True :\n",
        "    my_list.append(i)\n",
        "\n",
        "\n",
        "print(my_list)\n",
        "\n",
        "\n",
        "\n",
        "\n",
        "\n",
        "\n",
        "\n"
      ],
      "metadata": {
        "colab": {
          "base_uri": "https://localhost:8080/"
        },
        "id": "ot2zqm8wpw9e",
        "outputId": "530660f2-8397-400b-a9ec-616ad6696901"
      },
      "execution_count": null,
      "outputs": [
        {
          "output_type": "stream",
          "name": "stdout",
          "text": [
            "Enter a number : 100\n",
            "[2, 3, 5, 7, 11, 13, 17, 19, 23, 29, 31, 37, 41, 43, 47, 53, 59, 61, 67, 71, 73, 79, 83, 89, 97]\n"
          ]
        }
      ]
    },
    {
      "cell_type": "code",
      "source": [
        "prime_sayilar = list()\n",
        "\n",
        "while True : \n",
        "  numbers = (input('Enter a number : '))\n",
        "  \n",
        "  if numbers == 'done' :\n",
        "    break \n",
        "  \n",
        "  elif numbers.isdigit() :\n",
        "    numbers = int(numbers)\n",
        "    counter = 0\n",
        "    for i in range(2,numbers) :\n",
        "        if  numbers % i == 0 :\n",
        "            counter += 1\n",
        "\n",
        "    print('Counter : ', counter)\n",
        "    print('sayi : ', numbers)\n",
        "    if counter < 1 :\n",
        "      prime_sayilar.append(numbers)\n",
        " \n",
        "  else :\n",
        "    print('Your entered is not valid!. Try Again')\n",
        "    continue\n",
        "if 1 in prime_sayilar :     #1 de asal sayi olmadigi icin eger en son varsa listeden cikartsin diye bu komutu yazdim.\n",
        "    prime_sayilar.remove(1)\n",
        "\n",
        "print(set(prime_sayilar))       #A"
      ],
      "metadata": {
        "colab": {
          "base_uri": "https://localhost:8080/"
        },
        "id": "ewr0sxKDvQ0g",
        "outputId": "7c613e9c-c825-447a-8f2e-f221d8b7958c"
      },
      "execution_count": null,
      "outputs": [
        {
          "output_type": "stream",
          "name": "stdout",
          "text": [
            "Enter a number : 3\n",
            "Counter :  0\n",
            "sayi :  3\n",
            "Enter a number : 5\n",
            "Counter :  0\n",
            "sayi :  5\n",
            "Enter a number : done\n",
            "{3, 5}\n"
          ]
        }
      ]
    },
    {
      "cell_type": "code",
      "source": [
        "strs = [\"eat\", \"tea\", \"tan\", \"ate\", \"nat\", \"bat\", \"cat\", \"tac\"]\n",
        "list1 = []\n",
        "for i in strs:\n",
        "  x = [j for j in strs if set(i)==set(j)]\n",
        "  \n",
        "  if x not in list1:\n",
        "    list1 += [x]\n",
        "print(list1)"
      ],
      "metadata": {
        "colab": {
          "base_uri": "https://localhost:8080/"
        },
        "id": "Gm9WqmxQlSsA",
        "outputId": "b8537c41-4ed1-4da9-b937-4298c728c007"
      },
      "execution_count": null,
      "outputs": [
        {
          "output_type": "stream",
          "name": "stdout",
          "text": [
            "[['eat', 'tea', 'ate'], ['tan', 'nat'], ['bat'], ['cat', 'tac']]\n"
          ]
        }
      ]
    },
    {
      "cell_type": "code",
      "source": [
        "strs = [\"eat\", \"tea\", \"tan\", \"ate\", \"nat\", \"bat\", \"cat\", \"tac\"]"
      ],
      "metadata": {
        "id": "z5o80xNtkOzy"
      },
      "execution_count": null,
      "outputs": []
    },
    {
      "cell_type": "code",
      "source": [
        "strs = [\"eat\", \"tea\", \"tan\", \"ate\", \"nat\", \"bat\", \"cat\", \"tac\"]\n",
        "my_list = []\n",
        "for i in strs :\n",
        "  my_ic_list = list()\n",
        "  for ii in strs : \n",
        "    if set(i) == set(ii) :\n",
        "      my_ic_list.append(ii)\n",
        "  if my_ic_list not in my_list :\n",
        "    my_list.append(my_ic_list)\n",
        "\n",
        "print(my_list)\n"
      ],
      "metadata": {
        "colab": {
          "base_uri": "https://localhost:8080/"
        },
        "id": "uKrXeq0irr-6",
        "outputId": "4945c2e3-369c-4eae-bf4d-2d873503236a"
      },
      "execution_count": null,
      "outputs": [
        {
          "output_type": "stream",
          "name": "stdout",
          "text": [
            "[['eat', 'tea', 'ate'], ['tan', 'nat'], ['bat'], ['cat', 'tac']]\n"
          ]
        }
      ]
    },
    {
      "cell_type": "markdown",
      "source": [
        "#TRY-EXCEPT \n"
      ],
      "metadata": {
        "id": "RI1Xn39TTDs7"
      }
    },
    {
      "cell_type": "code",
      "source": [
        "# potential code before try catch   Format\n",
        "\n",
        "#try:\n",
        "    # code to try to execute\n",
        "#except:\n",
        "    # code to execute if there is an exception\n",
        "    \n",
        "# code that will still execute if there is an exception"
      ],
      "metadata": {
        "id": "G0Th2qncTHfU"
      },
      "execution_count": null,
      "outputs": []
    },
    {
      "cell_type": "code",
      "source": [
        "a = 1\n",
        "\n",
        "try:\n",
        "    b = int(input(\"Please enter a number to divide a\"))\n",
        "    a = a/b\n",
        "    print(\"Success a=\",a)\n",
        "except:\n",
        "    print(\"There was an error\")"
      ],
      "metadata": {
        "colab": {
          "base_uri": "https://localhost:8080/"
        },
        "id": "HzUAoCsrT7Oj",
        "outputId": "0c5005ec-07f1-40d5-bb69-9f6c6b400f25"
      },
      "execution_count": null,
      "outputs": [
        {
          "output_type": "stream",
          "name": "stdout",
          "text": [
            "Please enter a number to divide a15\n",
            "Success a= 0.06666666666666667\n"
          ]
        }
      ]
    },
    {
      "cell_type": "markdown",
      "source": [
        "##TRY-EXCEPT SPECIFIC"
      ],
      "metadata": {
        "id": "s8_DrXyiTu5m"
      }
    },
    {
      "cell_type": "code",
      "source": [
        "# potential code before try catch\n",
        "\n",
        "try:\n",
        "    # code to try to execute\n",
        "except (ZeroDivisionError, NameError):\n",
        "    # code to execute if there is an exception of the given types\n",
        "    \n",
        "# code that will execute if there is no exception or a one that we are handling"
      ],
      "metadata": {
        "id": "WY5rMZ7FTTFl"
      },
      "execution_count": null,
      "outputs": []
    },
    {
      "cell_type": "code",
      "source": [
        "# potential code before try catch\n",
        "\n",
        "try:\n",
        "    # code to try to execute\n",
        "except ZeroDivisionError:\n",
        "    # code to execute if there is a ZeroDivisionError\n",
        "except NameError:\n",
        "    # code to execute if there is a NameError\n",
        "    \n",
        "# code that will execute if there is no exception or a one that we are handling"
      ],
      "metadata": {
        "id": "EfIR3iNqTzsL"
      },
      "execution_count": null,
      "outputs": []
    },
    {
      "cell_type": "code",
      "source": [
        "# potential code before try catch\n",
        "\n",
        "try:\n",
        "    # code to try to execute\n",
        "except ZeroDivisionError:\n",
        "    # code to execute if there is a ZeroDivisionError\n",
        "except NameError:\n",
        "    # code to execute if there is a NameError\n",
        "except:\n",
        "    # code to execute if ther is any exception\n",
        "    \n",
        "# code that will execute if there is no exception or a one that we are handling"
      ],
      "metadata": {
        "id": "dD_9dUH3T0uL"
      },
      "execution_count": null,
      "outputs": []
    },
    {
      "cell_type": "code",
      "source": [
        "a = 1\n",
        "\n",
        "try:\n",
        "    b = int(input(\"Please enter a number to divide a\"))\n",
        "    a = a/b\n",
        "    print(\"Success a=\",a)\n",
        "except ZeroDivisionError:  #0 girilmesi halinde\n",
        "    print(\"The number you provided cant divide 1 because it is 0\")\n",
        "except ValueError:      #harf veya int olmayan baska bir girdi olmasi halinde\n",
        "    print(\"You did not provide a number\")\n",
        "except:\n",
        "    print(\"Something went wrong\")"
      ],
      "metadata": {
        "colab": {
          "base_uri": "https://localhost:8080/"
        },
        "id": "F750mfuxUENY",
        "outputId": "60662274-5929-4df6-c732-cf2a3c307936"
      },
      "execution_count": null,
      "outputs": [
        {
          "output_type": "stream",
          "name": "stdout",
          "text": [
            "Please enter a number to divide a213123\n",
            "Success a= 4.692126143119232e-06\n"
          ]
        }
      ]
    },
    {
      "cell_type": "markdown",
      "source": [
        "##TRY-EXCEPT-ELSE-FINALLY"
      ],
      "metadata": {
        "id": "W8HLMXn4UZzg"
      }
    },
    {
      "cell_type": "code",
      "source": [
        "# potential code before try catch\n",
        "\n",
        "try:\n",
        "    # code to try to execute\n",
        "except ZeroDivisionError:\n",
        "    # code to execute if there is a ZeroDivisionError\n",
        "except NameError:\n",
        "    # code to execute if there is a NameError\n",
        "except:\n",
        "    # code to execute if ther is any exception\n",
        "else:\n",
        "    # code to execute if there is no exception\n",
        "    \n",
        "# code that will execute if there is no exception or a one that we are handling"
      ],
      "metadata": {
        "id": "HcEdHejvUkuG"
      },
      "execution_count": null,
      "outputs": []
    },
    {
      "cell_type": "code",
      "source": [
        "# potential code before try catch\n",
        "\n",
        "try:\n",
        "    # code to try to execute\n",
        "except ZeroDivisionError:\n",
        "    # code to execute if there is a ZeroDivisionError\n",
        "except NameError:\n",
        "    # code to execute if there is a NameError\n",
        "except:\n",
        "    # code to execute if ther is any exception\n",
        "else:\n",
        "    # code to execute if there is no exception\n",
        "finally:\n",
        "    # code to execute at the end of the try except no matter what\n",
        "    \n",
        "# code that will execute if there is no exception or a one that we are handling"
      ],
      "metadata": {
        "id": "g3ubj5AHU0eD"
      },
      "execution_count": null,
      "outputs": []
    },
    {
      "cell_type": "code",
      "source": [
        "a = 1\n",
        "\n",
        "try:\n",
        "    b = int(input(\"Please enter a number to divide a\"))\n",
        "    a = a/b\n",
        "except ZeroDivisionError:\n",
        "    print(\"The number you provided cant divide 1 because it is 0\")\n",
        "except ValueError:\n",
        "    print(\"You did not provide a number\")\n",
        "except:\n",
        "    print(\"Something went wrong\")\n",
        "else:\n",
        "    print(\"success a=\",a)"
      ],
      "metadata": {
        "colab": {
          "base_uri": "https://localhost:8080/"
        },
        "id": "WNYSUp-fU3cl",
        "outputId": "ed13995e-82d8-4246-eb82-c1d9710bb340"
      },
      "execution_count": null,
      "outputs": [
        {
          "output_type": "stream",
          "name": "stdout",
          "text": [
            "Please enter a number to divide a13\n",
            "success a= 0.07692307692307693\n"
          ]
        }
      ]
    },
    {
      "cell_type": "code",
      "source": [
        "a = 1\n",
        "\n",
        "try:\n",
        "    b = int(input(\"Please enter a number to divide a\"))\n",
        "    a = a/b\n",
        "except ZeroDivisionError:\n",
        "    print(\"The number you provided cant divide 1 because it is 0\")\n",
        "except ValueError:\n",
        "    print(\"You did not provide a number\")\n",
        "except:\n",
        "    print(\"Something went wrong\")\n",
        "else:\n",
        "    print(\"success a=\",a)\n",
        "finally:\n",
        "    print(\"Processing Complete\")      #Ne yazarsak yazalim finally kismi her ihtimalle calisacak"
      ],
      "metadata": {
        "colab": {
          "base_uri": "https://localhost:8080/"
        },
        "id": "um4loHWzU_Rt",
        "outputId": "0acdc672-7e7b-4cd2-f9f7-38d98adb0158"
      },
      "execution_count": null,
      "outputs": [
        {
          "output_type": "stream",
          "name": "stdout",
          "text": [
            "Please enter a number to divide a0\n",
            "The number you provided cant divide 1 because it is 0\n",
            "Processing Complete\n"
          ]
        }
      ]
    },
    {
      "cell_type": "markdown",
      "source": [
        "#CLASS-OBJECT"
      ],
      "metadata": {
        "id": "QPYWuPwZX3kq"
      }
    },
    {
      "cell_type": "code",
      "source": [
        "class Points(object):\n",
        "  def __init__(self,x,y):\n",
        "\n",
        "    self.x=x\n",
        "    self.y=y\n",
        "\n",
        "  def print_point(self):\n",
        "\n",
        "    print('x=',self.x,' y=',self.y)\n",
        "\n",
        "p1=Points(\"A\",\"B\")\n",
        "p1.print_point()"
      ],
      "metadata": {
        "colab": {
          "base_uri": "https://localhost:8080/"
        },
        "id": "UpWGbz7lyRfE",
        "outputId": "f2eee057-83fb-4473-f313-460beb707b3d"
      },
      "execution_count": null,
      "outputs": [
        {
          "output_type": "stream",
          "name": "stdout",
          "text": [
            "x= A  y= B\n"
          ]
        }
      ]
    },
    {
      "cell_type": "code",
      "source": [
        "class Points(object):\n",
        "\n",
        "  def __init__(self,x,y,z):\n",
        "\n",
        "    self.x=x\n",
        "    self.y=y\n",
        "    self.z=z\n",
        "\n",
        "  def print_point(self):\n",
        "\n",
        "    print('x=',self.x,' y=',self.y, 'z= ',self.z)\n",
        "\n",
        "p2=Points(1,2,3)\n",
        "\n",
        "p2.x='A'\n",
        "\n",
        "p2.print_point()"
      ],
      "metadata": {
        "colab": {
          "base_uri": "https://localhost:8080/"
        },
        "id": "thcWZSB2y3kx",
        "outputId": "fbe44c6b-09e6-41c5-bc31-a1e077bdf2f2"
      },
      "execution_count": null,
      "outputs": [
        {
          "output_type": "stream",
          "name": "stdout",
          "text": [
            "x= A  y= 2 z=  3\n"
          ]
        }
      ]
    },
    {
      "cell_type": "markdown",
      "source": [
        "##Creating a Class CIRCLE"
      ],
      "metadata": {
        "id": "UzCBPDDBn8OS"
      }
    },
    {
      "cell_type": "code",
      "source": [
        "# Create a class Circle\n",
        "\n",
        "class Circle(object):   #Firstly this one\n",
        "    \n",
        "    # Constructor\n",
        "    def __init__(self, radius=3, color='blue'):\n",
        "        self.radius = radius\n",
        "        self.color = color\n",
        "    \n",
        "    # Method\n",
        "    def add_radius(self, r):\n",
        "        self.radius = self.radius + r\n",
        "        return(self.radius)\n",
        "    \n",
        "    # Method\n",
        "    def drawCircle(self):\n",
        "        plt.gca().add_patch(plt.Circle((0, 0), radius=self.radius, fc=self.color))\n",
        "        plt.axis('scaled')\n",
        "        plt.show()\n",
        "  \n"
      ],
      "metadata": {
        "id": "E129p48rcB3t"
      },
      "execution_count": null,
      "outputs": []
    },
    {
      "cell_type": "code",
      "source": [
        "print(dir(Circle))\n"
      ],
      "metadata": {
        "colab": {
          "base_uri": "https://localhost:8080/"
        },
        "id": "c13xRh8LccJo",
        "outputId": "5db00d19-72e9-46f8-d7eb-6b67a4d179a8"
      },
      "execution_count": null,
      "outputs": [
        {
          "output_type": "stream",
          "name": "stdout",
          "text": [
            "['__class__', '__delattr__', '__dict__', '__dir__', '__doc__', '__eq__', '__format__', '__ge__', '__getattribute__', '__gt__', '__hash__', '__init__', '__init_subclass__', '__le__', '__lt__', '__module__', '__ne__', '__new__', '__reduce__', '__reduce_ex__', '__repr__', '__setattr__', '__sizeof__', '__str__', '__subclasshook__', '__weakref__', 'add_radius', 'drawCircle']\n"
          ]
        }
      ]
    },
    {
      "cell_type": "code",
      "source": [
        "RedCircle = Circle(5,'red')\n",
        "print(dir(RedCircle))\n",
        "\n",
        "RedCircle.drawCircle()\n"
      ],
      "metadata": {
        "colab": {
          "base_uri": "https://localhost:8080/",
          "height": 302
        },
        "id": "BDGJuAf0ojP0",
        "outputId": "fe9d2575-f0a1-47d6-fe7b-5849105df6e9"
      },
      "execution_count": null,
      "outputs": [
        {
          "output_type": "stream",
          "name": "stdout",
          "text": [
            "['__class__', '__delattr__', '__dict__', '__dir__', '__doc__', '__eq__', '__format__', '__ge__', '__getattribute__', '__gt__', '__hash__', '__init__', '__init_subclass__', '__le__', '__lt__', '__module__', '__ne__', '__new__', '__reduce__', '__reduce_ex__', '__repr__', '__setattr__', '__sizeof__', '__str__', '__subclasshook__', '__weakref__', 'add_radius', 'color', 'drawCircle', 'radius']\n"
          ]
        },
        {
          "output_type": "display_data",
          "data": {
            "text/plain": [
              "<Figure size 432x288 with 1 Axes>"
            ],
            "image/png": "[encoded data removed]"
          },
          "metadata": {
            "needs_background": "light"
          }
        }
      ]
    },
    {
      "cell_type": "code",
      "source": [
        "# Use method to change the object attribute radius\n",
        "\n",
        "print('Radius of object:',RedCircle.radius)   #Degisiklikler kalicidir.\n",
        "RedCircle.add_radius(2)\n",
        "print('Radius of object :',RedCircle.radius)\n",
        "RedCircle.add_radius(5)\n",
        "print('Radius of object :',RedCircle.radius)"
      ],
      "metadata": {
        "colab": {
          "base_uri": "https://localhost:8080/"
        },
        "id": "Sh3DI3MlqCN1",
        "outputId": "4c81cc01-70ac-4c3f-bd8f-3bf19281cc6a"
      },
      "execution_count": null,
      "outputs": [
        {
          "output_type": "stream",
          "name": "stdout",
          "text": [
            "Radius of object: 5\n",
            "Radius of object : 7\n",
            "Radius of object : 12\n"
          ]
        }
      ]
    },
    {
      "cell_type": "code",
      "source": [
        "BlueCircle = Circle(15)\n",
        "BlueCircle.radius\n",
        "BlueCircle.color    #color tanimlamamis olmama ragmen otomatik geldi"
      ],
      "metadata": {
        "colab": {
          "base_uri": "https://localhost:8080/",
          "height": 37
        },
        "id": "n1Lx2JQDqgBh",
        "outputId": "2c67f201-6d58-4812-9dfc-29d47a2f7f45"
      },
      "execution_count": null,
      "outputs": [
        {
          "output_type": "execute_result",
          "data": {
            "text/plain": [
              "'blue'"
            ],
            "application/vnd.google.colaboratory.intrinsic+json": {
              "type": "string"
            }
          },
          "metadata": {},
          "execution_count": 110
        }
      ]
    },
    {
      "cell_type": "markdown",
      "source": [
        "##Creating Class RECTANGLE"
      ],
      "metadata": {
        "id": "JTQ6erSbs7Ch"
      }
    },
    {
      "cell_type": "code",
      "source": [
        "# Create a new Rectangle class for creating a rectangle object\n",
        "\n",
        "class Rectangle(object):\n",
        "    \n",
        "    # Constructor\n",
        "    def __init__(self, width=2, height=3, color='r'):\n",
        "        self.height = height \n",
        "        self.width = width\n",
        "        self.color = color\n",
        "\n",
        "    def drawRectangle(self):      #Cizimi yapabilmesi icin bunu tanimlamamiz gerekiyor\n",
        "        plt.gca().add_patch(plt.Rectangle((0, 0), self.width, self.height ,fc=self.color))\n",
        "        plt.axis('scaled')\n",
        "        plt.show()\n",
        "\n"
      ],
      "metadata": {
        "id": "VbNaYgyWsSpW"
      },
      "execution_count": null,
      "outputs": []
    },
    {
      "cell_type": "code",
      "source": [
        "BlueRectangle = Rectangle(2,4,'blue')\n",
        "\n",
        "BlueRectangle.drawRectangle()\n",
        "\n"
      ],
      "metadata": {
        "colab": {
          "base_uri": "https://localhost:8080/",
          "height": 265
        },
        "id": "Ks0oDeF5tCkz",
        "outputId": "2182a992-1b8e-4fd9-89b9-3ec284622319"
      },
      "execution_count": null,
      "outputs": [
        {
          "output_type": "display_data",
          "data": {
            "text/plain": [
              "<Figure size 432x288 with 1 Axes>"
            ],
            "image/png": "[encoded data removed]"
          },
          "metadata": {
            "needs_background": "light"
          }
        }
      ]
    },
    {
      "cell_type": "code",
      "source": [
        "FatYellowRectangle = Rectangle(20,5, 'yellow')\n",
        "FatYellowRectangle.drawRectangle()"
      ],
      "metadata": {
        "colab": {
          "base_uri": "https://localhost:8080/",
          "height": 132
        },
        "id": "vPUI-NnGtMmu",
        "outputId": "dddaf980-d5d1-4362-9b26-a8c8feac1362"
      },
      "execution_count": null,
      "outputs": [
        {
          "output_type": "display_data",
          "data": {
            "text/plain": [
              "<Figure size 432x288 with 1 Axes>"
            ],
            "image/png": "[encoded data removed]"
          },
          "metadata": {
            "needs_background": "light"
          }
        }
      ]
    }
  ]
}