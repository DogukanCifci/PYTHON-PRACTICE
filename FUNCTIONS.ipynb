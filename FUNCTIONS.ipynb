{
  "nbformat": 4,
  "nbformat_minor": 0,
  "metadata": {
    "colab": {
      "name": "FUNCTIONS.ipynb",
      "provenance": [],
      "collapsed_sections": [],
      "toc_visible": true,
      "authorship_tag": "ABX9TyM4M30S/EvTZY8YBMA7Imb7",
      "include_colab_link": true
    },
    "kernelspec": {
      "name": "python3",
      "display_name": "Python 3"
    },
    "language_info": {
      "name": "python"
    }
  },
  "cells": [
    {
      "cell_type": "markdown",
      "metadata": {
        "id": "view-in-github",
        "colab_type": "text"
      },
      "source": [
        "<a href=\"https://colab.research.google.com/github/DogukanCifci/PYTHON-PRACTICE/blob/main/FUNCTIONS.ipynb\" target=\"_parent\"><img src=\"https://colab.research.google.com/assets/colab-badge.svg\" alt=\"Open In Colab\"/></a>"
      ]
    },
    {
      "cell_type": "markdown",
      "source": [
        "#**DEF FUNCTION**"
      ],
      "metadata": {
        "id": "OiU7VzgruU47"
      }
    },
    {
      "cell_type": "markdown",
      "source": [
        "##None gelmesi ve gelmemesi icin yöntem. Tüm örnekler var"
      ],
      "metadata": {
        "id": "m7N0C5LtF0mw"
      }
    },
    {
      "cell_type": "code",
      "source": [
        "# Function example\n",
        "\n",
        "def type_of_album(artist, album, year_released):\n",
        "    \n",
        "    print(artist, album, year_released)\n",
        "    if year_released > 1980:\n",
        "        return \"Modern\"\n",
        "    else:\n",
        "        return \"Oldie\"\n",
        "    \n",
        "x = type_of_album(\"Michael Jackson\", \"Thriller\", 1980)\n",
        "print(x)        #Eger print ile yazdirmazsak fonskiyon icidne sadece print ile yazdirilan kisimlar gözükür. retrun kismi gelmez. #Asagiya bak!!!!!"
      ],
      "metadata": {
        "colab": {
          "base_uri": "https://localhost:8080/"
        },
        "id": "4f7tdG9CFTPK",
        "outputId": "b1a90b9d-8f45-4cb0-9cf4-3244f22ad6cb"
      },
      "execution_count": 1,
      "outputs": [
        {
          "output_type": "stream",
          "name": "stdout",
          "text": [
            "Michael Jackson Thriller 1980\n",
            "Oldie\n"
          ]
        }
      ]
    },
    {
      "cell_type": "code",
      "source": [
        "# Function example\n",
        "\n",
        "def type_of_album(artist, album, year_released):\n",
        "    \n",
        "    print(artist, album, year_released)\n",
        "    if year_released > 1980:\n",
        "        return \"Modern\"\n",
        "    else:\n",
        "        return \"Oldie\"\n",
        "    \n",
        "x = type_of_album(\"Michael Jackson\", \"Thriller\", 1980)    #Oldie gözükmedi\n",
        "     "
      ],
      "metadata": {
        "colab": {
          "base_uri": "https://localhost:8080/"
        },
        "id": "Z9-ivCWPFfer",
        "outputId": "ec38a53d-8549-4899-f35f-583ad98b7b7c"
      },
      "execution_count": 3,
      "outputs": [
        {
          "output_type": "stream",
          "name": "stdout",
          "text": [
            "Michael Jackson Thriller 1980\n"
          ]
        }
      ]
    },
    {
      "cell_type": "code",
      "source": [
        "def type_of_album(artist, album, year_released):\n",
        "    \n",
        "    print(artist, album, year_released)\n",
        "    \n",
        "x = type_of_album(\"Michael Jackson\", \"Thriller\", 1980)    #Bu sekilde yaparsam da daha sonrasinda return kullanmadigim ve iki print ic ice oldugu icin None gözükür.\n",
        "print(x)        "
      ],
      "metadata": {
        "colab": {
          "base_uri": "https://localhost:8080/"
        },
        "id": "12p6C-6WFoGu",
        "outputId": "c8a53792-6f9d-4c8c-b043-2dd4c500404b"
      },
      "execution_count": 4,
      "outputs": [
        {
          "output_type": "stream",
          "name": "stdout",
          "text": [
            "Michael Jackson Thriller 1980\n",
            "None\n"
          ]
        }
      ]
    },
    {
      "cell_type": "markdown",
      "source": [
        "##Global Variables"
      ],
      "metadata": {
        "id": "q4S4Rc5OJISi"
      }
    },
    {
      "cell_type": "code",
      "source": [
        "# Define a function for multiple two numbers\n",
        "\n",
        "def Mult(a, b):\n",
        "    c = a * b\n",
        "    return(c)\n",
        "    print('This is not printed')    #Weil diese Zeile nach return kommt, wird die nicht gesehen.\n",
        "    \n",
        "result = Mult(12,2)\n",
        "print(result)"
      ],
      "metadata": {
        "id": "1T40ZQHyDr4_"
      },
      "execution_count": null,
      "outputs": []
    },
    {
      "cell_type": "code",
      "source": [
        "def deneme() :\n",
        "  date = 1980\n",
        "  return date \n",
        "\n",
        "date = 2039\n",
        "\n",
        "print(deneme())     #Fonksiyon icinde tarihi degistirmemize ragmen altta fonskiyondan bagimisz tarihi bir daha yazrdirdigimizda eskiden tanimladigimiz yazar. Cünkü o global degerdir.\n",
        "#Fonksiyon icinde ki fonskiyon icidne kalir. Disari cikinca biter\n",
        "\n",
        "print(date)"
      ],
      "metadata": {
        "colab": {
          "base_uri": "https://localhost:8080/"
        },
        "id": "FFlHJEjpJRx0",
        "outputId": "0f0f9de0-5f16-4bcf-ddb1-494983b31480"
      },
      "execution_count": 32,
      "outputs": [
        {
          "output_type": "stream",
          "name": "stdout",
          "text": [
            "1980\n",
            "2039\n"
          ]
        }
      ]
    },
    {
      "cell_type": "code",
      "source": [
        "def deneme() :\n",
        "  date = 1980\n",
        "  return date \n",
        "\n",
        "date = 2039\n",
        "\n",
        "deneme()  #Fonksiyon icinde ki fonskiyon icidne kalir. Disari cikinca biter\n",
        "#Hatta bu sekilde deneme() yi printsiz yazarsak. altina printle yazdirdigimiz farkli bir sey oldugu icin buranin ciktisi bir daha gözükmez\n",
        "print('Hello')"
      ],
      "metadata": {
        "colab": {
          "base_uri": "https://localhost:8080/"
        },
        "id": "mewim6hxKBaO",
        "outputId": "abced63f-ff3d-4f9d-d245-5701f9c0bfa5"
      },
      "execution_count": 34,
      "outputs": [
        {
          "output_type": "stream",
          "name": "stdout",
          "text": [
            "Hello\n"
          ]
        }
      ]
    },
    {
      "cell_type": "code",
      "source": [
        "# Example of global variable      #Asagidaki 3 kod baglantilidir.\n",
        "\n",
        "artist = \"Michael Jackson\"\n",
        "def printer1(artist):\n",
        "    internal_var1 = artist\n",
        "    print(artist, \"is an artist\")\n",
        "    \n",
        "printer1(artist)\n",
        "# try runningthe following code\n",
        "print(internal_var1)    #Hata verir. Cünkü bu deger sadece fonksiyon kullanildiginda gelir.\n"
      ],
      "metadata": {
        "colab": {
          "base_uri": "https://localhost:8080/",
          "height": 215
        },
        "id": "zvDar5JZIqxW",
        "outputId": "1628cf66-bbee-4ed8-9b70-765225080e0f"
      },
      "execution_count": 28,
      "outputs": [
        {
          "output_type": "stream",
          "name": "stdout",
          "text": [
            "Michael Jackson is an artist\n"
          ]
        },
        {
          "output_type": "error",
          "ename": "NameError",
          "evalue": "ignored",
          "traceback": [
            "\u001b[0;31m---------------------------------------------------------------------------\u001b[0m",
            "\u001b[0;31mNameError\u001b[0m                                 Traceback (most recent call last)",
            "\u001b[0;32m<ipython-input-28-a6d89c7b7448>\u001b[0m in \u001b[0;36m<module>\u001b[0;34m()\u001b[0m\n\u001b[1;32m      8\u001b[0m \u001b[0mprinter1\u001b[0m\u001b[0;34m(\u001b[0m\u001b[0martist\u001b[0m\u001b[0;34m)\u001b[0m\u001b[0;34m\u001b[0m\u001b[0;34m\u001b[0m\u001b[0m\n\u001b[1;32m      9\u001b[0m \u001b[0;31m# try runningthe following code\u001b[0m\u001b[0;34m\u001b[0m\u001b[0;34m\u001b[0m\u001b[0;34m\u001b[0m\u001b[0m\n\u001b[0;32m---> 10\u001b[0;31m \u001b[0mprint\u001b[0m\u001b[0;34m(\u001b[0m\u001b[0minternal_var1\u001b[0m\u001b[0;34m)\u001b[0m    \u001b[0;31m#Hata verir. Cünkü bu deger sadece fonksiyon kullanildiginda gelir.\u001b[0m\u001b[0;34m\u001b[0m\u001b[0;34m\u001b[0m\u001b[0m\n\u001b[0m",
            "\u001b[0;31mNameError\u001b[0m: name 'internal_var1' is not defined"
          ]
        }
      ]
    },
    {
      "cell_type": "code",
      "source": [
        "# Example of global variable\n",
        "\n",
        "artist = \"Michael Jackson\"\n",
        "def Printer111(artist):\n",
        "    internal_var1 = artist\n",
        "    print(artist, \"is an artist\")\n",
        "    \n",
        "Printer111(artist)\n",
        "# try runningthe following code\n",
        "Printer111(internal_var1) #Fonksiyon adiyla cagirsak bile hata aliriz. Cünkü global olarak tanimlamadik. "
      ],
      "metadata": {
        "colab": {
          "base_uri": "https://localhost:8080/",
          "height": 215
        },
        "id": "ARPoI5HBLI1i",
        "outputId": "b685f11e-2616-4db2-feaa-e91c2d44d800"
      },
      "execution_count": 35,
      "outputs": [
        {
          "output_type": "stream",
          "name": "stdout",
          "text": [
            "Michael Jackson is an artist\n"
          ]
        },
        {
          "output_type": "error",
          "ename": "NameError",
          "evalue": "ignored",
          "traceback": [
            "\u001b[0;31m---------------------------------------------------------------------------\u001b[0m",
            "\u001b[0;31mNameError\u001b[0m                                 Traceback (most recent call last)",
            "\u001b[0;32m<ipython-input-35-dd79802170e4>\u001b[0m in \u001b[0;36m<module>\u001b[0;34m()\u001b[0m\n\u001b[1;32m      8\u001b[0m \u001b[0mprinter1\u001b[0m\u001b[0;34m(\u001b[0m\u001b[0martist\u001b[0m\u001b[0;34m)\u001b[0m\u001b[0;34m\u001b[0m\u001b[0;34m\u001b[0m\u001b[0m\n\u001b[1;32m      9\u001b[0m \u001b[0;31m# try runningthe following code\u001b[0m\u001b[0;34m\u001b[0m\u001b[0;34m\u001b[0m\u001b[0;34m\u001b[0m\u001b[0m\n\u001b[0;32m---> 10\u001b[0;31m \u001b[0mPrinter111\u001b[0m\u001b[0;34m(\u001b[0m\u001b[0minternal_var1\u001b[0m\u001b[0;34m)\u001b[0m \u001b[0;31m#Fonksiyon adiyla cagirsak bile hata aliriz. Cünkü global olarak tanimlamadik.\u001b[0m\u001b[0;34m\u001b[0m\u001b[0;34m\u001b[0m\u001b[0m\n\u001b[0m",
            "\u001b[0;31mNameError\u001b[0m: name 'internal_var1' is not defined"
          ]
        }
      ]
    },
    {
      "cell_type": "code",
      "source": [
        "artist = \"Michael Jackson\"     \n",
        "\n",
        "def Printer222(artist):\n",
        "    global internal_var      #Hata vermemsi icin bu sekilde tanimlamaliyiz.\n",
        "    internal_var= \"Whitney Houston\"\n",
        "    print(artist,\"is an artist\")\n",
        "\n",
        "Printer222(artist) \n",
        "Printer222(internal_var)\n",
        "print(internal_var)     # Busekilde de verir."
      ],
      "metadata": {
        "colab": {
          "base_uri": "https://localhost:8080/"
        },
        "id": "sZ8eG5ALLWyS",
        "outputId": "2dbd3cb4-861a-4abe-957b-84e8d99ae546"
      },
      "execution_count": 38,
      "outputs": [
        {
          "output_type": "stream",
          "name": "stdout",
          "text": [
            "Michael Jackson is an artist\n",
            "Whitney Houston is an artist\n",
            "Whitney Houston\n"
          ]
        }
      ]
    },
    {
      "cell_type": "code",
      "source": [
        "# Another example of global variable Asagidaki kod ile bagalntili\n",
        "\n",
        "myFavouriteBand = \"AC/DC\"   #Disarda tanimladik\n",
        "\n",
        "def getBandRating(bandname):\n",
        "    if bandname == myFavouriteBand:\n",
        "        return 10.0\n",
        "    else:\n",
        "        return 0.0\n",
        "\n",
        "print(\"AC/DC's rating is:\", getBandRating(\"AC/DC\"))\n",
        "print(\"Deep Purple's rating is:\",getBandRating(\"Deep Purple\"))\n",
        "print(\"My favourite band is:\", myFavouriteBand)"
      ],
      "metadata": {
        "id": "3CLdYy_cMYOT"
      },
      "execution_count": null,
      "outputs": []
    },
    {
      "cell_type": "code",
      "source": [
        "def getBandRating(bandname):\n",
        "    myFavouriteBand = \"AC/DC\"     #Fonskiyon icinde tanimladigimiz icin global degil. Busebeple hata verir.\n",
        "    if bandname == myFavouriteBand:     \n",
        "        return 10.0\n",
        "    else:\n",
        "        return 0.0\n",
        "\n",
        "print(\"AC/DC's rating is: \", getBandRating(\"AC/DC\"))\n",
        "print(\"Deep Purple's rating is: \", getBandRating(\"Deep Purple\"))\n",
        "print(\"My favourite band is\", myFavouriteBand)"
      ],
      "metadata": {
        "colab": {
          "base_uri": "https://localhost:8080/",
          "height": 232
        },
        "id": "VtM8JwlyMd2W",
        "outputId": "beb983e7-fcfb-43f5-f874-03e9c31415f9"
      },
      "execution_count": 39,
      "outputs": [
        {
          "output_type": "stream",
          "name": "stdout",
          "text": [
            "AC/DC's rating is:  10.0\n",
            "Deep Purple's rating is:  0.0\n"
          ]
        },
        {
          "output_type": "error",
          "ename": "NameError",
          "evalue": "ignored",
          "traceback": [
            "\u001b[0;31m---------------------------------------------------------------------------\u001b[0m",
            "\u001b[0;31mNameError\u001b[0m                                 Traceback (most recent call last)",
            "\u001b[0;32m<ipython-input-39-f0272ad55787>\u001b[0m in \u001b[0;36m<module>\u001b[0;34m()\u001b[0m\n\u001b[1;32m      8\u001b[0m \u001b[0mprint\u001b[0m\u001b[0;34m(\u001b[0m\u001b[0;34m\"AC/DC's rating is: \"\u001b[0m\u001b[0;34m,\u001b[0m \u001b[0mgetBandRating\u001b[0m\u001b[0;34m(\u001b[0m\u001b[0;34m\"AC/DC\"\u001b[0m\u001b[0;34m)\u001b[0m\u001b[0;34m)\u001b[0m\u001b[0;34m\u001b[0m\u001b[0;34m\u001b[0m\u001b[0m\n\u001b[1;32m      9\u001b[0m \u001b[0mprint\u001b[0m\u001b[0;34m(\u001b[0m\u001b[0;34m\"Deep Purple's rating is: \"\u001b[0m\u001b[0;34m,\u001b[0m \u001b[0mgetBandRating\u001b[0m\u001b[0;34m(\u001b[0m\u001b[0;34m\"Deep Purple\"\u001b[0m\u001b[0;34m)\u001b[0m\u001b[0;34m)\u001b[0m\u001b[0;34m\u001b[0m\u001b[0;34m\u001b[0m\u001b[0m\n\u001b[0;32m---> 10\u001b[0;31m \u001b[0mprint\u001b[0m\u001b[0;34m(\u001b[0m\u001b[0;34m\"My favourite band is\"\u001b[0m\u001b[0;34m,\u001b[0m \u001b[0mmyFavouriteBand\u001b[0m\u001b[0;34m)\u001b[0m\u001b[0;34m\u001b[0m\u001b[0;34m\u001b[0m\u001b[0m\n\u001b[0m",
            "\u001b[0;31mNameError\u001b[0m: name 'myFavouriteBand' is not defined"
          ]
        }
      ]
    },
    {
      "cell_type": "code",
      "source": [
        "def getBandRating(bandname):\n",
        "    global myFavouriteBand  # Bir önceki örenkete oldugu gibi bu sekilde yapsaydik olurdu.\n",
        "    myFavouriteBand = \"AC/DC\" \n",
        "    if bandname == myFavouriteBand:     \n",
        "        return 10.0\n",
        "    else:\n",
        "        return 0.0\n",
        "\n",
        "print(\"AC/DC's rating is: \", getBandRating(\"AC/DC\"))\n",
        "print(\"Deep Purple's rating is: \", getBandRating(\"Deep Purple\"))\n",
        "print(\"My favourite band is\", myFavouriteBand)"
      ],
      "metadata": {
        "colab": {
          "base_uri": "https://localhost:8080/"
        },
        "id": "2dEzipUmMuNk",
        "outputId": "5009ba23-0ec2-4525-8ff3-7bf1dacd02e1"
      },
      "execution_count": 40,
      "outputs": [
        {
          "output_type": "stream",
          "name": "stdout",
          "text": [
            "AC/DC's rating is:  10.0\n",
            "Deep Purple's rating is:  0.0\n",
            "My favourite band is AC/DC\n"
          ]
        }
      ]
    },
    {
      "cell_type": "markdown",
      "source": [
        "##To create our own function like abs(), pow(), int() ..."
      ],
      "metadata": {
        "id": "B8Yx_kN_C9Xs"
      }
    },
    {
      "cell_type": "code",
      "source": [
        "def myAbs(a) :    #myAbs opsiyonal abs fonksiyonu\n",
        "  \"\"\"Bu fonksiyonun aciklamasidir. Bu kendi yaptigimiz mutlak deger fonksiyonudur. Negatif sayilari pozitife cevirmeye yarar\"\"\"   ##help yazdigimizda __doc_- yazdigimizda cikacak aciklama\n",
        "  if a < 0 :\n",
        "    sonuc = a * (-1)\n",
        "    return sonuc\n",
        "  else :\n",
        "    return a\n",
        "a= -9\n",
        "\n",
        "print(myAbs(a))\n",
        "print(myAbs(11))\n",
        "print(myAbs(-11.3))\n",
        "help(myAbs)"
      ],
      "metadata": {
        "colab": {
          "base_uri": "https://localhost:8080/"
        },
        "id": "-7LdXE8A_gB0",
        "outputId": "a893eade-46b9-494b-d9fa-09366490cf62"
      },
      "execution_count": null,
      "outputs": [
        {
          "output_type": "stream",
          "name": "stdout",
          "text": [
            "9\n",
            "11\n",
            "11.3\n",
            "Help on function myAbs in module __main__:\n",
            "\n",
            "myAbs(a)\n",
            "    Bu fonksiyonun aciklamasidir. Bu kendi yaptigimiz mutlak deger fonksiyonudur. Negatif sayilari pozitife cevirmeye yarar\n",
            "\n"
          ]
        }
      ]
    },
    {
      "cell_type": "code",
      "source": [
        "#myFibo yap\n"
      ],
      "metadata": {
        "id": "Fh49guyfJVnT"
      },
      "execution_count": null,
      "outputs": []
    },
    {
      "cell_type": "markdown",
      "source": [
        "##DEF Function's Examples and Solving to understand the logic of def function"
      ],
      "metadata": {
        "id": "hhDUXcIsubI5"
      }
    },
    {
      "cell_type": "code",
      "source": [
        "def multiply_1(a,b) :\n",
        "  print(a + b)\n",
        "\n",
        "multiply_1(5,6)\n",
        "\n",
        "print(multiply_1(5,6))  ###def fonksiyonu icinde print ile islem yaptigimiz icin islemi yapar ama en son none yazar.\n",
        "\n",
        "#onun icin return ile yazdirmamiz gerekiyor. alttaki örnek. Kendi def fonksiyonumu olusturdugum örnekte return ile döndür."
      ],
      "metadata": {
        "colab": {
          "base_uri": "https://localhost:8080/"
        },
        "id": "S5FItoz60Ox8",
        "outputId": "48b24c36-3a96-44af-9735-e3c8ebc7977c"
      },
      "execution_count": null,
      "outputs": [
        {
          "output_type": "stream",
          "name": "stdout",
          "text": [
            "11\n",
            "11\n",
            "None\n"
          ]
        }
      ]
    },
    {
      "cell_type": "code",
      "source": [
        "def multiply_2(a,b) :\n",
        "  return a * b\n",
        "\n",
        "multiply_2(10, 20)\n",
        "\n",
        "print(multiply_2(10,20))   # Bu sefer None olmadan yazdirdi. "
      ],
      "metadata": {
        "colab": {
          "base_uri": "https://localhost:8080/"
        },
        "id": "ygNi65g_0mSM",
        "outputId": "d191a623-08df-4c56-f16c-5c6dafbe128c"
      },
      "execution_count": null,
      "outputs": [
        {
          "output_type": "stream",
          "name": "stdout",
          "text": [
            "200\n"
          ]
        }
      ]
    },
    {
      "cell_type": "code",
      "source": [
        "def calculator(a, b, parametre) :\n",
        "  if parametre == \"+\" :\n",
        "    print(a + b) \n",
        "  elif parametre == '-' :\n",
        "    print(a - b)\n",
        "  elif parametre == '*' :\n",
        "    print(a * b)\n",
        "  \n",
        "  elif parametre == '/' :\n",
        "    print(a / b)\n",
        "  \n",
        "  else :\n",
        "    print('Yanlis parametre girdiniz!')\n",
        "    pass\n",
        "\n",
        "  \n",
        "\n",
        "sayi1 = int(input(\"sayi1 : \"))\n",
        "sayi2 =int(input(\"sayi2: \"))\n",
        "parametre1 = input(\"parametre giriniz : \")\n",
        "\n",
        "calculator(sayi1, sayi2, parametre1)"
      ],
      "metadata": {
        "colab": {
          "base_uri": "https://localhost:8080/"
        },
        "id": "-fjVVCpLq-sp",
        "outputId": "e6a15596-6b99-49b6-ff7e-72bc61151927"
      },
      "execution_count": null,
      "outputs": [
        {
          "output_type": "stream",
          "name": "stdout",
          "text": [
            "sayi1 : 14\n",
            "sayi2: 25\n",
            "parametre giriniz : 5\n",
            "Yanlis parametre girdiniz!\n"
          ]
        }
      ]
    },
    {
      "cell_type": "code",
      "source": [
        "def calculator(a, b, parametre) :\n",
        "  if parametre == \"+\" :\n",
        "    sonuc = a + b\n",
        "  elif parametre == '-' :\n",
        "    sonuc = a - b\n",
        "  elif parametre == '*' :\n",
        "    sonuc = a * b\n",
        "  \n",
        "  elif parametre == '/' :\n",
        "    sonuc = a / b\n",
        "  \n",
        "  else :\n",
        "    print('Yanlis parametre girdiniz!')\n",
        "    pass\n",
        "\n",
        "  return sonuc\n",
        "  \n",
        "sayi1 = int(input(\"sayi1 : \"))\n",
        "sayi2 =int(input(\"sayi2: \"))\n",
        "parametre1 = input(\"parametre giriniz : \")\n",
        "\n",
        "calculator(sayi1, sayi2, parametre1)"
      ],
      "metadata": {
        "colab": {
          "base_uri": "https://localhost:8080/"
        },
        "id": "xctAbGuJ2Ey2",
        "outputId": "896d472d-414b-49b9-adc1-9a32e8b9f376"
      },
      "execution_count": null,
      "outputs": [
        {
          "name": "stdout",
          "output_type": "stream",
          "text": [
            "sayi1 : 14\n",
            "sayi2: 40\n",
            "parametre giriniz : /\n"
          ]
        },
        {
          "output_type": "execute_result",
          "data": {
            "text/plain": [
              "0.35"
            ]
          },
          "metadata": {},
          "execution_count": 23
        }
      ]
    },
    {
      "cell_type": "code",
      "source": [
        "##menülü calculatorwith while loops\n",
        "\n",
        "def menu() :\n",
        "  print(\"\"\"\\t[+]-Toplama\\n\n",
        "        [-]-Cikarma\\n\n",
        "        [/]-Bölme\\n\n",
        "        [*]-Carpma\"\"\")\n",
        "  \n",
        "def calculator(a, b, parametre) :\n",
        "  if parametre == \"+\" :\n",
        "    sonuc = a + b\n",
        "  elif parametre == '-' :\n",
        "    sonuc = a - b\n",
        "  elif parametre == '*' :\n",
        "    sonuc = a * b\n",
        "  \n",
        "  elif parametre == '/' :\n",
        "    sonuc = a / b\n",
        "  \n",
        "  else :\n",
        "    print('Yanlis parametre girdiniz!')\n",
        "    pass\n",
        "\n",
        "  return sonuc\n",
        "\n",
        "while True :\n",
        "  menu()\n",
        "\n",
        "  x = float(input('Enter the first number : '))\n",
        "  y = float(input('Enter the second number : '))\n",
        "  operator = input('Enter the operator : ')\n",
        "\n",
        "  islem = calculator(x, y, operator)\n",
        "  print(\"Sonuc : \", islem)\n",
        "\n",
        "  answer = input('Do you wanna break the calculator [y] or [n] : ')\n",
        "  if answer == 'y' :\n",
        "    print(\"DONE!\")\n",
        "    break\n"
      ],
      "metadata": {
        "colab": {
          "base_uri": "https://localhost:8080/"
        },
        "id": "P2MTtd6l4jLN",
        "outputId": "54d292d9-3439-4dba-e64c-97869711aea3"
      },
      "execution_count": null,
      "outputs": [
        {
          "output_type": "stream",
          "name": "stdout",
          "text": [
            "\t[+]-Toplama\n",
            "\n",
            "        [-]-Cikarma\n",
            "\n",
            "        [/]-Bölme\n",
            "\n",
            "        [*]-Carpma\n",
            "Enter the first number : 12\n",
            "Enter the second number : 15\n",
            "Enter the operator : /\n",
            "Sonuc :  0.8\n",
            "Do you wanna break the calculator [y] or [n] : n\n",
            "\t[+]-Toplama\n",
            "\n",
            "        [-]-Cikarma\n",
            "\n",
            "        [/]-Bölme\n",
            "\n",
            "        [*]-Carpma\n",
            "Enter the first number : 14\n",
            "Enter the second number : 2\n",
            "Enter the operator : *\n",
            "Sonuc :  28.0\n",
            "Do you wanna break the calculator [y] or [n] : y\n",
            "DONE!\n"
          ]
        }
      ]
    },
    {
      "cell_type": "code",
      "source": [
        "def menu() :\n",
        "  print(\"\"\"\\t Toplama : [+]\\n\n",
        "          Cikarma : [-]\\n\n",
        "          Carpma : [*]\\n\n",
        "          Bölme : [/] \"\"\")\n",
        "\n",
        "def hesap_makinesi(o, x, y) :\n",
        "  if o in \"+-*/\" :\n",
        "    if x.isdigit() and y.isdigit() :\n",
        "      if o == '+' :\n",
        "        sonuc = x + y\n",
        "      elif o == '-' :\n",
        "        sonuc = x - y\n",
        "      elif o == '/' :\n",
        "        sonuc = x / y \n",
        "      elif o == ' * ':\n",
        "        sonuc = x * y\n",
        "\n",
        "      return sonuc \n",
        "\n",
        "    else :\n",
        "      return 'Hatali bir girdi yaptiniz.'\n",
        "  else :\n",
        "    return 'Menüdeki islemlerden giriniz!'\n",
        "\n",
        "  \n",
        "while True:\n",
        "  menu()\n",
        "  islem = input('Yapmak istediginiz islemi giriniz : ')\n",
        "  sayi1 =input(\"Enter a number : \")\n",
        "  sayi2 = (input(\"Enter another number : \"))\n",
        "  hesap_makinesi(islem, sayi1, sayi2) \n",
        "  \n",
        "    \n",
        "\n",
        "\n",
        "\n",
        "\n",
        "\n",
        "\n"
      ],
      "metadata": {
        "colab": {
          "base_uri": "https://localhost:8080/",
          "height": 521
        },
        "id": "RNrjsCKjABE1",
        "outputId": "923ee924-88e0-4eb2-aab3-65bfc1de8bd4"
      },
      "execution_count": null,
      "outputs": [
        {
          "name": "stdout",
          "output_type": "stream",
          "text": [
            "\t Toplama : [+]\n",
            "\n",
            "          Cikarma : [-]\n",
            "\n",
            "          Carpma : [*]\n",
            "\n",
            "          Bölme : [/] \n",
            "Yapmak istediginiz islemi giriniz : *\n",
            "Enter a number : 2\n",
            "Enter another number : 15\n"
          ]
        },
        {
          "output_type": "error",
          "ename": "UnboundLocalError",
          "evalue": "ignored",
          "traceback": [
            "\u001b[0;31m---------------------------------------------------------------------------\u001b[0m",
            "\u001b[0;31mUnboundLocalError\u001b[0m                         Traceback (most recent call last)",
            "\u001b[0;32m<ipython-input-34-9d2a613bb76b>\u001b[0m in \u001b[0;36m<module>\u001b[0;34m()\u001b[0m\n\u001b[1;32m     30\u001b[0m   \u001b[0msayi1\u001b[0m \u001b[0;34m=\u001b[0m\u001b[0minput\u001b[0m\u001b[0;34m(\u001b[0m\u001b[0;34m\"Enter a number : \"\u001b[0m\u001b[0;34m)\u001b[0m\u001b[0;34m\u001b[0m\u001b[0;34m\u001b[0m\u001b[0m\n\u001b[1;32m     31\u001b[0m   \u001b[0msayi2\u001b[0m \u001b[0;34m=\u001b[0m \u001b[0;34m(\u001b[0m\u001b[0minput\u001b[0m\u001b[0;34m(\u001b[0m\u001b[0;34m\"Enter another number : \"\u001b[0m\u001b[0;34m)\u001b[0m\u001b[0;34m)\u001b[0m\u001b[0;34m\u001b[0m\u001b[0;34m\u001b[0m\u001b[0m\n\u001b[0;32m---> 32\u001b[0;31m   \u001b[0mhesap_makinesi\u001b[0m\u001b[0;34m(\u001b[0m\u001b[0mislem\u001b[0m\u001b[0;34m,\u001b[0m \u001b[0msayi1\u001b[0m\u001b[0;34m,\u001b[0m \u001b[0msayi2\u001b[0m\u001b[0;34m)\u001b[0m\u001b[0;34m\u001b[0m\u001b[0;34m\u001b[0m\u001b[0m\n\u001b[0m\u001b[1;32m     33\u001b[0m \u001b[0;34m\u001b[0m\u001b[0m\n\u001b[1;32m     34\u001b[0m \u001b[0;34m\u001b[0m\u001b[0m\n",
            "\u001b[0;32m<ipython-input-34-9d2a613bb76b>\u001b[0m in \u001b[0;36mhesap_makinesi\u001b[0;34m(o, x, y)\u001b[0m\n\u001b[1;32m     17\u001b[0m         \u001b[0msonuc\u001b[0m \u001b[0;34m=\u001b[0m \u001b[0mx\u001b[0m \u001b[0;34m*\u001b[0m \u001b[0my\u001b[0m\u001b[0;34m\u001b[0m\u001b[0;34m\u001b[0m\u001b[0m\n\u001b[1;32m     18\u001b[0m \u001b[0;34m\u001b[0m\u001b[0m\n\u001b[0;32m---> 19\u001b[0;31m       \u001b[0;32mreturn\u001b[0m \u001b[0msonuc\u001b[0m\u001b[0;34m\u001b[0m\u001b[0;34m\u001b[0m\u001b[0m\n\u001b[0m\u001b[1;32m     20\u001b[0m \u001b[0;34m\u001b[0m\u001b[0m\n\u001b[1;32m     21\u001b[0m     \u001b[0;32melse\u001b[0m \u001b[0;34m:\u001b[0m\u001b[0;34m\u001b[0m\u001b[0;34m\u001b[0m\u001b[0m\n",
            "\u001b[0;31mUnboundLocalError\u001b[0m: local variable 'sonuc' referenced before assignment"
          ]
        }
      ]
    },
    {
      "cell_type": "markdown",
      "source": [
        "##def basics"
      ],
      "metadata": {
        "id": "KaHqlRpN3uBJ"
      }
    },
    {
      "cell_type": "code",
      "source": [
        "def selamlama() :\n",
        "  return 'Hallo. Hezlich Wilkommen auf dem Thema def'"
      ],
      "metadata": {
        "colab": {
          "base_uri": "https://localhost:8080/",
          "height": 37
        },
        "id": "Njgh3kavtzPo",
        "outputId": "c1fa6469-b601-40a4-fbf5-3e3d779b3ca9"
      },
      "execution_count": null,
      "outputs": [
        {
          "output_type": "execute_result",
          "data": {
            "text/plain": [
              "'Hallo. Hezlich Wilkommen auf dem Thema def'"
            ],
            "application/vnd.google.colaboratory.intrinsic+json": {
              "type": "string"
            }
          },
          "metadata": {},
          "execution_count": 8
        }
      ]
    },
    {
      "cell_type": "code",
      "execution_count": null,
      "metadata": {
        "colab": {
          "base_uri": "https://localhost:8080/"
        },
        "id": "CuyEYezarzaO",
        "outputId": "807074a8-3d21-4476-8764-0ba2bd985db7"
      },
      "outputs": [
        {
          "output_type": "stream",
          "name": "stdout",
          "text": [
            "Enter a number6\n",
            "720\n",
            "120\n"
          ]
        }
      ],
      "source": [
        "def fac(a) :      #asagidan veriyi alip a ya atar ve a ile islem yapar.\n",
        "  t = 1\n",
        "  for i in range(1, a + 1) :\n",
        "    t = t * i\n",
        "  print(t)\n",
        "\n",
        "number = int(input('Enter a number'))\n",
        "fac(number) #numberi yukarda def fonksiyonu icinde a ya atar.\n",
        "\n",
        "fac(5)    # inputsuz otomatik olarak 5 sayisini atar\n",
        "\n"
      ]
    },
    {
      "cell_type": "code",
      "source": [
        "def sum(a, b) :\n",
        "  summe = a + b\n",
        "  return summe\n",
        "\n",
        "number1 = int(input('Enter a number : '))\n",
        "number2 = int(input('Enter another number : '))\n",
        "\n",
        "sum(number1,number2)"
      ],
      "metadata": {
        "colab": {
          "base_uri": "https://localhost:8080/"
        },
        "id": "M0idtzrWt24o",
        "outputId": "4b998e7e-7a78-48bf-e497-e43a5ca2c535"
      },
      "execution_count": null,
      "outputs": [
        {
          "name": "stdout",
          "output_type": "stream",
          "text": [
            "Enter a number : 15\n",
            "Enter another number : 16\n"
          ]
        },
        {
          "output_type": "execute_result",
          "data": {
            "text/plain": [
              "31"
            ]
          },
          "metadata": {},
          "execution_count": 10
        }
      ]
    },
    {
      "cell_type": "code",
      "source": [
        "def carpma(a, b, c) :\n",
        "  sonuc = a * b * c\n",
        "  return sonuc\n",
        "\n",
        "num1 = int(input('Enter the first number : '))\n",
        "num2 = int(input('Enter the second number : '))\n",
        "num3 = int(input('Enter the third number : '))\n",
        "\n",
        "print(carpma(num1, num2, num3))"
      ],
      "metadata": {
        "colab": {
          "base_uri": "https://localhost:8080/"
        },
        "id": "H9q5CopXt9LF",
        "outputId": "ddcf69c9-25f4-426c-efa4-396a021d1149"
      },
      "execution_count": null,
      "outputs": [
        {
          "output_type": "stream",
          "name": "stdout",
          "text": [
            "Enter the first number : 4\n",
            "Enter the second number : 6\n",
            "Enter the third number : 5\n",
            "120\n"
          ]
        }
      ]
    },
    {
      "cell_type": "code",
      "source": [
        "def selamlama(name1, name2, herkunft = 'Universe') :\n",
        "  return f'Hello {name1} and {name2} from {herkunft}'\n",
        "\n",
        "name1 = input('Enter your name : ')\n",
        "name2 = input('Enter your name : ')\n",
        "\n",
        "selamlama(name1,name2)   #Yukardaki degiskenlerden birisi tanimlanmis oldugu icin 2 tane deger girmem yeterli"
      ],
      "metadata": {
        "colab": {
          "base_uri": "https://localhost:8080/",
          "height": 71
        },
        "id": "oRsv2gguuIHG",
        "outputId": "bcd3f63e-7e3c-48b8-b565-abbd80c2ce68"
      },
      "execution_count": null,
      "outputs": [
        {
          "name": "stdout",
          "output_type": "stream",
          "text": [
            "Enter your name : Dogukan\n",
            "Enter your name : Mehmet\n"
          ]
        },
        {
          "output_type": "execute_result",
          "data": {
            "text/plain": [
              "'Hello Dogukan and Mehmet from Universe'"
            ],
            "application/vnd.google.colaboratory.intrinsic+json": {
              "type": "string"
            }
          },
          "metadata": {},
          "execution_count": 13
        }
      ]
    },
    {
      "cell_type": "code",
      "source": [
        "def selamlama(name1, name2, name3) :\n",
        "  return f'Hello {name1} and {name2} from the Universe'\n",
        "\n",
        "name1 = input('Enter your name')\n",
        "name2 = input('Enter your name')\n",
        "\n",
        "selamlama(name1,name2)      #Eger burda 2 degisken atarsam hata verir. Cünkü def fonksiyonunu icinde 3 degisken var"
      ],
      "metadata": {
        "colab": {
          "base_uri": "https://localhost:8080/",
          "height": 249
        },
        "id": "a37t3z25uOXd",
        "outputId": "4bd79da5-ee13-4c05-deca-c9ffdaf3909f"
      },
      "execution_count": null,
      "outputs": [
        {
          "name": "stdout",
          "output_type": "stream",
          "text": [
            "Enter your nameali\n",
            "Enter your namesultan\n"
          ]
        },
        {
          "output_type": "error",
          "ename": "TypeError",
          "evalue": "ignored",
          "traceback": [
            "\u001b[0;31m---------------------------------------------------------------------------\u001b[0m",
            "\u001b[0;31mTypeError\u001b[0m                                 Traceback (most recent call last)",
            "\u001b[0;32m<ipython-input-14-d48cfbeb33b4>\u001b[0m in \u001b[0;36m<module>\u001b[0;34m()\u001b[0m\n\u001b[1;32m      5\u001b[0m \u001b[0mname2\u001b[0m \u001b[0;34m=\u001b[0m \u001b[0minput\u001b[0m\u001b[0;34m(\u001b[0m\u001b[0;34m'Enter your name'\u001b[0m\u001b[0;34m)\u001b[0m\u001b[0;34m\u001b[0m\u001b[0;34m\u001b[0m\u001b[0m\n\u001b[1;32m      6\u001b[0m \u001b[0;34m\u001b[0m\u001b[0m\n\u001b[0;32m----> 7\u001b[0;31m \u001b[0mselamlama\u001b[0m\u001b[0;34m(\u001b[0m\u001b[0mname1\u001b[0m\u001b[0;34m,\u001b[0m\u001b[0mname2\u001b[0m\u001b[0;34m)\u001b[0m      \u001b[0;31m#Eger burda 2 degisken atarsam hata verir. Cünkü def fonksiyonunu icinde 3 degisken var\u001b[0m\u001b[0;34m\u001b[0m\u001b[0;34m\u001b[0m\u001b[0m\n\u001b[0m",
            "\u001b[0;31mTypeError\u001b[0m: selamlama() missing 1 required positional argument: 'name3'"
          ]
        }
      ]
    },
    {
      "cell_type": "code",
      "source": [
        "def one():\n",
        "    return \"January\"\n",
        " \n",
        "def two():\n",
        "    return \"February\"\n",
        " \n",
        "def three():\n",
        "    return \"March\"\n",
        " \n",
        "def four():\n",
        "    return \"April\"\n",
        " \n",
        "def five():\n",
        "    return \"May\"\n",
        " \n",
        "def six():\n",
        "    return \"June\"\n",
        " \n",
        "def seven():\n",
        "    return \"July\"\n",
        " \n",
        "def eight():\n",
        "    return \"August\"\n",
        " \n",
        "def nine():\n",
        "    return \"September\"\n",
        " \n",
        "def ten():\n",
        "    return \"October\"\n",
        " \n",
        "def eleven():\n",
        "    return \"November\"\n",
        " \n",
        "def twelve():\n",
        "    return \"December\"\n",
        " \n",
        " \n",
        "def numbers_to_months(argument):\n",
        "    switcher = {\n",
        "        1: one,\n",
        "        2: two,\n",
        "        3: three,\n",
        "        4: four,\n",
        "        5: five,\n",
        "        6: six,\n",
        "        7: seven,\n",
        "        8: eight,\n",
        "        9: nine,\n",
        "        10: ten,\n",
        "        11: eleven,\n",
        "        12: twelve\n",
        "    }\n",
        "    # Get the function from switcher dictionary\n",
        "    func = switcher.get(argument, lambda: \"Invalid month\")\n",
        "    # Execute the function\n"
      ],
      "metadata": {
        "id": "2AjUXl0OthUb"
      },
      "execution_count": null,
      "outputs": []
    },
    {
      "cell_type": "markdown",
      "source": [
        "## \"*\" Komutu kullanarak birden fazla elemani tek bir degiskenle fonksiyon icine alma allElements(*numbers) gibi"
      ],
      "metadata": {
        "id": "EnXCTFFuNoEN"
      }
    },
    {
      "cell_type": "code",
      "source": [
        "def printAll(*args): # All the arguments are 'packed' into args which can be treated like a tuple\n",
        "    print(\"No of arguments:\", len(args)) \n",
        "    for argument in args:\n",
        "        print(argument)\n",
        "#printAll with 3 arguments\n",
        "printAll('Horsefeather','Adonis','Bone','Bone')\n",
        "#printAll with 4 arguments\n",
        "printAll('Sidecar','Long Island','Mudslide','Carriage')"
      ],
      "metadata": {
        "colab": {
          "base_uri": "https://localhost:8080/"
        },
        "id": "4c8z3Ur8NytC",
        "outputId": "2776aa5e-54d8-460b-e65d-ee919b9602f4"
      },
      "execution_count": 43,
      "outputs": [
        {
          "output_type": "stream",
          "name": "stdout",
          "text": [
            "No of arguments: 4\n",
            "Horsefeather\n",
            "Adonis\n",
            "Bone\n",
            "Bone\n",
            "No of arguments: 4\n",
            "Sidecar\n",
            "Long Island\n",
            "Mudslide\n",
            "Carriage\n"
          ]
        }
      ]
    },
    {
      "cell_type": "code",
      "source": [
        "def printAll(args): #Bu sekilde kullanirsak asagida fonksiyonu cagirirken birden fazla eleamn girdigimiz icin hata verecektir.\n",
        "\n",
        "    print(\"No of arguments:\", len(args)) \n",
        "    for argument in args:\n",
        "        print(argument)\n",
        "#printAll with 3 arguments\n",
        "printAll('Horsefeather','Adonis','Bone')\n",
        "#printAll with 4 arguments\n",
        "printAll('Sidecar','Long Island','Mudslide','Carriage')"
      ],
      "metadata": {
        "colab": {
          "base_uri": "https://localhost:8080/",
          "height": 232
        },
        "id": "CzwIFIP6N6MZ",
        "outputId": "80715344-5ad7-4b44-d3a9-6bba23e3a273"
      },
      "execution_count": 41,
      "outputs": [
        {
          "output_type": "error",
          "ename": "TypeError",
          "evalue": "ignored",
          "traceback": [
            "\u001b[0;31m---------------------------------------------------------------------------\u001b[0m",
            "\u001b[0;31mTypeError\u001b[0m                                 Traceback (most recent call last)",
            "\u001b[0;32m<ipython-input-41-f153f9e42a17>\u001b[0m in \u001b[0;36m<module>\u001b[0;34m()\u001b[0m\n\u001b[1;32m      4\u001b[0m         \u001b[0mprint\u001b[0m\u001b[0;34m(\u001b[0m\u001b[0margument\u001b[0m\u001b[0;34m)\u001b[0m\u001b[0;34m\u001b[0m\u001b[0;34m\u001b[0m\u001b[0m\n\u001b[1;32m      5\u001b[0m \u001b[0;31m#printAll with 3 arguments\u001b[0m\u001b[0;34m\u001b[0m\u001b[0;34m\u001b[0m\u001b[0;34m\u001b[0m\u001b[0m\n\u001b[0;32m----> 6\u001b[0;31m \u001b[0mprintAll\u001b[0m\u001b[0;34m(\u001b[0m\u001b[0;34m'Horsefeather'\u001b[0m\u001b[0;34m,\u001b[0m\u001b[0;34m'Adonis'\u001b[0m\u001b[0;34m,\u001b[0m\u001b[0;34m'Bone'\u001b[0m\u001b[0;34m)\u001b[0m\u001b[0;34m\u001b[0m\u001b[0;34m\u001b[0m\u001b[0m\n\u001b[0m\u001b[1;32m      7\u001b[0m \u001b[0;31m#printAll with 4 arguments\u001b[0m\u001b[0;34m\u001b[0m\u001b[0;34m\u001b[0m\u001b[0;34m\u001b[0m\u001b[0m\n\u001b[1;32m      8\u001b[0m \u001b[0mprintAll\u001b[0m\u001b[0;34m(\u001b[0m\u001b[0;34m'Sidecar'\u001b[0m\u001b[0;34m,\u001b[0m\u001b[0;34m'Long Island'\u001b[0m\u001b[0;34m,\u001b[0m\u001b[0;34m'Mudslide'\u001b[0m\u001b[0;34m,\u001b[0m\u001b[0;34m'Carriage'\u001b[0m\u001b[0;34m)\u001b[0m\u001b[0;34m\u001b[0m\u001b[0;34m\u001b[0m\u001b[0m\n",
            "\u001b[0;31mTypeError\u001b[0m: printAll() takes 1 positional argument but 3 were given"
          ]
        }
      ]
    },
    {
      "cell_type": "markdown",
      "source": [
        "#BUILT IN FUNCTIONS\n"
      ],
      "metadata": {
        "id": "U-JEDSyKx2Yy"
      }
    },
    {
      "cell_type": "code",
      "source": [
        "print(abs(-5))  #abs Mutlak deger almaya yarar."
      ],
      "metadata": {
        "colab": {
          "base_uri": "https://localhost:8080/"
        },
        "id": "IzBagbzCx5AS",
        "outputId": "8fdd6275-daa8-4bb1-f05a-a8cd9ce4919b"
      },
      "execution_count": null,
      "outputs": [
        {
          "output_type": "stream",
          "name": "stdout",
          "text": [
            "5\n"
          ]
        }
      ]
    },
    {
      "cell_type": "markdown",
      "source": [
        "##math.floor() -math.ceil()- round() functions"
      ],
      "metadata": {
        "id": "hheXwy13d6wc"
      }
    },
    {
      "cell_type": "code",
      "source": [
        "x = 5.66\n",
        "print(round(x))     #-->round yuvarlamaya yarar.\n",
        "\n",
        "print(round(5.678, 2))      #virgülden sonraki ilk 2 haneyi yuvarlayarak al demek 5.68 olarak cevirdi\n",
        "print(round(5.673,2))        #virgülden sonraki 3. rakam 5ten kücük oldugu icin asagiya yuvarlayarak virgülden sonraki ilk 2 haneyi aldi.\n",
        "x= 5.5            #. dan sonraki kisim yaridan düsükse asagiya 5 ve yukarisysa yukariya yuvarlar\n",
        "print(round(x))\n",
        "\n",
        "x = 5.45\n",
        "print(round(x))"
      ],
      "metadata": {
        "colab": {
          "base_uri": "https://localhost:8080/"
        },
        "id": "fuWRENM2yIyg",
        "outputId": "6ce96ee9-c0d5-490e-b349-27ca481e8a8d"
      },
      "execution_count": null,
      "outputs": [
        {
          "output_type": "stream",
          "name": "stdout",
          "text": [
            "6\n",
            "5.68\n",
            "5.67\n",
            "6\n",
            "5\n"
          ]
        }
      ]
    },
    {
      "cell_type": "code",
      "source": [
        "print(round(123_456, -1))    ##round the nearest 10\n",
        "print()\n",
        "print(round(123_456, -2))    ##round the nearest 100\n",
        "print()\n",
        "print(round(123_456, -3))    ##round the nearest 1000"
      ],
      "metadata": {
        "colab": {
          "base_uri": "https://localhost:8080/"
        },
        "id": "FXEfG6_hoaxD",
        "outputId": "67531191-c8ef-422e-d8f2-d604f7351859"
      },
      "execution_count": null,
      "outputs": [
        {
          "output_type": "stream",
          "name": "stdout",
          "text": [
            "123460\n",
            "\n",
            "123500\n",
            "\n",
            "123000\n"
          ]
        }
      ]
    },
    {
      "cell_type": "code",
      "source": [
        "import math \n",
        "x = 5.67\n",
        "\n",
        "print(math.floor(x))        #floor ne olursa olsun asagiya yuvarlar\n",
        "print(math.ceil(x))         #ceil ise ne olursa olsun yukariya yuvarlar.\n"
      ],
      "metadata": {
        "colab": {
          "base_uri": "https://localhost:8080/"
        },
        "id": "mHQlkZAcyn_m",
        "outputId": "5d80cd89-36f0-4bd8-face-815407755bae"
      },
      "execution_count": null,
      "outputs": [
        {
          "output_type": "stream",
          "name": "stdout",
          "text": [
            "5\n",
            "6\n"
          ]
        }
      ]
    },
    {
      "cell_type": "markdown",
      "source": [
        "##all() function"
      ],
      "metadata": {
        "id": "SFz6GmeTdmqS"
      }
    },
    {
      "cell_type": "code",
      "source": [
        "#all() ici bos olanlari ve icerdeki elemanlarin hepsi true ise true döndürür. Yoksa False döndürür\n",
        "names = ['susan', 'tom', 'False']\n",
        "mood = ['happy', 'sad', 0]\n",
        "empty = {}\n",
        "\n",
        "print(all(names), all(mood), all(empty), sep = '\\n')"
      ],
      "metadata": {
        "colab": {
          "base_uri": "https://localhost:8080/"
        },
        "id": "i7Z3lhdcdL0Y",
        "outputId": "861e3de8-db51-422c-ff0a-210916541ce2"
      },
      "execution_count": null,
      "outputs": [
        {
          "output_type": "stream",
          "name": "stdout",
          "text": [
            "True\n",
            "False\n",
            "True\n"
          ]
        }
      ]
    },
    {
      "cell_type": "markdown",
      "source": [
        "## any() funtion"
      ],
      "metadata": {
        "id": "C4G6_HyoiMZV"
      }
    },
    {
      "cell_type": "code",
      "source": [
        "listA = ['Susan', 'Mehmet', None]     #Eger bir tane bile True varsa True döndürür.\n",
        "listB = [None, (), 0]\n",
        "empty = {}                #bos listeyken any fonksiyonu, all fonksiyonunun aksine False döndürür.\n",
        "\n",
        "print(any(listA), any(listB), any(empty), sep = '\\n')"
      ],
      "metadata": {
        "colab": {
          "base_uri": "https://localhost:8080/"
        },
        "id": "P9Fn-xIUiPze",
        "outputId": "12335a67-7b3d-40a6-acbc-eae450ed1b8b"
      },
      "execution_count": null,
      "outputs": [
        {
          "output_type": "stream",
          "name": "stdout",
          "text": [
            "True\n",
            "False\n",
            "False\n"
          ]
        }
      ]
    },
    {
      "cell_type": "markdown",
      "source": [
        "## bin() - oct() - hex() functions"
      ],
      "metadata": {
        "id": "ic-44-4E0gkV"
      }
    },
    {
      "cell_type": "code",
      "source": [
        "print(f'{12:b} and {12:o} and {12:X} and {12:x}')\n",
        "print()\n",
        "print(f'{12:#b} and {12:#o} and {12:#x}')     # '#' isareti ile yaparsak öndeki ekleri de koyar."
      ],
      "metadata": {
        "colab": {
          "base_uri": "https://localhost:8080/"
        },
        "id": "EiZ7WOdEqAkk",
        "outputId": "d9898b16-6588-40c7-bacd-376160faca20"
      },
      "execution_count": null,
      "outputs": [
        {
          "output_type": "stream",
          "name": "stdout",
          "text": [
            "1100 and 14 and C and c\n",
            "\n",
            "0b1100 and 0o14 and 0xc \n"
          ]
        }
      ]
    },
    {
      "cell_type": "markdown",
      "source": [
        "##complex() function"
      ],
      "metadata": {
        "id": "oqqDbL6N0Yf4"
      }
    },
    {
      "cell_type": "code",
      "source": [
        "print(complex(3, 5))"
      ],
      "metadata": {
        "colab": {
          "base_uri": "https://localhost:8080/"
        },
        "id": "ztbwpNgL0RNZ",
        "outputId": "e7ad561c-ce26-4ef5-ee78-b538eb778d8a"
      },
      "execution_count": null,
      "outputs": [
        {
          "output_type": "stream",
          "name": "stdout",
          "text": [
            "(3+5j)\n"
          ]
        }
      ]
    },
    {
      "cell_type": "markdown",
      "source": [
        "##callable function\n"
      ],
      "metadata": {
        "id": "GtElCmp0vK8i"
      }
    },
    {
      "cell_type": "code",
      "source": [
        "#Icerisine yzadigimiz seyin cagirilabilen bir nesen olup olmadigini kontrol eder\n",
        "mynumber = 15\n",
        "print(callable(mynumber))\n",
        "\n",
        "print(callable(len))\n",
        "print(callable(int))"
      ],
      "metadata": {
        "colab": {
          "base_uri": "https://localhost:8080/"
        },
        "id": "aAuv3v4kvNVE",
        "outputId": "59d2ba28-409a-434c-94b5-6e7e1c61c0be"
      },
      "execution_count": null,
      "outputs": [
        {
          "output_type": "stream",
          "name": "stdout",
          "text": [
            "False\n",
            "True\n",
            "True\n"
          ]
        }
      ]
    },
    {
      "cell_type": "markdown",
      "source": [
        "##eval function"
      ],
      "metadata": {
        "id": "dqHPEOUJ1kyx"
      }
    },
    {
      "cell_type": "code",
      "source": [
        "x = 'Hi'    #eval komutu string ifadeleri komutlari normal komutmus gibi algilar\n",
        "print(x)\n",
        "\n",
        "x = 'print(\"eval ile yazilmis hi\")'\n",
        "eval(x)\n",
        "\n",
        "x = \"23 + 54\"\n",
        "eval(x)"
      ],
      "metadata": {
        "colab": {
          "base_uri": "https://localhost:8080/"
        },
        "id": "qDsRbmUD1nJl",
        "outputId": "9938eee5-40f3-4018-e98b-1ea4c201d0b0"
      },
      "execution_count": null,
      "outputs": [
        {
          "output_type": "stream",
          "name": "stdout",
          "text": [
            "Hi\n",
            "eval ile yazilmis hi\n"
          ]
        },
        {
          "output_type": "execute_result",
          "data": {
            "text/plain": [
              "77"
            ]
          },
          "metadata": {},
          "execution_count": 30
        }
      ]
    },
    {
      "cell_type": "markdown",
      "source": [
        "##filter() function\n",
        "\n"
      ],
      "metadata": {
        "id": "L1FhNmlxjcT_"
      }
    },
    {
      "cell_type": "code",
      "source": [
        "listA = ['susan', 'tom', False, 0, '3']\n",
        "filtered_list = filter(None, listA)     #Parantez ici ilk degere bir fonksioyn yazilir. Biz None yazdik\n",
        "                                        #None yazdigimizda bize filter listA icinde False döndüren degerleri atar. Kalanari yazdirir.\n",
        "for i in filtered_list :\n",
        "  print(i)"
      ],
      "metadata": {
        "colab": {
          "base_uri": "https://localhost:8080/"
        },
        "id": "GRdlUsZFjoTi",
        "outputId": "5bb538f0-7578-43c1-96fe-81bb97bdadc7"
      },
      "execution_count": null,
      "outputs": [
        {
          "output_type": "stream",
          "name": "stdout",
          "text": [
            "susan\n",
            "tom\n",
            "3\n"
          ]
        }
      ]
    },
    {
      "cell_type": "code",
      "source": [
        "liste = list(range(101))\n",
        "\n",
        "def tek(number) :       #burda da islemi yaptik\n",
        "  if number % 2 != 0 :\n",
        "    return number   #ne görmek istiyorsak onu yaptik. Eger == 0 yapsaydik asagida cift sayilari görürdük.\n",
        "\n",
        "tek_sayilar = list(filter(tek, liste))      #tek ismiyle bir fonksiyon yaptik. Cünkü filter parantezi ilk kisma fonksiyon yazmaliyiz.\n",
        "print(tek_sayilar)"
      ],
      "metadata": {
        "colab": {
          "base_uri": "https://localhost:8080/"
        },
        "id": "MKK2qFCL1Ac8",
        "outputId": "4db202de-0c36-4fab-ef18-c05b419f854e"
      },
      "execution_count": null,
      "outputs": [
        {
          "output_type": "stream",
          "name": "stdout",
          "text": [
            "[1, 3, 5, 7, 9, 11, 13, 15, 17, 19, 21, 23, 25, 27, 29, 31, 33, 35, 37, 39, 41, 43, 45, 47, 49, 51, 53, 55, 57, 59, 61, 63, 65, 67, 69, 71, 73, 75, 77, 79, 81, 83, 85, 87, 89, 91, 93, 95, 97, 99]\n"
          ]
        }
      ]
    },
    {
      "cell_type": "markdown",
      "source": [
        "##zip() function "
      ],
      "metadata": {
        "id": "1yGuecAQ3MXl"
      }
    },
    {
      "cell_type": "code",
      "source": [
        "for item in zip (['ali', 'mehmet', 'süleyman'], [10, 5, 8], ['meyve', 'sebze', 'peynir']) :\n",
        "  print(item)\n",
        "\n",
        "#or"
      ],
      "metadata": {
        "colab": {
          "base_uri": "https://localhost:8080/"
        },
        "id": "e2xdkmlW3Lpt",
        "outputId": "3487a461-2bd9-4079-eca1-c3bea218de6c"
      },
      "execution_count": null,
      "outputs": [
        {
          "output_type": "stream",
          "name": "stdout",
          "text": [
            "('ali', 10, 'meyve')\n",
            "('mehmet', 5, 'sebze')\n",
            "('süleyman', 8, 'peynir')\n"
          ]
        }
      ]
    },
    {
      "cell_type": "code",
      "source": [
        "ad = ['ali', 'mehmet', 'süleyman']\n",
        "puan = [10, 5, 8]\n",
        "malzeme = ['meyve', 'sebze', 'peynir']\n",
        "\n",
        "for item2 in zip(ad, malzeme, puan) :\n",
        "  print(item2)"
      ],
      "metadata": {
        "colab": {
          "base_uri": "https://localhost:8080/"
        },
        "id": "qCop9nGF3fiK",
        "outputId": "6cb27e4b-9019-4db4-b2a2-e454e5731225"
      },
      "execution_count": null,
      "outputs": [
        {
          "output_type": "stream",
          "name": "stdout",
          "text": [
            "('ali', 'meyve', 10)\n",
            "('mehmet', 'sebze', 5)\n",
            "('süleyman', 'peynir', 8)\n"
          ]
        }
      ]
    },
    {
      "cell_type": "markdown",
      "source": [
        "##sum() function"
      ],
      "metadata": {
        "id": "fw-QRAI0laf6"
      }
    },
    {
      "cell_type": "code",
      "source": [
        "numbers = [3, 5, 7, 8,12, 15]\n",
        "toplam = sum(numbers)\n",
        "print(toplam)\n",
        "\n",
        "toplam2 = sum(numbers, 20)      #böyle eklemeli olarak da yazabiliyoruz. Baslangic degeri verebiliriz\n",
        "print(toplam2)"
      ],
      "metadata": {
        "colab": {
          "base_uri": "https://localhost:8080/"
        },
        "id": "xRWmgpgFlcza",
        "outputId": "97020e81-d3bc-43f1-cab2-006763ff2ee3"
      },
      "execution_count": null,
      "outputs": [
        {
          "output_type": "stream",
          "name": "stdout",
          "text": [
            "50\n",
            "70\n"
          ]
        }
      ]
    },
    {
      "cell_type": "markdown",
      "source": [
        "##enumerate() function"
      ],
      "metadata": {
        "id": "rDQjO1UykbVj"
      }
    },
    {
      "cell_type": "code",
      "source": [
        "list(enumerate('Python'))"
      ],
      "metadata": {
        "id": "xbD00PzfkfbQ",
        "colab": {
          "base_uri": "https://localhost:8080/"
        },
        "outputId": "6d9b64f5-32cb-4e7a-aa05-acc3f9c11fcc"
      },
      "execution_count": null,
      "outputs": [
        {
          "output_type": "execute_result",
          "data": {
            "text/plain": [
              "[(0, 'P'), (1, 'y'), (2, 't'), (3, 'h'), (4, 'o'), (5, 'n')]"
            ]
          },
          "metadata": {},
          "execution_count": 3
        }
      ]
    },
    {
      "cell_type": "code",
      "source": [
        "tuple(enumerate('Python', start = 3 ))"
      ],
      "metadata": {
        "colab": {
          "base_uri": "https://localhost:8080/"
        },
        "id": "C9DsRWhutEdm",
        "outputId": "7a26110e-e97e-4a01-f416-c7b45c934a7f"
      },
      "execution_count": null,
      "outputs": [
        {
          "output_type": "execute_result",
          "data": {
            "text/plain": [
              "((3, 'P'), (4, 'y'), (5, 't'), (6, 'h'), (7, 'o'), (8, 'n'))"
            ]
          },
          "metadata": {},
          "execution_count": 4
        }
      ]
    },
    {
      "cell_type": "code",
      "source": [
        "gün = ['Pazartesi', 'Sali', 'Carsamba', 'Persembe', 'Cuma', 'Cumartesi', 'Pazar']\n",
        "\n",
        "gün_list = list(enumerate(gün, start = 1))\n",
        "print(gün_list)"
      ],
      "metadata": {
        "colab": {
          "base_uri": "https://localhost:8080/"
        },
        "id": "8-JjIZ6GtIau",
        "outputId": "b63fbfb1-c19d-48ac-da72-a7de50f98610"
      },
      "execution_count": null,
      "outputs": [
        {
          "output_type": "stream",
          "name": "stdout",
          "text": [
            "[(1, 'Pazartesi'), (2, 'Sali'), (3, 'Carsamba'), (4, 'Persembe'), (5, 'Cuma'), (6, 'Cumartesi'), (7, 'Pazar')]\n"
          ]
        }
      ]
    },
    {
      "cell_type": "code",
      "source": [
        "rakam = int(input('Enter a number. : '))\n",
        "\n",
        "print(gün_list[rakam-1])        #Burda 3 carsamba olarak \n",
        "print(gün_list[rakam-1][1])      #Burda sadece günü yazdirmak icin bier daha iceri girdik"
      ],
      "metadata": {
        "colab": {
          "base_uri": "https://localhost:8080/"
        },
        "id": "DikmJI-ptKmE",
        "outputId": "b64ec07b-7e14-42e0-d25b-5f657a99be7f"
      },
      "execution_count": null,
      "outputs": [
        {
          "output_type": "stream",
          "name": "stdout",
          "text": [
            "Enter a number. : 2\n",
            "(2, 'Sali')\n",
            "Sali\n"
          ]
        }
      ]
    },
    {
      "cell_type": "code",
      "source": [
        "groceries = [\"bananas\",\"butter\",\"cheese\",\"toothpaste\"]\n",
        "for index, grocery in enumerate(groceries):\n",
        "    print(f\"Grocery: {grocery} is at index: {index}.\") "
      ],
      "metadata": {
        "colab": {
          "base_uri": "https://localhost:8080/"
        },
        "id": "iHOPnTE0tQFh",
        "outputId": "fce80372-d2fb-46d2-8015-652308fd58ea"
      },
      "execution_count": null,
      "outputs": [
        {
          "output_type": "stream",
          "name": "stdout",
          "text": [
            "Grocery: bananas is at index: 0.\n",
            "Grocery: butter is at index: 1.\n",
            "Grocery: cheese is at index: 2.\n",
            "Grocery: toothpaste is at index: 3.\n"
          ]
        }
      ]
    },
    {
      "cell_type": "markdown",
      "source": [
        "###BUNU KONTROL ET\n"
      ],
      "metadata": {
        "id": "PfVB0hBki4V4"
      }
    },
    {
      "cell_type": "code",
      "source": [
        "\n",
        "def myRange(number) :\n",
        "    sayi = 0\n",
        "    while sayi < number - 1  :    #Bilerek bir sayi eksik gösterdim, son kalan sayiyi retrun ile dödnürmek icin\n",
        "        print(sayi)\n",
        "        sayi +=1\n",
        "\n",
        "        if sayi == number - 1 :\n",
        "          return number - 1     #Tekrar return ile yazdirmamin sebebi None gözükmemesi icin \n",
        "    \n",
        "\n",
        "\n",
        "x = myRange(9)\n",
        "print(x)\n",
        "\n",
        "print(myRange(5))\n",
        "\n",
        "myRange(6)    #?????Bundan sonra printsiz sadece fonksiyon adi ile cagirinca bunun son degerini göstermiyor ?????\n",
        "myRange(5)"
      ],
      "metadata": {
        "colab": {
          "base_uri": "https://localhost:8080/"
        },
        "id": "ISCoNEKq86B2",
        "outputId": "248eba1d-3625-4927-d580-8897210dba57"
      },
      "execution_count": 25,
      "outputs": [
        {
          "output_type": "stream",
          "name": "stdout",
          "text": [
            "0\n",
            "1\n",
            "2\n",
            "3\n",
            "4\n",
            "5\n",
            "6\n",
            "7\n",
            "8\n",
            "0\n",
            "1\n",
            "2\n",
            "3\n",
            "4\n",
            "0\n",
            "1\n",
            "2\n",
            "3\n",
            "4\n",
            "0\n",
            "1\n",
            "2\n",
            "3\n"
          ]
        },
        {
          "output_type": "execute_result",
          "data": {
            "text/plain": [
              "4"
            ]
          },
          "metadata": {},
          "execution_count": 25
        }
      ]
    },
    {
      "cell_type": "code",
      "source": [
        "while True :\n",
        "  number = input(\"Enter a number : \")\n",
        "  if number.isdigit() :\n",
        "    number = int(number)\n",
        "    break\n",
        "  else :\n",
        "    print('Invalid Input.Please try again ')\n",
        "    continue \n",
        "\n",
        "my_list = list()\n",
        "for i in range(2, number+1) :\n",
        "  status = True\n",
        "  for ii in range(2, i) :\n",
        "    if i % ii == 0 :\n",
        "      status = False\n",
        "    \n",
        "  if status == True :\n",
        "    my_list.append(i)\n",
        "\n",
        "\n",
        "print(my_list)\n",
        "\n",
        "\n",
        "\n",
        "\n",
        "\n",
        "\n",
        "\n"
      ],
      "metadata": {
        "colab": {
          "base_uri": "https://localhost:8080/"
        },
        "id": "ot2zqm8wpw9e",
        "outputId": "530660f2-8397-400b-a9ec-616ad6696901"
      },
      "execution_count": null,
      "outputs": [
        {
          "output_type": "stream",
          "name": "stdout",
          "text": [
            "Enter a number : 100\n",
            "[2, 3, 5, 7, 11, 13, 17, 19, 23, 29, 31, 37, 41, 43, 47, 53, 59, 61, 67, 71, 73, 79, 83, 89, 97]\n"
          ]
        }
      ]
    },
    {
      "cell_type": "code",
      "source": [
        "prime_sayilar = list()\n",
        "\n",
        "while True : \n",
        "  numbers = (input('Enter a number : '))\n",
        "  \n",
        "  if numbers == 'done' :\n",
        "    break \n",
        "  \n",
        "  elif numbers.isdigit() :\n",
        "    numbers = int(numbers)\n",
        "    counter = 0\n",
        "    for i in range(2,numbers) :\n",
        "        if  numbers % i == 0 :\n",
        "            counter += 1\n",
        "\n",
        "    print('Counter : ', counter)\n",
        "    print('sayi : ', numbers)\n",
        "    if counter < 1 :\n",
        "      prime_sayilar.append(numbers)\n",
        " \n",
        "  else :\n",
        "    print('Your entered is not valid!. Try Again')\n",
        "    continue\n",
        "if 1 in prime_sayilar :     #1 de asal sayi olmadigi icin eger en son varsa listeden cikartsin diye bu komutu yazdim.\n",
        "    prime_sayilar.remove(1)\n",
        "\n",
        "print(set(prime_sayilar))       #A"
      ],
      "metadata": {
        "colab": {
          "base_uri": "https://localhost:8080/"
        },
        "id": "ewr0sxKDvQ0g",
        "outputId": "7c613e9c-c825-447a-8f2e-f221d8b7958c"
      },
      "execution_count": null,
      "outputs": [
        {
          "output_type": "stream",
          "name": "stdout",
          "text": [
            "Enter a number : 3\n",
            "Counter :  0\n",
            "sayi :  3\n",
            "Enter a number : 5\n",
            "Counter :  0\n",
            "sayi :  5\n",
            "Enter a number : done\n",
            "{3, 5}\n"
          ]
        }
      ]
    },
    {
      "cell_type": "markdown",
      "source": [
        "#TRY-EXCEPT \n"
      ],
      "metadata": {
        "id": "RI1Xn39TTDs7"
      }
    },
    {
      "cell_type": "code",
      "source": [
        "# potential code before try catch   Format\n",
        "\n",
        "#try:\n",
        "    # code to try to execute\n",
        "#except:\n",
        "    # code to execute if there is an exception\n",
        "    \n",
        "# code that will still execute if there is an exception"
      ],
      "metadata": {
        "id": "G0Th2qncTHfU"
      },
      "execution_count": null,
      "outputs": []
    },
    {
      "cell_type": "code",
      "source": [
        "a = 1\n",
        "\n",
        "try:\n",
        "    b = int(input(\"Please enter a number to divide a\"))\n",
        "    a = a/b\n",
        "    print(\"Success a=\",a)\n",
        "except:\n",
        "    print(\"There was an error\")"
      ],
      "metadata": {
        "colab": {
          "base_uri": "https://localhost:8080/"
        },
        "id": "HzUAoCsrT7Oj",
        "outputId": "0c5005ec-07f1-40d5-bb69-9f6c6b400f25"
      },
      "execution_count": 49,
      "outputs": [
        {
          "output_type": "stream",
          "name": "stdout",
          "text": [
            "Please enter a number to divide a15\n",
            "Success a= 0.06666666666666667\n"
          ]
        }
      ]
    },
    {
      "cell_type": "markdown",
      "source": [
        "##TRY-EXCEPT SPECIFIC"
      ],
      "metadata": {
        "id": "s8_DrXyiTu5m"
      }
    },
    {
      "cell_type": "code",
      "source": [
        "# potential code before try catch\n",
        "\n",
        "try:\n",
        "    # code to try to execute\n",
        "except (ZeroDivisionError, NameError):\n",
        "    # code to execute if there is an exception of the given types\n",
        "    \n",
        "# code that will execute if there is no exception or a one that we are handling"
      ],
      "metadata": {
        "id": "WY5rMZ7FTTFl"
      },
      "execution_count": null,
      "outputs": []
    },
    {
      "cell_type": "code",
      "source": [
        "# potential code before try catch\n",
        "\n",
        "try:\n",
        "    # code to try to execute\n",
        "except ZeroDivisionError:\n",
        "    # code to execute if there is a ZeroDivisionError\n",
        "except NameError:\n",
        "    # code to execute if there is a NameError\n",
        "    \n",
        "# code that will execute if there is no exception or a one that we are handling"
      ],
      "metadata": {
        "id": "EfIR3iNqTzsL"
      },
      "execution_count": null,
      "outputs": []
    },
    {
      "cell_type": "code",
      "source": [
        "# potential code before try catch\n",
        "\n",
        "try:\n",
        "    # code to try to execute\n",
        "except ZeroDivisionError:\n",
        "    # code to execute if there is a ZeroDivisionError\n",
        "except NameError:\n",
        "    # code to execute if there is a NameError\n",
        "except:\n",
        "    # code to execute if ther is any exception\n",
        "    \n",
        "# code that will execute if there is no exception or a one that we are handling"
      ],
      "metadata": {
        "id": "dD_9dUH3T0uL"
      },
      "execution_count": null,
      "outputs": []
    },
    {
      "cell_type": "code",
      "source": [
        "a = 1\n",
        "\n",
        "try:\n",
        "    b = int(input(\"Please enter a number to divide a\"))\n",
        "    a = a/b\n",
        "    print(\"Success a=\",a)\n",
        "except ZeroDivisionError:  #0 girilmesi halinde\n",
        "    print(\"The number you provided cant divide 1 because it is 0\")\n",
        "except ValueError:      #harf veya int olmayan baska bir girdi olmasi halinde\n",
        "    print(\"You did not provide a number\")\n",
        "except:\n",
        "    print(\"Something went wrong\")"
      ],
      "metadata": {
        "colab": {
          "base_uri": "https://localhost:8080/"
        },
        "id": "F750mfuxUENY",
        "outputId": "60662274-5929-4df6-c732-cf2a3c307936"
      },
      "execution_count": 53,
      "outputs": [
        {
          "output_type": "stream",
          "name": "stdout",
          "text": [
            "Please enter a number to divide a213123\n",
            "Success a= 4.692126143119232e-06\n"
          ]
        }
      ]
    },
    {
      "cell_type": "markdown",
      "source": [
        "##TRY-EXCEPT-ELSE-FINALLY"
      ],
      "metadata": {
        "id": "W8HLMXn4UZzg"
      }
    },
    {
      "cell_type": "code",
      "source": [
        "# potential code before try catch\n",
        "\n",
        "try:\n",
        "    # code to try to execute\n",
        "except ZeroDivisionError:\n",
        "    # code to execute if there is a ZeroDivisionError\n",
        "except NameError:\n",
        "    # code to execute if there is a NameError\n",
        "except:\n",
        "    # code to execute if ther is any exception\n",
        "else:\n",
        "    # code to execute if there is no exception\n",
        "    \n",
        "# code that will execute if there is no exception or a one that we are handling"
      ],
      "metadata": {
        "id": "HcEdHejvUkuG"
      },
      "execution_count": null,
      "outputs": []
    },
    {
      "cell_type": "code",
      "source": [
        "# potential code before try catch\n",
        "\n",
        "try:\n",
        "    # code to try to execute\n",
        "except ZeroDivisionError:\n",
        "    # code to execute if there is a ZeroDivisionError\n",
        "except NameError:\n",
        "    # code to execute if there is a NameError\n",
        "except:\n",
        "    # code to execute if ther is any exception\n",
        "else:\n",
        "    # code to execute if there is no exception\n",
        "finally:\n",
        "    # code to execute at the end of the try except no matter what\n",
        "    \n",
        "# code that will execute if there is no exception or a one that we are handling"
      ],
      "metadata": {
        "id": "g3ubj5AHU0eD"
      },
      "execution_count": null,
      "outputs": []
    },
    {
      "cell_type": "code",
      "source": [
        "a = 1\n",
        "\n",
        "try:\n",
        "    b = int(input(\"Please enter a number to divide a\"))\n",
        "    a = a/b\n",
        "except ZeroDivisionError:\n",
        "    print(\"The number you provided cant divide 1 because it is 0\")\n",
        "except ValueError:\n",
        "    print(\"You did not provide a number\")\n",
        "except:\n",
        "    print(\"Something went wrong\")\n",
        "else:\n",
        "    print(\"success a=\",a)"
      ],
      "metadata": {
        "colab": {
          "base_uri": "https://localhost:8080/"
        },
        "id": "WNYSUp-fU3cl",
        "outputId": "ed13995e-82d8-4246-eb82-c1d9710bb340"
      },
      "execution_count": 54,
      "outputs": [
        {
          "output_type": "stream",
          "name": "stdout",
          "text": [
            "Please enter a number to divide a13\n",
            "success a= 0.07692307692307693\n"
          ]
        }
      ]
    },
    {
      "cell_type": "code",
      "source": [
        "a = 1\n",
        "\n",
        "try:\n",
        "    b = int(input(\"Please enter a number to divide a\"))\n",
        "    a = a/b\n",
        "except ZeroDivisionError:\n",
        "    print(\"The number you provided cant divide 1 because it is 0\")\n",
        "except ValueError:\n",
        "    print(\"You did not provide a number\")\n",
        "except:\n",
        "    print(\"Something went wrong\")\n",
        "else:\n",
        "    print(\"success a=\",a)\n",
        "finally:\n",
        "    print(\"Processing Complete\")      #Ne yazarsak yazalim finally kismi her ihtimalle calisacak"
      ],
      "metadata": {
        "colab": {
          "base_uri": "https://localhost:8080/"
        },
        "id": "um4loHWzU_Rt",
        "outputId": "0acdc672-7e7b-4cd2-f9f7-38d98adb0158"
      },
      "execution_count": 57,
      "outputs": [
        {
          "output_type": "stream",
          "name": "stdout",
          "text": [
            "Please enter a number to divide a0\n",
            "The number you provided cant divide 1 because it is 0\n",
            "Processing Complete\n"
          ]
        }
      ]
    },
    {
      "cell_type": "markdown",
      "source": [
        "#CLASS-OBJECT"
      ],
      "metadata": {
        "id": "QPYWuPwZX3kq"
      }
    },
    {
      "cell_type": "markdown",
      "source": [
        "##Creating a Class CIRCLE"
      ],
      "metadata": {
        "id": "UzCBPDDBn8OS"
      }
    },
    {
      "cell_type": "code",
      "source": [
        "# Create a class Circle\n",
        "\n",
        "class Circle(object):   #Firstly this one\n",
        "    \n",
        "    # Constructor\n",
        "    def __init__(self, radius=3, color='blue'):\n",
        "        self.radius = radius\n",
        "        self.color = color\n",
        "    \n",
        "    # Method\n",
        "    def add_radius(self, r):\n",
        "        self.radius = self.radius + r\n",
        "        return(self.radius)\n",
        "    \n",
        "    # Method\n",
        "    def drawCircle(self):\n",
        "        plt.gca().add_patch(plt.Circle((0, 0), radius=self.radius, fc=self.color))\n",
        "        plt.axis('scaled')\n",
        "        plt.show()\n",
        "  \n"
      ],
      "metadata": {
        "id": "E129p48rcB3t"
      },
      "execution_count": 75,
      "outputs": []
    },
    {
      "cell_type": "code",
      "source": [
        "print(dir(Circle))\n"
      ],
      "metadata": {
        "colab": {
          "base_uri": "https://localhost:8080/"
        },
        "id": "c13xRh8LccJo",
        "outputId": "5db00d19-72e9-46f8-d7eb-6b67a4d179a8"
      },
      "execution_count": 79,
      "outputs": [
        {
          "output_type": "stream",
          "name": "stdout",
          "text": [
            "['__class__', '__delattr__', '__dict__', '__dir__', '__doc__', '__eq__', '__format__', '__ge__', '__getattribute__', '__gt__', '__hash__', '__init__', '__init_subclass__', '__le__', '__lt__', '__module__', '__ne__', '__new__', '__reduce__', '__reduce_ex__', '__repr__', '__setattr__', '__sizeof__', '__str__', '__subclasshook__', '__weakref__', 'add_radius', 'drawCircle']\n"
          ]
        }
      ]
    },
    {
      "cell_type": "code",
      "source": [
        "RedCircle = Circle(5,'red')\n",
        "print(dir(RedCircle))\n",
        "\n",
        "RedCircle.drawCircle()\n"
      ],
      "metadata": {
        "colab": {
          "base_uri": "https://localhost:8080/",
          "height": 302
        },
        "id": "BDGJuAf0ojP0",
        "outputId": "fe9d2575-f0a1-47d6-fe7b-5849105df6e9"
      },
      "execution_count": 101,
      "outputs": [
        {
          "output_type": "stream",
          "name": "stdout",
          "text": [
            "['__class__', '__delattr__', '__dict__', '__dir__', '__doc__', '__eq__', '__format__', '__ge__', '__getattribute__', '__gt__', '__hash__', '__init__', '__init_subclass__', '__le__', '__lt__', '__module__', '__ne__', '__new__', '__reduce__', '__reduce_ex__', '__repr__', '__setattr__', '__sizeof__', '__str__', '__subclasshook__', '__weakref__', 'add_radius', 'color', 'drawCircle', 'radius']\n"
          ]
        },
        {
          "output_type": "display_data",
          "data": {
            "text/plain": [
              "<Figure size 432x288 with 1 Axes>"
            ],
            "image/png": "[encoded data removed]"
          },
          "metadata": {
            "needs_background": "light"
          }
        }
      ]
    },
    {
      "cell_type": "code",
      "source": [
        "# Use method to change the object attribute radius\n",
        "\n",
        "print('Radius of object:',RedCircle.radius)   #Degisiklikler kalicidir.\n",
        "RedCircle.add_radius(2)\n",
        "print('Radius of object :',RedCircle.radius)\n",
        "RedCircle.add_radius(5)\n",
        "print('Radius of object :',RedCircle.radius)"
      ],
      "metadata": {
        "colab": {
          "base_uri": "https://localhost:8080/"
        },
        "id": "Sh3DI3MlqCN1",
        "outputId": "4c81cc01-70ac-4c3f-bd8f-3bf19281cc6a"
      },
      "execution_count": 102,
      "outputs": [
        {
          "output_type": "stream",
          "name": "stdout",
          "text": [
            "Radius of object: 5\n",
            "Radius of object : 7\n",
            "Radius of object : 12\n"
          ]
        }
      ]
    },
    {
      "cell_type": "code",
      "source": [
        "BlueCircle = Circle(15)\n",
        "BlueCircle.radius\n",
        "BlueCircle.color    #color tanimlamamis olmama ragmen otomatik geldi"
      ],
      "metadata": {
        "colab": {
          "base_uri": "https://localhost:8080/",
          "height": 37
        },
        "id": "n1Lx2JQDqgBh",
        "outputId": "2c67f201-6d58-4812-9dfc-29d47a2f7f45"
      },
      "execution_count": 110,
      "outputs": [
        {
          "output_type": "execute_result",
          "data": {
            "text/plain": [
              "'blue'"
            ],
            "application/vnd.google.colaboratory.intrinsic+json": {
              "type": "string"
            }
          },
          "metadata": {},
          "execution_count": 110
        }
      ]
    },
    {
      "cell_type": "markdown",
      "source": [
        "##Creating Class RECTANGLE"
      ],
      "metadata": {
        "id": "JTQ6erSbs7Ch"
      }
    },
    {
      "cell_type": "code",
      "source": [
        "# Create a new Rectangle class for creating a rectangle object\n",
        "\n",
        "class Rectangle(object):\n",
        "    \n",
        "    # Constructor\n",
        "    def __init__(self, width=2, height=3, color='r'):\n",
        "        self.height = height \n",
        "        self.width = width\n",
        "        self.color = color\n",
        "\n",
        "    def drawRectangle(self):      #Cizimi yapabilmesi icin bunu tanimlamamiz gerekiyor\n",
        "        plt.gca().add_patch(plt.Rectangle((0, 0), self.width, self.height ,fc=self.color))\n",
        "        plt.axis('scaled')\n",
        "        plt.show()\n",
        "\n"
      ],
      "metadata": {
        "id": "VbNaYgyWsSpW"
      },
      "execution_count": 123,
      "outputs": []
    },
    {
      "cell_type": "code",
      "source": [
        "BlueRectangle = Rectangle(2,4,'blue')\n",
        "\n",
        "BlueRectangle.drawRectangle()\n",
        "\n"
      ],
      "metadata": {
        "colab": {
          "base_uri": "https://localhost:8080/",
          "height": 265
        },
        "id": "Ks0oDeF5tCkz",
        "outputId": "2182a992-1b8e-4fd9-89b9-3ec284622319"
      },
      "execution_count": 121,
      "outputs": [
        {
          "output_type": "display_data",
          "data": {
            "text/plain": [
              "<Figure size 432x288 with 1 Axes>"
            ],
            "image/png": "[encoded data removed]"
          },
          "metadata": {
            "needs_background": "light"
          }
        }
      ]
    },
    {
      "cell_type": "code",
      "source": [
        "FatYellowRectangle = Rectangle(20,5, 'yellow')\n",
        "FatYellowRectangle.drawRectangle()"
      ],
      "metadata": {
        "colab": {
          "base_uri": "https://localhost:8080/",
          "height": 132
        },
        "id": "vPUI-NnGtMmu",
        "outputId": "dddaf980-d5d1-4362-9b26-a8c8feac1362"
      },
      "execution_count": 124,
      "outputs": [
        {
          "output_type": "display_data",
          "data": {
            "text/plain": [
              "<Figure size 432x288 with 1 Axes>"
            ],
            "image/png": "[encoded data removed]"
          },
          "metadata": {
            "needs_background": "light"
          }
        }
      ]
    }
  ]
}