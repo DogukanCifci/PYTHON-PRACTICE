{
  "nbformat": 4,
  "nbformat_minor": 0,
  "metadata": {
    "colab": {
      "name": "FUNCTIONS.ipynb",
      "provenance": [],
      "toc_visible": true,
      "authorship_tag": "ABX9TyOCqIBvZlRur5lGlyxTgNON",
      "include_colab_link": true
    },
    "kernelspec": {
      "name": "python3",
      "display_name": "Python 3"
    },
    "language_info": {
      "name": "python"
    }
  },
  "cells": [
    {
      "cell_type": "markdown",
      "metadata": {
        "id": "view-in-github",
        "colab_type": "text"
      },
      "source": [
        "<a href=\"https://colab.research.google.com/github/DogukanCifci/PYTHON-PRACTICE/blob/main/FUNCTIONS.ipynb\" target=\"_parent\"><img src=\"https://colab.research.google.com/assets/colab-badge.svg\" alt=\"Open In Colab\"/></a>"
      ]
    },
    {
      "cell_type": "markdown",
      "source": [
        "#**DEF FUNCTION**"
      ],
      "metadata": {
        "id": "OiU7VzgruU47"
      }
    },
    {
      "cell_type": "markdown",
      "source": [
        "##DEF Function's Examples and Solving to understand the logic of def function"
      ],
      "metadata": {
        "id": "hhDUXcIsubI5"
      }
    },
    {
      "cell_type": "code",
      "source": [
        "def selamlama() :\n",
        "  return 'Hallo. Hezlich Wilkommen auf dem Thema def'\n",
        "\n",
        "selamlama()"
      ],
      "metadata": {
        "colab": {
          "base_uri": "https://localhost:8080/",
          "height": 37
        },
        "id": "Njgh3kavtzPo",
        "outputId": "c1fa6469-b601-40a4-fbf5-3e3d779b3ca9"
      },
      "execution_count": null,
      "outputs": [
        {
          "output_type": "execute_result",
          "data": {
            "text/plain": [
              "'Hallo. Hezlich Wilkommen auf dem Thema def'"
            ],
            "application/vnd.google.colaboratory.intrinsic+json": {
              "type": "string"
            }
          },
          "metadata": {},
          "execution_count": 8
        }
      ]
    },
    {
      "cell_type": "code",
      "execution_count": null,
      "metadata": {
        "colab": {
          "base_uri": "https://localhost:8080/"
        },
        "id": "CuyEYezarzaO",
        "outputId": "807074a8-3d21-4476-8764-0ba2bd985db7"
      },
      "outputs": [
        {
          "output_type": "stream",
          "name": "stdout",
          "text": [
            "Enter a number6\n",
            "720\n",
            "120\n"
          ]
        }
      ],
      "source": [
        "def fac(a) :      #asagidan veriyi alip a ya atar ve a ile islem yapar.\n",
        "  t = 1\n",
        "  for i in range(1, a + 1) :\n",
        "    t = t * i\n",
        "  print(t)\n",
        "\n",
        "number = int(input('Enter a number'))\n",
        "fac(number) #numberi yukarda def fonksiyonu icinde a ya atar.\n",
        "\n",
        "fac(5)    # inputsuz otomatik olarak 5 sayisini atar\n",
        "\n"
      ]
    },
    {
      "cell_type": "code",
      "source": [
        "def sum(a, b) :\n",
        "  summe = a + b\n",
        "  return summe\n",
        "\n",
        "number1 = int(input('Enter a number : '))\n",
        "number2 = int(input('Enter another number : '))\n",
        "\n",
        "sum(number1,number2)"
      ],
      "metadata": {
        "colab": {
          "base_uri": "https://localhost:8080/"
        },
        "id": "M0idtzrWt24o",
        "outputId": "4b998e7e-7a78-48bf-e497-e43a5ca2c535"
      },
      "execution_count": null,
      "outputs": [
        {
          "name": "stdout",
          "output_type": "stream",
          "text": [
            "Enter a number : 15\n",
            "Enter another number : 16\n"
          ]
        },
        {
          "output_type": "execute_result",
          "data": {
            "text/plain": [
              "31"
            ]
          },
          "metadata": {},
          "execution_count": 10
        }
      ]
    },
    {
      "cell_type": "code",
      "source": [
        "def carpma(a, b, c) :\n",
        "  sonuc = a * b * c\n",
        "  return sonuc\n",
        "\n",
        "num1 = int(input('Enter the first number : '))\n",
        "num2 = int(input('Enter the second number : '))\n",
        "num3 = int(input('Enter the third number : '))\n",
        "\n",
        "print(carpma(num1, num2, num3))"
      ],
      "metadata": {
        "colab": {
          "base_uri": "https://localhost:8080/"
        },
        "id": "H9q5CopXt9LF",
        "outputId": "ddcf69c9-25f4-426c-efa4-396a021d1149"
      },
      "execution_count": null,
      "outputs": [
        {
          "output_type": "stream",
          "name": "stdout",
          "text": [
            "Enter the first number : 4\n",
            "Enter the second number : 6\n",
            "Enter the third number : 5\n",
            "120\n"
          ]
        }
      ]
    },
    {
      "cell_type": "code",
      "source": [
        "def selamlama(name1, name2, herkunft = 'Universe') :\n",
        "  return f'Hello {name1} and {name2} from {herkunft}'\n",
        "\n",
        "name1 = input('Enter your name : ')\n",
        "name2 = input('Enter your name : ')\n",
        "\n",
        "selamlama(name1,name2)   #Yukardaki degiskenlerden birisi tanimlanmis oldugu icin 2 tane deger girmem yeterli"
      ],
      "metadata": {
        "colab": {
          "base_uri": "https://localhost:8080/",
          "height": 71
        },
        "id": "oRsv2gguuIHG",
        "outputId": "bcd3f63e-7e3c-48b8-b565-abbd80c2ce68"
      },
      "execution_count": null,
      "outputs": [
        {
          "name": "stdout",
          "output_type": "stream",
          "text": [
            "Enter your name : Dogukan\n",
            "Enter your name : Mehmet\n"
          ]
        },
        {
          "output_type": "execute_result",
          "data": {
            "text/plain": [
              "'Hello Dogukan and Mehmet from Universe'"
            ],
            "application/vnd.google.colaboratory.intrinsic+json": {
              "type": "string"
            }
          },
          "metadata": {},
          "execution_count": 13
        }
      ]
    },
    {
      "cell_type": "code",
      "source": [
        "def selamlama(name1, name2, name3) :\n",
        "  return f'Hello {name1} and {name2} from the Universe'\n",
        "\n",
        "name1 = input('Enter your name')\n",
        "name2 = input('Enter your name')\n",
        "\n",
        "selamlama(name1,name2)      #Eger burda 2 degisken atarsam hata verir. Cünkü def fonksiyonunu icinde 3 degisken var"
      ],
      "metadata": {
        "colab": {
          "base_uri": "https://localhost:8080/",
          "height": 249
        },
        "id": "a37t3z25uOXd",
        "outputId": "4bd79da5-ee13-4c05-deca-c9ffdaf3909f"
      },
      "execution_count": null,
      "outputs": [
        {
          "name": "stdout",
          "output_type": "stream",
          "text": [
            "Enter your nameali\n",
            "Enter your namesultan\n"
          ]
        },
        {
          "output_type": "error",
          "ename": "TypeError",
          "evalue": "ignored",
          "traceback": [
            "\u001b[0;31m---------------------------------------------------------------------------\u001b[0m",
            "\u001b[0;31mTypeError\u001b[0m                                 Traceback (most recent call last)",
            "\u001b[0;32m<ipython-input-14-d48cfbeb33b4>\u001b[0m in \u001b[0;36m<module>\u001b[0;34m()\u001b[0m\n\u001b[1;32m      5\u001b[0m \u001b[0mname2\u001b[0m \u001b[0;34m=\u001b[0m \u001b[0minput\u001b[0m\u001b[0;34m(\u001b[0m\u001b[0;34m'Enter your name'\u001b[0m\u001b[0;34m)\u001b[0m\u001b[0;34m\u001b[0m\u001b[0;34m\u001b[0m\u001b[0m\n\u001b[1;32m      6\u001b[0m \u001b[0;34m\u001b[0m\u001b[0m\n\u001b[0;32m----> 7\u001b[0;31m \u001b[0mselamlama\u001b[0m\u001b[0;34m(\u001b[0m\u001b[0mname1\u001b[0m\u001b[0;34m,\u001b[0m\u001b[0mname2\u001b[0m\u001b[0;34m)\u001b[0m      \u001b[0;31m#Eger burda 2 degisken atarsam hata verir. Cünkü def fonksiyonunu icinde 3 degisken var\u001b[0m\u001b[0;34m\u001b[0m\u001b[0;34m\u001b[0m\u001b[0m\n\u001b[0m",
            "\u001b[0;31mTypeError\u001b[0m: selamlama() missing 1 required positional argument: 'name3'"
          ]
        }
      ]
    },
    {
      "cell_type": "markdown",
      "source": [
        "#BUILT IN FUNCTIONS\n"
      ],
      "metadata": {
        "id": "U-JEDSyKx2Yy"
      }
    },
    {
      "cell_type": "code",
      "source": [
        "print(abs(-5))  #abs Mutlak deger almaya yarar."
      ],
      "metadata": {
        "colab": {
          "base_uri": "https://localhost:8080/"
        },
        "id": "IzBagbzCx5AS",
        "outputId": "8fdd6275-daa8-4bb1-f05a-a8cd9ce4919b"
      },
      "execution_count": null,
      "outputs": [
        {
          "output_type": "stream",
          "name": "stdout",
          "text": [
            "5\n"
          ]
        }
      ]
    },
    {
      "cell_type": "markdown",
      "source": [
        "##math.floor() -math.ceil()- round() functions"
      ],
      "metadata": {
        "id": "hheXwy13d6wc"
      }
    },
    {
      "cell_type": "code",
      "source": [
        "x = 5.66\n",
        "print(round(x))     #-->round yuvarlamaya yarar.\n",
        "\n",
        "print(round(5.678, 2))      #virgülden sonraki ilk 2 haneyi yuvarlayarak al demek 5.68 olarak cevirdi\n",
        "print(round(5.673,2))        #virgülden sonraki 3. rakam 5ten kücük oldugu icin asagiya yuvarlayarak virgülden sonraki ilk 2 haneyi aldi.\n",
        "x= 5.5            #. dan sonraki kisim yaridan düsükse asagiya 5 ve yukarisysa yukariya yuvarlar\n",
        "print(round(x))\n",
        "\n",
        "x = 5.45\n",
        "print(round(x))"
      ],
      "metadata": {
        "colab": {
          "base_uri": "https://localhost:8080/"
        },
        "id": "fuWRENM2yIyg",
        "outputId": "6ce96ee9-c0d5-490e-b349-27ca481e8a8d"
      },
      "execution_count": 10,
      "outputs": [
        {
          "output_type": "stream",
          "name": "stdout",
          "text": [
            "6\n",
            "5.68\n",
            "5.67\n",
            "6\n",
            "5\n"
          ]
        }
      ]
    },
    {
      "cell_type": "code",
      "source": [
        "print(round(123_456, -1))    ##round the nearest 10\n",
        "print()\n",
        "print(round(123_456, -2))    ##round the nearest 100\n",
        "print()\n",
        "print(round(123_456, -3))    ##round the nearest 1000"
      ],
      "metadata": {
        "colab": {
          "base_uri": "https://localhost:8080/"
        },
        "id": "FXEfG6_hoaxD",
        "outputId": "67531191-c8ef-422e-d8f2-d604f7351859"
      },
      "execution_count": 15,
      "outputs": [
        {
          "output_type": "stream",
          "name": "stdout",
          "text": [
            "123460\n",
            "\n",
            "123500\n",
            "\n",
            "123000\n"
          ]
        }
      ]
    },
    {
      "cell_type": "code",
      "source": [
        "import math \n",
        "x = 5.67\n",
        "\n",
        "print(math.floor(x))        #floor ne olursa olsun asagiya yuvarlar\n",
        "print(math.ceil(x))         #ceil ise ne olursa olsun yukariya yuvarlar.\n"
      ],
      "metadata": {
        "colab": {
          "base_uri": "https://localhost:8080/"
        },
        "id": "mHQlkZAcyn_m",
        "outputId": "5d80cd89-36f0-4bd8-face-815407755bae"
      },
      "execution_count": null,
      "outputs": [
        {
          "output_type": "stream",
          "name": "stdout",
          "text": [
            "5\n",
            "6\n"
          ]
        }
      ]
    },
    {
      "cell_type": "markdown",
      "source": [
        "##all() function"
      ],
      "metadata": {
        "id": "SFz6GmeTdmqS"
      }
    },
    {
      "cell_type": "code",
      "source": [
        "#all() ici bos olanlari ve icerdeki elemanlarin hepsi true ise true döndürür. Yoksa False döndürür\n",
        "names = ['susan', 'tom', 'False']\n",
        "mood = ['happy', 'sad', 0]\n",
        "empty = {}\n",
        "\n",
        "print(all(names), all(mood), all(empty), sep = '\\n')"
      ],
      "metadata": {
        "colab": {
          "base_uri": "https://localhost:8080/"
        },
        "id": "i7Z3lhdcdL0Y",
        "outputId": "861e3de8-db51-422c-ff0a-210916541ce2"
      },
      "execution_count": 3,
      "outputs": [
        {
          "output_type": "stream",
          "name": "stdout",
          "text": [
            "True\n",
            "False\n",
            "True\n"
          ]
        }
      ]
    },
    {
      "cell_type": "markdown",
      "source": [
        "## any() funtion"
      ],
      "metadata": {
        "id": "C4G6_HyoiMZV"
      }
    },
    {
      "cell_type": "code",
      "source": [
        "listA = ['Susan', 'Mehmet', None]     #Eger bir tane bile True varsa True döndürür.\n",
        "listB = [None, (), 0]\n",
        "empty = {}                #bos listeyken any fonksiyonu, all fonksiyonunun aksine False döndürür.\n",
        "\n",
        "print(any(listA), any(listB), any(empty), sep = '\\n')"
      ],
      "metadata": {
        "colab": {
          "base_uri": "https://localhost:8080/"
        },
        "id": "P9Fn-xIUiPze",
        "outputId": "12335a67-7b3d-40a6-acbc-eae450ed1b8b"
      },
      "execution_count": 4,
      "outputs": [
        {
          "output_type": "stream",
          "name": "stdout",
          "text": [
            "True\n",
            "False\n",
            "False\n"
          ]
        }
      ]
    },
    {
      "cell_type": "markdown",
      "source": [
        "## bin() - oct() - hex() functions"
      ],
      "metadata": {
        "id": "ic-44-4E0gkV"
      }
    },
    {
      "cell_type": "code",
      "source": [
        "print(f'{12:b} and {12:o} and {12:X} and {12:x}')\n",
        "print()\n",
        "print(f'{12:#b} and {12:#o} and {12:#x}')     # '#' isareti ile yaparsak öndeki ekleri de koyar."
      ],
      "metadata": {
        "colab": {
          "base_uri": "https://localhost:8080/"
        },
        "id": "EiZ7WOdEqAkk",
        "outputId": "d9898b16-6588-40c7-bacd-376160faca20"
      },
      "execution_count": 21,
      "outputs": [
        {
          "output_type": "stream",
          "name": "stdout",
          "text": [
            "1100 and 14 and C and c\n",
            "\n",
            "0b1100 and 0o14 and 0xc \n"
          ]
        }
      ]
    },
    {
      "cell_type": "markdown",
      "source": [
        "##complex() function"
      ],
      "metadata": {
        "id": "oqqDbL6N0Yf4"
      }
    },
    {
      "cell_type": "code",
      "source": [
        "print(complex(3, 5))"
      ],
      "metadata": {
        "colab": {
          "base_uri": "https://localhost:8080/"
        },
        "id": "ztbwpNgL0RNZ",
        "outputId": "e7ad561c-ce26-4ef5-ee78-b538eb778d8a"
      },
      "execution_count": 69,
      "outputs": [
        {
          "output_type": "stream",
          "name": "stdout",
          "text": [
            "(3+5j)\n"
          ]
        }
      ]
    },
    {
      "cell_type": "markdown",
      "source": [
        "##callable function\n"
      ],
      "metadata": {
        "id": "GtElCmp0vK8i"
      }
    },
    {
      "cell_type": "code",
      "source": [
        "#Icerisine yzadigimiz seyin cagirilabilen bir nesen olup olmadigini kontrol eder\n",
        "mynumber = 15\n",
        "print(callable(mynumber))\n",
        "\n",
        "print(callable(len))\n",
        "print(callable(int))"
      ],
      "metadata": {
        "colab": {
          "base_uri": "https://localhost:8080/"
        },
        "id": "aAuv3v4kvNVE",
        "outputId": "59d2ba28-409a-434c-94b5-6e7e1c61c0be"
      },
      "execution_count": 26,
      "outputs": [
        {
          "output_type": "stream",
          "name": "stdout",
          "text": [
            "False\n",
            "True\n",
            "True\n"
          ]
        }
      ]
    },
    {
      "cell_type": "markdown",
      "source": [
        "##eval function"
      ],
      "metadata": {
        "id": "dqHPEOUJ1kyx"
      }
    },
    {
      "cell_type": "code",
      "source": [
        "x = 'Hi'    #eval komutu string ifadeleri komutlari normal komutmus gibi algilar\n",
        "print(x)\n",
        "\n",
        "x = 'print(\"eval ile yazilmis hi\")'\n",
        "eval(x)\n",
        "\n",
        "x = \"23 + 54\"\n",
        "eval(x)"
      ],
      "metadata": {
        "colab": {
          "base_uri": "https://localhost:8080/"
        },
        "id": "qDsRbmUD1nJl",
        "outputId": "9938eee5-40f3-4018-e98b-1ea4c201d0b0"
      },
      "execution_count": null,
      "outputs": [
        {
          "output_type": "stream",
          "name": "stdout",
          "text": [
            "Hi\n",
            "eval ile yazilmis hi\n"
          ]
        },
        {
          "output_type": "execute_result",
          "data": {
            "text/plain": [
              "77"
            ]
          },
          "metadata": {},
          "execution_count": 30
        }
      ]
    },
    {
      "cell_type": "markdown",
      "source": [
        "##filter() function\n",
        "\n"
      ],
      "metadata": {
        "id": "L1FhNmlxjcT_"
      }
    },
    {
      "cell_type": "code",
      "source": [
        "listA = ['susan', 'tom', False, 0, '3']\n",
        "filtered_list = filter(None, listA)     #Parantez ici ilk degere bir fonksioyn yazilir. Biz None yazdik\n",
        "                                        #None yazdigimizda bize filter listA icinde False döndüren degerleri atar. Kalanari yazdirir.\n",
        "for i in filtered_list :\n",
        "  print(i)"
      ],
      "metadata": {
        "colab": {
          "base_uri": "https://localhost:8080/"
        },
        "id": "GRdlUsZFjoTi",
        "outputId": "5bb538f0-7578-43c1-96fe-81bb97bdadc7"
      },
      "execution_count": 6,
      "outputs": [
        {
          "output_type": "stream",
          "name": "stdout",
          "text": [
            "susan\n",
            "tom\n",
            "3\n"
          ]
        }
      ]
    },
    {
      "cell_type": "code",
      "source": [
        "liste = list(range(101))\n",
        "\n",
        "def tek(number) :       #burda da islemi yaptik\n",
        "  if number % 2 != 0 :\n",
        "    return number   #ne görmek istiyorsak onu yaptik. Eger == 0 yapsaydik asagida cift sayilari görürdük.\n",
        "\n",
        "tek_sayilar = list(filter(tek, liste))      #tek ismiyle bir fonksiyon yaptik. Cünkü filter parantezi ilk kisma fonksiyon yazmaliyiz.\n",
        "print(tek_sayilar)"
      ],
      "metadata": {
        "colab": {
          "base_uri": "https://localhost:8080/"
        },
        "id": "MKK2qFCL1Ac8",
        "outputId": "4db202de-0c36-4fab-ef18-c05b419f854e"
      },
      "execution_count": 70,
      "outputs": [
        {
          "output_type": "stream",
          "name": "stdout",
          "text": [
            "[1, 3, 5, 7, 9, 11, 13, 15, 17, 19, 21, 23, 25, 27, 29, 31, 33, 35, 37, 39, 41, 43, 45, 47, 49, 51, 53, 55, 57, 59, 61, 63, 65, 67, 69, 71, 73, 75, 77, 79, 81, 83, 85, 87, 89, 91, 93, 95, 97, 99]\n"
          ]
        }
      ]
    },
    {
      "cell_type": "markdown",
      "source": [
        "##zip() function "
      ],
      "metadata": {
        "id": "1yGuecAQ3MXl"
      }
    },
    {
      "cell_type": "code",
      "source": [
        "for item in zip (['ali', 'mehmet', 'süleyman'], [10, 5, 8], ['meyve', 'sebze', 'peynir']) :\n",
        "  print(item)\n",
        "\n",
        "#or"
      ],
      "metadata": {
        "colab": {
          "base_uri": "https://localhost:8080/"
        },
        "id": "e2xdkmlW3Lpt",
        "outputId": "3487a461-2bd9-4079-eca1-c3bea218de6c"
      },
      "execution_count": 71,
      "outputs": [
        {
          "output_type": "stream",
          "name": "stdout",
          "text": [
            "('ali', 10, 'meyve')\n",
            "('mehmet', 5, 'sebze')\n",
            "('süleyman', 8, 'peynir')\n"
          ]
        }
      ]
    },
    {
      "cell_type": "code",
      "source": [
        "ad = ['ali', 'mehmet', 'süleyman']\n",
        "puan = [10, 5, 8]\n",
        "malzeme = ['meyve', 'sebze', 'peynir']\n",
        "\n",
        "for item2 in zip(ad, malzeme, puan) :\n",
        "  print(item2)"
      ],
      "metadata": {
        "colab": {
          "base_uri": "https://localhost:8080/"
        },
        "id": "qCop9nGF3fiK",
        "outputId": "6cb27e4b-9019-4db4-b2a2-e454e5731225"
      },
      "execution_count": 74,
      "outputs": [
        {
          "output_type": "stream",
          "name": "stdout",
          "text": [
            "('ali', 'meyve', 10)\n",
            "('mehmet', 'sebze', 5)\n",
            "('süleyman', 'peynir', 8)\n"
          ]
        }
      ]
    },
    {
      "cell_type": "markdown",
      "source": [
        "##sum() function"
      ],
      "metadata": {
        "id": "fw-QRAI0laf6"
      }
    },
    {
      "cell_type": "code",
      "source": [
        "numbers = [3, 5, 7, 8,12, 15]\n",
        "toplam = sum(numbers)\n",
        "print(toplam)\n",
        "\n",
        "toplam2 = sum(numbers, 20)      #böyle eklemeli olarak da yazabiliyoruz. Baslangic degeri verebiliriz\n",
        "print(toplam2)"
      ],
      "metadata": {
        "colab": {
          "base_uri": "https://localhost:8080/"
        },
        "id": "xRWmgpgFlcza",
        "outputId": "97020e81-d3bc-43f1-cab2-006763ff2ee3"
      },
      "execution_count": 8,
      "outputs": [
        {
          "output_type": "stream",
          "name": "stdout",
          "text": [
            "50\n",
            "70\n"
          ]
        }
      ]
    },
    {
      "cell_type": "markdown",
      "source": [
        "##enumerate() function"
      ],
      "metadata": {
        "id": "rDQjO1UykbVj"
      }
    },
    {
      "cell_type": "code",
      "source": [
        "###BUNU YAZ"
      ],
      "metadata": {
        "id": "xbD00PzfkfbQ"
      },
      "execution_count": null,
      "outputs": []
    },
    {
      "cell_type": "markdown",
      "source": [
        "###BUNU KONTROL ET\n"
      ],
      "metadata": {
        "id": "PfVB0hBki4V4"
      }
    },
    {
      "cell_type": "code",
      "source": [
        "my_dict = {'one' : 1, 'two' : 2, 'three' : 3, 'four' : 4}\n",
        "\n",
        "b_dict = {}\n",
        "for k, v in my_dict.items() :\n",
        "  b_dict[v] = k         ##value yeni vermis gibi oldu siradan!!Biraz kafa yormali \n",
        "  \n",
        "print(b_dict)"
      ],
      "metadata": {
        "colab": {
          "base_uri": "https://localhost:8080/"
        },
        "id": "5u025vVoOlir",
        "outputId": "a45c4501-6e8c-4c82-909c-e0877762f6cd"
      },
      "execution_count": 1,
      "outputs": [
        {
          "output_type": "stream",
          "name": "stdout",
          "text": [
            "{1: 'one', 2: 'two', 3: 'three', 4: 'four'}\n"
          ]
        }
      ]
    },
    {
      "cell_type": "code",
      "source": [
        "def myRange(number) :\n",
        "  sayi = 0\n",
        "  my_list = list()\n",
        "  while sayi < number :\n",
        "    print(sayi, end = ' ')\n",
        "    my_list.append(sayi)\n",
        "    sayi += 1"
      ],
      "metadata": {
        "id": "NMu6QdZS0VsX"
      },
      "execution_count": null,
      "outputs": []
    }
  ]
}