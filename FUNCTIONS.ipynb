{
  "nbformat": 4,
  "nbformat_minor": 0,
  "metadata": {
    "colab": {
      "name": "FUNCTIONS.ipynb",
      "provenance": [],
      "toc_visible": true,
      "authorship_tag": "ABX9TyPhh7+Qe/MGJXq7lHoyo0Zh",
      "include_colab_link": true
    },
    "kernelspec": {
      "name": "python3",
      "display_name": "Python 3"
    },
    "language_info": {
      "name": "python"
    }
  },
  "cells": [
    {
      "cell_type": "markdown",
      "metadata": {
        "id": "view-in-github",
        "colab_type": "text"
      },
      "source": [
        "<a href=\"https://colab.research.google.com/github/DogukanCifci/PYTHON-PRACTICE/blob/main/FUNCTIONS.ipynb\" target=\"_parent\"><img src=\"https://colab.research.google.com/assets/colab-badge.svg\" alt=\"Open In Colab\"/></a>"
      ]
    },
    {
      "cell_type": "markdown",
      "source": [
        "#----------------------------DEF FUNCTION------------------------"
      ],
      "metadata": {
        "id": "OiU7VzgruU47"
      }
    },
    {
      "cell_type": "markdown",
      "source": [
        "##DEF Function's Examples and Solving to understand the logic of def function"
      ],
      "metadata": {
        "id": "hhDUXcIsubI5"
      }
    },
    {
      "cell_type": "code",
      "source": [
        "def selamlama() :\n",
        "  return 'Hallo. Hezlich Wilkommen auf dem Thema def'\n",
        "\n",
        "selamlama()"
      ],
      "metadata": {
        "colab": {
          "base_uri": "https://localhost:8080/",
          "height": 37
        },
        "id": "Njgh3kavtzPo",
        "outputId": "c1fa6469-b601-40a4-fbf5-3e3d779b3ca9"
      },
      "execution_count": null,
      "outputs": [
        {
          "output_type": "execute_result",
          "data": {
            "text/plain": [
              "'Hallo. Hezlich Wilkommen auf dem Thema def'"
            ],
            "application/vnd.google.colaboratory.intrinsic+json": {
              "type": "string"
            }
          },
          "metadata": {},
          "execution_count": 8
        }
      ]
    },
    {
      "cell_type": "code",
      "execution_count": null,
      "metadata": {
        "colab": {
          "base_uri": "https://localhost:8080/"
        },
        "id": "CuyEYezarzaO",
        "outputId": "807074a8-3d21-4476-8764-0ba2bd985db7"
      },
      "outputs": [
        {
          "output_type": "stream",
          "name": "stdout",
          "text": [
            "Enter a number6\n",
            "720\n",
            "120\n"
          ]
        }
      ],
      "source": [
        "def fac(a) :      #asagidan veriyi alip a ya atar ve a ile islem yapar.\n",
        "  t = 1\n",
        "  for i in range(1, a + 1) :\n",
        "    t = t * i\n",
        "  print(t)\n",
        "\n",
        "number = int(input('Enter a number'))\n",
        "fac(number) #numberi yukarda def fonksiyonu icinde a ya atar.\n",
        "\n",
        "fac(5)    # inputsuz otomatik olarak 5 sayisini atar\n",
        "\n"
      ]
    },
    {
      "cell_type": "code",
      "source": [
        "def sum(a, b) :\n",
        "  summe = a + b\n",
        "  return summe\n",
        "\n",
        "number1 = int(input('Enter a number : '))\n",
        "number2 = int(input('Enter another number : '))\n",
        "\n",
        "sum(number1,number2)"
      ],
      "metadata": {
        "colab": {
          "base_uri": "https://localhost:8080/"
        },
        "id": "M0idtzrWt24o",
        "outputId": "4b998e7e-7a78-48bf-e497-e43a5ca2c535"
      },
      "execution_count": null,
      "outputs": [
        {
          "name": "stdout",
          "output_type": "stream",
          "text": [
            "Enter a number : 15\n",
            "Enter another number : 16\n"
          ]
        },
        {
          "output_type": "execute_result",
          "data": {
            "text/plain": [
              "31"
            ]
          },
          "metadata": {},
          "execution_count": 10
        }
      ]
    },
    {
      "cell_type": "code",
      "source": [
        "def carpma(a, b, c) :\n",
        "  sonuc = a * b * c\n",
        "  return sonuc\n",
        "\n",
        "num1 = int(input('Enter the first number : '))\n",
        "num2 = int(input('Enter the second number : '))\n",
        "num3 = int(input('Enter the third number : '))\n",
        "\n",
        "print(carpma(num1, num2, num3))"
      ],
      "metadata": {
        "colab": {
          "base_uri": "https://localhost:8080/"
        },
        "id": "H9q5CopXt9LF",
        "outputId": "ddcf69c9-25f4-426c-efa4-396a021d1149"
      },
      "execution_count": null,
      "outputs": [
        {
          "output_type": "stream",
          "name": "stdout",
          "text": [
            "Enter the first number : 4\n",
            "Enter the second number : 6\n",
            "Enter the third number : 5\n",
            "120\n"
          ]
        }
      ]
    },
    {
      "cell_type": "code",
      "source": [
        "def selamlama(name1, name2, herkunft = 'Universe') :\n",
        "  return f'Hello {name1} and {name2} from {herkunft}'\n",
        "\n",
        "name1 = input('Enter your name : ')\n",
        "name2 = input('Enter your name : ')\n",
        "\n",
        "selamlama(name1,name2)   #Yukardaki degiskenlerden birisi tanimlanmis oldugu icin 2 tane deger girmem yeterli"
      ],
      "metadata": {
        "colab": {
          "base_uri": "https://localhost:8080/",
          "height": 71
        },
        "id": "oRsv2gguuIHG",
        "outputId": "bcd3f63e-7e3c-48b8-b565-abbd80c2ce68"
      },
      "execution_count": null,
      "outputs": [
        {
          "name": "stdout",
          "output_type": "stream",
          "text": [
            "Enter your name : Dogukan\n",
            "Enter your name : Mehmet\n"
          ]
        },
        {
          "output_type": "execute_result",
          "data": {
            "text/plain": [
              "'Hello Dogukan and Mehmet from Universe'"
            ],
            "application/vnd.google.colaboratory.intrinsic+json": {
              "type": "string"
            }
          },
          "metadata": {},
          "execution_count": 13
        }
      ]
    },
    {
      "cell_type": "code",
      "source": [
        "def selamlama(name1, name2, name3) :\n",
        "  return f'Hello {name1} and {name2} from the Universe'\n",
        "\n",
        "name1 = input('Enter your name')\n",
        "name2 = input('Enter your name')\n",
        "\n",
        "selamlama(name1,name2)      #Eger burda 2 degisken atarsam hata verir. Cünkü def fonksiyonunu icinde 3 degisken var"
      ],
      "metadata": {
        "colab": {
          "base_uri": "https://localhost:8080/",
          "height": 249
        },
        "id": "a37t3z25uOXd",
        "outputId": "4bd79da5-ee13-4c05-deca-c9ffdaf3909f"
      },
      "execution_count": null,
      "outputs": [
        {
          "name": "stdout",
          "output_type": "stream",
          "text": [
            "Enter your nameali\n",
            "Enter your namesultan\n"
          ]
        },
        {
          "output_type": "error",
          "ename": "TypeError",
          "evalue": "ignored",
          "traceback": [
            "\u001b[0;31m---------------------------------------------------------------------------\u001b[0m",
            "\u001b[0;31mTypeError\u001b[0m                                 Traceback (most recent call last)",
            "\u001b[0;32m<ipython-input-14-d48cfbeb33b4>\u001b[0m in \u001b[0;36m<module>\u001b[0;34m()\u001b[0m\n\u001b[1;32m      5\u001b[0m \u001b[0mname2\u001b[0m \u001b[0;34m=\u001b[0m \u001b[0minput\u001b[0m\u001b[0;34m(\u001b[0m\u001b[0;34m'Enter your name'\u001b[0m\u001b[0;34m)\u001b[0m\u001b[0;34m\u001b[0m\u001b[0;34m\u001b[0m\u001b[0m\n\u001b[1;32m      6\u001b[0m \u001b[0;34m\u001b[0m\u001b[0m\n\u001b[0;32m----> 7\u001b[0;31m \u001b[0mselamlama\u001b[0m\u001b[0;34m(\u001b[0m\u001b[0mname1\u001b[0m\u001b[0;34m,\u001b[0m\u001b[0mname2\u001b[0m\u001b[0;34m)\u001b[0m      \u001b[0;31m#Eger burda 2 degisken atarsam hata verir. Cünkü def fonksiyonunu icinde 3 degisken var\u001b[0m\u001b[0;34m\u001b[0m\u001b[0;34m\u001b[0m\u001b[0m\n\u001b[0m",
            "\u001b[0;31mTypeError\u001b[0m: selamlama() missing 1 required positional argument: 'name3'"
          ]
        }
      ]
    },
    {
      "cell_type": "markdown",
      "source": [
        "#BUILT IN FUNCTIONS"
      ],
      "metadata": {
        "id": "U-JEDSyKx2Yy"
      }
    },
    {
      "cell_type": "code",
      "source": [
        "print(abs(-5))  #abs Mutlak deger almaya yarar."
      ],
      "metadata": {
        "colab": {
          "base_uri": "https://localhost:8080/"
        },
        "id": "IzBagbzCx5AS",
        "outputId": "8fdd6275-daa8-4bb1-f05a-a8cd9ce4919b"
      },
      "execution_count": null,
      "outputs": [
        {
          "output_type": "stream",
          "name": "stdout",
          "text": [
            "5\n"
          ]
        }
      ]
    },
    {
      "cell_type": "code",
      "source": [
        "x = 5.66\n",
        "print(round(x))     #-->round yuvarlamaya yarar.\n",
        "\n",
        "x= 5.5            #. dan sonraki kisim yaridan düsükse asagiya 5 ve yukarisysa yukariya yuvarlar\n",
        "print(round(x))\n",
        "\n",
        "x = 5.45\n",
        "print(round(x))"
      ],
      "metadata": {
        "colab": {
          "base_uri": "https://localhost:8080/"
        },
        "id": "fuWRENM2yIyg",
        "outputId": "796ba637-382d-425f-eea7-64ec54219f3f"
      },
      "execution_count": null,
      "outputs": [
        {
          "output_type": "stream",
          "name": "stdout",
          "text": [
            "6\n",
            "6\n",
            "5\n"
          ]
        }
      ]
    },
    {
      "cell_type": "code",
      "source": [
        "import math \n",
        "x = 5.67\n",
        "\n",
        "print(math.floor(x))        #floor ne olursa olsun asagiya yuvarlar\n",
        "print(math.ceil(x))         #ceil ise ne olursa olsun yukariya yuvarlar.\n"
      ],
      "metadata": {
        "colab": {
          "base_uri": "https://localhost:8080/"
        },
        "id": "mHQlkZAcyn_m",
        "outputId": "5d80cd89-36f0-4bd8-face-815407755bae"
      },
      "execution_count": null,
      "outputs": [
        {
          "output_type": "stream",
          "name": "stdout",
          "text": [
            "5\n",
            "6\n"
          ]
        }
      ]
    },
    {
      "cell_type": "markdown",
      "source": [
        "##eval function"
      ],
      "metadata": {
        "id": "dqHPEOUJ1kyx"
      }
    },
    {
      "cell_type": "code",
      "source": [
        "x = 'Hi'    #eval komutu string ifadeleri komutlari normal komutmus gibi algilar\n",
        "print(x)\n",
        "\n",
        "x = 'print(\"eval ile yazilmis hi\")'\n",
        "eval(x)\n",
        "\n",
        "x = \"23 + 54\"\n",
        "eval(x)"
      ],
      "metadata": {
        "colab": {
          "base_uri": "https://localhost:8080/"
        },
        "id": "qDsRbmUD1nJl",
        "outputId": "9938eee5-40f3-4018-e98b-1ea4c201d0b0"
      },
      "execution_count": null,
      "outputs": [
        {
          "output_type": "stream",
          "name": "stdout",
          "text": [
            "Hi\n",
            "eval ile yazilmis hi\n"
          ]
        },
        {
          "output_type": "execute_result",
          "data": {
            "text/plain": [
              "77"
            ]
          },
          "metadata": {},
          "execution_count": 30
        }
      ]
    }
  ]
}